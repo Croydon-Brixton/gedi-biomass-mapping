{
 "cells": [
  {
   "cell_type": "code",
   "execution_count": 1,
   "id": "13749d49-ea2d-4f3f-aa6b-c264e2b37f3e",
   "metadata": {
    "execution": {
     "iopub.execute_input": "2021-05-24T13:41:59.973869Z",
     "iopub.status.busy": "2021-05-24T13:41:59.973362Z",
     "iopub.status.idle": "2021-05-24T13:42:00.208481Z",
     "shell.execute_reply": "2021-05-24T13:42:00.207436Z",
     "shell.execute_reply.started": "2021-05-24T13:41:59.973760Z"
    },
    "tags": []
   },
   "outputs": [],
   "source": [
    "# Convenient jupyter setup\n",
    "%load_ext autoreload\n",
    "%autoreload 2"
   ]
  },
  {
   "cell_type": "code",
   "execution_count": 2,
   "id": "9715f86b-9936-4e19-9d85-cf1b674c0e6b",
   "metadata": {
    "execution": {
     "iopub.execute_input": "2021-05-24T13:42:00.310708Z",
     "iopub.status.busy": "2021-05-24T13:42:00.310308Z",
     "iopub.status.idle": "2021-05-24T13:42:01.967406Z",
     "shell.execute_reply": "2021-05-24T13:42:01.966312Z",
     "shell.execute_reply.started": "2021-05-24T13:42:00.310663Z"
    },
    "tags": []
   },
   "outputs": [],
   "source": [
    "from src.constants import PAISAGENSLIDAR_PATH\n",
    "from src.data.gdrive import DriveAPI"
   ]
  },
  {
   "cell_type": "code",
   "execution_count": 3,
   "id": "9b08b2f5-afac-464d-85c8-2cc61c70f467",
   "metadata": {
    "execution": {
     "iopub.execute_input": "2021-05-24T13:42:01.969185Z",
     "iopub.status.busy": "2021-05-24T13:42:01.968942Z",
     "iopub.status.idle": "2021-05-24T13:42:02.283043Z",
     "shell.execute_reply": "2021-05-24T13:42:02.282101Z",
     "shell.execute_reply.started": "2021-05-24T13:42:01.969153Z"
    },
    "tags": []
   },
   "outputs": [
    {
     "name": "stdout",
     "output_type": "stream",
     "text": [
      "Signed in as Simon M. (simon.mathis@gmail.com)\n"
     ]
    }
   ],
   "source": [
    "drive = DriveAPI()\n",
    "#drive._perform_oauth()\n",
    "print(f\"Signed in as {drive.username} ({drive.user_email})\")"
   ]
  },
  {
   "cell_type": "code",
   "execution_count": 4,
   "id": "6d1057c5-4d25-4e34-acfc-5c8cb01de5f4",
   "metadata": {
    "execution": {
     "iopub.execute_input": "2021-05-24T13:42:02.284685Z",
     "iopub.status.busy": "2021-05-24T13:42:02.284446Z",
     "iopub.status.idle": "2021-05-24T13:42:02.594346Z",
     "shell.execute_reply": "2021-05-24T13:42:02.593469Z",
     "shell.execute_reply.started": "2021-05-24T13:42:02.284652Z"
    },
    "tags": []
   },
   "outputs": [
    {
     "data": {
      "text/plain": [
       "{'kind': 'drive#file',\n",
       " 'id': '1WLa48Tyv06LF9iRPhh_rilGEXtFPda_A',\n",
       " 'name': 'JASMIN',\n",
       " 'mimeType': 'application/vnd.google-apps.folder',\n",
       " 'teamDriveId': '0AM3YaREKCqWRUk9PVA',\n",
       " 'driveId': '0AM3YaREKCqWRUk9PVA'}"
      ]
     },
     "execution_count": 4,
     "metadata": {},
     "output_type": "execute_result"
    }
   ],
   "source": [
    "# Get JASMIN data folder\n",
    "jasmin_folder = drive.get_folder(\"JASMIN\")\n",
    "jasmin_folder"
   ]
  },
  {
   "cell_type": "code",
   "execution_count": null,
   "id": "d11768d0-8e6b-4a5c-8ff9-da84892cf315",
   "metadata": {
    "tags": []
   },
   "outputs": [],
   "source": [
    "drive.upload_folder(PAISAGENSLIDAR_PATH, parent=jasmin_folder)"
   ]
  }
 ],
 "metadata": {
  "kernelspec": {
   "display_name": "env",
   "language": "python",
   "name": "env"
  },
  "language_info": {
   "codemirror_mode": {
    "name": "ipython",
    "version": 3
   },
   "file_extension": ".py",
   "mimetype": "text/x-python",
   "name": "python",
   "nbconvert_exporter": "python",
   "pygments_lexer": "ipython3",
   "version": "3.9.2"
  }
 },
 "nbformat": 4,
 "nbformat_minor": 5
}
