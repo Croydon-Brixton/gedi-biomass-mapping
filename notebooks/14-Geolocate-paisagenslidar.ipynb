{
 "cells": [
  {
   "cell_type": "markdown",
   "id": "f83ac30f-85e3-4804-bc33-312b3d9f202e",
   "metadata": {},
   "source": [
    "# Geolocate Paisagenslidar data"
   ]
  },
  {
   "cell_type": "code",
   "execution_count": 1,
   "id": "9f98bf53-4ef2-40d9-ab03-082940759e2b",
   "metadata": {
    "execution": {
     "iopub.execute_input": "2021-05-20T22:17:14.721960Z",
     "iopub.status.busy": "2021-05-20T22:17:14.721607Z",
     "iopub.status.idle": "2021-05-20T22:17:14.912789Z",
     "shell.execute_reply": "2021-05-20T22:17:14.912445Z",
     "shell.execute_reply.started": "2021-05-20T22:17:14.721874Z"
    },
    "tags": []
   },
   "outputs": [],
   "source": [
    "# Convenient jupyter setup\n",
    "%load_ext autoreload\n",
    "%autoreload 2"
   ]
  },
  {
   "cell_type": "code",
   "execution_count": 2,
   "id": "89c68a4e-7b51-4109-aea3-039184604632",
   "metadata": {
    "execution": {
     "iopub.execute_input": "2021-05-20T22:17:15.139452Z",
     "iopub.status.busy": "2021-05-20T22:17:15.139331Z",
     "iopub.status.idle": "2021-05-20T22:17:17.211778Z",
     "shell.execute_reply": "2021-05-20T22:17:17.211048Z",
     "shell.execute_reply.started": "2021-05-20T22:17:15.139437Z"
    },
    "tags": []
   },
   "outputs": [],
   "source": [
    "import laspy\n",
    "import numpy as np\n",
    "import scipy.stats\n",
    "import folium\n",
    "import folium.plugins\n",
    "\n",
    "from src.constants import USER_PATH, PAISAGENSLIDAR_PATH\n",
    "from src.utils.os import list_content"
   ]
  },
  {
   "cell_type": "code",
   "execution_count": 3,
   "id": "935331aa-d70e-4a25-8792-1ceeaa35450f",
   "metadata": {
    "execution": {
     "iopub.execute_input": "2021-05-20T22:17:17.213214Z",
     "iopub.status.busy": "2021-05-20T22:17:17.213091Z",
     "iopub.status.idle": "2021-05-20T22:17:17.606775Z",
     "shell.execute_reply": "2021-05-20T22:17:17.606423Z",
     "shell.execute_reply.started": "2021-05-20T22:17:17.213199Z"
    },
    "tags": []
   },
   "outputs": [
    {
     "name": "stdout",
     "output_type": "stream",
     "text": [
      "Found 26 las files.\n",
      "Found 1 laz files.\n"
     ]
    }
   ],
   "source": [
    "# Find files\n",
    "las_files = list(PAISAGENSLIDAR_PATH.glob(\"**/*.las\"))\n",
    "laz_files = list(PAISAGENSLIDAR_PATH.glob(\"**/*.laz\"))\n",
    "print(f\"Found {len(las_files)} las files.\\nFound {len(laz_files)} laz files.\")"
   ]
  },
  {
   "cell_type": "code",
   "execution_count": 4,
   "id": "a7994b7c-cd03-4f83-9968-0f03fa65e5f5",
   "metadata": {
    "execution": {
     "iopub.execute_input": "2021-05-20T22:17:17.607770Z",
     "iopub.status.busy": "2021-05-20T22:17:17.607584Z",
     "iopub.status.idle": "2021-05-20T22:17:17.627046Z",
     "shell.execute_reply": "2021-05-20T22:17:17.626758Z",
     "shell.execute_reply.started": "2021-05-20T22:17:17.607754Z"
    },
    "tags": []
   },
   "outputs": [
    {
     "name": "stdout",
     "output_type": "stream",
     "text": [
      "/gws/nopw/j04/forecol/data/Paisagenslidar/Mission_2008/TAP_A06_2008_LiDAR/TAP_A06_2008_LiDAR/TAP_A06_2008_laz/TAP_A06_17-01.laz\n"
     ]
    }
   ],
   "source": [
    "sample_file = laz_files[0]\n",
    "print(sample_file)"
   ]
  },
  {
   "cell_type": "code",
   "execution_count": 12,
   "id": "748eff8b-bdd7-4312-9e8f-8fd5e7b74ee5",
   "metadata": {
    "execution": {
     "iopub.execute_input": "2021-05-20T14:08:21.344188Z",
     "iopub.status.busy": "2021-05-20T14:08:21.343956Z",
     "iopub.status.idle": "2021-05-20T14:08:27.290330Z",
     "shell.execute_reply": "2021-05-20T14:08:27.289850Z",
     "shell.execute_reply.started": "2021-05-20T14:08:21.344168Z"
    },
    "tags": []
   },
   "outputs": [
    {
     "name": "stdout",
     "output_type": "stream",
     "text": [
      "CPU times: user 4.92 s, sys: 566 ms, total: 5.49 s\n",
      "Wall time: 5.51 s\n"
     ]
    }
   ],
   "source": [
    "%%time\n",
    "las = laspy.read(sample_file)"
   ]
  },
  {
   "cell_type": "code",
   "execution_count": 15,
   "id": "dec44361-2445-4609-a301-fa9d97ad85ed",
   "metadata": {
    "execution": {
     "iopub.execute_input": "2021-05-20T14:10:38.402770Z",
     "iopub.status.busy": "2021-05-20T14:10:38.402414Z",
     "iopub.status.idle": "2021-05-20T14:10:38.434052Z",
     "shell.execute_reply": "2021-05-20T14:10:38.433514Z",
     "shell.execute_reply.started": "2021-05-20T14:10:38.402750Z"
    },
    "tags": []
   },
   "outputs": [
    {
     "name": "stdout",
     "output_type": "stream",
     "text": [
      "CPU times: user 1.84 ms, sys: 135 µs, total: 1.97 ms\n",
      "Wall time: 10.3 ms\n"
     ]
    }
   ],
   "source": [
    "%%time\n",
    "with laspy.open(sample_file) as f:\n",
    "    header = f.header"
   ]
  },
  {
   "cell_type": "code",
   "execution_count": 9,
   "id": "ecca2539-e57b-423a-ab83-e3ff3da7e141",
   "metadata": {
    "execution": {
     "iopub.execute_input": "2021-05-20T14:04:10.121054Z",
     "iopub.status.busy": "2021-05-20T14:04:10.120603Z",
     "iopub.status.idle": "2021-05-20T14:04:10.161103Z",
     "shell.execute_reply": "2021-05-20T14:04:10.160674Z",
     "shell.execute_reply.started": "2021-05-20T14:04:10.121034Z"
    },
    "tags": []
   },
   "outputs": [
    {
     "data": {
      "text/plain": [
       "<LasHeader(1.0, <PointFormat(1, 0 bytes of extra dims)>)>"
      ]
     },
     "execution_count": 9,
     "metadata": {},
     "output_type": "execute_result"
    }
   ],
   "source": [
    "las.header"
   ]
  },
  {
   "cell_type": "code",
   "execution_count": 16,
   "id": "c45e824c-e9ba-45dd-beb7-1257f572ec34",
   "metadata": {
    "execution": {
     "iopub.execute_input": "2021-05-20T14:10:42.297488Z",
     "iopub.status.busy": "2021-05-20T14:10:42.297102Z",
     "iopub.status.idle": "2021-05-20T14:10:42.319044Z",
     "shell.execute_reply": "2021-05-20T14:10:42.318720Z",
     "shell.execute_reply.started": "2021-05-20T14:10:42.297464Z"
    }
   },
   "outputs": [
    {
     "data": {
      "text/plain": [
       "<LasHeader(1.0, <PointFormat(1, 0 bytes of extra dims)>)>"
      ]
     },
     "execution_count": 16,
     "metadata": {},
     "output_type": "execute_result"
    }
   ],
   "source": [
    "header"
   ]
  },
  {
   "cell_type": "code",
   "execution_count": 36,
   "id": "5f4a0708-c35b-44a1-84db-cc061747685a",
   "metadata": {
    "execution": {
     "iopub.execute_input": "2021-05-20T14:14:05.721816Z",
     "iopub.status.busy": "2021-05-20T14:14:05.721540Z",
     "iopub.status.idle": "2021-05-20T14:14:06.368296Z",
     "shell.execute_reply": "2021-05-20T14:14:06.367786Z",
     "shell.execute_reply.started": "2021-05-20T14:14:05.721792Z"
    },
    "tags": []
   },
   "outputs": [],
   "source": [
    "xmin, ymin, zmin = header.mins\n",
    "xmax, ymax, zmax = header.maxs"
   ]
  },
  {
   "cell_type": "code",
   "execution_count": 38,
   "id": "c5c93d9a-a623-4e6f-bc91-99f53a1a3adf",
   "metadata": {
    "execution": {
     "iopub.execute_input": "2021-05-20T14:17:12.851247Z",
     "iopub.status.busy": "2021-05-20T14:17:12.850950Z",
     "iopub.status.idle": "2021-05-20T14:17:13.683099Z",
     "shell.execute_reply": "2021-05-20T14:17:13.682649Z",
     "shell.execute_reply.started": "2021-05-20T14:17:12.851223Z"
    },
    "tags": []
   },
   "outputs": [],
   "source": [
    "# Note: Difficulty - what is the reference zone of the data? \n",
    "#Is it in the header metadata or will I have  to check each region?"
   ]
  },
  {
   "cell_type": "code",
   "execution_count": null,
   "id": "56e3a1fe-9989-4388-a036-405fe0d4f67f",
   "metadata": {},
   "outputs": [],
   "source": []
  }
 ],
 "metadata": {
  "kernelspec": {
   "display_name": "env",
   "language": "python",
   "name": "env"
  },
  "language_info": {
   "codemirror_mode": {
    "name": "ipython",
    "version": 3
   },
   "file_extension": ".py",
   "mimetype": "text/x-python",
   "name": "python",
   "nbconvert_exporter": "python",
   "pygments_lexer": "ipython3",
   "version": "3.9.2"
  }
 },
 "nbformat": 4,
 "nbformat_minor": 5
}
