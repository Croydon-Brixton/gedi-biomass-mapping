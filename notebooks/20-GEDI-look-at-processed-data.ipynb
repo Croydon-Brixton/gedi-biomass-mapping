{
 "cells": [
  {
   "cell_type": "code",
   "execution_count": 2,
   "id": "99742e47-8879-4e88-8c94-f4e3b21040b6",
   "metadata": {
    "execution": {
     "iopub.execute_input": "2021-06-11T02:08:55.757165Z",
     "iopub.status.busy": "2021-06-11T02:08:55.756946Z",
     "iopub.status.idle": "2021-06-11T02:08:55.770662Z",
     "shell.execute_reply": "2021-06-11T02:08:55.770179Z",
     "shell.execute_reply.started": "2021-06-11T02:08:55.757144Z"
    },
    "tags": []
   },
   "outputs": [],
   "source": [
    "# Convenient jupyter setup\n",
    "%load_ext autoreload\n",
    "%autoreload 2"
   ]
  },
  {
   "cell_type": "code",
   "execution_count": 3,
   "id": "7043015a-6fac-41f5-80b7-781b58709729",
   "metadata": {
    "execution": {
     "iopub.execute_input": "2021-06-11T02:08:56.080479Z",
     "iopub.status.busy": "2021-06-11T02:08:56.080228Z",
     "iopub.status.idle": "2021-06-11T02:08:57.125612Z",
     "shell.execute_reply": "2021-06-11T02:08:57.124948Z",
     "shell.execute_reply.started": "2021-06-11T02:08:56.080459Z"
    },
    "tags": []
   },
   "outputs": [
    {
     "name": "stderr",
     "output_type": "stream",
     "text": [
      "<ipython-input-3-f1060345d3a8>:4: TqdmExperimentalWarning: Using `tqdm.autonotebook.tqdm` in notebook mode. Use `tqdm.tqdm` instead to force console mode (e.g. in jupyter console)\n",
      "  from tqdm.autonotebook import tqdm\n"
     ]
    }
   ],
   "source": [
    "from src.constants import GEDI_L2A_PATH\n",
    "from src.utils.os import list_content\n",
    "from src.utils.download import download\n",
    "from tqdm.autonotebook import tqdm\n",
    "import geopandas as gpd\n",
    "save_dir = GEDI_L2A_PATH/ \"v002\" / \"amazon_basin\""
   ]
  },
  {
   "cell_type": "code",
   "execution_count": 4,
   "id": "eaf0c569-8b66-4e25-a637-12bb00403f35",
   "metadata": {
    "execution": {
     "iopub.execute_input": "2021-06-11T02:08:57.126865Z",
     "iopub.status.busy": "2021-06-11T02:08:57.126683Z",
     "iopub.status.idle": "2021-06-11T02:08:57.257257Z",
     "shell.execute_reply": "2021-06-11T02:08:57.256569Z",
     "shell.execute_reply.started": "2021-06-11T02:08:57.126845Z"
    },
    "tags": []
   },
   "outputs": [
    {
     "name": "stdout",
     "output_type": "stream",
     "text": [
      "There are 5193 feather files.\n"
     ]
    }
   ],
   "source": [
    "feather_files = list(save_dir.glob(\"*/*.feather\"))\n",
    "print(f\"There are {len(feather_files)} feather files.\")"
   ]
  },
  {
   "cell_type": "markdown",
   "id": "9664a76d-028b-4164-865f-74b715ecb359",
   "metadata": {},
   "source": [
    "## Count number of total shots"
   ]
  },
  {
   "cell_type": "markdown",
   "id": "16faf461-8d02-418c-a5b5-50629df3440e",
   "metadata": {},
   "source": [
    "Takeaway:  \n",
    ">It takes about 2-3 seconds to read a simple feather dataframe into geopandas.  \n",
    "This means in total it will take about 3-4h to read in all the data.\n",
    "\n",
    "> From a rough look at the first 100 samples, there will be about 500 Mio - 1 B shots over the Amazon.  \n",
    "> Exact number: 452'202'228 (450 Mio.)"
   ]
  },
  {
   "cell_type": "markdown",
   "id": "0d294d2b-21e8-4d0c-b8e8-ba3a3f8e994c",
   "metadata": {},
   "source": [
    "Note: if we just want to get the lenght, we can also read via pandas:"
   ]
  },
  {
   "cell_type": "code",
   "execution_count": null,
   "id": "50de5d3b-506d-457e-9ec1-9022aa24aaf1",
   "metadata": {
    "tags": []
   },
   "outputs": [],
   "source": [
    "import pandas as pd\n",
    "\n",
    "n_shots = 0\n",
    "for feather in tqdm(feather_files):\n",
    "    n_shots += len(pd.read_feather(feather, columns=[\"quality_flag\"]))\n",
    "    \n",
    "print(n_shots)"
   ]
  },
  {
   "cell_type": "code",
   "execution_count": 5,
   "id": "ab3664c8-ab0b-4b05-bcf7-659a2d60007d",
   "metadata": {
    "execution": {
     "iopub.execute_input": "2021-06-03T11:59:28.085279Z",
     "iopub.status.busy": "2021-06-03T11:59:28.084894Z",
     "iopub.status.idle": "2021-06-03T11:59:29.697369Z",
     "shell.execute_reply": "2021-06-03T11:59:29.691210Z",
     "shell.execute_reply.started": "2021-06-03T11:59:28.085244Z"
    }
   },
   "outputs": [
    {
     "name": "stdout",
     "output_type": "stream",
     "text": [
      "452202228\n"
     ]
    }
   ],
   "source": [
    "print(n_shots)"
   ]
  },
  {
   "cell_type": "markdown",
   "id": "ea9465b4-f413-4702-a317-bf5a3b2c55d5",
   "metadata": {},
   "source": [
    "## Look at a sample of the dataset"
   ]
  },
  {
   "cell_type": "code",
   "execution_count": 5,
   "id": "d099a629-a862-4f37-915b-bec1448517a3",
   "metadata": {
    "execution": {
     "iopub.execute_input": "2021-06-11T02:09:01.403016Z",
     "iopub.status.busy": "2021-06-11T02:09:01.402771Z",
     "iopub.status.idle": "2021-06-11T02:09:01.425728Z",
     "shell.execute_reply": "2021-06-11T02:09:01.425289Z",
     "shell.execute_reply.started": "2021-06-11T02:09:01.402992Z"
    },
    "tags": []
   },
   "outputs": [
    {
     "data": {
      "text/plain": [
       "20.070505142211914"
      ]
     },
     "execution_count": 5,
     "metadata": {},
     "output_type": "execute_result"
    }
   ],
   "source": [
    "feather_files[0].stat().st_size / 1024 / 1024 "
   ]
  },
  {
   "cell_type": "code",
   "execution_count": 7,
   "id": "d7edf819-d968-4643-b30f-89a107797248",
   "metadata": {
    "execution": {
     "iopub.execute_input": "2021-06-11T02:09:04.955516Z",
     "iopub.status.busy": "2021-06-11T02:09:04.955306Z",
     "iopub.status.idle": "2021-06-11T02:09:05.924961Z",
     "shell.execute_reply": "2021-06-11T02:09:05.924386Z",
     "shell.execute_reply.started": "2021-06-11T02:09:04.955494Z"
    },
    "tags": []
   },
   "outputs": [
    {
     "data": {
      "text/html": [
       "<div>\n",
       "<style scoped>\n",
       "    .dataframe tbody tr th:only-of-type {\n",
       "        vertical-align: middle;\n",
       "    }\n",
       "\n",
       "    .dataframe tbody tr th {\n",
       "        vertical-align: top;\n",
       "    }\n",
       "\n",
       "    .dataframe thead th {\n",
       "        text-align: right;\n",
       "    }\n",
       "</style>\n",
       "<table border=\"1\" class=\"dataframe\">\n",
       "  <thead>\n",
       "    <tr style=\"text-align: right;\">\n",
       "      <th></th>\n",
       "      <th>granule_name</th>\n",
       "      <th>shot_number</th>\n",
       "      <th>beam_type</th>\n",
       "      <th>beam_name</th>\n",
       "      <th>delta_time</th>\n",
       "      <th>absolute_time</th>\n",
       "      <th>sensitivity</th>\n",
       "      <th>quality_flag</th>\n",
       "      <th>solar_elevation</th>\n",
       "      <th>solar_azimuth</th>\n",
       "      <th>...</th>\n",
       "      <th>rh92</th>\n",
       "      <th>rh93</th>\n",
       "      <th>rh94</th>\n",
       "      <th>rh95</th>\n",
       "      <th>rh96</th>\n",
       "      <th>rh97</th>\n",
       "      <th>rh98</th>\n",
       "      <th>rh99</th>\n",
       "      <th>rh100</th>\n",
       "      <th>geometry</th>\n",
       "    </tr>\n",
       "  </thead>\n",
       "  <tbody>\n",
       "    <tr>\n",
       "      <th>0</th>\n",
       "      <td>GEDI02_A_2019108093620_O01965_01_T05338_02_003...</td>\n",
       "      <td>19650000100036037</td>\n",
       "      <td>coverage</td>\n",
       "      <td>BEAM0000</td>\n",
       "      <td>4.081639e+07</td>\n",
       "      <td>2019-04-18 09:53:13.286247648+00:00</td>\n",
       "      <td>0.683428</td>\n",
       "      <td>1</td>\n",
       "      <td>-15.522217</td>\n",
       "      <td>-15.522217</td>\n",
       "      <td>...</td>\n",
       "      <td>1.72</td>\n",
       "      <td>1.76</td>\n",
       "      <td>1.83</td>\n",
       "      <td>1.94</td>\n",
       "      <td>2.02</td>\n",
       "      <td>2.09</td>\n",
       "      <td>2.21</td>\n",
       "      <td>2.36</td>\n",
       "      <td>2.51</td>\n",
       "      <td>POINT (-71.12366 -18.09552)</td>\n",
       "    </tr>\n",
       "    <tr>\n",
       "      <th>1</th>\n",
       "      <td>GEDI02_A_2019108093620_O01965_01_T05338_02_003...</td>\n",
       "      <td>19650000100036038</td>\n",
       "      <td>coverage</td>\n",
       "      <td>BEAM0000</td>\n",
       "      <td>4.081639e+07</td>\n",
       "      <td>2019-04-18 09:53:13.294511653+00:00</td>\n",
       "      <td>-0.907164</td>\n",
       "      <td>0</td>\n",
       "      <td>-15.521826</td>\n",
       "      <td>-15.521826</td>\n",
       "      <td>...</td>\n",
       "      <td>1.46</td>\n",
       "      <td>1.53</td>\n",
       "      <td>1.57</td>\n",
       "      <td>1.64</td>\n",
       "      <td>1.72</td>\n",
       "      <td>1.79</td>\n",
       "      <td>1.87</td>\n",
       "      <td>1.98</td>\n",
       "      <td>2.09</td>\n",
       "      <td>POINT (-71.12333 -18.09511)</td>\n",
       "    </tr>\n",
       "    <tr>\n",
       "      <th>2</th>\n",
       "      <td>GEDI02_A_2019108093620_O01965_01_T05338_02_003...</td>\n",
       "      <td>19650000100036039</td>\n",
       "      <td>coverage</td>\n",
       "      <td>BEAM0000</td>\n",
       "      <td>4.081639e+07</td>\n",
       "      <td>2019-04-18 09:53:13.302775651+00:00</td>\n",
       "      <td>0.614895</td>\n",
       "      <td>1</td>\n",
       "      <td>-15.521434</td>\n",
       "      <td>-15.521434</td>\n",
       "      <td>...</td>\n",
       "      <td>1.94</td>\n",
       "      <td>2.02</td>\n",
       "      <td>2.09</td>\n",
       "      <td>2.17</td>\n",
       "      <td>2.28</td>\n",
       "      <td>2.39</td>\n",
       "      <td>2.51</td>\n",
       "      <td>2.62</td>\n",
       "      <td>2.81</td>\n",
       "      <td>POINT (-71.12300 -18.09470)</td>\n",
       "    </tr>\n",
       "    <tr>\n",
       "      <th>3</th>\n",
       "      <td>GEDI02_A_2019108093620_O01965_01_T05338_02_003...</td>\n",
       "      <td>19650000100036040</td>\n",
       "      <td>coverage</td>\n",
       "      <td>BEAM0000</td>\n",
       "      <td>4.081639e+07</td>\n",
       "      <td>2019-04-18 09:53:13.311039649+00:00</td>\n",
       "      <td>0.759716</td>\n",
       "      <td>1</td>\n",
       "      <td>-15.521042</td>\n",
       "      <td>-15.521042</td>\n",
       "      <td>...</td>\n",
       "      <td>1.87</td>\n",
       "      <td>1.94</td>\n",
       "      <td>2.06</td>\n",
       "      <td>2.13</td>\n",
       "      <td>2.24</td>\n",
       "      <td>2.39</td>\n",
       "      <td>2.51</td>\n",
       "      <td>2.69</td>\n",
       "      <td>2.92</td>\n",
       "      <td>POINT (-71.12267 -18.09429)</td>\n",
       "    </tr>\n",
       "    <tr>\n",
       "      <th>4</th>\n",
       "      <td>GEDI02_A_2019108093620_O01965_01_T05338_02_003...</td>\n",
       "      <td>19650000100036041</td>\n",
       "      <td>coverage</td>\n",
       "      <td>BEAM0000</td>\n",
       "      <td>4.081639e+07</td>\n",
       "      <td>2019-04-18 09:53:13.319303647+00:00</td>\n",
       "      <td>0.727532</td>\n",
       "      <td>1</td>\n",
       "      <td>-15.520650</td>\n",
       "      <td>-15.520650</td>\n",
       "      <td>...</td>\n",
       "      <td>1.68</td>\n",
       "      <td>1.76</td>\n",
       "      <td>1.83</td>\n",
       "      <td>1.91</td>\n",
       "      <td>2.02</td>\n",
       "      <td>2.13</td>\n",
       "      <td>2.24</td>\n",
       "      <td>2.39</td>\n",
       "      <td>2.62</td>\n",
       "      <td>POINT (-71.12234 -18.09389)</td>\n",
       "    </tr>\n",
       "  </tbody>\n",
       "</table>\n",
       "<p>5 rows × 126 columns</p>\n",
       "</div>"
      ],
      "text/plain": [
       "                                        granule_name        shot_number  \\\n",
       "0  GEDI02_A_2019108093620_O01965_01_T05338_02_003...  19650000100036037   \n",
       "1  GEDI02_A_2019108093620_O01965_01_T05338_02_003...  19650000100036038   \n",
       "2  GEDI02_A_2019108093620_O01965_01_T05338_02_003...  19650000100036039   \n",
       "3  GEDI02_A_2019108093620_O01965_01_T05338_02_003...  19650000100036040   \n",
       "4  GEDI02_A_2019108093620_O01965_01_T05338_02_003...  19650000100036041   \n",
       "\n",
       "  beam_type beam_name    delta_time                       absolute_time  \\\n",
       "0  coverage  BEAM0000  4.081639e+07 2019-04-18 09:53:13.286247648+00:00   \n",
       "1  coverage  BEAM0000  4.081639e+07 2019-04-18 09:53:13.294511653+00:00   \n",
       "2  coverage  BEAM0000  4.081639e+07 2019-04-18 09:53:13.302775651+00:00   \n",
       "3  coverage  BEAM0000  4.081639e+07 2019-04-18 09:53:13.311039649+00:00   \n",
       "4  coverage  BEAM0000  4.081639e+07 2019-04-18 09:53:13.319303647+00:00   \n",
       "\n",
       "   sensitivity  quality_flag  solar_elevation  solar_azimuth  ...  rh92  rh93  \\\n",
       "0     0.683428             1       -15.522217     -15.522217  ...  1.72  1.76   \n",
       "1    -0.907164             0       -15.521826     -15.521826  ...  1.46  1.53   \n",
       "2     0.614895             1       -15.521434     -15.521434  ...  1.94  2.02   \n",
       "3     0.759716             1       -15.521042     -15.521042  ...  1.87  1.94   \n",
       "4     0.727532             1       -15.520650     -15.520650  ...  1.68  1.76   \n",
       "\n",
       "   rh94  rh95  rh96  rh97  rh98  rh99  rh100                     geometry  \n",
       "0  1.83  1.94  2.02  2.09  2.21  2.36   2.51  POINT (-71.12366 -18.09552)  \n",
       "1  1.57  1.64  1.72  1.79  1.87  1.98   2.09  POINT (-71.12333 -18.09511)  \n",
       "2  2.09  2.17  2.28  2.39  2.51  2.62   2.81  POINT (-71.12300 -18.09470)  \n",
       "3  2.06  2.13  2.24  2.39  2.51  2.69   2.92  POINT (-71.12267 -18.09429)  \n",
       "4  1.83  1.91  2.02  2.13  2.24  2.39   2.62  POINT (-71.12234 -18.09389)  \n",
       "\n",
       "[5 rows x 126 columns]"
      ]
     },
     "execution_count": 7,
     "metadata": {},
     "output_type": "execute_result"
    }
   ],
   "source": [
    "sample = gpd.read_feather(feather_files[0])\n",
    "sample.head()"
   ]
  },
  {
   "cell_type": "markdown",
   "id": "ffd6ad08-ab5f-4a3d-8954-9269ee18ef61",
   "metadata": {},
   "source": [
    "## Upload to PostGIS database"
   ]
  },
  {
   "cell_type": "code",
   "execution_count": 9,
   "id": "8c8b2cb6-8103-4c0e-81c8-3c269a2ca1c2",
   "metadata": {
    "execution": {
     "iopub.execute_input": "2021-06-11T02:10:16.939966Z",
     "iopub.status.busy": "2021-06-11T02:10:16.939665Z",
     "iopub.status.idle": "2021-06-11T02:10:17.860187Z",
     "shell.execute_reply": "2021-06-11T02:10:17.859655Z",
     "shell.execute_reply.started": "2021-06-11T02:10:16.939942Z"
    },
    "tags": []
   },
   "outputs": [
    {
     "name": "stderr",
     "output_type": "stream",
     "text": [
      "<ipython-input-9-5dbaf001cc78>:6: SAWarning: Did not recognize type 'geometry' of column 'geometry'\n",
      "  gedi_l2a = db.Table(\"level_2a\", db.MetaData(), autoload=True, autoload_with=engine)\n"
     ]
    }
   ],
   "source": [
    "from sqlalchemy import create_engine\n",
    "import sqlalchemy as db\n",
    "from src.constants import DB_CONFIG\n",
    "\n",
    "engine = create_engine(DB_CONFIG, echo=False) \n",
    "gedi_l2a = db.Table(\"level_2a\", db.MetaData(), autoload=True, autoload_with=engine)"
   ]
  },
  {
   "cell_type": "code",
   "execution_count": null,
   "id": "57b9505b-fc09-4faa-8b75-53579f175023",
   "metadata": {
    "tags": []
   },
   "outputs": [],
   "source": [
    "for i, feather_file in enumerate(tqdm(feather_files[479:])):\n",
    "    try:\n",
    "        print(i+479)\n",
    "        sample = gpd.read_feather(feather_file)\n",
    "        sample[sample.quality_flag == 1]\n",
    "        sample.to_postgis(name=\"level_2a\", \n",
    "                          if_exists=\"append\", \n",
    "                          con=engine, \n",
    "                          index=False, \n",
    "                          index_label=\"shot_number\")\n",
    "    except Exception as e:\n",
    "        \n",
    "        print(e)\n",
    "        continue"
   ]
  },
  {
   "cell_type": "markdown",
   "id": "576f4b6c-ce99-43c6-86e2-7a4d667d0a00",
   "metadata": {},
   "source": [
    "## Load from PostGIS"
   ]
  },
  {
   "cell_type": "markdown",
   "id": "cc8680fd-78d1-4fec-88b0-bd69f45f5c67",
   "metadata": {
    "execution": {
     "iopub.execute_input": "2021-06-16T14:09:38.485660Z",
     "iopub.status.busy": "2021-06-16T14:09:38.485404Z",
     "iopub.status.idle": "2021-06-16T14:09:38.488130Z",
     "shell.execute_reply": "2021-06-16T14:09:38.487830Z",
     "shell.execute_reply.started": "2021-06-16T14:09:38.485598Z"
    }
   },
   "source": [
    "### Runtime comparision after uploading only `feather_files[0]`"
   ]
  },
  {
   "cell_type": "code",
   "execution_count": 61,
   "id": "9ea1edb1-04ba-4258-8217-ab0b88a0ea13",
   "metadata": {
    "execution": {
     "iopub.execute_input": "2021-06-10T12:37:49.372584Z",
     "iopub.status.busy": "2021-06-10T12:37:49.372465Z",
     "iopub.status.idle": "2021-06-10T12:38:00.007043Z",
     "shell.execute_reply": "2021-06-10T12:38:00.006394Z",
     "shell.execute_reply.started": "2021-06-10T12:37:49.372568Z"
    },
    "tags": []
   },
   "outputs": [
    {
     "name": "stdout",
     "output_type": "stream",
     "text": [
      "CPU times: user 4.92 s, sys: 318 ms, total: 5.24 s\n",
      "Wall time: 10.6 s\n"
     ]
    }
   ],
   "source": [
    "%%time\n",
    "df = pd.read_sql(gedi_l2a.select(), con=engine)  # reads only data, not geometry"
   ]
  },
  {
   "cell_type": "code",
   "execution_count": 62,
   "id": "fe29365e-2ca0-471f-9374-952a4124d1fb",
   "metadata": {
    "execution": {
     "iopub.execute_input": "2021-06-10T12:38:00.008254Z",
     "iopub.status.busy": "2021-06-10T12:38:00.008129Z",
     "iopub.status.idle": "2021-06-10T12:38:11.259722Z",
     "shell.execute_reply": "2021-06-10T12:38:11.259140Z",
     "shell.execute_reply.started": "2021-06-10T12:38:00.008237Z"
    },
    "tags": []
   },
   "outputs": [
    {
     "name": "stdout",
     "output_type": "stream",
     "text": [
      "CPU times: user 6 s, sys: 360 ms, total: 6.36 s\n",
      "Wall time: 11.2 s\n"
     ]
    }
   ],
   "source": [
    "%%time\n",
    "df = gpd.read_postgis(gedi_l2a.select(), con=engine, geom_col=\"geometry\")  # reads geometry as well"
   ]
  },
  {
   "cell_type": "code",
   "execution_count": 66,
   "id": "bffc4aab-1113-4300-89f6-26f6ab3a13e3",
   "metadata": {
    "execution": {
     "iopub.execute_input": "2021-06-10T12:39:33.071231Z",
     "iopub.status.busy": "2021-06-10T12:39:33.071030Z",
     "iopub.status.idle": "2021-06-10T12:39:33.224016Z",
     "shell.execute_reply": "2021-06-10T12:39:33.223382Z",
     "shell.execute_reply.started": "2021-06-10T12:39:33.071213Z"
    },
    "tags": []
   },
   "outputs": [
    {
     "name": "stdout",
     "output_type": "stream",
     "text": [
      "CPU times: user 83.4 ms, sys: 7.15 ms, total: 90.5 ms\n",
      "Wall time: 133 ms\n"
     ]
    }
   ],
   "source": [
    "%%time\n",
    "sample = pd.read_feather(feather_files[0], columns=[\"granule_name\"])  # read from feather format (no geometry)"
   ]
  },
  {
   "cell_type": "code",
   "execution_count": 68,
   "id": "af2b9211-2d9f-40ce-973e-96c3290ca4a1",
   "metadata": {
    "execution": {
     "iopub.execute_input": "2021-06-10T12:39:49.824964Z",
     "iopub.status.busy": "2021-06-10T12:39:49.824761Z",
     "iopub.status.idle": "2021-06-10T12:39:50.581267Z",
     "shell.execute_reply": "2021-06-10T12:39:50.580609Z",
     "shell.execute_reply.started": "2021-06-10T12:39:49.824946Z"
    },
    "tags": []
   },
   "outputs": [
    {
     "name": "stdout",
     "output_type": "stream",
     "text": [
      "CPU times: user 714 ms, sys: 20.3 ms, total: 735 ms\n",
      "Wall time: 737 ms\n"
     ]
    }
   ],
   "source": [
    "%%time\n",
    "sample = gpd.read_feather(feather_files[0], columns=[\"geometry\"])  # read only geometry column from feather format"
   ]
  },
  {
   "cell_type": "code",
   "execution_count": 69,
   "id": "44e4eb61-1b65-477c-baf8-908924e6bc67",
   "metadata": {
    "execution": {
     "iopub.execute_input": "2021-06-10T12:40:00.184258Z",
     "iopub.status.busy": "2021-06-10T12:40:00.184050Z",
     "iopub.status.idle": "2021-06-10T12:40:00.976319Z",
     "shell.execute_reply": "2021-06-10T12:40:00.975781Z",
     "shell.execute_reply.started": "2021-06-10T12:40:00.184240Z"
    }
   },
   "outputs": [
    {
     "name": "stdout",
     "output_type": "stream",
     "text": [
      "CPU times: user 732 ms, sys: 104 ms, total: 836 ms\n",
      "Wall time: 773 ms\n"
     ]
    }
   ],
   "source": [
    "%%time\n",
    "sample = gpd.read_feather(feather_files[0])"
   ]
  },
  {
   "cell_type": "markdown",
   "id": "56afe9cd-47bb-40ca-a939-a07287e82ebb",
   "metadata": {
    "execution": {
     "iopub.execute_input": "2021-06-16T14:11:42.109907Z",
     "iopub.status.busy": "2021-06-16T14:11:42.109688Z",
     "iopub.status.idle": "2021-06-16T14:11:42.111916Z",
     "shell.execute_reply": "2021-06-16T14:11:42.111625Z",
     "shell.execute_reply.started": "2021-06-16T14:11:42.109888Z"
    }
   },
   "source": [
    "### Test out sql query"
   ]
  },
  {
   "cell_type": "code",
   "execution_count": 28,
   "id": "c8f166c4-ea82-40c6-b493-41d547a2cd48",
   "metadata": {
    "execution": {
     "iopub.execute_input": "2021-06-10T12:25:13.013157Z",
     "iopub.status.busy": "2021-06-10T12:25:13.012967Z",
     "iopub.status.idle": "2021-06-10T12:25:22.396129Z",
     "shell.execute_reply": "2021-06-10T12:25:22.395355Z",
     "shell.execute_reply.started": "2021-06-10T12:25:13.013140Z"
    },
    "tags": []
   },
   "outputs": [
    {
     "name": "stdout",
     "output_type": "stream",
     "text": [
      "2021-06-10 13:25:13,029 INFO sqlalchemy.engine.Engine select relname from pg_class c join pg_namespace n on n.oid=c.relnamespace where pg_catalog.pg_table_is_visible(c.oid) and relname=%(name)s\n",
      "2021-06-10 13:25:13,030 INFO sqlalchemy.engine.Engine [cached since 169.5s ago] {'name': 'SELECT * FROM gedi_l2a'}\n",
      "2021-06-10 13:25:13,036 INFO sqlalchemy.engine.Engine SELECT * FROM gedi_l2a\n",
      "2021-06-10 13:25:13,037 INFO sqlalchemy.engine.Engine [raw sql] {}\n"
     ]
    },
    {
     "ename": "ValueError",
     "evalue": "Query missing geometry column 'geom'",
     "output_type": "error",
     "traceback": [
      "\u001b[0;31m---------------------------------------------------------------------------\u001b[0m",
      "\u001b[0;31mValueError\u001b[0m                                Traceback (most recent call last)",
      "\u001b[0;32m<ipython-input-28-bff335ce4c11>\u001b[0m in \u001b[0;36m<module>\u001b[0;34m\u001b[0m\n\u001b[1;32m      1\u001b[0m \u001b[0msql\u001b[0m \u001b[0;34m=\u001b[0m \u001b[0;34m\"SELECT * FROM gedi_l2a\"\u001b[0m\u001b[0;34m\u001b[0m\u001b[0;34m\u001b[0m\u001b[0m\n\u001b[0;32m----> 2\u001b[0;31m \u001b[0mdf\u001b[0m \u001b[0;34m=\u001b[0m \u001b[0mgpd\u001b[0m\u001b[0;34m.\u001b[0m\u001b[0mread_postgis\u001b[0m\u001b[0;34m(\u001b[0m\u001b[0msql\u001b[0m\u001b[0;34m,\u001b[0m \u001b[0mcon\u001b[0m\u001b[0;34m=\u001b[0m\u001b[0mengine\u001b[0m\u001b[0;34m)\u001b[0m\u001b[0;34m\u001b[0m\u001b[0;34m\u001b[0m\u001b[0m\n\u001b[0m",
      "\u001b[0;32m~/Code/gedi_biomass_mapping/env/lib/python3.9/site-packages/geopandas/io/sql.py\u001b[0m in \u001b[0;36m_read_postgis\u001b[0;34m(sql, con, geom_col, crs, index_col, coerce_float, parse_dates, params, chunksize)\u001b[0m\n\u001b[1;32m    161\u001b[0m             \u001b[0mchunksize\u001b[0m\u001b[0;34m=\u001b[0m\u001b[0mchunksize\u001b[0m\u001b[0;34m,\u001b[0m\u001b[0;34m\u001b[0m\u001b[0;34m\u001b[0m\u001b[0m\n\u001b[1;32m    162\u001b[0m         )\n\u001b[0;32m--> 163\u001b[0;31m         \u001b[0;32mreturn\u001b[0m \u001b[0m_df_to_geodf\u001b[0m\u001b[0;34m(\u001b[0m\u001b[0mdf\u001b[0m\u001b[0;34m,\u001b[0m \u001b[0mgeom_col\u001b[0m\u001b[0;34m=\u001b[0m\u001b[0mgeom_col\u001b[0m\u001b[0;34m,\u001b[0m \u001b[0mcrs\u001b[0m\u001b[0;34m=\u001b[0m\u001b[0mcrs\u001b[0m\u001b[0;34m)\u001b[0m\u001b[0;34m\u001b[0m\u001b[0;34m\u001b[0m\u001b[0m\n\u001b[0m\u001b[1;32m    164\u001b[0m \u001b[0;34m\u001b[0m\u001b[0m\n\u001b[1;32m    165\u001b[0m     \u001b[0;32melse\u001b[0m\u001b[0;34m:\u001b[0m\u001b[0;34m\u001b[0m\u001b[0;34m\u001b[0m\u001b[0m\n",
      "\u001b[0;32m~/Code/gedi_biomass_mapping/env/lib/python3.9/site-packages/geopandas/io/sql.py\u001b[0m in \u001b[0;36m_df_to_geodf\u001b[0;34m(df, geom_col, crs)\u001b[0m\n\u001b[1;32m     63\u001b[0m \u001b[0;34m\u001b[0m\u001b[0m\n\u001b[1;32m     64\u001b[0m     \u001b[0;32mif\u001b[0m \u001b[0mgeom_col\u001b[0m \u001b[0;32mnot\u001b[0m \u001b[0;32min\u001b[0m \u001b[0mdf\u001b[0m\u001b[0;34m:\u001b[0m\u001b[0;34m\u001b[0m\u001b[0;34m\u001b[0m\u001b[0m\n\u001b[0;32m---> 65\u001b[0;31m         \u001b[0;32mraise\u001b[0m \u001b[0mValueError\u001b[0m\u001b[0;34m(\u001b[0m\u001b[0;34m\"Query missing geometry column '{}'\"\u001b[0m\u001b[0;34m.\u001b[0m\u001b[0mformat\u001b[0m\u001b[0;34m(\u001b[0m\u001b[0mgeom_col\u001b[0m\u001b[0;34m)\u001b[0m\u001b[0;34m)\u001b[0m\u001b[0;34m\u001b[0m\u001b[0;34m\u001b[0m\u001b[0m\n\u001b[0m\u001b[1;32m     66\u001b[0m \u001b[0;34m\u001b[0m\u001b[0m\n\u001b[1;32m     67\u001b[0m     \u001b[0mgeoms\u001b[0m \u001b[0;34m=\u001b[0m \u001b[0mdf\u001b[0m\u001b[0;34m[\u001b[0m\u001b[0mgeom_col\u001b[0m\u001b[0;34m]\u001b[0m\u001b[0;34m.\u001b[0m\u001b[0mdropna\u001b[0m\u001b[0;34m(\u001b[0m\u001b[0;34m)\u001b[0m\u001b[0;34m\u001b[0m\u001b[0;34m\u001b[0m\u001b[0m\n",
      "\u001b[0;31mValueError\u001b[0m: Query missing geometry column 'geom'"
     ]
    }
   ],
   "source": [
    "sql = \"SELECT * FROM gedi_l2a\"\n",
    "df = gpd.read_postgis(sql, con=engine)"
   ]
  }
 ],
 "metadata": {
  "kernelspec": {
   "display_name": "env",
   "language": "python",
   "name": "env"
  },
  "language_info": {
   "codemirror_mode": {
    "name": "ipython",
    "version": 3
   },
   "file_extension": ".py",
   "mimetype": "text/x-python",
   "name": "python",
   "nbconvert_exporter": "python",
   "pygments_lexer": "ipython3",
   "version": "3.9.2"
  }
 },
 "nbformat": 4,
 "nbformat_minor": 5
}
