{
 "cells": [
  {
   "cell_type": "code",
   "execution_count": null,
   "id": "77388da0-93b5-4676-9579-49426fc25e51",
   "metadata": {},
   "outputs": [],
   "source": [
    "import geopandas as gpd\n",
    "import datetime\n",
    "from src.constants import PAISAGENSLIDAR_PATH"
   ]
  },
  {
   "cell_type": "code",
   "execution_count": null,
   "id": "98f0cc2e-ead8-4023-b0f6-c2dc98e23f7f",
   "metadata": {},
   "outputs": [],
   "source": [
    "biomasses = gpd.read_file(\"biomass_EFC.zip\")\n",
    "biomasses.head()"
   ]
  },
  {
   "cell_type": "code",
   "execution_count": null,
   "id": "fcf82d91-58be-4027-b532-0f8d9da3d8e9",
   "metadata": {},
   "outputs": [],
   "source": [
    "geometry_wgs84 = []\n",
    "for idx, row in tqdm(biomasses.iterrows(), total=len(biomasses)):\n",
    "    try:\n",
    "        geometry_wgs84.append(gpd.GeoSeries(row[\"geometry\"], crs=row[\"crs_orig\"]).to_crs(WGS84).iloc[0])\n",
    "    except Exception as e:\n",
    "        geometry_wgs84.append(None)\n",
    "        print(idx, e)"
   ]
  },
  {
   "cell_type": "code",
   "execution_count": null,
   "id": "4b583cbb-4a4e-4d87-85e1-c4666dfebca9",
   "metadata": {},
   "outputs": [],
   "source": [
    "biomasses[\"geometry_orig\"] = biomasses[\"geometry\"]\n",
    "biomasses[\"geometry\"] = geometry_wgs84\n",
    "biomasses[\"Area [ha]\"] = round(biomasses[\"geometry_orig\"].area / 1e4, 3)"
   ]
  },
  {
   "cell_type": "code",
   "execution_count": null,
   "id": "2ba7c92b-04a4-406b-85d8-b2b52af46e74",
   "metadata": {},
   "outputs": [],
   "source": [
    "biomasses.to_feather(PAISAGENSLIDAR_PATH / f\"paisagenslidar_biomasses_v{datetime.date.today()}.feather\n",
    "biomasses.drop(\"geometry_orig\", axis=1).to_file(PAISAGENSLIDAR_PATH / f\"paisagenslidar_biomasses_v{datetime.date.today()}.gpkg\", driver=\"GPKG\")"
   ]
  }
 ],
 "metadata": {
  "kernelspec": {
   "display_name": "Python 3",
   "language": "python",
   "name": "python3"
  },
  "language_info": {
   "codemirror_mode": {
    "name": "ipython",
    "version": 3
   },
   "file_extension": ".py",
   "mimetype": "text/x-python",
   "name": "python",
   "nbconvert_exporter": "python",
   "pygments_lexer": "ipython3",
   "version": "3.9.2"
  }
 },
 "nbformat": 4,
 "nbformat_minor": 5
}
