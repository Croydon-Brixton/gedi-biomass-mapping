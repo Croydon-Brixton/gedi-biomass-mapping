{
 "cells": [
  {
   "cell_type": "markdown",
   "id": "0e5a9e1d-db47-40ff-b86a-780fb69143fb",
   "metadata": {},
   "source": [
    "# GEDI Data processing pipeline"
   ]
  },
  {
   "cell_type": "code",
   "execution_count": 2,
   "id": "f913e0f0-5560-49e6-a7ac-555cabe9a90f",
   "metadata": {
    "execution": {
     "iopub.execute_input": "2021-05-31T20:51:48.231067Z",
     "iopub.status.busy": "2021-05-31T20:51:48.230745Z",
     "iopub.status.idle": "2021-05-31T20:51:48.484670Z",
     "shell.execute_reply": "2021-05-31T20:51:48.483394Z",
     "shell.execute_reply.started": "2021-05-31T20:51:48.231026Z"
    },
    "tags": []
   },
   "outputs": [],
   "source": [
    "# Convenient jupyter setup\n",
    "%load_ext autoreload\n",
    "%autoreload 2"
   ]
  },
  {
   "cell_type": "markdown",
   "id": "71b2a27d-285f-43c8-8a33-42cd4da12b77",
   "metadata": {},
   "source": [
    "## Pipeline-steps:"
   ]
  },
  {
   "cell_type": "markdown",
   "id": "26f872f3-b808-423e-98a9-4e3bf0e9f1f6",
   "metadata": {},
   "source": [
    "1. Download the zip-file\n",
    "2. Unzip the file\n",
    "3. For each granule in the unzipped file\n",
    "    - Load the hdf5 file into a GEDI object\n",
    "    - Extract the main data\n",
    "    - Save the main data\n",
    "    - Close the object (delete from RAM)\n",
    "4. Upload file granule to GCloud\n",
    "5. Remove that granule\n",
    "6. Remove zipped file"
   ]
  },
  {
   "cell_type": "markdown",
   "id": "b0af34ed-5318-45be-9975-7e10d8c5d599",
   "metadata": {
    "execution": {
     "iopub.execute_input": "2021-05-29T14:34:38.411204Z",
     "iopub.status.busy": "2021-05-29T14:34:38.410635Z",
     "iopub.status.idle": "2021-05-29T14:34:38.425121Z",
     "shell.execute_reply": "2021-05-29T14:34:38.424179Z",
     "shell.execute_reply.started": "2021-05-29T14:34:38.411066Z"
    }
   },
   "source": [
    "### Step 1: Download the file"
   ]
  },
  {
   "cell_type": "code",
   "execution_count": 3,
   "id": "80ff5edf-6655-4e28-a452-873c5ccfaa2e",
   "metadata": {
    "execution": {
     "iopub.execute_input": "2021-05-31T20:51:49.834241Z",
     "iopub.status.busy": "2021-05-31T20:51:49.833915Z",
     "iopub.status.idle": "2021-05-31T20:51:49.884338Z",
     "shell.execute_reply": "2021-05-31T20:51:49.883454Z",
     "shell.execute_reply.started": "2021-05-31T20:51:49.834209Z"
    },
    "tags": []
   },
   "outputs": [],
   "source": [
    "from src.constants import GEDI_L2A_PATH\n",
    "from src.utils.unzip import unzip\n",
    "from src.utils.os import list_content\n",
    "import os\n",
    "import pathlib\n",
    "save_dir = GEDI_L2A_PATH/ \"v002\" / \"amazon_basin\""
   ]
  },
  {
   "cell_type": "code",
   "execution_count": 25,
   "id": "289dbf5c-3cb1-4ce5-a329-66d18086b7b1",
   "metadata": {
    "execution": {
     "iopub.execute_input": "2021-05-31T20:28:58.413103Z",
     "iopub.status.busy": "2021-05-31T20:28:58.412815Z",
     "iopub.status.idle": "2021-05-31T20:28:58.662226Z",
     "shell.execute_reply": "2021-05-31T20:28:58.660705Z",
     "shell.execute_reply.started": "2021-05-31T20:28:58.413071Z"
    },
    "tags": []
   },
   "outputs": [
    {
     "name": "stderr",
     "output_type": "stream",
     "text": [
      "UsageError: Line magic function `%%time` not found.\n"
     ]
    }
   ],
   "source": [
    "import subprocess\n",
    "%%time\n",
    "save_dir = GEDI_L2A_PATH/ \"v002\" / \"amazon_basin\"\n",
    "\n",
    "# change working directory\n",
    "#os.chdir(save_dir)\n",
    "# Download the data\n",
    "#subprocess.call([\"wget\", \"https://e4ftl01.cr.usgs.gov/ops/esir/52374.zip?1\"])"
   ]
  },
  {
   "cell_type": "markdown",
   "id": "93eacb6f-48b4-4772-8f2e-89c3d2c361ee",
   "metadata": {},
   "source": [
    "### Step 2: Unzip the file"
   ]
  },
  {
   "cell_type": "code",
   "execution_count": 5,
   "id": "33b5bb71-001e-42be-8e4d-49139d936b65",
   "metadata": {
    "execution": {
     "iopub.execute_input": "2021-05-29T14:47:57.783240Z",
     "iopub.status.busy": "2021-05-29T14:47:57.782908Z",
     "iopub.status.idle": "2021-05-29T14:47:57.813524Z",
     "shell.execute_reply": "2021-05-29T14:47:57.812709Z",
     "shell.execute_reply.started": "2021-05-29T14:47:57.783204Z"
    },
    "tags": []
   },
   "outputs": [
    {
     "data": {
      "text/plain": [
       "PosixPath('/gws/nopw/j04/forecol/data/GEDI/level2A/v002/amazon_basin/52365.zip?1')"
      ]
     },
     "execution_count": 5,
     "metadata": {},
     "output_type": "execute_result"
    }
   ],
   "source": [
    "zip_path = list_content(save_dir)[0]\n",
    "order_number = zip_path.name.split('.')[0]\n",
    "zip_number = zip_path.name.split(\"?\")[1]\n",
    "zip_path"
   ]
  },
  {
   "cell_type": "code",
   "execution_count": null,
   "id": "0a72ed9d-06f9-4db0-9a52-7c27d22f46aa",
   "metadata": {
    "tags": []
   },
   "outputs": [],
   "source": [
    "%%time\n",
    "tmp_unzip_path = save_dir / f\"unzip{order_number}-{zip_number}\"\n",
    "tmp_unzip_path.mkdir(parents=True, exist_ok=True)\n",
    "unzip(zip_path, out_path=tmp_unzip_path, remove_archive_name=False)"
   ]
  },
  {
   "cell_type": "markdown",
   "id": "5bb77046-ea5d-47e7-abf7-05810c2e3876",
   "metadata": {},
   "source": [
    "### Step 3: Process the files in the zip"
   ]
  },
  {
   "cell_type": "code",
   "execution_count": 24,
   "id": "cddfea55-58c5-4946-8960-97861b174f24",
   "metadata": {
    "execution": {
     "iopub.execute_input": "2021-05-29T15:02:15.448313Z",
     "iopub.status.busy": "2021-05-29T15:02:15.447843Z",
     "iopub.status.idle": "2021-05-29T15:02:15.900278Z",
     "shell.execute_reply": "2021-05-29T15:02:15.899193Z",
     "shell.execute_reply.started": "2021-05-29T15:02:15.448278Z"
    },
    "tags": []
   },
   "outputs": [],
   "source": [
    "from src.data.gedi_granule import GediGranule\n",
    "import geopandas as gpd\n",
    "import pandas as pd"
   ]
  },
  {
   "cell_type": "code",
   "execution_count": 71,
   "id": "04cd7da5-5d7e-47be-b75e-f2a3d000877a",
   "metadata": {
    "execution": {
     "iopub.execute_input": "2021-05-29T16:27:06.972293Z",
     "iopub.status.busy": "2021-05-29T16:27:06.971974Z",
     "iopub.status.idle": "2021-05-29T16:27:07.062176Z",
     "shell.execute_reply": "2021-05-29T16:27:07.061364Z",
     "shell.execute_reply.started": "2021-05-29T16:27:06.972245Z"
    }
   },
   "outputs": [],
   "source": [
    "granules = \n",
    "granule_name = granule.file_path.name.split('.')[0]"
   ]
  },
  {
   "cell_type": "code",
   "execution_count": 70,
   "id": "0bc010eb-ef68-442c-b490-5eeb5883c422",
   "metadata": {
    "execution": {
     "iopub.execute_input": "2021-05-29T16:27:03.920934Z",
     "iopub.status.busy": "2021-05-29T16:27:03.920521Z",
     "iopub.status.idle": "2021-05-29T16:27:04.549405Z",
     "shell.execute_reply": "2021-05-29T16:27:04.546726Z",
     "shell.execute_reply.started": "2021-05-29T16:27:03.920887Z"
    },
    "tags": []
   },
   "outputs": [
    {
     "ename": "NameError",
     "evalue": "name 'granule_path' is not defined",
     "output_type": "error",
     "traceback": [
      "\u001b[0;31m---------------------------------------------------------------------------\u001b[0m",
      "\u001b[0;31mNameError\u001b[0m                                 Traceback (most recent call last)",
      "\u001b[0;32m<ipython-input-70-fd34b238bf5f>\u001b[0m in \u001b[0;36m<module>\u001b[0;34m\u001b[0m\n\u001b[0;32m----> 1\u001b[0;31m \u001b[0mgranule\u001b[0m \u001b[0;34m=\u001b[0m \u001b[0mGediGranule\u001b[0m\u001b[0;34m(\u001b[0m\u001b[0mgranule_path\u001b[0m\u001b[0;34m)\u001b[0m\u001b[0;34m\u001b[0m\u001b[0;34m\u001b[0m\u001b[0m\n\u001b[0m",
      "\u001b[0;31mNameError\u001b[0m: name 'granule_path' is not defined"
     ]
    }
   ],
   "source": [
    "granule = GediGranule(granule_path)"
   ]
  },
  {
   "cell_type": "code",
   "execution_count": 57,
   "id": "5426206f-54c5-4856-911a-67c4f0c58403",
   "metadata": {
    "execution": {
     "iopub.execute_input": "2021-05-29T16:16:35.710938Z",
     "iopub.status.busy": "2021-05-29T16:16:35.710634Z",
     "iopub.status.idle": "2021-05-29T16:17:00.462744Z",
     "shell.execute_reply": "2021-05-29T16:17:00.461157Z",
     "shell.execute_reply.started": "2021-05-29T16:16:35.710904Z"
    },
    "tags": []
   },
   "outputs": [
    {
     "name": "stdout",
     "output_type": "stream",
     "text": [
      "CPU times: user 17.9 s, sys: 4.52 s, total: 22.4 s\n",
      "Wall time: 24.4 s\n"
     ]
    }
   ],
   "source": [
    "%%time\n",
    "# Gather data for whole granule into one table\n",
    "granule_data = []\n",
    "for beam in granule.iter_beams():\n",
    "    granule_data.append(beam.main_data)\n",
    "granule_data = pd.concat(granule_data, ignore_index=True)"
   ]
  },
  {
   "cell_type": "code",
   "execution_count": 68,
   "id": "503949ce-d8da-4330-856e-42c33690a7ed",
   "metadata": {
    "execution": {
     "iopub.execute_input": "2021-05-29T16:21:39.889873Z",
     "iopub.status.busy": "2021-05-29T16:21:39.889535Z",
     "iopub.status.idle": "2021-05-29T16:23:52.020400Z",
     "shell.execute_reply": "2021-05-29T16:23:52.018709Z",
     "shell.execute_reply.started": "2021-05-29T16:21:39.889839Z"
    },
    "tags": []
   },
   "outputs": [
    {
     "name": "stdout",
     "output_type": "stream",
     "text": [
      "CPU times: user 1min 50s, sys: 7.15 s, total: 1min 57s\n",
      "Wall time: 2min 12s\n"
     ]
    }
   ],
   "source": [
    "%%time\n",
    "save_name = save_dir / f\"order{order_number}/{granule_name}.gpkg\"\n",
    "save_name.parent.mkdir(exist_ok=True, parents=True)\n",
    "granule_data.to_file(save_name, driver=\"GPKG\")"
   ]
  },
  {
   "cell_type": "markdown",
   "id": "0b8ecf75-b93f-4593-94be-f96c59bc0207",
   "metadata": {},
   "source": [
    "### Step 4: Upload granule to GCloud"
   ]
  },
  {
   "cell_type": "code",
   "execution_count": null,
   "id": "15b2527e-00a5-4f0f-894c-ccd3f5cc9dc7",
   "metadata": {},
   "outputs": [],
   "source": [
    "#skip"
   ]
  },
  {
   "cell_type": "markdown",
   "id": "c436c0d2-a5dd-4ed0-9288-a1c19d113f1e",
   "metadata": {},
   "source": [
    "### Step 5: Remove granule"
   ]
  },
  {
   "cell_type": "code",
   "execution_count": 69,
   "id": "42660ac0-a77d-4413-af5b-4c084c5bbd25",
   "metadata": {
    "execution": {
     "iopub.execute_input": "2021-05-29T16:26:05.924768Z",
     "iopub.status.busy": "2021-05-29T16:26:05.924265Z",
     "iopub.status.idle": "2021-05-29T16:26:06.816591Z",
     "shell.execute_reply": "2021-05-29T16:26:06.815609Z",
     "shell.execute_reply.started": "2021-05-29T16:26:05.924726Z"
    }
   },
   "outputs": [],
   "source": [
    "# From RAM\n",
    "del granule_data\n",
    "del beam\n",
    "del granule"
   ]
  },
  {
   "cell_type": "code",
   "execution_count": 72,
   "id": "c07719e0-91fd-4667-9806-475da6aa0688",
   "metadata": {
    "execution": {
     "iopub.execute_input": "2021-05-29T16:27:58.317798Z",
     "iopub.status.busy": "2021-05-29T16:27:58.317231Z",
     "iopub.status.idle": "2021-05-29T16:27:59.096995Z",
     "shell.execute_reply": "2021-05-29T16:27:59.095363Z",
     "shell.execute_reply.started": "2021-05-29T16:27:58.317760Z"
    }
   },
   "outputs": [],
   "source": [
    "import shutil\n",
    "# From disk\n",
    "shutil.rmtree(tmp_unzip_path)\n",
    "shutil.rmtree(zip_path)"
   ]
  },
  {
   "cell_type": "markdown",
   "id": "8341b957-3b73-42d9-a0d7-573fc1023388",
   "metadata": {},
   "source": [
    "# Combined:"
   ]
  },
  {
   "cell_type": "markdown",
   "id": "64333b19-29e2-4d09-8570-1b361ffd3797",
   "metadata": {},
   "source": [
    "### Orders"
   ]
  },
  {
   "cell_type": "code",
   "execution_count": 3,
   "id": "a50d3c4d-1c94-4c60-8270-decb515c3f4d",
   "metadata": {
    "execution": {
     "iopub.execute_input": "2021-05-31T19:46:07.858557Z",
     "iopub.status.busy": "2021-05-31T19:46:07.858222Z",
     "iopub.status.idle": "2021-05-31T19:46:08.149711Z",
     "shell.execute_reply": "2021-05-31T19:46:08.147692Z",
     "shell.execute_reply.started": "2021-05-31T19:46:07.858515Z"
    },
    "tags": []
   },
   "outputs": [],
   "source": [
    "orders = {\n",
    "    52374: 83,  # order number, order length\n",
    "    52375: 81,\n",
    "    52376: 138,\n",
    "    52377: 88,\n",
    "    52378: 87,\n",
    "    52379: 152,\n",
    "    52380: 104,\n",
    "    52381: 104,\n",
    "    52382: 127\n",
    "}"
   ]
  },
  {
   "cell_type": "code",
   "execution_count": 22,
   "id": "4091bc03-1c6d-40ff-8dbc-5421387e2329",
   "metadata": {
    "execution": {
     "iopub.execute_input": "2021-05-31T20:01:06.629150Z",
     "iopub.status.busy": "2021-05-31T20:01:06.628833Z",
     "iopub.status.idle": "2021-05-31T20:01:08.045544Z",
     "shell.execute_reply": "2021-05-31T20:01:08.043946Z",
     "shell.execute_reply.started": "2021-05-31T20:01:06.629115Z"
    },
    "tags": []
   },
   "outputs": [],
   "source": [
    "for order in orders.keys():\n",
    "    download_path = pathlib.Path(save_dir) / f\"download_{order}\"\n",
    "    download_path.mkdir(exist_ok=True, parents=True)\n",
    "    \n",
    "    with open(download_path / \"README.txt\", \"w\") as file:\n",
    "        text = \"\\n\".join([generate_link(order, zip_number) for zip_number in range(1, orders[order]+1)])\n",
    "        file.write(text)"
   ]
  },
  {
   "cell_type": "markdown",
   "id": "2017f782-e395-45bc-ac16-26005000a894",
   "metadata": {},
   "source": [
    "### Download script"
   ]
  },
  {
   "cell_type": "code",
   "execution_count": 4,
   "id": "16e0a719-2b6c-477a-806c-476d04ec6f24",
   "metadata": {
    "execution": {
     "iopub.execute_input": "2021-05-31T19:46:08.594495Z",
     "iopub.status.busy": "2021-05-31T19:46:08.594156Z",
     "iopub.status.idle": "2021-05-31T19:46:08.650271Z",
     "shell.execute_reply": "2021-05-31T19:46:08.649513Z",
     "shell.execute_reply.started": "2021-05-31T19:46:08.594455Z"
    },
    "tags": []
   },
   "outputs": [],
   "source": [
    "import subprocess\n",
    "import os\n",
    "import threading\n",
    "import concurrent\n",
    "from tqdm.autonotebook import tqdm\n",
    "from src.constants import GEDI_L2A_PATH\n",
    "\n",
    "def generate_link(order_number, zip_number):\n",
    "    return f\"https://e4ftl01.cr.usgs.gov/ops/esir/{order_number}.zip?{zip_number}\"\n",
    "\n",
    "def wget_file(link):\n",
    "    try:\n",
    "        subprocess.call([\"wget\", link])\n",
    "        return True\n",
    "    except Exception as e:\n",
    "        print(e)\n",
    "        return False\n",
    "\n",
    "def download_gedi_order(order_number, n_zips, max_threads, save_dir):\n",
    "    \n",
    "    # change working directory\n",
    "    os.chdir(save_dir)\n",
    "    \n",
    "    # set up all links to download\n",
    "    links = [generate_link(order_number, zip_number) for zip_number in range(1, n_zips+1)]\n",
    "    results = {}\n",
    "    \n",
    "    with concurrent.futures.ThreadPoolExecutor(max_workers=max_threads, \n",
    "                                               thread_name_prefix=f\"Order_{order_number}\") as executor:\n",
    "        futures = {executor.submit(wget_file, link):link for link in links}\n",
    "        \n",
    "        for future in tqdm(concurrent.futures.as_completed(futures), total=len(links)):\n",
    "            try:\n",
    "                name = futures[future]\n",
    "                was_successful = future.result()\n",
    "                print(f\"{name} successful: {was_successful}\")\n",
    "                results[name] = was_successful\n",
    "            except Exception as e:\n",
    "                print(e)\n",
    "            \n",
    "    return results"
   ]
  },
  {
   "cell_type": "code",
   "execution_count": 18,
   "id": "dbf00549-04cb-4fd1-916d-1cdd7df7dc85",
   "metadata": {
    "execution": {
     "iopub.execute_input": "2021-05-31T11:07:04.201011Z",
     "iopub.status.busy": "2021-05-31T11:07:04.200708Z",
     "iopub.status.idle": "2021-05-31T13:18:21.462378Z",
     "shell.execute_reply": "2021-05-31T13:18:21.457834Z",
     "shell.execute_reply.started": "2021-05-31T11:07:04.200977Z"
    },
    "tags": []
   },
   "outputs": [
    {
     "data": {
      "application/vnd.jupyter.widget-view+json": {
       "model_id": "323f09ce99f047448ad5b9840faf30e7",
       "version_major": 2,
       "version_minor": 0
      },
      "text/plain": [
       "  0%|          | 0/83 [00:00<?, ?it/s]"
      ]
     },
     "metadata": {},
     "output_type": "display_data"
    },
    {
     "ename": "AttributeError",
     "evalue": "'bool' object has no attribute '_condition'",
     "output_type": "error",
     "traceback": [
      "\u001b[0;31m---------------------------------------------------------------------------\u001b[0m",
      "\u001b[0;31mAttributeError\u001b[0m                            Traceback (most recent call last)",
      "\u001b[0;32m<ipython-input-18-e215392d8ea1>\u001b[0m in \u001b[0;36m<module>\u001b[0;34m\u001b[0m\n\u001b[0;32m----> 1\u001b[0;31m \u001b[0mdownload_gedi_order\u001b[0m\u001b[0;34m(\u001b[0m\u001b[0;36m52374\u001b[0m\u001b[0;34m,\u001b[0m \u001b[0;36m83\u001b[0m\u001b[0;34m,\u001b[0m \u001b[0mmax_threads\u001b[0m\u001b[0;34m=\u001b[0m\u001b[0;36m10\u001b[0m\u001b[0;34m,\u001b[0m \u001b[0msave_dir\u001b[0m\u001b[0;34m=\u001b[0m\u001b[0msave_dir\u001b[0m\u001b[0;34m)\u001b[0m\u001b[0;34m\u001b[0m\u001b[0;34m\u001b[0m\u001b[0m\n\u001b[0m",
      "\u001b[0;32m<ipython-input-16-0d549347f9a6>\u001b[0m in \u001b[0;36mdownload_gedi_order\u001b[0;34m(order_number, n_zips, max_threads, save_dir)\u001b[0m\n\u001b[1;32m     21\u001b[0m         \u001b[0mfutures\u001b[0m \u001b[0;34m=\u001b[0m \u001b[0mexecutor\u001b[0m\u001b[0;34m.\u001b[0m\u001b[0mmap\u001b[0m\u001b[0;34m(\u001b[0m\u001b[0mwget_file\u001b[0m\u001b[0;34m,\u001b[0m \u001b[0mlinks\u001b[0m\u001b[0;34m)\u001b[0m\u001b[0;34m\u001b[0m\u001b[0;34m\u001b[0m\u001b[0m\n\u001b[1;32m     22\u001b[0m \u001b[0;34m\u001b[0m\u001b[0m\n\u001b[0;32m---> 23\u001b[0;31m         \u001b[0;32mfor\u001b[0m \u001b[0mfuture\u001b[0m \u001b[0;32min\u001b[0m \u001b[0mtqdm\u001b[0m\u001b[0;34m(\u001b[0m\u001b[0mconcurrent\u001b[0m\u001b[0;34m.\u001b[0m\u001b[0mfutures\u001b[0m\u001b[0;34m.\u001b[0m\u001b[0mas_completed\u001b[0m\u001b[0;34m(\u001b[0m\u001b[0mfutures\u001b[0m\u001b[0;34m)\u001b[0m\u001b[0;34m,\u001b[0m \u001b[0mtotal\u001b[0m\u001b[0;34m=\u001b[0m\u001b[0mlen\u001b[0m\u001b[0;34m(\u001b[0m\u001b[0mlinks\u001b[0m\u001b[0;34m)\u001b[0m\u001b[0;34m)\u001b[0m\u001b[0;34m:\u001b[0m\u001b[0;34m\u001b[0m\u001b[0;34m\u001b[0m\u001b[0m\n\u001b[0m\u001b[1;32m     24\u001b[0m             \u001b[0;32mtry\u001b[0m\u001b[0;34m:\u001b[0m\u001b[0;34m\u001b[0m\u001b[0;34m\u001b[0m\u001b[0m\n\u001b[1;32m     25\u001b[0m                 \u001b[0mwas_successful\u001b[0m \u001b[0;34m=\u001b[0m \u001b[0mfuture\u001b[0m\u001b[0;34m.\u001b[0m\u001b[0mresult\u001b[0m\u001b[0;34m(\u001b[0m\u001b[0;34m)\u001b[0m\u001b[0;34m\u001b[0m\u001b[0;34m\u001b[0m\u001b[0m\n",
      "\u001b[0;32m~/Code/gedi_biomass_mapping/env/lib/python3.9/site-packages/tqdm/notebook.py\u001b[0m in \u001b[0;36m__iter__\u001b[0;34m(self)\u001b[0m\n\u001b[1;32m    252\u001b[0m     \u001b[0;32mdef\u001b[0m \u001b[0m__iter__\u001b[0m\u001b[0;34m(\u001b[0m\u001b[0mself\u001b[0m\u001b[0;34m)\u001b[0m\u001b[0;34m:\u001b[0m\u001b[0;34m\u001b[0m\u001b[0;34m\u001b[0m\u001b[0m\n\u001b[1;32m    253\u001b[0m         \u001b[0;32mtry\u001b[0m\u001b[0;34m:\u001b[0m\u001b[0;34m\u001b[0m\u001b[0;34m\u001b[0m\u001b[0m\n\u001b[0;32m--> 254\u001b[0;31m             \u001b[0;32mfor\u001b[0m \u001b[0mobj\u001b[0m \u001b[0;32min\u001b[0m \u001b[0msuper\u001b[0m\u001b[0;34m(\u001b[0m\u001b[0mtqdm_notebook\u001b[0m\u001b[0;34m,\u001b[0m \u001b[0mself\u001b[0m\u001b[0;34m)\u001b[0m\u001b[0;34m.\u001b[0m\u001b[0m__iter__\u001b[0m\u001b[0;34m(\u001b[0m\u001b[0;34m)\u001b[0m\u001b[0;34m:\u001b[0m\u001b[0;34m\u001b[0m\u001b[0;34m\u001b[0m\u001b[0m\n\u001b[0m\u001b[1;32m    255\u001b[0m                 \u001b[0;31m# return super(tqdm...) will not catch exception\u001b[0m\u001b[0;34m\u001b[0m\u001b[0;34m\u001b[0m\u001b[0;34m\u001b[0m\u001b[0m\n\u001b[1;32m    256\u001b[0m                 \u001b[0;32myield\u001b[0m \u001b[0mobj\u001b[0m\u001b[0;34m\u001b[0m\u001b[0;34m\u001b[0m\u001b[0m\n",
      "\u001b[0;32m~/Code/gedi_biomass_mapping/env/lib/python3.9/site-packages/tqdm/std.py\u001b[0m in \u001b[0;36m__iter__\u001b[0;34m(self)\u001b[0m\n\u001b[1;32m   1176\u001b[0m \u001b[0;34m\u001b[0m\u001b[0m\n\u001b[1;32m   1177\u001b[0m         \u001b[0;32mtry\u001b[0m\u001b[0;34m:\u001b[0m\u001b[0;34m\u001b[0m\u001b[0;34m\u001b[0m\u001b[0m\n\u001b[0;32m-> 1178\u001b[0;31m             \u001b[0;32mfor\u001b[0m \u001b[0mobj\u001b[0m \u001b[0;32min\u001b[0m \u001b[0miterable\u001b[0m\u001b[0;34m:\u001b[0m\u001b[0;34m\u001b[0m\u001b[0;34m\u001b[0m\u001b[0m\n\u001b[0m\u001b[1;32m   1179\u001b[0m                 \u001b[0;32myield\u001b[0m \u001b[0mobj\u001b[0m\u001b[0;34m\u001b[0m\u001b[0;34m\u001b[0m\u001b[0m\n\u001b[1;32m   1180\u001b[0m                 \u001b[0;31m# Update and possibly print the progressbar.\u001b[0m\u001b[0;34m\u001b[0m\u001b[0;34m\u001b[0m\u001b[0;34m\u001b[0m\u001b[0m\n",
      "\u001b[0;32m~/Code/gedi_biomass_mapping/env/lib/python3.9/concurrent/futures/_base.py\u001b[0m in \u001b[0;36mas_completed\u001b[0;34m(fs, timeout)\u001b[0m\n\u001b[1;32m    222\u001b[0m     \u001b[0mfs\u001b[0m \u001b[0;34m=\u001b[0m \u001b[0mset\u001b[0m\u001b[0;34m(\u001b[0m\u001b[0mfs\u001b[0m\u001b[0;34m)\u001b[0m\u001b[0;34m\u001b[0m\u001b[0;34m\u001b[0m\u001b[0m\n\u001b[1;32m    223\u001b[0m     \u001b[0mtotal_futures\u001b[0m \u001b[0;34m=\u001b[0m \u001b[0mlen\u001b[0m\u001b[0;34m(\u001b[0m\u001b[0mfs\u001b[0m\u001b[0;34m)\u001b[0m\u001b[0;34m\u001b[0m\u001b[0;34m\u001b[0m\u001b[0m\n\u001b[0;32m--> 224\u001b[0;31m     \u001b[0;32mwith\u001b[0m \u001b[0m_AcquireFutures\u001b[0m\u001b[0;34m(\u001b[0m\u001b[0mfs\u001b[0m\u001b[0;34m)\u001b[0m\u001b[0;34m:\u001b[0m\u001b[0;34m\u001b[0m\u001b[0;34m\u001b[0m\u001b[0m\n\u001b[0m\u001b[1;32m    225\u001b[0m         finished = set(\n\u001b[1;32m    226\u001b[0m                 \u001b[0mf\u001b[0m \u001b[0;32mfor\u001b[0m \u001b[0mf\u001b[0m \u001b[0;32min\u001b[0m \u001b[0mfs\u001b[0m\u001b[0;34m\u001b[0m\u001b[0;34m\u001b[0m\u001b[0m\n",
      "\u001b[0;32m~/Code/gedi_biomass_mapping/env/lib/python3.9/concurrent/futures/_base.py\u001b[0m in \u001b[0;36m__enter__\u001b[0;34m(self)\u001b[0m\n\u001b[1;32m    149\u001b[0m     \u001b[0;32mdef\u001b[0m \u001b[0m__enter__\u001b[0m\u001b[0;34m(\u001b[0m\u001b[0mself\u001b[0m\u001b[0;34m)\u001b[0m\u001b[0;34m:\u001b[0m\u001b[0;34m\u001b[0m\u001b[0;34m\u001b[0m\u001b[0m\n\u001b[1;32m    150\u001b[0m         \u001b[0;32mfor\u001b[0m \u001b[0mfuture\u001b[0m \u001b[0;32min\u001b[0m \u001b[0mself\u001b[0m\u001b[0;34m.\u001b[0m\u001b[0mfutures\u001b[0m\u001b[0;34m:\u001b[0m\u001b[0;34m\u001b[0m\u001b[0;34m\u001b[0m\u001b[0m\n\u001b[0;32m--> 151\u001b[0;31m             \u001b[0mfuture\u001b[0m\u001b[0;34m.\u001b[0m\u001b[0m_condition\u001b[0m\u001b[0;34m.\u001b[0m\u001b[0macquire\u001b[0m\u001b[0;34m(\u001b[0m\u001b[0;34m)\u001b[0m\u001b[0;34m\u001b[0m\u001b[0;34m\u001b[0m\u001b[0m\n\u001b[0m\u001b[1;32m    152\u001b[0m \u001b[0;34m\u001b[0m\u001b[0m\n\u001b[1;32m    153\u001b[0m     \u001b[0;32mdef\u001b[0m \u001b[0m__exit__\u001b[0m\u001b[0;34m(\u001b[0m\u001b[0mself\u001b[0m\u001b[0;34m,\u001b[0m \u001b[0;34m*\u001b[0m\u001b[0margs\u001b[0m\u001b[0;34m)\u001b[0m\u001b[0;34m:\u001b[0m\u001b[0;34m\u001b[0m\u001b[0;34m\u001b[0m\u001b[0m\n",
      "\u001b[0;31mAttributeError\u001b[0m: 'bool' object has no attribute '_condition'"
     ]
    }
   ],
   "source": [
    "download_gedi_order(52374, 83, max_threads=10, save_dir=save_dir)"
   ]
  },
  {
   "cell_type": "markdown",
   "id": "e8471cec-00b5-489a-b22f-1103b7d97118",
   "metadata": {},
   "source": [
    "### Processing script"
   ]
  },
  {
   "cell_type": "code",
   "execution_count": 7,
   "id": "6047b466-3204-4b88-8f32-a4c85c6f8cad",
   "metadata": {
    "execution": {
     "iopub.execute_input": "2021-05-31T20:52:50.929559Z",
     "iopub.status.busy": "2021-05-31T20:52:50.929236Z",
     "iopub.status.idle": "2021-05-31T20:52:51.272221Z",
     "shell.execute_reply": "2021-05-31T20:52:51.271321Z",
     "shell.execute_reply.started": "2021-05-31T20:52:50.929528Z"
    },
    "tags": []
   },
   "outputs": [],
   "source": [
    "from src.data.gedi_processing_pipeline import process_gedi_l2a_zip, _extract_granule_data, logger\n",
    "from tqdm.autonotebook import tqdm\n",
    "save_dir = GEDI_L2A_PATH/ \"v002\" / \"amazon_basin\"\n",
    "order_folder = save_dir / \"download_52374\""
   ]
  },
  {
   "cell_type": "code",
   "execution_count": 8,
   "id": "50eb4c45-a65d-4b47-bc4c-f9cfc4adbf48",
   "metadata": {
    "execution": {
     "iopub.execute_input": "2021-05-31T20:52:52.366416Z",
     "iopub.status.busy": "2021-05-31T20:52:52.366080Z",
     "iopub.status.idle": "2021-05-31T20:52:52.411502Z",
     "shell.execute_reply": "2021-05-31T20:52:52.408182Z",
     "shell.execute_reply.started": "2021-05-31T20:52:52.366365Z"
    },
    "tags": []
   },
   "outputs": [],
   "source": [
    "zip_files = list(sorted(order_folder.glob(\"*.zip?*\"), \n",
    "                        key=lambda path: int(path.name.split(\"?\")[-1])))\n",
    "#zip_files"
   ]
  },
  {
   "cell_type": "code",
   "execution_count": null,
   "id": "d09773ca-b70f-46b4-aabc-cc8008d96339",
   "metadata": {
    "execution": {
     "iopub.execute_input": "2021-05-31T20:52:53.205628Z",
     "iopub.status.busy": "2021-05-31T20:52:53.205252Z"
    },
    "tags": []
   },
   "outputs": [
    {
     "data": {
      "application/vnd.jupyter.widget-view+json": {
       "model_id": "be0bfd2d95a84a2ca929d1ba960dcf79",
       "version_major": 2,
       "version_minor": 0
      },
      "text/plain": [
       "  0%|          | 0/83 [00:00<?, ?it/s]"
      ]
     },
     "metadata": {},
     "output_type": "display_data"
    },
    {
     "name": "stdout",
     "output_type": "stream",
     "text": [
      "2021-05-31 21:52:53,273 DEBUG: Processing order zip 52374-1 [in process_gedi_l2a_zip at /home/users/svm/Code/gedi_biomass_mapping/src/data/gedi_processing_pipeline.py:34]\n"
     ]
    },
    {
     "data": {
      "application/vnd.jupyter.widget-view+json": {
       "model_id": "",
       "version_major": 2,
       "version_minor": 0
      },
      "text/plain": [
       "  0%|          | 0/7 [00:00<?, ?it/s]"
      ]
     },
     "metadata": {},
     "output_type": "display_data"
    },
    {
     "name": "stdout",
     "output_type": "stream",
     "text": [
      "Temporary dir: /gws/nopw/j04/forecol/data/GEDI/level2A/v002/amazon_basin/download_52374/unzip52374-1/wch4_w8j\n",
      "Extracted file: /gws/nopw/j04/forecol/data/GEDI/level2A/v002/amazon_basin/download_52374/unzip52374-1/wch4_w8j/README exists: True\n",
      "Moving file to /gws/nopw/j04/forecol/data/GEDI/level2A/v002/amazon_basin/download_52374/unzip52374-1/README\n",
      "Temporary dir: /gws/nopw/j04/forecol/data/GEDI/level2A/v002/amazon_basin/download_52374/unzip52374-1/notbndeo\n",
      "Extracted file: /gws/nopw/j04/forecol/data/GEDI/level2A/v002/amazon_basin/download_52374/unzip52374-1/notbndeo/2432361744/processed_GEDI02_A_2019112075017_O02026_01_T00059_02_003_01_V002.h5 exists: True\n",
      "Moving file to /gws/nopw/j04/forecol/data/GEDI/level2A/v002/amazon_basin/download_52374/unzip52374-1/2432361744/processed_GEDI02_A_2019112075017_O02026_01_T00059_02_003_01_V002.h5\n",
      "Temporary dir: /gws/nopw/j04/forecol/data/GEDI/level2A/v002/amazon_basin/download_52374/unzip52374-1/h99tm2fx\n",
      "Extracted file: /gws/nopw/j04/forecol/data/GEDI/level2A/v002/amazon_basin/download_52374/unzip52374-1/h99tm2fx/2432365567/processed_GEDI02_A_2019108093620_O01965_01_T05338_02_003_01_V002.h5 exists: True\n",
      "Moving file to /gws/nopw/j04/forecol/data/GEDI/level2A/v002/amazon_basin/download_52374/unzip52374-1/2432365567/processed_GEDI02_A_2019108093620_O01965_01_T05338_02_003_01_V002.h5\n",
      "Temporary dir: /gws/nopw/j04/forecol/data/GEDI/level2A/v002/amazon_basin/download_52374/unzip52374-1/nlin0hum\n",
      "Extracted file: /gws/nopw/j04/forecol/data/GEDI/level2A/v002/amazon_basin/download_52374/unzip52374-1/nlin0hum/2432365568/processed_GEDI02_A_2019110215109_O02004_04_T03189_02_003_01_V002.h5 exists: True\n",
      "Moving file to /gws/nopw/j04/forecol/data/GEDI/level2A/v002/amazon_basin/download_52374/unzip52374-1/2432365568/processed_GEDI02_A_2019110215109_O02004_04_T03189_02_003_01_V002.h5\n",
      "Temporary dir: /gws/nopw/j04/forecol/data/GEDI/level2A/v002/amazon_basin/download_52374/unzip52374-1/rr53_5mj\n",
      "Extracted file: /gws/nopw/j04/forecol/data/GEDI/level2A/v002/amazon_basin/download_52374/unzip52374-1/rr53_5mj/2432366773/processed_GEDI02_A_2019111210128_O02019_04_T04474_02_003_01_V002.h5 exists: True\n",
      "Moving file to /gws/nopw/j04/forecol/data/GEDI/level2A/v002/amazon_basin/download_52374/unzip52374-1/2432366773/processed_GEDI02_A_2019111210128_O02019_04_T04474_02_003_01_V002.h5\n",
      "Temporary dir: /gws/nopw/j04/forecol/data/GEDI/level2A/v002/amazon_basin/download_52374/unzip52374-1/xcznkvoy\n",
      "Extracted file: /gws/nopw/j04/forecol/data/GEDI/level2A/v002/amazon_basin/download_52374/unzip52374-1/xcznkvoy/2432369840/processed_GEDI02_A_2019110092939_O01996_01_T03334_02_003_01_V002.h5 exists: True\n",
      "Moving file to /gws/nopw/j04/forecol/data/GEDI/level2A/v002/amazon_basin/download_52374/unzip52374-1/2432369840/processed_GEDI02_A_2019110092939_O01996_01_T03334_02_003_01_V002.h5\n",
      "Temporary dir: /gws/nopw/j04/forecol/data/GEDI/level2A/v002/amazon_basin/download_52374/unzip52374-1/zcfjfynz\n",
      "Extracted file: /gws/nopw/j04/forecol/data/GEDI/level2A/v002/amazon_basin/download_52374/unzip52374-1/zcfjfynz/2432370230/processed_GEDI02_A_2019111083958_O02011_01_T04619_02_003_01_V002.h5 exists: True\n",
      "Moving file to /gws/nopw/j04/forecol/data/GEDI/level2A/v002/amazon_basin/download_52374/unzip52374-1/2432370230/processed_GEDI02_A_2019111083958_O02011_01_T04619_02_003_01_V002.h5\n",
      "2021-05-31 21:53:30,939 DEBUG: Found granules: [PosixPath('/gws/nopw/j04/forecol/data/GEDI/level2A/v002/amazon_basin/download_52374/unzip52374-1/2432361744/processed_GEDI02_A_2019112075017_O02026_01_T00059_02_003_01_V002.h5'), PosixPath('/gws/nopw/j04/forecol/data/GEDI/level2A/v002/amazon_basin/download_52374/unzip52374-1/2432365567/processed_GEDI02_A_2019108093620_O01965_01_T05338_02_003_01_V002.h5'), PosixPath('/gws/nopw/j04/forecol/data/GEDI/level2A/v002/amazon_basin/download_52374/unzip52374-1/2432365568/processed_GEDI02_A_2019110215109_O02004_04_T03189_02_003_01_V002.h5'), PosixPath('/gws/nopw/j04/forecol/data/GEDI/level2A/v002/amazon_basin/download_52374/unzip52374-1/2432366773/processed_GEDI02_A_2019111210128_O02019_04_T04474_02_003_01_V002.h5'), PosixPath('/gws/nopw/j04/forecol/data/GEDI/level2A/v002/amazon_basin/download_52374/unzip52374-1/2432369840/processed_GEDI02_A_2019110092939_O01996_01_T03334_02_003_01_V002.h5'), PosixPath('/gws/nopw/j04/forecol/data/GEDI/level2A/v002/amazon_basin/download_52374/unzip52374-1/2432370230/processed_GEDI02_A_2019111083958_O02011_01_T04619_02_003_01_V002.h5')] [in process_gedi_l2a_zip at /home/users/svm/Code/gedi_biomass_mapping/src/data/gedi_processing_pipeline.py:43]\n"
     ]
    },
    {
     "data": {
      "application/vnd.jupyter.widget-view+json": {
       "model_id": "dda23be1a3834f64ac459aa43cdf7072",
       "version_major": 2,
       "version_minor": 0
      },
      "text/plain": [
       "  0%|          | 0/6 [00:00<?, ?it/s]"
      ]
     },
     "metadata": {},
     "output_type": "display_data"
    },
    {
     "name": "stdout",
     "output_type": "stream",
     "text": [
      "2021-05-31 21:53:31,090 DEBUG: Processing granule /gws/nopw/j04/forecol/data/GEDI/level2A/v002/amazon_basin/download_52374/unzip52374-1/2432361744/processed_GEDI02_A_2019112075017_O02026_01_T00059_02_003_01_V002.h5 [in _extract_granule_data at /home/users/svm/Code/gedi_biomass_mapping/src/data/gedi_processing_pipeline.py:24]\n",
      "2021-05-31 21:53:36,374 DEBUG: Saving granule /gws/nopw/j04/forecol/data/GEDI/level2A/v002/amazon_basin/download_52374/unzip52374-1/2432361744/processed_GEDI02_A_2019112075017_O02026_01_T00059_02_003_01_V002.h5 [in process_gedi_l2a_zip at /home/users/svm/Code/gedi_biomass_mapping/src/data/gedi_processing_pipeline.py:53]\n"
     ]
    },
    {
     "name": "stderr",
     "output_type": "stream",
     "text": [
      "/home/users/svm/Code/gedi_biomass_mapping/src/data/gedi_processing_pipeline.py:55: UserWarning: this is an initial implementation of Parquet/Feather file support and associated metadata.  This is tracking version 0.1.0 of the metadata specification at https://github.com/geopandas/geo-arrow-spec\n",
      "\n",
      "This metadata specification does not yet make stability promises.  We do not yet recommend using this in a production setting unless you are able to rewrite your Parquet/Feather files.\n",
      "\n",
      "To further ignore this warning, you can do: \n",
      "import warnings; warnings.filterwarnings('ignore', message='.*initial implementation of Parquet.*')\n",
      "  granule_data.to_feather(save_name)\n"
     ]
    },
    {
     "name": "stdout",
     "output_type": "stream",
     "text": [
      "2021-05-31 21:53:37,187 DEBUG: Processing granule /gws/nopw/j04/forecol/data/GEDI/level2A/v002/amazon_basin/download_52374/unzip52374-1/2432365567/processed_GEDI02_A_2019108093620_O01965_01_T05338_02_003_01_V002.h5 [in _extract_granule_data at /home/users/svm/Code/gedi_biomass_mapping/src/data/gedi_processing_pipeline.py:24]\n",
      "2021-05-31 21:54:31,535 DEBUG: Saving granule /gws/nopw/j04/forecol/data/GEDI/level2A/v002/amazon_basin/download_52374/unzip52374-1/2432365567/processed_GEDI02_A_2019108093620_O01965_01_T05338_02_003_01_V002.h5 [in process_gedi_l2a_zip at /home/users/svm/Code/gedi_biomass_mapping/src/data/gedi_processing_pipeline.py:53]\n",
      "2021-05-31 21:54:37,066 DEBUG: Processing granule /gws/nopw/j04/forecol/data/GEDI/level2A/v002/amazon_basin/download_52374/unzip52374-1/2432365568/processed_GEDI02_A_2019110215109_O02004_04_T03189_02_003_01_V002.h5 [in _extract_granule_data at /home/users/svm/Code/gedi_biomass_mapping/src/data/gedi_processing_pipeline.py:24]\n",
      "2021-05-31 21:55:51,751 DEBUG: Saving granule /gws/nopw/j04/forecol/data/GEDI/level2A/v002/amazon_basin/download_52374/unzip52374-1/2432365568/processed_GEDI02_A_2019110215109_O02004_04_T03189_02_003_01_V002.h5 [in process_gedi_l2a_zip at /home/users/svm/Code/gedi_biomass_mapping/src/data/gedi_processing_pipeline.py:53]\n",
      "2021-05-31 21:55:56,986 DEBUG: Processing granule /gws/nopw/j04/forecol/data/GEDI/level2A/v002/amazon_basin/download_52374/unzip52374-1/2432366773/processed_GEDI02_A_2019111210128_O02019_04_T04474_02_003_01_V002.h5 [in _extract_granule_data at /home/users/svm/Code/gedi_biomass_mapping/src/data/gedi_processing_pipeline.py:24]\n",
      "2021-05-31 21:57:51,060 DEBUG: Saving granule /gws/nopw/j04/forecol/data/GEDI/level2A/v002/amazon_basin/download_52374/unzip52374-1/2432366773/processed_GEDI02_A_2019111210128_O02019_04_T04474_02_003_01_V002.h5 [in process_gedi_l2a_zip at /home/users/svm/Code/gedi_biomass_mapping/src/data/gedi_processing_pipeline.py:53]\n",
      "2021-05-31 21:57:59,079 DEBUG: Processing granule /gws/nopw/j04/forecol/data/GEDI/level2A/v002/amazon_basin/download_52374/unzip52374-1/2432369840/processed_GEDI02_A_2019110092939_O01996_01_T03334_02_003_01_V002.h5 [in _extract_granule_data at /home/users/svm/Code/gedi_biomass_mapping/src/data/gedi_processing_pipeline.py:24]\n",
      "2021-05-31 21:59:24,540 DEBUG: Saving granule /gws/nopw/j04/forecol/data/GEDI/level2A/v002/amazon_basin/download_52374/unzip52374-1/2432369840/processed_GEDI02_A_2019110092939_O01996_01_T03334_02_003_01_V002.h5 [in process_gedi_l2a_zip at /home/users/svm/Code/gedi_biomass_mapping/src/data/gedi_processing_pipeline.py:53]\n",
      "2021-05-31 21:59:29,730 DEBUG: Processing granule /gws/nopw/j04/forecol/data/GEDI/level2A/v002/amazon_basin/download_52374/unzip52374-1/2432370230/processed_GEDI02_A_2019111083958_O02011_01_T04619_02_003_01_V002.h5 [in _extract_granule_data at /home/users/svm/Code/gedi_biomass_mapping/src/data/gedi_processing_pipeline.py:24]\n",
      "2021-05-31 22:01:21,437 DEBUG: Saving granule /gws/nopw/j04/forecol/data/GEDI/level2A/v002/amazon_basin/download_52374/unzip52374-1/2432370230/processed_GEDI02_A_2019111083958_O02011_01_T04619_02_003_01_V002.h5 [in process_gedi_l2a_zip at /home/users/svm/Code/gedi_biomass_mapping/src/data/gedi_processing_pipeline.py:53]\n",
      "2021-05-31 22:01:28,912 DEBUG: Deleting files [in process_gedi_l2a_zip at /home/users/svm/Code/gedi_biomass_mapping/src/data/gedi_processing_pipeline.py:58]\n",
      "2021-05-31 22:01:29,292 DEBUG: Processing order zip 52374-2 [in process_gedi_l2a_zip at /home/users/svm/Code/gedi_biomass_mapping/src/data/gedi_processing_pipeline.py:34]\n"
     ]
    },
    {
     "data": {
      "application/vnd.jupyter.widget-view+json": {
       "model_id": "",
       "version_major": 2,
       "version_minor": 0
      },
      "text/plain": [
       "  0%|          | 0/7 [00:00<?, ?it/s]"
      ]
     },
     "metadata": {},
     "output_type": "display_data"
    },
    {
     "name": "stdout",
     "output_type": "stream",
     "text": [
      "Temporary dir: /gws/nopw/j04/forecol/data/GEDI/level2A/v002/amazon_basin/download_52374/unzip52374-2/y8sduvtk\n",
      "Extracted file: /gws/nopw/j04/forecol/data/GEDI/level2A/v002/amazon_basin/download_52374/unzip52374-2/y8sduvtk/2432370683/processed_GEDI02_A_2019112201147_O02034_04_T01337_02_003_01_V002.h5 exists: True\n",
      "Moving file to /gws/nopw/j04/forecol/data/GEDI/level2A/v002/amazon_basin/download_52374/unzip52374-2/2432370683/processed_GEDI02_A_2019112201147_O02034_04_T01337_02_003_01_V002.h5\n",
      "Temporary dir: /gws/nopw/j04/forecol/data/GEDI/level2A/v002/amazon_basin/download_52374/unzip52374-2/zdkt9wob\n",
      "Extracted file: /gws/nopw/j04/forecol/data/GEDI/level2A/v002/amazon_basin/download_52374/unzip52374-2/zdkt9wob/2432371896/processed_GEDI02_A_2019113205447_O02050_04_T03893_02_003_01_V002.h5 exists: True\n",
      "Moving file to /gws/nopw/j04/forecol/data/GEDI/level2A/v002/amazon_basin/download_52374/unzip52374-2/2432371896/processed_GEDI02_A_2019113205447_O02050_04_T03893_02_003_01_V002.h5\n",
      "Temporary dir: /gws/nopw/j04/forecol/data/GEDI/level2A/v002/amazon_basin/download_52374/unzip52374-2/vcdf0c1r\n",
      "Extracted file: /gws/nopw/j04/forecol/data/GEDI/level2A/v002/amazon_basin/download_52374/unzip52374-2/vcdf0c1r/2432372456/processed_GEDI02_A_2019113083317_O02042_01_T04038_02_003_01_V002.h5 exists: True\n",
      "Moving file to /gws/nopw/j04/forecol/data/GEDI/level2A/v002/amazon_basin/download_52374/unzip52374-2/2432372456/processed_GEDI02_A_2019113083317_O02042_01_T04038_02_003_01_V002.h5\n",
      "Temporary dir: /gws/nopw/j04/forecol/data/GEDI/level2A/v002/amazon_basin/download_52374/unzip52374-2/dty1y1az\n",
      "Extracted file: /gws/nopw/j04/forecol/data/GEDI/level2A/v002/amazon_basin/download_52374/unzip52374-2/dty1y1az/2432373973/processed_GEDI02_A_2019114074336_O02057_01_T02477_02_003_01_V002.h5 exists: True\n",
      "Moving file to /gws/nopw/j04/forecol/data/GEDI/level2A/v002/amazon_basin/download_52374/unzip52374-2/2432373973/processed_GEDI02_A_2019114074336_O02057_01_T02477_02_003_01_V002.h5\n",
      "Temporary dir: /gws/nopw/j04/forecol/data/GEDI/level2A/v002/amazon_basin/download_52374/unzip52374-2/waqekh3x\n",
      "Extracted file: /gws/nopw/j04/forecol/data/GEDI/level2A/v002/amazon_basin/download_52374/unzip52374-2/waqekh3x/2432376033/processed_GEDI02_A_2019114200506_O02065_04_T05178_02_003_01_V002.h5 exists: True\n",
      "Moving file to /gws/nopw/j04/forecol/data/GEDI/level2A/v002/amazon_basin/download_52374/unzip52374-2/2432376033/processed_GEDI02_A_2019114200506_O02065_04_T05178_02_003_01_V002.h5\n",
      "Temporary dir: /gws/nopw/j04/forecol/data/GEDI/level2A/v002/amazon_basin/download_52374/unzip52374-2/v62fxf4a\n",
      "Extracted file: /gws/nopw/j04/forecol/data/GEDI/level2A/v002/amazon_basin/download_52374/unzip52374-2/v62fxf4a/2432377336/processed_GEDI02_A_2019115065354_O02072_01_T00763_02_003_01_V002.h5 exists: True\n",
      "Moving file to /gws/nopw/j04/forecol/data/GEDI/level2A/v002/amazon_basin/download_52374/unzip52374-2/2432377336/processed_GEDI02_A_2019115065354_O02072_01_T00763_02_003_01_V002.h5\n",
      "Temporary dir: /gws/nopw/j04/forecol/data/GEDI/level2A/v002/amazon_basin/download_52374/unzip52374-2/s7twuc_1\n",
      "Extracted file: /gws/nopw/j04/forecol/data/GEDI/level2A/v002/amazon_basin/download_52374/unzip52374-2/s7twuc_1/2432377701/processed_GEDI02_A_2019115191524_O02080_04_T00618_02_003_01_V002.h5 exists: True\n",
      "Moving file to /gws/nopw/j04/forecol/data/GEDI/level2A/v002/amazon_basin/download_52374/unzip52374-2/2432377701/processed_GEDI02_A_2019115191524_O02080_04_T00618_02_003_01_V002.h5\n",
      "2021-05-31 22:02:16,113 DEBUG: Found granules: [PosixPath('/gws/nopw/j04/forecol/data/GEDI/level2A/v002/amazon_basin/download_52374/unzip52374-2/2432370683/processed_GEDI02_A_2019112201147_O02034_04_T01337_02_003_01_V002.h5'), PosixPath('/gws/nopw/j04/forecol/data/GEDI/level2A/v002/amazon_basin/download_52374/unzip52374-2/2432371896/processed_GEDI02_A_2019113205447_O02050_04_T03893_02_003_01_V002.h5'), PosixPath('/gws/nopw/j04/forecol/data/GEDI/level2A/v002/amazon_basin/download_52374/unzip52374-2/2432372456/processed_GEDI02_A_2019113083317_O02042_01_T04038_02_003_01_V002.h5'), PosixPath('/gws/nopw/j04/forecol/data/GEDI/level2A/v002/amazon_basin/download_52374/unzip52374-2/2432373973/processed_GEDI02_A_2019114074336_O02057_01_T02477_02_003_01_V002.h5'), PosixPath('/gws/nopw/j04/forecol/data/GEDI/level2A/v002/amazon_basin/download_52374/unzip52374-2/2432376033/processed_GEDI02_A_2019114200506_O02065_04_T05178_02_003_01_V002.h5'), PosixPath('/gws/nopw/j04/forecol/data/GEDI/level2A/v002/amazon_basin/download_52374/unzip52374-2/2432377336/processed_GEDI02_A_2019115065354_O02072_01_T00763_02_003_01_V002.h5'), PosixPath('/gws/nopw/j04/forecol/data/GEDI/level2A/v002/amazon_basin/download_52374/unzip52374-2/2432377701/processed_GEDI02_A_2019115191524_O02080_04_T00618_02_003_01_V002.h5')] [in process_gedi_l2a_zip at /home/users/svm/Code/gedi_biomass_mapping/src/data/gedi_processing_pipeline.py:43]\n"
     ]
    },
    {
     "data": {
      "application/vnd.jupyter.widget-view+json": {
       "model_id": "a500a352371f47aea15cfc48847673f2",
       "version_major": 2,
       "version_minor": 0
      },
      "text/plain": [
       "  0%|          | 0/7 [00:00<?, ?it/s]"
      ]
     },
     "metadata": {},
     "output_type": "display_data"
    },
    {
     "name": "stdout",
     "output_type": "stream",
     "text": [
      "2021-05-31 22:02:16,220 DEBUG: Processing granule /gws/nopw/j04/forecol/data/GEDI/level2A/v002/amazon_basin/download_52374/unzip52374-2/2432370683/processed_GEDI02_A_2019112201147_O02034_04_T01337_02_003_01_V002.h5 [in _extract_granule_data at /home/users/svm/Code/gedi_biomass_mapping/src/data/gedi_processing_pipeline.py:24]\n",
      "2021-05-31 22:02:27,421 DEBUG: Saving granule /gws/nopw/j04/forecol/data/GEDI/level2A/v002/amazon_basin/download_52374/unzip52374-2/2432370683/processed_GEDI02_A_2019112201147_O02034_04_T01337_02_003_01_V002.h5 [in process_gedi_l2a_zip at /home/users/svm/Code/gedi_biomass_mapping/src/data/gedi_processing_pipeline.py:53]\n",
      "2021-05-31 22:02:29,061 DEBUG: Processing granule /gws/nopw/j04/forecol/data/GEDI/level2A/v002/amazon_basin/download_52374/unzip52374-2/2432371896/processed_GEDI02_A_2019113205447_O02050_04_T03893_02_003_01_V002.h5 [in _extract_granule_data at /home/users/svm/Code/gedi_biomass_mapping/src/data/gedi_processing_pipeline.py:24]\n",
      "2021-05-31 22:02:48,699 DEBUG: Saving granule /gws/nopw/j04/forecol/data/GEDI/level2A/v002/amazon_basin/download_52374/unzip52374-2/2432371896/processed_GEDI02_A_2019113205447_O02050_04_T03893_02_003_01_V002.h5 [in process_gedi_l2a_zip at /home/users/svm/Code/gedi_biomass_mapping/src/data/gedi_processing_pipeline.py:53]\n",
      "2021-05-31 22:02:50,190 DEBUG: Processing granule /gws/nopw/j04/forecol/data/GEDI/level2A/v002/amazon_basin/download_52374/unzip52374-2/2432372456/processed_GEDI02_A_2019113083317_O02042_01_T04038_02_003_01_V002.h5 [in _extract_granule_data at /home/users/svm/Code/gedi_biomass_mapping/src/data/gedi_processing_pipeline.py:24]\n",
      "2021-05-31 22:03:16,308 DEBUG: Saving granule /gws/nopw/j04/forecol/data/GEDI/level2A/v002/amazon_basin/download_52374/unzip52374-2/2432372456/processed_GEDI02_A_2019113083317_O02042_01_T04038_02_003_01_V002.h5 [in process_gedi_l2a_zip at /home/users/svm/Code/gedi_biomass_mapping/src/data/gedi_processing_pipeline.py:53]\n",
      "2021-05-31 22:03:18,224 DEBUG: Processing granule /gws/nopw/j04/forecol/data/GEDI/level2A/v002/amazon_basin/download_52374/unzip52374-2/2432373973/processed_GEDI02_A_2019114074336_O02057_01_T02477_02_003_01_V002.h5 [in _extract_granule_data at /home/users/svm/Code/gedi_biomass_mapping/src/data/gedi_processing_pipeline.py:24]\n",
      "2021-05-31 22:05:08,638 DEBUG: Saving granule /gws/nopw/j04/forecol/data/GEDI/level2A/v002/amazon_basin/download_52374/unzip52374-2/2432373973/processed_GEDI02_A_2019114074336_O02057_01_T02477_02_003_01_V002.h5 [in process_gedi_l2a_zip at /home/users/svm/Code/gedi_biomass_mapping/src/data/gedi_processing_pipeline.py:53]\n",
      "2021-05-31 22:05:16,795 DEBUG: Processing granule /gws/nopw/j04/forecol/data/GEDI/level2A/v002/amazon_basin/download_52374/unzip52374-2/2432376033/processed_GEDI02_A_2019114200506_O02065_04_T05178_02_003_01_V002.h5 [in _extract_granule_data at /home/users/svm/Code/gedi_biomass_mapping/src/data/gedi_processing_pipeline.py:24]\n",
      "2021-05-31 22:07:09,114 DEBUG: Saving granule /gws/nopw/j04/forecol/data/GEDI/level2A/v002/amazon_basin/download_52374/unzip52374-2/2432376033/processed_GEDI02_A_2019114200506_O02065_04_T05178_02_003_01_V002.h5 [in process_gedi_l2a_zip at /home/users/svm/Code/gedi_biomass_mapping/src/data/gedi_processing_pipeline.py:53]\n",
      "2021-05-31 22:07:18,889 DEBUG: Processing granule /gws/nopw/j04/forecol/data/GEDI/level2A/v002/amazon_basin/download_52374/unzip52374-2/2432377336/processed_GEDI02_A_2019115065354_O02072_01_T00763_02_003_01_V002.h5 [in _extract_granule_data at /home/users/svm/Code/gedi_biomass_mapping/src/data/gedi_processing_pipeline.py:24]\n",
      "2021-05-31 22:08:25,011 DEBUG: Saving granule /gws/nopw/j04/forecol/data/GEDI/level2A/v002/amazon_basin/download_52374/unzip52374-2/2432377336/processed_GEDI02_A_2019115065354_O02072_01_T00763_02_003_01_V002.h5 [in process_gedi_l2a_zip at /home/users/svm/Code/gedi_biomass_mapping/src/data/gedi_processing_pipeline.py:53]\n",
      "2021-05-31 22:08:30,760 DEBUG: Processing granule /gws/nopw/j04/forecol/data/GEDI/level2A/v002/amazon_basin/download_52374/unzip52374-2/2432377701/processed_GEDI02_A_2019115191524_O02080_04_T00618_02_003_01_V002.h5 [in _extract_granule_data at /home/users/svm/Code/gedi_biomass_mapping/src/data/gedi_processing_pipeline.py:24]\n",
      "2021-05-31 22:09:41,105 DEBUG: Saving granule /gws/nopw/j04/forecol/data/GEDI/level2A/v002/amazon_basin/download_52374/unzip52374-2/2432377701/processed_GEDI02_A_2019115191524_O02080_04_T00618_02_003_01_V002.h5 [in process_gedi_l2a_zip at /home/users/svm/Code/gedi_biomass_mapping/src/data/gedi_processing_pipeline.py:53]\n",
      "2021-05-31 22:09:45,389 DEBUG: Deleting files [in process_gedi_l2a_zip at /home/users/svm/Code/gedi_biomass_mapping/src/data/gedi_processing_pipeline.py:58]\n",
      "2021-05-31 22:09:45,588 DEBUG: Processing order zip 52374-3 [in process_gedi_l2a_zip at /home/users/svm/Code/gedi_biomass_mapping/src/data/gedi_processing_pipeline.py:34]\n"
     ]
    },
    {
     "data": {
      "application/vnd.jupyter.widget-view+json": {
       "model_id": "",
       "version_major": 2,
       "version_minor": 0
      },
      "text/plain": [
       "  0%|          | 0/7 [00:00<?, ?it/s]"
      ]
     },
     "metadata": {},
     "output_type": "display_data"
    },
    {
     "name": "stdout",
     "output_type": "stream",
     "text": [
      "Temporary dir: /gws/nopw/j04/forecol/data/GEDI/level2A/v002/amazon_basin/download_52374/unzip52374-3/hgvloexr\n",
      "Extracted file: /gws/nopw/j04/forecol/data/GEDI/level2A/v002/amazon_basin/download_52374/unzip52374-3/hgvloexr/2432382366/processed_GEDI02_A_2019117064711_O02103_01_T01758_02_003_01_V002.h5 exists: True\n",
      "Moving file to /gws/nopw/j04/forecol/data/GEDI/level2A/v002/amazon_basin/download_52374/unzip52374-3/2432382366/processed_GEDI02_A_2019117064711_O02103_01_T01758_02_003_01_V002.h5\n",
      "Temporary dir: /gws/nopw/j04/forecol/data/GEDI/level2A/v002/amazon_basin/download_52374/unzip52374-3/9w5m2xhf\n",
      "Extracted file: /gws/nopw/j04/forecol/data/GEDI/level2A/v002/amazon_basin/download_52374/unzip52374-3/9w5m2xhf/2432382989/processed_GEDI02_A_2019117190841_O02111_04_T04459_02_003_01_V002.h5 exists: True\n",
      "Moving file to /gws/nopw/j04/forecol/data/GEDI/level2A/v002/amazon_basin/download_52374/unzip52374-3/2432382989/processed_GEDI02_A_2019117190841_O02111_04_T04459_02_003_01_V002.h5\n",
      "Temporary dir: /gws/nopw/j04/forecol/data/GEDI/level2A/v002/amazon_basin/download_52374/unzip52374-3/252x606t\n",
      "Extracted file: /gws/nopw/j04/forecol/data/GEDI/level2A/v002/amazon_basin/download_52374/unzip52374-3/252x606t/2432384482/processed_GEDI02_A_2019118055729_O02118_01_T00044_02_003_01_V002.h5 exists: True\n",
      "Moving file to /gws/nopw/j04/forecol/data/GEDI/level2A/v002/amazon_basin/download_52374/unzip52374-3/2432384482/processed_GEDI02_A_2019118055729_O02118_01_T00044_02_003_01_V002.h5\n",
      "Temporary dir: /gws/nopw/j04/forecol/data/GEDI/level2A/v002/amazon_basin/download_52374/unzip52374-3/qo58e6v6\n",
      "Extracted file: /gws/nopw/j04/forecol/data/GEDI/level2A/v002/amazon_basin/download_52374/unzip52374-3/qo58e6v6/2432385542/processed_GEDI02_A_2019118181859_O02126_04_T01322_02_003_01_V002.h5 exists: True\n",
      "Moving file to /gws/nopw/j04/forecol/data/GEDI/level2A/v002/amazon_basin/download_52374/unzip52374-3/2432385542/processed_GEDI02_A_2019118181859_O02126_04_T01322_02_003_01_V002.h5\n",
      "Temporary dir: /gws/nopw/j04/forecol/data/GEDI/level2A/v002/amazon_basin/download_52374/unzip52374-3/8yso8_re\n",
      "Extracted file: /gws/nopw/j04/forecol/data/GEDI/level2A/v002/amazon_basin/download_52374/unzip52374-3/8yso8_re/2432386358/processed_GEDI02_A_2019119050747_O02133_01_T04022_02_003_01_V002.h5 exists: True\n",
      "Moving file to /gws/nopw/j04/forecol/data/GEDI/level2A/v002/amazon_basin/download_52374/unzip52374-3/2432386358/processed_GEDI02_A_2019119050747_O02133_01_T04022_02_003_01_V002.h5\n",
      "Temporary dir: /gws/nopw/j04/forecol/data/GEDI/level2A/v002/amazon_basin/download_52374/unzip52374-3/_3yomq_b\n",
      "Extracted file: /gws/nopw/j04/forecol/data/GEDI/level2A/v002/amazon_basin/download_52374/unzip52374-3/_3yomq_b/2432386906/processed_GEDI02_A_2019119172916_O02141_04_T02607_02_003_01_V002.h5 exists: True\n",
      "Moving file to /gws/nopw/j04/forecol/data/GEDI/level2A/v002/amazon_basin/download_52374/unzip52374-3/2432386906/processed_GEDI02_A_2019119172916_O02141_04_T02607_02_003_01_V002.h5\n",
      "Temporary dir: /gws/nopw/j04/forecol/data/GEDI/level2A/v002/amazon_basin/download_52374/unzip52374-3/lzx63s91\n",
      "Extracted file: /gws/nopw/j04/forecol/data/GEDI/level2A/v002/amazon_basin/download_52374/unzip52374-3/lzx63s91/2432388421/processed_GEDI02_A_2019120055046_O02149_01_T02462_02_003_01_V002.h5 exists: True\n",
      "Moving file to /gws/nopw/j04/forecol/data/GEDI/level2A/v002/amazon_basin/download_52374/unzip52374-3/2432388421/processed_GEDI02_A_2019120055046_O02149_01_T02462_02_003_01_V002.h5\n",
      "2021-05-31 22:10:35,753 DEBUG: Found granules: [PosixPath('/gws/nopw/j04/forecol/data/GEDI/level2A/v002/amazon_basin/download_52374/unzip52374-3/2432382366/processed_GEDI02_A_2019117064711_O02103_01_T01758_02_003_01_V002.h5'), PosixPath('/gws/nopw/j04/forecol/data/GEDI/level2A/v002/amazon_basin/download_52374/unzip52374-3/2432382989/processed_GEDI02_A_2019117190841_O02111_04_T04459_02_003_01_V002.h5'), PosixPath('/gws/nopw/j04/forecol/data/GEDI/level2A/v002/amazon_basin/download_52374/unzip52374-3/2432384482/processed_GEDI02_A_2019118055729_O02118_01_T00044_02_003_01_V002.h5'), PosixPath('/gws/nopw/j04/forecol/data/GEDI/level2A/v002/amazon_basin/download_52374/unzip52374-3/2432385542/processed_GEDI02_A_2019118181859_O02126_04_T01322_02_003_01_V002.h5'), PosixPath('/gws/nopw/j04/forecol/data/GEDI/level2A/v002/amazon_basin/download_52374/unzip52374-3/2432386358/processed_GEDI02_A_2019119050747_O02133_01_T04022_02_003_01_V002.h5'), PosixPath('/gws/nopw/j04/forecol/data/GEDI/level2A/v002/amazon_basin/download_52374/unzip52374-3/2432386906/processed_GEDI02_A_2019119172916_O02141_04_T02607_02_003_01_V002.h5'), PosixPath('/gws/nopw/j04/forecol/data/GEDI/level2A/v002/amazon_basin/download_52374/unzip52374-3/2432388421/processed_GEDI02_A_2019120055046_O02149_01_T02462_02_003_01_V002.h5')] [in process_gedi_l2a_zip at /home/users/svm/Code/gedi_biomass_mapping/src/data/gedi_processing_pipeline.py:43]\n"
     ]
    },
    {
     "data": {
      "application/vnd.jupyter.widget-view+json": {
       "model_id": "8caee7d6eccf4904b64ca6f4c02ec6c9",
       "version_major": 2,
       "version_minor": 0
      },
      "text/plain": [
       "  0%|          | 0/7 [00:00<?, ?it/s]"
      ]
     },
     "metadata": {},
     "output_type": "display_data"
    },
    {
     "name": "stdout",
     "output_type": "stream",
     "text": [
      "2021-05-31 22:10:35,891 DEBUG: Processing granule /gws/nopw/j04/forecol/data/GEDI/level2A/v002/amazon_basin/download_52374/unzip52374-3/2432382366/processed_GEDI02_A_2019117064711_O02103_01_T01758_02_003_01_V002.h5 [in _extract_granule_data at /home/users/svm/Code/gedi_biomass_mapping/src/data/gedi_processing_pipeline.py:24]\n",
      "2021-05-31 22:11:56,930 DEBUG: Saving granule /gws/nopw/j04/forecol/data/GEDI/level2A/v002/amazon_basin/download_52374/unzip52374-3/2432382366/processed_GEDI02_A_2019117064711_O02103_01_T01758_02_003_01_V002.h5 [in process_gedi_l2a_zip at /home/users/svm/Code/gedi_biomass_mapping/src/data/gedi_processing_pipeline.py:53]\n",
      "2021-05-31 22:12:02,881 DEBUG: Processing granule /gws/nopw/j04/forecol/data/GEDI/level2A/v002/amazon_basin/download_52374/unzip52374-3/2432382989/processed_GEDI02_A_2019117190841_O02111_04_T04459_02_003_01_V002.h5 [in _extract_granule_data at /home/users/svm/Code/gedi_biomass_mapping/src/data/gedi_processing_pipeline.py:24]\n",
      "2021-05-31 22:13:12,541 DEBUG: Saving granule /gws/nopw/j04/forecol/data/GEDI/level2A/v002/amazon_basin/download_52374/unzip52374-3/2432382989/processed_GEDI02_A_2019117190841_O02111_04_T04459_02_003_01_V002.h5 [in process_gedi_l2a_zip at /home/users/svm/Code/gedi_biomass_mapping/src/data/gedi_processing_pipeline.py:53]\n",
      "2021-05-31 22:13:16,560 DEBUG: Processing granule /gws/nopw/j04/forecol/data/GEDI/level2A/v002/amazon_basin/download_52374/unzip52374-3/2432384482/processed_GEDI02_A_2019118055729_O02118_01_T00044_02_003_01_V002.h5 [in _extract_granule_data at /home/users/svm/Code/gedi_biomass_mapping/src/data/gedi_processing_pipeline.py:24]\n",
      "2021-05-31 22:15:16,101 DEBUG: Saving granule /gws/nopw/j04/forecol/data/GEDI/level2A/v002/amazon_basin/download_52374/unzip52374-3/2432384482/processed_GEDI02_A_2019118055729_O02118_01_T00044_02_003_01_V002.h5 [in process_gedi_l2a_zip at /home/users/svm/Code/gedi_biomass_mapping/src/data/gedi_processing_pipeline.py:53]\n",
      "2021-05-31 22:15:23,314 DEBUG: Processing granule /gws/nopw/j04/forecol/data/GEDI/level2A/v002/amazon_basin/download_52374/unzip52374-3/2432385542/processed_GEDI02_A_2019118181859_O02126_04_T01322_02_003_01_V002.h5 [in _extract_granule_data at /home/users/svm/Code/gedi_biomass_mapping/src/data/gedi_processing_pipeline.py:24]\n",
      "2021-05-31 22:17:17,965 DEBUG: Saving granule /gws/nopw/j04/forecol/data/GEDI/level2A/v002/amazon_basin/download_52374/unzip52374-3/2432385542/processed_GEDI02_A_2019118181859_O02126_04_T01322_02_003_01_V002.h5 [in process_gedi_l2a_zip at /home/users/svm/Code/gedi_biomass_mapping/src/data/gedi_processing_pipeline.py:53]\n",
      "2021-05-31 22:17:26,141 DEBUG: Processing granule /gws/nopw/j04/forecol/data/GEDI/level2A/v002/amazon_basin/download_52374/unzip52374-3/2432386358/processed_GEDI02_A_2019119050747_O02133_01_T04022_02_003_01_V002.h5 [in _extract_granule_data at /home/users/svm/Code/gedi_biomass_mapping/src/data/gedi_processing_pipeline.py:24]\n",
      "2021-05-31 22:17:41,236 DEBUG: Saving granule /gws/nopw/j04/forecol/data/GEDI/level2A/v002/amazon_basin/download_52374/unzip52374-3/2432386358/processed_GEDI02_A_2019119050747_O02133_01_T04022_02_003_01_V002.h5 [in process_gedi_l2a_zip at /home/users/svm/Code/gedi_biomass_mapping/src/data/gedi_processing_pipeline.py:53]\n",
      "2021-05-31 22:17:42,611 DEBUG: Processing granule /gws/nopw/j04/forecol/data/GEDI/level2A/v002/amazon_basin/download_52374/unzip52374-3/2432386906/processed_GEDI02_A_2019119172916_O02141_04_T02607_02_003_01_V002.h5 [in _extract_granule_data at /home/users/svm/Code/gedi_biomass_mapping/src/data/gedi_processing_pipeline.py:24]\n",
      "2021-05-31 22:18:02,191 DEBUG: Saving granule /gws/nopw/j04/forecol/data/GEDI/level2A/v002/amazon_basin/download_52374/unzip52374-3/2432386906/processed_GEDI02_A_2019119172916_O02141_04_T02607_02_003_01_V002.h5 [in process_gedi_l2a_zip at /home/users/svm/Code/gedi_biomass_mapping/src/data/gedi_processing_pipeline.py:53]\n",
      "2021-05-31 22:18:03,502 DEBUG: Processing granule /gws/nopw/j04/forecol/data/GEDI/level2A/v002/amazon_basin/download_52374/unzip52374-3/2432388421/processed_GEDI02_A_2019120055046_O02149_01_T02462_02_003_01_V002.h5 [in _extract_granule_data at /home/users/svm/Code/gedi_biomass_mapping/src/data/gedi_processing_pipeline.py:24]\n",
      "2021-05-31 22:18:23,522 DEBUG: Saving granule /gws/nopw/j04/forecol/data/GEDI/level2A/v002/amazon_basin/download_52374/unzip52374-3/2432388421/processed_GEDI02_A_2019120055046_O02149_01_T02462_02_003_01_V002.h5 [in process_gedi_l2a_zip at /home/users/svm/Code/gedi_biomass_mapping/src/data/gedi_processing_pipeline.py:53]\n",
      "2021-05-31 22:18:24,766 DEBUG: Deleting files [in process_gedi_l2a_zip at /home/users/svm/Code/gedi_biomass_mapping/src/data/gedi_processing_pipeline.py:58]\n",
      "2021-05-31 22:18:24,825 DEBUG: Processing order zip 52374-4 [in process_gedi_l2a_zip at /home/users/svm/Code/gedi_biomass_mapping/src/data/gedi_processing_pipeline.py:34]\n"
     ]
    },
    {
     "data": {
      "application/vnd.jupyter.widget-view+json": {
       "model_id": "",
       "version_major": 2,
       "version_minor": 0
      },
      "text/plain": [
       "  0%|          | 0/5 [00:00<?, ?it/s]"
      ]
     },
     "metadata": {},
     "output_type": "display_data"
    },
    {
     "name": "stdout",
     "output_type": "stream",
     "text": [
      "Temporary dir: /gws/nopw/j04/forecol/data/GEDI/level2A/v002/amazon_basin/download_52374/unzip52374-4/12shq1k1\n",
      "Extracted file: /gws/nopw/j04/forecol/data/GEDI/level2A/v002/amazon_basin/download_52374/unzip52374-4/12shq1k1/2432388640/processed_GEDI02_A_2019120181215_O02157_04_T05163_02_003_01_V002.h5 exists: True\n",
      "Moving file to /gws/nopw/j04/forecol/data/GEDI/level2A/v002/amazon_basin/download_52374/unzip52374-4/2432388640/processed_GEDI02_A_2019120181215_O02157_04_T05163_02_003_01_V002.h5\n",
      "Temporary dir: /gws/nopw/j04/forecol/data/GEDI/level2A/v002/amazon_basin/download_52374/unzip52374-4/ht8c8qh3\n",
      "Extracted file: /gws/nopw/j04/forecol/data/GEDI/level2A/v002/amazon_basin/download_52374/unzip52374-4/ht8c8qh3/2432389146/processed_GEDI02_A_2019121050103_O02164_01_T00748_02_003_01_V002.h5 exists: True\n",
      "Moving file to /gws/nopw/j04/forecol/data/GEDI/level2A/v002/amazon_basin/download_52374/unzip52374-4/2432389146/processed_GEDI02_A_2019121050103_O02164_01_T00748_02_003_01_V002.h5\n",
      "Temporary dir: /gws/nopw/j04/forecol/data/GEDI/level2A/v002/amazon_basin/download_52374/unzip52374-4/svh68h9l\n",
      "Extracted file: /gws/nopw/j04/forecol/data/GEDI/level2A/v002/amazon_basin/download_52374/unzip52374-4/svh68h9l/2432389321/processed_GEDI02_A_2019121172232_O02172_04_T03449_02_003_01_V002.h5 exists: True\n",
      "Moving file to /gws/nopw/j04/forecol/data/GEDI/level2A/v002/amazon_basin/download_52374/unzip52374-4/2432389321/processed_GEDI02_A_2019121172232_O02172_04_T03449_02_003_01_V002.h5\n",
      "Temporary dir: /gws/nopw/j04/forecol/data/GEDI/level2A/v002/amazon_basin/download_52374/unzip52374-4/s2_nefos\n",
      "Extracted file: /gws/nopw/j04/forecol/data/GEDI/level2A/v002/amazon_basin/download_52374/unzip52374-4/s2_nefos/2432390095/processed_GEDI02_A_2019122041120_O02179_01_T02033_02_003_01_V002.h5 exists: True\n",
      "Moving file to /gws/nopw/j04/forecol/data/GEDI/level2A/v002/amazon_basin/download_52374/unzip52374-4/2432390095/processed_GEDI02_A_2019122041120_O02179_01_T02033_02_003_01_V002.h5\n",
      "Temporary dir: /gws/nopw/j04/forecol/data/GEDI/level2A/v002/amazon_basin/download_52374/unzip52374-4/2_9ennra\n",
      "Extracted file: /gws/nopw/j04/forecol/data/GEDI/level2A/v002/amazon_basin/download_52374/unzip52374-4/2_9ennra/2432391123/processed_GEDI02_A_2019122163249_O02187_04_T01888_02_003_01_V002.h5 exists: True\n",
      "Moving file to /gws/nopw/j04/forecol/data/GEDI/level2A/v002/amazon_basin/download_52374/unzip52374-4/2432391123/processed_GEDI02_A_2019122163249_O02187_04_T01888_02_003_01_V002.h5\n",
      "2021-05-31 22:18:56,537 DEBUG: Found granules: [PosixPath('/gws/nopw/j04/forecol/data/GEDI/level2A/v002/amazon_basin/download_52374/unzip52374-4/2432388640/processed_GEDI02_A_2019120181215_O02157_04_T05163_02_003_01_V002.h5'), PosixPath('/gws/nopw/j04/forecol/data/GEDI/level2A/v002/amazon_basin/download_52374/unzip52374-4/2432389146/processed_GEDI02_A_2019121050103_O02164_01_T00748_02_003_01_V002.h5'), PosixPath('/gws/nopw/j04/forecol/data/GEDI/level2A/v002/amazon_basin/download_52374/unzip52374-4/2432389321/processed_GEDI02_A_2019121172232_O02172_04_T03449_02_003_01_V002.h5'), PosixPath('/gws/nopw/j04/forecol/data/GEDI/level2A/v002/amazon_basin/download_52374/unzip52374-4/2432390095/processed_GEDI02_A_2019122041120_O02179_01_T02033_02_003_01_V002.h5'), PosixPath('/gws/nopw/j04/forecol/data/GEDI/level2A/v002/amazon_basin/download_52374/unzip52374-4/2432391123/processed_GEDI02_A_2019122163249_O02187_04_T01888_02_003_01_V002.h5')] [in process_gedi_l2a_zip at /home/users/svm/Code/gedi_biomass_mapping/src/data/gedi_processing_pipeline.py:43]\n"
     ]
    },
    {
     "data": {
      "application/vnd.jupyter.widget-view+json": {
       "model_id": "5d7d5d17f4044706b7cbfcefebf5e77d",
       "version_major": 2,
       "version_minor": 0
      },
      "text/plain": [
       "  0%|          | 0/5 [00:00<?, ?it/s]"
      ]
     },
     "metadata": {},
     "output_type": "display_data"
    },
    {
     "name": "stdout",
     "output_type": "stream",
     "text": [
      "2021-05-31 22:18:56,746 DEBUG: Processing granule /gws/nopw/j04/forecol/data/GEDI/level2A/v002/amazon_basin/download_52374/unzip52374-4/2432388640/processed_GEDI02_A_2019120181215_O02157_04_T05163_02_003_01_V002.h5 [in _extract_granule_data at /home/users/svm/Code/gedi_biomass_mapping/src/data/gedi_processing_pipeline.py:24]\n",
      "2021-05-31 22:19:09,664 DEBUG: Saving granule /gws/nopw/j04/forecol/data/GEDI/level2A/v002/amazon_basin/download_52374/unzip52374-4/2432388640/processed_GEDI02_A_2019120181215_O02157_04_T05163_02_003_01_V002.h5 [in process_gedi_l2a_zip at /home/users/svm/Code/gedi_biomass_mapping/src/data/gedi_processing_pipeline.py:53]\n",
      "2021-05-31 22:19:11,758 DEBUG: Processing granule /gws/nopw/j04/forecol/data/GEDI/level2A/v002/amazon_basin/download_52374/unzip52374-4/2432389146/processed_GEDI02_A_2019121050103_O02164_01_T00748_02_003_01_V002.h5 [in _extract_granule_data at /home/users/svm/Code/gedi_biomass_mapping/src/data/gedi_processing_pipeline.py:24]\n",
      "2021-05-31 22:21:03,768 DEBUG: Saving granule /gws/nopw/j04/forecol/data/GEDI/level2A/v002/amazon_basin/download_52374/unzip52374-4/2432389146/processed_GEDI02_A_2019121050103_O02164_01_T00748_02_003_01_V002.h5 [in process_gedi_l2a_zip at /home/users/svm/Code/gedi_biomass_mapping/src/data/gedi_processing_pipeline.py:53]\n",
      "2021-05-31 22:21:11,946 DEBUG: Processing granule /gws/nopw/j04/forecol/data/GEDI/level2A/v002/amazon_basin/download_52374/unzip52374-4/2432389321/processed_GEDI02_A_2019121172232_O02172_04_T03449_02_003_01_V002.h5 [in _extract_granule_data at /home/users/svm/Code/gedi_biomass_mapping/src/data/gedi_processing_pipeline.py:24]\n",
      "2021-05-31 22:23:10,872 DEBUG: Saving granule /gws/nopw/j04/forecol/data/GEDI/level2A/v002/amazon_basin/download_52374/unzip52374-4/2432389321/processed_GEDI02_A_2019121172232_O02172_04_T03449_02_003_01_V002.h5 [in process_gedi_l2a_zip at /home/users/svm/Code/gedi_biomass_mapping/src/data/gedi_processing_pipeline.py:53]\n",
      "2021-05-31 22:23:17,586 DEBUG: Processing granule /gws/nopw/j04/forecol/data/GEDI/level2A/v002/amazon_basin/download_52374/unzip52374-4/2432390095/processed_GEDI02_A_2019122041120_O02179_01_T02033_02_003_01_V002.h5 [in _extract_granule_data at /home/users/svm/Code/gedi_biomass_mapping/src/data/gedi_processing_pipeline.py:24]\n",
      "2021-05-31 22:24:26,732 DEBUG: Saving granule /gws/nopw/j04/forecol/data/GEDI/level2A/v002/amazon_basin/download_52374/unzip52374-4/2432390095/processed_GEDI02_A_2019122041120_O02179_01_T02033_02_003_01_V002.h5 [in process_gedi_l2a_zip at /home/users/svm/Code/gedi_biomass_mapping/src/data/gedi_processing_pipeline.py:53]\n",
      "2021-05-31 22:24:31,772 DEBUG: Processing granule /gws/nopw/j04/forecol/data/GEDI/level2A/v002/amazon_basin/download_52374/unzip52374-4/2432391123/processed_GEDI02_A_2019122163249_O02187_04_T01888_02_003_01_V002.h5 [in _extract_granule_data at /home/users/svm/Code/gedi_biomass_mapping/src/data/gedi_processing_pipeline.py:24]\n",
      "2021-05-31 22:25:49,387 DEBUG: Saving granule /gws/nopw/j04/forecol/data/GEDI/level2A/v002/amazon_basin/download_52374/unzip52374-4/2432391123/processed_GEDI02_A_2019122163249_O02187_04_T01888_02_003_01_V002.h5 [in process_gedi_l2a_zip at /home/users/svm/Code/gedi_biomass_mapping/src/data/gedi_processing_pipeline.py:53]\n",
      "2021-05-31 22:25:55,497 DEBUG: Deleting files [in process_gedi_l2a_zip at /home/users/svm/Code/gedi_biomass_mapping/src/data/gedi_processing_pipeline.py:58]\n",
      "2021-05-31 22:25:55,679 DEBUG: Processing order zip 52374-5 [in process_gedi_l2a_zip at /home/users/svm/Code/gedi_biomass_mapping/src/data/gedi_processing_pipeline.py:34]\n"
     ]
    },
    {
     "data": {
      "application/vnd.jupyter.widget-view+json": {
       "model_id": "",
       "version_major": 2,
       "version_minor": 0
      },
      "text/plain": [
       "  0%|          | 0/6 [00:00<?, ?it/s]"
      ]
     },
     "metadata": {},
     "output_type": "display_data"
    },
    {
     "name": "stdout",
     "output_type": "stream",
     "text": [
      "Temporary dir: /gws/nopw/j04/forecol/data/GEDI/level2A/v002/amazon_basin/download_52374/unzip52374-5/5gr7uovh\n",
      "Extracted file: /gws/nopw/j04/forecol/data/GEDI/level2A/v002/amazon_basin/download_52374/unzip52374-5/5gr7uovh/2432396674/processed_GEDI02_A_2019124040434_O02210_01_T00029_02_003_01_V002.h5 exists: True\n",
      "Moving file to /gws/nopw/j04/forecol/data/GEDI/level2A/v002/amazon_basin/download_52374/unzip52374-5/2432396674/processed_GEDI02_A_2019124040434_O02210_01_T00029_02_003_01_V002.h5\n",
      "Temporary dir: /gws/nopw/j04/forecol/data/GEDI/level2A/v002/amazon_basin/download_52374/unzip52374-5/bl4hnue4\n",
      "Extracted file: /gws/nopw/j04/forecol/data/GEDI/level2A/v002/amazon_basin/download_52374/unzip52374-5/bl4hnue4/2432400166/processed_GEDI02_A_2019124162603_O02218_04_T01460_02_003_01_V002.h5 exists: True\n",
      "Moving file to /gws/nopw/j04/forecol/data/GEDI/level2A/v002/amazon_basin/download_52374/unzip52374-5/2432400166/processed_GEDI02_A_2019124162603_O02218_04_T01460_02_003_01_V002.h5\n",
      "Temporary dir: /gws/nopw/j04/forecol/data/GEDI/level2A/v002/amazon_basin/download_52374/unzip52374-5/cncj1nly\n",
      "Extracted file: /gws/nopw/j04/forecol/data/GEDI/level2A/v002/amazon_basin/download_52374/unzip52374-5/cncj1nly/2432402909/processed_GEDI02_A_2019125031450_O02225_01_T02737_02_003_01_V002.h5 exists: True\n",
      "Moving file to /gws/nopw/j04/forecol/data/GEDI/level2A/v002/amazon_basin/download_52374/unzip52374-5/2432402909/processed_GEDI02_A_2019125031450_O02225_01_T02737_02_003_01_V002.h5\n",
      "Temporary dir: /gws/nopw/j04/forecol/data/GEDI/level2A/v002/amazon_basin/download_52374/unzip52374-5/7g3x5hs3\n",
      "Extracted file: /gws/nopw/j04/forecol/data/GEDI/level2A/v002/amazon_basin/download_52374/unzip52374-5/7g3x5hs3/2432405322/processed_GEDI02_A_2019125153619_O02233_04_T05438_02_003_01_V002.h5 exists: True\n",
      "Moving file to /gws/nopw/j04/forecol/data/GEDI/level2A/v002/amazon_basin/download_52374/unzip52374-5/2432405322/processed_GEDI02_A_2019125153619_O02233_04_T05438_02_003_01_V002.h5\n",
      "Temporary dir: /gws/nopw/j04/forecol/data/GEDI/level2A/v002/amazon_basin/download_52374/unzip52374-5/noym7rm4\n",
      "Extracted file: /gws/nopw/j04/forecol/data/GEDI/level2A/v002/amazon_basin/download_52374/unzip52374-5/noym7rm4/2432409870/processed_GEDI02_A_2019127030803_O02256_01_T03579_02_003_01_V002.h5 exists: True\n",
      "Moving file to /gws/nopw/j04/forecol/data/GEDI/level2A/v002/amazon_basin/download_52374/unzip52374-5/2432409870/processed_GEDI02_A_2019127030803_O02256_01_T03579_02_003_01_V002.h5\n",
      "Temporary dir: /gws/nopw/j04/forecol/data/GEDI/level2A/v002/amazon_basin/download_52374/unzip52374-5/ta6w0mt8\n",
      "Extracted file: /gws/nopw/j04/forecol/data/GEDI/level2A/v002/amazon_basin/download_52374/unzip52374-5/ta6w0mt8/2432414140/processed_GEDI02_A_2019127152932_O02264_04_T03434_02_003_01_V002.h5 exists: True\n",
      "Moving file to /gws/nopw/j04/forecol/data/GEDI/level2A/v002/amazon_basin/download_52374/unzip52374-5/2432414140/processed_GEDI02_A_2019127152932_O02264_04_T03434_02_003_01_V002.h5\n",
      "2021-05-31 22:26:27,614 DEBUG: Found granules: [PosixPath('/gws/nopw/j04/forecol/data/GEDI/level2A/v002/amazon_basin/download_52374/unzip52374-5/2432396674/processed_GEDI02_A_2019124040434_O02210_01_T00029_02_003_01_V002.h5'), PosixPath('/gws/nopw/j04/forecol/data/GEDI/level2A/v002/amazon_basin/download_52374/unzip52374-5/2432400166/processed_GEDI02_A_2019124162603_O02218_04_T01460_02_003_01_V002.h5'), PosixPath('/gws/nopw/j04/forecol/data/GEDI/level2A/v002/amazon_basin/download_52374/unzip52374-5/2432402909/processed_GEDI02_A_2019125031450_O02225_01_T02737_02_003_01_V002.h5'), PosixPath('/gws/nopw/j04/forecol/data/GEDI/level2A/v002/amazon_basin/download_52374/unzip52374-5/2432405322/processed_GEDI02_A_2019125153619_O02233_04_T05438_02_003_01_V002.h5'), PosixPath('/gws/nopw/j04/forecol/data/GEDI/level2A/v002/amazon_basin/download_52374/unzip52374-5/2432409870/processed_GEDI02_A_2019127030803_O02256_01_T03579_02_003_01_V002.h5'), PosixPath('/gws/nopw/j04/forecol/data/GEDI/level2A/v002/amazon_basin/download_52374/unzip52374-5/2432414140/processed_GEDI02_A_2019127152932_O02264_04_T03434_02_003_01_V002.h5')] [in process_gedi_l2a_zip at /home/users/svm/Code/gedi_biomass_mapping/src/data/gedi_processing_pipeline.py:43]\n"
     ]
    },
    {
     "data": {
      "application/vnd.jupyter.widget-view+json": {
       "model_id": "08184678f2a44feebf106d7c127a2c68",
       "version_major": 2,
       "version_minor": 0
      },
      "text/plain": [
       "  0%|          | 0/6 [00:00<?, ?it/s]"
      ]
     },
     "metadata": {},
     "output_type": "display_data"
    },
    {
     "name": "stdout",
     "output_type": "stream",
     "text": [
      "2021-05-31 22:26:27,844 DEBUG: Processing granule /gws/nopw/j04/forecol/data/GEDI/level2A/v002/amazon_basin/download_52374/unzip52374-5/2432396674/processed_GEDI02_A_2019124040434_O02210_01_T00029_02_003_01_V002.h5 [in _extract_granule_data at /home/users/svm/Code/gedi_biomass_mapping/src/data/gedi_processing_pipeline.py:24]\n",
      "2021-05-31 22:27:38,276 DEBUG: Saving granule /gws/nopw/j04/forecol/data/GEDI/level2A/v002/amazon_basin/download_52374/unzip52374-5/2432396674/processed_GEDI02_A_2019124040434_O02210_01_T00029_02_003_01_V002.h5 [in process_gedi_l2a_zip at /home/users/svm/Code/gedi_biomass_mapping/src/data/gedi_processing_pipeline.py:53]\n",
      "2021-05-31 22:27:42,533 DEBUG: Processing granule /gws/nopw/j04/forecol/data/GEDI/level2A/v002/amazon_basin/download_52374/unzip52374-5/2432400166/processed_GEDI02_A_2019124162603_O02218_04_T01460_02_003_01_V002.h5 [in _extract_granule_data at /home/users/svm/Code/gedi_biomass_mapping/src/data/gedi_processing_pipeline.py:24]\n",
      "2021-05-31 22:28:49,493 DEBUG: Saving granule /gws/nopw/j04/forecol/data/GEDI/level2A/v002/amazon_basin/download_52374/unzip52374-5/2432400166/processed_GEDI02_A_2019124162603_O02218_04_T01460_02_003_01_V002.h5 [in process_gedi_l2a_zip at /home/users/svm/Code/gedi_biomass_mapping/src/data/gedi_processing_pipeline.py:53]\n",
      "2021-05-31 22:28:53,245 DEBUG: Processing granule /gws/nopw/j04/forecol/data/GEDI/level2A/v002/amazon_basin/download_52374/unzip52374-5/2432402909/processed_GEDI02_A_2019125031450_O02225_01_T02737_02_003_01_V002.h5 [in _extract_granule_data at /home/users/svm/Code/gedi_biomass_mapping/src/data/gedi_processing_pipeline.py:24]\n",
      "2021-05-31 22:30:52,456 DEBUG: Saving granule /gws/nopw/j04/forecol/data/GEDI/level2A/v002/amazon_basin/download_52374/unzip52374-5/2432402909/processed_GEDI02_A_2019125031450_O02225_01_T02737_02_003_01_V002.h5 [in process_gedi_l2a_zip at /home/users/svm/Code/gedi_biomass_mapping/src/data/gedi_processing_pipeline.py:53]\n",
      "2021-05-31 22:30:59,775 DEBUG: Processing granule /gws/nopw/j04/forecol/data/GEDI/level2A/v002/amazon_basin/download_52374/unzip52374-5/2432405322/processed_GEDI02_A_2019125153619_O02233_04_T05438_02_003_01_V002.h5 [in _extract_granule_data at /home/users/svm/Code/gedi_biomass_mapping/src/data/gedi_processing_pipeline.py:24]\n",
      "2021-05-31 22:32:54,912 DEBUG: Saving granule /gws/nopw/j04/forecol/data/GEDI/level2A/v002/amazon_basin/download_52374/unzip52374-5/2432405322/processed_GEDI02_A_2019125153619_O02233_04_T05438_02_003_01_V002.h5 [in process_gedi_l2a_zip at /home/users/svm/Code/gedi_biomass_mapping/src/data/gedi_processing_pipeline.py:53]\n",
      "2021-05-31 22:33:04,659 DEBUG: Processing granule /gws/nopw/j04/forecol/data/GEDI/level2A/v002/amazon_basin/download_52374/unzip52374-5/2432409870/processed_GEDI02_A_2019127030803_O02256_01_T03579_02_003_01_V002.h5 [in _extract_granule_data at /home/users/svm/Code/gedi_biomass_mapping/src/data/gedi_processing_pipeline.py:24]\n",
      "2021-05-31 22:33:19,189 DEBUG: Saving granule /gws/nopw/j04/forecol/data/GEDI/level2A/v002/amazon_basin/download_52374/unzip52374-5/2432409870/processed_GEDI02_A_2019127030803_O02256_01_T03579_02_003_01_V002.h5 [in process_gedi_l2a_zip at /home/users/svm/Code/gedi_biomass_mapping/src/data/gedi_processing_pipeline.py:53]\n",
      "2021-05-31 22:33:20,236 DEBUG: Processing granule /gws/nopw/j04/forecol/data/GEDI/level2A/v002/amazon_basin/download_52374/unzip52374-5/2432414140/processed_GEDI02_A_2019127152932_O02264_04_T03434_02_003_01_V002.h5 [in _extract_granule_data at /home/users/svm/Code/gedi_biomass_mapping/src/data/gedi_processing_pipeline.py:24]\n",
      "2021-05-31 22:33:28,312 DEBUG: Saving granule /gws/nopw/j04/forecol/data/GEDI/level2A/v002/amazon_basin/download_52374/unzip52374-5/2432414140/processed_GEDI02_A_2019127152932_O02264_04_T03434_02_003_01_V002.h5 [in process_gedi_l2a_zip at /home/users/svm/Code/gedi_biomass_mapping/src/data/gedi_processing_pipeline.py:53]\n",
      "2021-05-31 22:33:28,862 DEBUG: Deleting files [in process_gedi_l2a_zip at /home/users/svm/Code/gedi_biomass_mapping/src/data/gedi_processing_pipeline.py:58]\n",
      "2021-05-31 22:33:28,891 DEBUG: Processing order zip 52374-6 [in process_gedi_l2a_zip at /home/users/svm/Code/gedi_biomass_mapping/src/data/gedi_processing_pipeline.py:34]\n"
     ]
    },
    {
     "data": {
      "application/vnd.jupyter.widget-view+json": {
       "model_id": "",
       "version_major": 2,
       "version_minor": 0
      },
      "text/plain": [
       "  0%|          | 0/4 [00:00<?, ?it/s]"
      ]
     },
     "metadata": {},
     "output_type": "display_data"
    },
    {
     "name": "stdout",
     "output_type": "stream",
     "text": [
      "Temporary dir: /gws/nopw/j04/forecol/data/GEDI/level2A/v002/amazon_basin/download_52374/unzip52374-6/4aamnt87\n",
      "Extracted file: /gws/nopw/j04/forecol/data/GEDI/level2A/v002/amazon_basin/download_52374/unzip52374-6/4aamnt87/2432417775/processed_GEDI02_A_2019128021818_O02271_01_T02018_02_003_01_V002.h5 exists: True\n",
      "Moving file to /gws/nopw/j04/forecol/data/GEDI/level2A/v002/amazon_basin/download_52374/unzip52374-6/2432417775/processed_GEDI02_A_2019128021818_O02271_01_T02018_02_003_01_V002.h5\n",
      "Temporary dir: /gws/nopw/j04/forecol/data/GEDI/level2A/v002/amazon_basin/download_52374/unzip52374-6/0fe4563k\n",
      "Extracted file: /gws/nopw/j04/forecol/data/GEDI/level2A/v002/amazon_basin/download_52374/unzip52374-6/0fe4563k/2432421596/processed_GEDI02_A_2019128143946_O02279_04_T04719_02_003_01_V002.h5 exists: True\n",
      "Moving file to /gws/nopw/j04/forecol/data/GEDI/level2A/v002/amazon_basin/download_52374/unzip52374-6/2432421596/processed_GEDI02_A_2019128143946_O02279_04_T04719_02_003_01_V002.h5\n",
      "Temporary dir: /gws/nopw/j04/forecol/data/GEDI/level2A/v002/amazon_basin/download_52374/unzip52374-6/j56aedpq\n",
      "Extracted file: /gws/nopw/j04/forecol/data/GEDI/level2A/v002/amazon_basin/download_52374/unzip52374-6/j56aedpq/2432423001/processed_GEDI02_A_2019129012833_O02286_01_T04573_02_003_01_V002.h5 exists: True\n",
      "Moving file to /gws/nopw/j04/forecol/data/GEDI/level2A/v002/amazon_basin/download_52374/unzip52374-6/2432423001/processed_GEDI02_A_2019129012833_O02286_01_T04573_02_003_01_V002.h5\n",
      "Temporary dir: /gws/nopw/j04/forecol/data/GEDI/level2A/v002/amazon_basin/download_52374/unzip52374-6/wz_xmho8\n",
      "Extracted file: /gws/nopw/j04/forecol/data/GEDI/level2A/v002/amazon_basin/download_52374/unzip52374-6/wz_xmho8/2432424810/processed_GEDI02_A_2019129135000_O02294_04_T03005_02_003_01_V002.h5 exists: True\n",
      "Moving file to /gws/nopw/j04/forecol/data/GEDI/level2A/v002/amazon_basin/download_52374/unzip52374-6/2432424810/processed_GEDI02_A_2019129135000_O02294_04_T03005_02_003_01_V002.h5\n",
      "2021-05-31 22:34:05,535 DEBUG: Found granules: [PosixPath('/gws/nopw/j04/forecol/data/GEDI/level2A/v002/amazon_basin/download_52374/unzip52374-6/2432417775/processed_GEDI02_A_2019128021818_O02271_01_T02018_02_003_01_V002.h5'), PosixPath('/gws/nopw/j04/forecol/data/GEDI/level2A/v002/amazon_basin/download_52374/unzip52374-6/2432421596/processed_GEDI02_A_2019128143946_O02279_04_T04719_02_003_01_V002.h5'), PosixPath('/gws/nopw/j04/forecol/data/GEDI/level2A/v002/amazon_basin/download_52374/unzip52374-6/2432423001/processed_GEDI02_A_2019129012833_O02286_01_T04573_02_003_01_V002.h5'), PosixPath('/gws/nopw/j04/forecol/data/GEDI/level2A/v002/amazon_basin/download_52374/unzip52374-6/2432424810/processed_GEDI02_A_2019129135000_O02294_04_T03005_02_003_01_V002.h5')] [in process_gedi_l2a_zip at /home/users/svm/Code/gedi_biomass_mapping/src/data/gedi_processing_pipeline.py:43]\n"
     ]
    },
    {
     "data": {
      "application/vnd.jupyter.widget-view+json": {
       "model_id": "f5cc28b71bf8432588bf3101c808d265",
       "version_major": 2,
       "version_minor": 0
      },
      "text/plain": [
       "  0%|          | 0/4 [00:00<?, ?it/s]"
      ]
     },
     "metadata": {},
     "output_type": "display_data"
    },
    {
     "name": "stdout",
     "output_type": "stream",
     "text": [
      "2021-05-31 22:34:05,692 DEBUG: Processing granule /gws/nopw/j04/forecol/data/GEDI/level2A/v002/amazon_basin/download_52374/unzip52374-6/2432417775/processed_GEDI02_A_2019128021818_O02271_01_T02018_02_003_01_V002.h5 [in _extract_granule_data at /home/users/svm/Code/gedi_biomass_mapping/src/data/gedi_processing_pipeline.py:24]\n",
      "2021-05-31 22:35:58,005 DEBUG: Saving granule /gws/nopw/j04/forecol/data/GEDI/level2A/v002/amazon_basin/download_52374/unzip52374-6/2432417775/processed_GEDI02_A_2019128021818_O02271_01_T02018_02_003_01_V002.h5 [in process_gedi_l2a_zip at /home/users/svm/Code/gedi_biomass_mapping/src/data/gedi_processing_pipeline.py:53]\n",
      "2021-05-31 22:36:04,472 DEBUG: Processing granule /gws/nopw/j04/forecol/data/GEDI/level2A/v002/amazon_basin/download_52374/unzip52374-6/2432421596/processed_GEDI02_A_2019128143946_O02279_04_T04719_02_003_01_V002.h5 [in _extract_granule_data at /home/users/svm/Code/gedi_biomass_mapping/src/data/gedi_processing_pipeline.py:24]\n",
      "2021-05-31 22:38:00,754 DEBUG: Saving granule /gws/nopw/j04/forecol/data/GEDI/level2A/v002/amazon_basin/download_52374/unzip52374-6/2432421596/processed_GEDI02_A_2019128143946_O02279_04_T04719_02_003_01_V002.h5 [in process_gedi_l2a_zip at /home/users/svm/Code/gedi_biomass_mapping/src/data/gedi_processing_pipeline.py:53]\n",
      "2021-05-31 22:38:09,230 DEBUG: Processing granule /gws/nopw/j04/forecol/data/GEDI/level2A/v002/amazon_basin/download_52374/unzip52374-6/2432423001/processed_GEDI02_A_2019129012833_O02286_01_T04573_02_003_01_V002.h5 [in _extract_granule_data at /home/users/svm/Code/gedi_biomass_mapping/src/data/gedi_processing_pipeline.py:24]\n",
      "2021-05-31 22:39:27,116 DEBUG: Saving granule /gws/nopw/j04/forecol/data/GEDI/level2A/v002/amazon_basin/download_52374/unzip52374-6/2432423001/processed_GEDI02_A_2019129012833_O02286_01_T04573_02_003_01_V002.h5 [in process_gedi_l2a_zip at /home/users/svm/Code/gedi_biomass_mapping/src/data/gedi_processing_pipeline.py:53]\n",
      "2021-05-31 22:39:32,822 DEBUG: Processing granule /gws/nopw/j04/forecol/data/GEDI/level2A/v002/amazon_basin/download_52374/unzip52374-6/2432424810/processed_GEDI02_A_2019129135000_O02294_04_T03005_02_003_01_V002.h5 [in _extract_granule_data at /home/users/svm/Code/gedi_biomass_mapping/src/data/gedi_processing_pipeline.py:24]\n",
      "2021-05-31 22:40:53,882 DEBUG: Saving granule /gws/nopw/j04/forecol/data/GEDI/level2A/v002/amazon_basin/download_52374/unzip52374-6/2432424810/processed_GEDI02_A_2019129135000_O02294_04_T03005_02_003_01_V002.h5 [in process_gedi_l2a_zip at /home/users/svm/Code/gedi_biomass_mapping/src/data/gedi_processing_pipeline.py:53]\n",
      "2021-05-31 22:41:00,141 DEBUG: Deleting files [in process_gedi_l2a_zip at /home/users/svm/Code/gedi_biomass_mapping/src/data/gedi_processing_pipeline.py:58]\n",
      "2021-05-31 22:41:00,338 DEBUG: Processing order zip 52374-7 [in process_gedi_l2a_zip at /home/users/svm/Code/gedi_biomass_mapping/src/data/gedi_processing_pipeline.py:34]\n"
     ]
    },
    {
     "data": {
      "application/vnd.jupyter.widget-view+json": {
       "model_id": "",
       "version_major": 2,
       "version_minor": 0
      },
      "text/plain": [
       "  0%|          | 0/7 [00:00<?, ?it/s]"
      ]
     },
     "metadata": {},
     "output_type": "display_data"
    },
    {
     "name": "stdout",
     "output_type": "stream",
     "text": [
      "Temporary dir: /gws/nopw/j04/forecol/data/GEDI/level2A/v002/amazon_basin/download_52374/unzip52374-7/jq05i0h3\n",
      "Extracted file: /gws/nopw/j04/forecol/data/GEDI/level2A/v002/amazon_basin/download_52374/unzip52374-7/jq05i0h3/2432460367/processed_GEDI02_A_2019131012144_O02317_01_T05568_02_003_01_V002.h5 exists: True\n",
      "Moving file to /gws/nopw/j04/forecol/data/GEDI/level2A/v002/amazon_basin/download_52374/unzip52374-7/2432460367/processed_GEDI02_A_2019131012144_O02317_01_T05568_02_003_01_V002.h5\n",
      "Temporary dir: /gws/nopw/j04/forecol/data/GEDI/level2A/v002/amazon_basin/download_52374/unzip52374-7/bmhgkb7t\n",
      "Extracted file: /gws/nopw/j04/forecol/data/GEDI/level2A/v002/amazon_basin/download_52374/unzip52374-7/bmhgkb7t/2432461478/processed_GEDI02_A_2019131134312_O02325_04_T01154_02_003_01_V002.h5 exists: True\n",
      "Moving file to /gws/nopw/j04/forecol/data/GEDI/level2A/v002/amazon_basin/download_52374/unzip52374-7/2432461478/processed_GEDI02_A_2019131134312_O02325_04_T01154_02_003_01_V002.h5\n",
      "Temporary dir: /gws/nopw/j04/forecol/data/GEDI/level2A/v002/amazon_basin/download_52374/unzip52374-7/wt17g054\n",
      "Extracted file: /gws/nopw/j04/forecol/data/GEDI/level2A/v002/amazon_basin/download_52374/unzip52374-7/wt17g054/2432461708/processed_GEDI02_A_2019132003158_O02332_01_T03854_02_003_01_V002.h5 exists: True\n",
      "Moving file to /gws/nopw/j04/forecol/data/GEDI/level2A/v002/amazon_basin/download_52374/unzip52374-7/2432461708/processed_GEDI02_A_2019132003158_O02332_01_T03854_02_003_01_V002.h5\n",
      "Temporary dir: /gws/nopw/j04/forecol/data/GEDI/level2A/v002/amazon_basin/download_52374/unzip52374-7/qurhh025\n",
      "Extracted file: /gws/nopw/j04/forecol/data/GEDI/level2A/v002/amazon_basin/download_52374/unzip52374-7/qurhh025/2432465858/processed_GEDI02_A_2019132125326_O02340_04_T03709_02_003_01_V002.h5 exists: True\n",
      "Moving file to /gws/nopw/j04/forecol/data/GEDI/level2A/v002/amazon_basin/download_52374/unzip52374-7/2432465858/processed_GEDI02_A_2019132125326_O02340_04_T03709_02_003_01_V002.h5\n",
      "Temporary dir: /gws/nopw/j04/forecol/data/GEDI/level2A/v002/amazon_basin/download_52374/unzip52374-7/8xjiw41f\n",
      "Extracted file: /gws/nopw/j04/forecol/data/GEDI/level2A/v002/amazon_basin/download_52374/unzip52374-7/8xjiw41f/2432470928/processed_GEDI02_A_2019132234213_O02347_01_T02293_02_003_01_V002.h5 exists: True\n",
      "Moving file to /gws/nopw/j04/forecol/data/GEDI/level2A/v002/amazon_basin/download_52374/unzip52374-7/2432470928/processed_GEDI02_A_2019132234213_O02347_01_T02293_02_003_01_V002.h5\n",
      "Temporary dir: /gws/nopw/j04/forecol/data/GEDI/level2A/v002/amazon_basin/download_52374/unzip52374-7/705c0pmw\n",
      "Extracted file: /gws/nopw/j04/forecol/data/GEDI/level2A/v002/amazon_basin/download_52374/unzip52374-7/705c0pmw/2432474427/processed_GEDI02_A_2019133120341_O02355_04_T04994_02_003_01_V002.h5 exists: True\n",
      "Moving file to /gws/nopw/j04/forecol/data/GEDI/level2A/v002/amazon_basin/download_52374/unzip52374-7/2432474427/processed_GEDI02_A_2019133120341_O02355_04_T04994_02_003_01_V002.h5\n",
      "Temporary dir: /gws/nopw/j04/forecol/data/GEDI/level2A/v002/amazon_basin/download_52374/unzip52374-7/3vgibhf9\n",
      "Extracted file: /gws/nopw/j04/forecol/data/GEDI/level2A/v002/amazon_basin/download_52374/unzip52374-7/3vgibhf9/2432475743/processed_GEDI02_A_2019134002509_O02363_01_T00580_02_003_01_V002.h5 exists: True\n",
      "Moving file to /gws/nopw/j04/forecol/data/GEDI/level2A/v002/amazon_basin/download_52374/unzip52374-7/2432475743/processed_GEDI02_A_2019134002509_O02363_01_T00580_02_003_01_V002.h5\n",
      "2021-05-31 22:41:35,876 DEBUG: Found granules: [PosixPath('/gws/nopw/j04/forecol/data/GEDI/level2A/v002/amazon_basin/download_52374/unzip52374-7/2432460367/processed_GEDI02_A_2019131012144_O02317_01_T05568_02_003_01_V002.h5'), PosixPath('/gws/nopw/j04/forecol/data/GEDI/level2A/v002/amazon_basin/download_52374/unzip52374-7/2432461478/processed_GEDI02_A_2019131134312_O02325_04_T01154_02_003_01_V002.h5'), PosixPath('/gws/nopw/j04/forecol/data/GEDI/level2A/v002/amazon_basin/download_52374/unzip52374-7/2432461708/processed_GEDI02_A_2019132003158_O02332_01_T03854_02_003_01_V002.h5'), PosixPath('/gws/nopw/j04/forecol/data/GEDI/level2A/v002/amazon_basin/download_52374/unzip52374-7/2432465858/processed_GEDI02_A_2019132125326_O02340_04_T03709_02_003_01_V002.h5'), PosixPath('/gws/nopw/j04/forecol/data/GEDI/level2A/v002/amazon_basin/download_52374/unzip52374-7/2432470928/processed_GEDI02_A_2019132234213_O02347_01_T02293_02_003_01_V002.h5'), PosixPath('/gws/nopw/j04/forecol/data/GEDI/level2A/v002/amazon_basin/download_52374/unzip52374-7/2432474427/processed_GEDI02_A_2019133120341_O02355_04_T04994_02_003_01_V002.h5'), PosixPath('/gws/nopw/j04/forecol/data/GEDI/level2A/v002/amazon_basin/download_52374/unzip52374-7/2432475743/processed_GEDI02_A_2019134002509_O02363_01_T00580_02_003_01_V002.h5')] [in process_gedi_l2a_zip at /home/users/svm/Code/gedi_biomass_mapping/src/data/gedi_processing_pipeline.py:43]\n"
     ]
    },
    {
     "data": {
      "application/vnd.jupyter.widget-view+json": {
       "model_id": "af42b376d9b740479efbe093a7c7e7cd",
       "version_major": 2,
       "version_minor": 0
      },
      "text/plain": [
       "  0%|          | 0/7 [00:00<?, ?it/s]"
      ]
     },
     "metadata": {},
     "output_type": "display_data"
    },
    {
     "name": "stdout",
     "output_type": "stream",
     "text": [
      "2021-05-31 22:41:36,013 DEBUG: Processing granule /gws/nopw/j04/forecol/data/GEDI/level2A/v002/amazon_basin/download_52374/unzip52374-7/2432460367/processed_GEDI02_A_2019131012144_O02317_01_T05568_02_003_01_V002.h5 [in _extract_granule_data at /home/users/svm/Code/gedi_biomass_mapping/src/data/gedi_processing_pipeline.py:24]\n",
      "2021-05-31 22:42:42,087 DEBUG: Saving granule /gws/nopw/j04/forecol/data/GEDI/level2A/v002/amazon_basin/download_52374/unzip52374-7/2432460367/processed_GEDI02_A_2019131012144_O02317_01_T05568_02_003_01_V002.h5 [in process_gedi_l2a_zip at /home/users/svm/Code/gedi_biomass_mapping/src/data/gedi_processing_pipeline.py:53]\n",
      "2021-05-31 22:42:46,735 DEBUG: Processing granule /gws/nopw/j04/forecol/data/GEDI/level2A/v002/amazon_basin/download_52374/unzip52374-7/2432461478/processed_GEDI02_A_2019131134312_O02325_04_T01154_02_003_01_V002.h5 [in _extract_granule_data at /home/users/svm/Code/gedi_biomass_mapping/src/data/gedi_processing_pipeline.py:24]\n",
      "2021-05-31 22:43:46,217 DEBUG: Saving granule /gws/nopw/j04/forecol/data/GEDI/level2A/v002/amazon_basin/download_52374/unzip52374-7/2432461478/processed_GEDI02_A_2019131134312_O02325_04_T01154_02_003_01_V002.h5 [in process_gedi_l2a_zip at /home/users/svm/Code/gedi_biomass_mapping/src/data/gedi_processing_pipeline.py:53]\n",
      "2021-05-31 22:43:50,431 DEBUG: Processing granule /gws/nopw/j04/forecol/data/GEDI/level2A/v002/amazon_basin/download_52374/unzip52374-7/2432461708/processed_GEDI02_A_2019132003158_O02332_01_T03854_02_003_01_V002.h5 [in _extract_granule_data at /home/users/svm/Code/gedi_biomass_mapping/src/data/gedi_processing_pipeline.py:24]\n",
      "2021-05-31 22:45:41,761 DEBUG: Saving granule /gws/nopw/j04/forecol/data/GEDI/level2A/v002/amazon_basin/download_52374/unzip52374-7/2432461708/processed_GEDI02_A_2019132003158_O02332_01_T03854_02_003_01_V002.h5 [in process_gedi_l2a_zip at /home/users/svm/Code/gedi_biomass_mapping/src/data/gedi_processing_pipeline.py:53]\n",
      "2021-05-31 22:45:49,670 DEBUG: Processing granule /gws/nopw/j04/forecol/data/GEDI/level2A/v002/amazon_basin/download_52374/unzip52374-7/2432465858/processed_GEDI02_A_2019132125326_O02340_04_T03709_02_003_01_V002.h5 [in _extract_granule_data at /home/users/svm/Code/gedi_biomass_mapping/src/data/gedi_processing_pipeline.py:24]\n",
      "2021-05-31 22:47:43,354 DEBUG: Saving granule /gws/nopw/j04/forecol/data/GEDI/level2A/v002/amazon_basin/download_52374/unzip52374-7/2432465858/processed_GEDI02_A_2019132125326_O02340_04_T03709_02_003_01_V002.h5 [in process_gedi_l2a_zip at /home/users/svm/Code/gedi_biomass_mapping/src/data/gedi_processing_pipeline.py:53]\n",
      "2021-05-31 22:47:51,878 DEBUG: Processing granule /gws/nopw/j04/forecol/data/GEDI/level2A/v002/amazon_basin/download_52374/unzip52374-7/2432470928/processed_GEDI02_A_2019132234213_O02347_01_T02293_02_003_01_V002.h5 [in _extract_granule_data at /home/users/svm/Code/gedi_biomass_mapping/src/data/gedi_processing_pipeline.py:24]\n",
      "2021-05-31 22:48:17,172 DEBUG: Saving granule /gws/nopw/j04/forecol/data/GEDI/level2A/v002/amazon_basin/download_52374/unzip52374-7/2432470928/processed_GEDI02_A_2019132234213_O02347_01_T02293_02_003_01_V002.h5 [in process_gedi_l2a_zip at /home/users/svm/Code/gedi_biomass_mapping/src/data/gedi_processing_pipeline.py:53]\n",
      "2021-05-31 22:48:19,171 DEBUG: Processing granule /gws/nopw/j04/forecol/data/GEDI/level2A/v002/amazon_basin/download_52374/unzip52374-7/2432474427/processed_GEDI02_A_2019133120341_O02355_04_T04994_02_003_01_V002.h5 [in _extract_granule_data at /home/users/svm/Code/gedi_biomass_mapping/src/data/gedi_processing_pipeline.py:24]\n",
      "2021-05-31 22:48:48,433 DEBUG: Saving granule /gws/nopw/j04/forecol/data/GEDI/level2A/v002/amazon_basin/download_52374/unzip52374-7/2432474427/processed_GEDI02_A_2019133120341_O02355_04_T04994_02_003_01_V002.h5 [in process_gedi_l2a_zip at /home/users/svm/Code/gedi_biomass_mapping/src/data/gedi_processing_pipeline.py:53]\n",
      "2021-05-31 22:48:50,559 DEBUG: Processing granule /gws/nopw/j04/forecol/data/GEDI/level2A/v002/amazon_basin/download_52374/unzip52374-7/2432475743/processed_GEDI02_A_2019134002509_O02363_01_T00580_02_003_01_V002.h5 [in _extract_granule_data at /home/users/svm/Code/gedi_biomass_mapping/src/data/gedi_processing_pipeline.py:24]\n",
      "2021-05-31 22:48:59,931 DEBUG: Saving granule /gws/nopw/j04/forecol/data/GEDI/level2A/v002/amazon_basin/download_52374/unzip52374-7/2432475743/processed_GEDI02_A_2019134002509_O02363_01_T00580_02_003_01_V002.h5 [in process_gedi_l2a_zip at /home/users/svm/Code/gedi_biomass_mapping/src/data/gedi_processing_pipeline.py:53]\n",
      "2021-05-31 22:49:00,560 DEBUG: Deleting files [in process_gedi_l2a_zip at /home/users/svm/Code/gedi_biomass_mapping/src/data/gedi_processing_pipeline.py:58]\n",
      "2021-05-31 22:49:00,581 DEBUG: Processing order zip 52374-8 [in process_gedi_l2a_zip at /home/users/svm/Code/gedi_biomass_mapping/src/data/gedi_processing_pipeline.py:34]\n"
     ]
    },
    {
     "data": {
      "application/vnd.jupyter.widget-view+json": {
       "model_id": "",
       "version_major": 2,
       "version_minor": 0
      },
      "text/plain": [
       "  0%|          | 0/5 [00:00<?, ?it/s]"
      ]
     },
     "metadata": {},
     "output_type": "display_data"
    },
    {
     "name": "stdout",
     "output_type": "stream",
     "text": [
      "Temporary dir: /gws/nopw/j04/forecol/data/GEDI/level2A/v002/amazon_basin/download_52374/unzip52374-8/wzklvcgy\n",
      "Extracted file: /gws/nopw/j04/forecol/data/GEDI/level2A/v002/amazon_basin/download_52374/unzip52374-8/wzklvcgy/2432482199/processed_GEDI02_A_2019134233523_O02378_01_T03135_02_003_01_V002.h5 exists: True\n",
      "Moving file to /gws/nopw/j04/forecol/data/GEDI/level2A/v002/amazon_basin/download_52374/unzip52374-8/2432482199/processed_GEDI02_A_2019134233523_O02378_01_T03135_02_003_01_V002.h5\n",
      "Temporary dir: /gws/nopw/j04/forecol/data/GEDI/level2A/v002/amazon_basin/download_52374/unzip52374-8/vdxwfnrp\n",
      "Extracted file: /gws/nopw/j04/forecol/data/GEDI/level2A/v002/amazon_basin/download_52374/unzip52374-8/vdxwfnrp/2432487097/processed_GEDI02_A_2019135115649_O02386_04_T01720_02_003_01_V002.h5 exists: True\n",
      "Moving file to /gws/nopw/j04/forecol/data/GEDI/level2A/v002/amazon_basin/download_52374/unzip52374-8/2432487097/processed_GEDI02_A_2019135115649_O02386_04_T01720_02_003_01_V002.h5\n",
      "Temporary dir: /gws/nopw/j04/forecol/data/GEDI/level2A/v002/amazon_basin/download_52374/unzip52374-8/1_mqaheo\n",
      "Extracted file: /gws/nopw/j04/forecol/data/GEDI/level2A/v002/amazon_basin/download_52374/unzip52374-8/1_mqaheo/2432490483/processed_GEDI02_A_2019135224536_O02393_01_T04573_02_003_01_V002.h5 exists: True\n",
      "Moving file to /gws/nopw/j04/forecol/data/GEDI/level2A/v002/amazon_basin/download_52374/unzip52374-8/2432490483/processed_GEDI02_A_2019135224536_O02393_01_T04573_02_003_01_V002.h5\n",
      "Temporary dir: /gws/nopw/j04/forecol/data/GEDI/level2A/v002/amazon_basin/download_52374/unzip52374-8/i6ed060l\n",
      "Extracted file: /gws/nopw/j04/forecol/data/GEDI/level2A/v002/amazon_basin/download_52374/unzip52374-8/i6ed060l/2432492166/processed_GEDI02_A_2019136110703_O02401_04_T00006_02_003_01_V002.h5 exists: True\n",
      "Moving file to /gws/nopw/j04/forecol/data/GEDI/level2A/v002/amazon_basin/download_52374/unzip52374-8/2432492166/processed_GEDI02_A_2019136110703_O02401_04_T00006_02_003_01_V002.h5\n",
      "Temporary dir: /gws/nopw/j04/forecol/data/GEDI/level2A/v002/amazon_basin/download_52374/unzip52374-8/o22sx_p3\n",
      "Extracted file: /gws/nopw/j04/forecol/data/GEDI/level2A/v002/amazon_basin/download_52374/unzip52374-8/o22sx_p3/2432495242/processed_GEDI02_A_2019137223843_O02424_01_T05415_02_003_01_V002.h5 exists: True\n",
      "Moving file to /gws/nopw/j04/forecol/data/GEDI/level2A/v002/amazon_basin/download_52374/unzip52374-8/2432495242/processed_GEDI02_A_2019137223843_O02424_01_T05415_02_003_01_V002.h5\n",
      "2021-05-31 22:49:45,620 DEBUG: Found granules: [PosixPath('/gws/nopw/j04/forecol/data/GEDI/level2A/v002/amazon_basin/download_52374/unzip52374-8/2432482199/processed_GEDI02_A_2019134233523_O02378_01_T03135_02_003_01_V002.h5'), PosixPath('/gws/nopw/j04/forecol/data/GEDI/level2A/v002/amazon_basin/download_52374/unzip52374-8/2432487097/processed_GEDI02_A_2019135115649_O02386_04_T01720_02_003_01_V002.h5'), PosixPath('/gws/nopw/j04/forecol/data/GEDI/level2A/v002/amazon_basin/download_52374/unzip52374-8/2432490483/processed_GEDI02_A_2019135224536_O02393_01_T04573_02_003_01_V002.h5'), PosixPath('/gws/nopw/j04/forecol/data/GEDI/level2A/v002/amazon_basin/download_52374/unzip52374-8/2432492166/processed_GEDI02_A_2019136110703_O02401_04_T00006_02_003_01_V002.h5'), PosixPath('/gws/nopw/j04/forecol/data/GEDI/level2A/v002/amazon_basin/download_52374/unzip52374-8/2432495242/processed_GEDI02_A_2019137223843_O02424_01_T05415_02_003_01_V002.h5')] [in process_gedi_l2a_zip at /home/users/svm/Code/gedi_biomass_mapping/src/data/gedi_processing_pipeline.py:43]\n"
     ]
    },
    {
     "data": {
      "application/vnd.jupyter.widget-view+json": {
       "model_id": "3dc24cf83cbf46e4bba9d12085961d39",
       "version_major": 2,
       "version_minor": 0
      },
      "text/plain": [
       "  0%|          | 0/5 [00:00<?, ?it/s]"
      ]
     },
     "metadata": {},
     "output_type": "display_data"
    },
    {
     "name": "stdout",
     "output_type": "stream",
     "text": [
      "2021-05-31 22:49:45,920 DEBUG: Processing granule /gws/nopw/j04/forecol/data/GEDI/level2A/v002/amazon_basin/download_52374/unzip52374-8/2432482199/processed_GEDI02_A_2019134233523_O02378_01_T03135_02_003_01_V002.h5 [in _extract_granule_data at /home/users/svm/Code/gedi_biomass_mapping/src/data/gedi_processing_pipeline.py:24]\n",
      "2021-05-31 22:51:35,615 DEBUG: Saving granule /gws/nopw/j04/forecol/data/GEDI/level2A/v002/amazon_basin/download_52374/unzip52374-8/2432482199/processed_GEDI02_A_2019134233523_O02378_01_T03135_02_003_01_V002.h5 [in process_gedi_l2a_zip at /home/users/svm/Code/gedi_biomass_mapping/src/data/gedi_processing_pipeline.py:53]\n",
      "2021-05-31 22:51:43,492 DEBUG: Processing granule /gws/nopw/j04/forecol/data/GEDI/level2A/v002/amazon_basin/download_52374/unzip52374-8/2432487097/processed_GEDI02_A_2019135115649_O02386_04_T01720_02_003_01_V002.h5 [in _extract_granule_data at /home/users/svm/Code/gedi_biomass_mapping/src/data/gedi_processing_pipeline.py:24]\n",
      "2021-05-31 22:53:35,933 DEBUG: Saving granule /gws/nopw/j04/forecol/data/GEDI/level2A/v002/amazon_basin/download_52374/unzip52374-8/2432487097/processed_GEDI02_A_2019135115649_O02386_04_T01720_02_003_01_V002.h5 [in process_gedi_l2a_zip at /home/users/svm/Code/gedi_biomass_mapping/src/data/gedi_processing_pipeline.py:53]\n",
      "2021-05-31 22:53:42,395 DEBUG: Processing granule /gws/nopw/j04/forecol/data/GEDI/level2A/v002/amazon_basin/download_52374/unzip52374-8/2432490483/processed_GEDI02_A_2019135224536_O02393_01_T04573_02_003_01_V002.h5 [in _extract_granule_data at /home/users/svm/Code/gedi_biomass_mapping/src/data/gedi_processing_pipeline.py:24]\n",
      "2021-05-31 22:54:59,577 DEBUG: Saving granule /gws/nopw/j04/forecol/data/GEDI/level2A/v002/amazon_basin/download_52374/unzip52374-8/2432490483/processed_GEDI02_A_2019135224536_O02393_01_T04573_02_003_01_V002.h5 [in process_gedi_l2a_zip at /home/users/svm/Code/gedi_biomass_mapping/src/data/gedi_processing_pipeline.py:53]\n",
      "2021-05-31 22:55:04,594 DEBUG: Processing granule /gws/nopw/j04/forecol/data/GEDI/level2A/v002/amazon_basin/download_52374/unzip52374-8/2432492166/processed_GEDI02_A_2019136110703_O02401_04_T00006_02_003_01_V002.h5 [in _extract_granule_data at /home/users/svm/Code/gedi_biomass_mapping/src/data/gedi_processing_pipeline.py:24]\n",
      "2021-05-31 22:56:31,229 DEBUG: Saving granule /gws/nopw/j04/forecol/data/GEDI/level2A/v002/amazon_basin/download_52374/unzip52374-8/2432492166/processed_GEDI02_A_2019136110703_O02401_04_T00006_02_003_01_V002.h5 [in process_gedi_l2a_zip at /home/users/svm/Code/gedi_biomass_mapping/src/data/gedi_processing_pipeline.py:53]\n",
      "2021-05-31 22:56:37,350 DEBUG: Processing granule /gws/nopw/j04/forecol/data/GEDI/level2A/v002/amazon_basin/download_52374/unzip52374-8/2432495242/processed_GEDI02_A_2019137223843_O02424_01_T05415_02_003_01_V002.h5 [in _extract_granule_data at /home/users/svm/Code/gedi_biomass_mapping/src/data/gedi_processing_pipeline.py:24]\n",
      "2021-05-31 22:57:38,496 DEBUG: Saving granule /gws/nopw/j04/forecol/data/GEDI/level2A/v002/amazon_basin/download_52374/unzip52374-8/2432495242/processed_GEDI02_A_2019137223843_O02424_01_T05415_02_003_01_V002.h5 [in process_gedi_l2a_zip at /home/users/svm/Code/gedi_biomass_mapping/src/data/gedi_processing_pipeline.py:53]\n",
      "2021-05-31 22:57:42,978 DEBUG: Deleting files [in process_gedi_l2a_zip at /home/users/svm/Code/gedi_biomass_mapping/src/data/gedi_processing_pipeline.py:58]\n",
      "2021-05-31 22:57:43,152 DEBUG: Processing order zip 52374-9 [in process_gedi_l2a_zip at /home/users/svm/Code/gedi_biomass_mapping/src/data/gedi_processing_pipeline.py:34]\n"
     ]
    },
    {
     "data": {
      "application/vnd.jupyter.widget-view+json": {
       "model_id": "",
       "version_major": 2,
       "version_minor": 0
      },
      "text/plain": [
       "  0%|          | 0/5 [00:00<?, ?it/s]"
      ]
     },
     "metadata": {},
     "output_type": "display_data"
    },
    {
     "name": "stdout",
     "output_type": "stream",
     "text": [
      "Temporary dir: /gws/nopw/j04/forecol/data/GEDI/level2A/v002/amazon_basin/download_52374/unzip52374-9/0m65din5\n",
      "Extracted file: /gws/nopw/j04/forecol/data/GEDI/level2A/v002/amazon_basin/download_52374/unzip52374-9/0m65din5/2432497566/processed_GEDI02_A_2019138110010_O02432_04_T05270_02_003_01_V002.h5 exists: True\n",
      "Moving file to /gws/nopw/j04/forecol/data/GEDI/level2A/v002/amazon_basin/download_52374/unzip52374-9/2432497566/processed_GEDI02_A_2019138110010_O02432_04_T05270_02_003_01_V002.h5\n",
      "Temporary dir: /gws/nopw/j04/forecol/data/GEDI/level2A/v002/amazon_basin/download_52374/unzip52374-9/skxn8pvz\n",
      "Extracted file: /gws/nopw/j04/forecol/data/GEDI/level2A/v002/amazon_basin/download_52374/unzip52374-9/skxn8pvz/2432499419/processed_GEDI02_A_2019138214856_O02439_01_T00855_02_003_01_V002.h5 exists: True\n",
      "Moving file to /gws/nopw/j04/forecol/data/GEDI/level2A/v002/amazon_basin/download_52374/unzip52374-9/2432499419/processed_GEDI02_A_2019138214856_O02439_01_T00855_02_003_01_V002.h5\n",
      "Temporary dir: /gws/nopw/j04/forecol/data/GEDI/level2A/v002/amazon_basin/download_52374/unzip52374-9/c1tzz6qo\n",
      "Extracted file: /gws/nopw/j04/forecol/data/GEDI/level2A/v002/amazon_basin/download_52374/unzip52374-9/c1tzz6qo/2432501691/processed_GEDI02_A_2019140092036_O02462_04_T01995_02_003_01_V002.h5 exists: True\n",
      "Moving file to /gws/nopw/j04/forecol/data/GEDI/level2A/v002/amazon_basin/download_52374/unzip52374-9/2432501691/processed_GEDI02_A_2019140092036_O02462_04_T01995_02_003_01_V002.h5\n",
      "Temporary dir: /gws/nopw/j04/forecol/data/GEDI/level2A/v002/amazon_basin/download_52374/unzip52374-9/icutrivu\n",
      "Extracted file: /gws/nopw/j04/forecol/data/GEDI/level2A/v002/amazon_basin/download_52374/unzip52374-9/icutrivu/2432506891/processed_GEDI02_A_2019141205215_O02485_01_T02982_02_003_01_V002.h5 exists: True\n",
      "Moving file to /gws/nopw/j04/forecol/data/GEDI/level2A/v002/amazon_basin/download_52374/unzip52374-9/2432506891/processed_GEDI02_A_2019141205215_O02485_01_T02982_02_003_01_V002.h5\n",
      "Temporary dir: /gws/nopw/j04/forecol/data/GEDI/level2A/v002/amazon_basin/download_52374/unzip52374-9/bqsvuv8u\n",
      "Extracted file: /gws/nopw/j04/forecol/data/GEDI/level2A/v002/amazon_basin/download_52374/unzip52374-9/bqsvuv8u/2432508864/processed_GEDI02_A_2019142091342_O02493_04_T01567_02_003_01_V002.h5 exists: True\n",
      "Moving file to /gws/nopw/j04/forecol/data/GEDI/level2A/v002/amazon_basin/download_52374/unzip52374-9/2432508864/processed_GEDI02_A_2019142091342_O02493_04_T01567_02_003_01_V002.h5\n",
      "2021-05-31 22:58:27,619 DEBUG: Found granules: [PosixPath('/gws/nopw/j04/forecol/data/GEDI/level2A/v002/amazon_basin/download_52374/unzip52374-9/2432497566/processed_GEDI02_A_2019138110010_O02432_04_T05270_02_003_01_V002.h5'), PosixPath('/gws/nopw/j04/forecol/data/GEDI/level2A/v002/amazon_basin/download_52374/unzip52374-9/2432499419/processed_GEDI02_A_2019138214856_O02439_01_T00855_02_003_01_V002.h5'), PosixPath('/gws/nopw/j04/forecol/data/GEDI/level2A/v002/amazon_basin/download_52374/unzip52374-9/2432501691/processed_GEDI02_A_2019140092036_O02462_04_T01995_02_003_01_V002.h5'), PosixPath('/gws/nopw/j04/forecol/data/GEDI/level2A/v002/amazon_basin/download_52374/unzip52374-9/2432506891/processed_GEDI02_A_2019141205215_O02485_01_T02982_02_003_01_V002.h5'), PosixPath('/gws/nopw/j04/forecol/data/GEDI/level2A/v002/amazon_basin/download_52374/unzip52374-9/2432508864/processed_GEDI02_A_2019142091342_O02493_04_T01567_02_003_01_V002.h5')] [in process_gedi_l2a_zip at /home/users/svm/Code/gedi_biomass_mapping/src/data/gedi_processing_pipeline.py:43]\n"
     ]
    },
    {
     "data": {
      "application/vnd.jupyter.widget-view+json": {
       "model_id": "0868a18d421f485e900599f5ae2d460a",
       "version_major": 2,
       "version_minor": 0
      },
      "text/plain": [
       "  0%|          | 0/5 [00:00<?, ?it/s]"
      ]
     },
     "metadata": {},
     "output_type": "display_data"
    },
    {
     "name": "stdout",
     "output_type": "stream",
     "text": [
      "2021-05-31 22:58:27,766 DEBUG: Processing granule /gws/nopw/j04/forecol/data/GEDI/level2A/v002/amazon_basin/download_52374/unzip52374-9/2432497566/processed_GEDI02_A_2019138110010_O02432_04_T05270_02_003_01_V002.h5 [in _extract_granule_data at /home/users/svm/Code/gedi_biomass_mapping/src/data/gedi_processing_pipeline.py:24]\n",
      "2021-05-31 22:59:21,524 DEBUG: Saving granule /gws/nopw/j04/forecol/data/GEDI/level2A/v002/amazon_basin/download_52374/unzip52374-9/2432497566/processed_GEDI02_A_2019138110010_O02432_04_T05270_02_003_01_V002.h5 [in process_gedi_l2a_zip at /home/users/svm/Code/gedi_biomass_mapping/src/data/gedi_processing_pipeline.py:53]\n",
      "2021-05-31 22:59:25,116 DEBUG: Processing granule /gws/nopw/j04/forecol/data/GEDI/level2A/v002/amazon_basin/download_52374/unzip52374-9/2432499419/processed_GEDI02_A_2019138214856_O02439_01_T00855_02_003_01_V002.h5 [in _extract_granule_data at /home/users/svm/Code/gedi_biomass_mapping/src/data/gedi_processing_pipeline.py:24]\n",
      "2021-05-31 23:01:23,190 DEBUG: Saving granule /gws/nopw/j04/forecol/data/GEDI/level2A/v002/amazon_basin/download_52374/unzip52374-9/2432499419/processed_GEDI02_A_2019138214856_O02439_01_T00855_02_003_01_V002.h5 [in process_gedi_l2a_zip at /home/users/svm/Code/gedi_biomass_mapping/src/data/gedi_processing_pipeline.py:53]\n",
      "2021-05-31 23:01:31,828 DEBUG: Processing granule /gws/nopw/j04/forecol/data/GEDI/level2A/v002/amazon_basin/download_52374/unzip52374-9/2432501691/processed_GEDI02_A_2019140092036_O02462_04_T01995_02_003_01_V002.h5 [in _extract_granule_data at /home/users/svm/Code/gedi_biomass_mapping/src/data/gedi_processing_pipeline.py:24]\n",
      "2021-05-31 23:02:08,250 DEBUG: Saving granule /gws/nopw/j04/forecol/data/GEDI/level2A/v002/amazon_basin/download_52374/unzip52374-9/2432501691/processed_GEDI02_A_2019140092036_O02462_04_T01995_02_003_01_V002.h5 [in process_gedi_l2a_zip at /home/users/svm/Code/gedi_biomass_mapping/src/data/gedi_processing_pipeline.py:53]\n",
      "2021-05-31 23:02:11,393 DEBUG: Processing granule /gws/nopw/j04/forecol/data/GEDI/level2A/v002/amazon_basin/download_52374/unzip52374-9/2432506891/processed_GEDI02_A_2019141205215_O02485_01_T02982_02_003_01_V002.h5 [in _extract_granule_data at /home/users/svm/Code/gedi_biomass_mapping/src/data/gedi_processing_pipeline.py:24]\n",
      "2021-05-31 23:04:10,424 DEBUG: Saving granule /gws/nopw/j04/forecol/data/GEDI/level2A/v002/amazon_basin/download_52374/unzip52374-9/2432506891/processed_GEDI02_A_2019141205215_O02485_01_T02982_02_003_01_V002.h5 [in process_gedi_l2a_zip at /home/users/svm/Code/gedi_biomass_mapping/src/data/gedi_processing_pipeline.py:53]\n",
      "2021-05-31 23:04:18,604 DEBUG: Processing granule /gws/nopw/j04/forecol/data/GEDI/level2A/v002/amazon_basin/download_52374/unzip52374-9/2432508864/processed_GEDI02_A_2019142091342_O02493_04_T01567_02_003_01_V002.h5 [in _extract_granule_data at /home/users/svm/Code/gedi_biomass_mapping/src/data/gedi_processing_pipeline.py:24]\n",
      "2021-05-31 23:06:09,459 DEBUG: Saving granule /gws/nopw/j04/forecol/data/GEDI/level2A/v002/amazon_basin/download_52374/unzip52374-9/2432508864/processed_GEDI02_A_2019142091342_O02493_04_T01567_02_003_01_V002.h5 [in process_gedi_l2a_zip at /home/users/svm/Code/gedi_biomass_mapping/src/data/gedi_processing_pipeline.py:53]\n",
      "2021-05-31 23:06:17,070 DEBUG: Deleting files [in process_gedi_l2a_zip at /home/users/svm/Code/gedi_biomass_mapping/src/data/gedi_processing_pipeline.py:58]\n",
      "2021-05-31 23:06:17,347 DEBUG: Processing order zip 52374-10 [in process_gedi_l2a_zip at /home/users/svm/Code/gedi_biomass_mapping/src/data/gedi_processing_pipeline.py:34]\n"
     ]
    },
    {
     "data": {
      "application/vnd.jupyter.widget-view+json": {
       "model_id": "",
       "version_major": 2,
       "version_minor": 0
      },
      "text/plain": [
       "  0%|          | 0/5 [00:00<?, ?it/s]"
      ]
     },
     "metadata": {},
     "output_type": "display_data"
    },
    {
     "name": "stdout",
     "output_type": "stream",
     "text": [
      "Temporary dir: /gws/nopw/j04/forecol/data/GEDI/level2A/v002/amazon_basin/download_52374/unzip52374-10/at5yhb23\n",
      "Extracted file: /gws/nopw/j04/forecol/data/GEDI/level2A/v002/amazon_basin/download_52374/unzip52374-10/at5yhb23/2432508975/processed_GEDI02_A_2019142200228_O02500_01_T05690_02_003_01_V002.h5 exists: True\n",
      "Moving file to /gws/nopw/j04/forecol/data/GEDI/level2A/v002/amazon_basin/download_52374/unzip52374-10/2432508975/processed_GEDI02_A_2019142200228_O02500_01_T05690_02_003_01_V002.h5\n",
      "Temporary dir: /gws/nopw/j04/forecol/data/GEDI/level2A/v002/amazon_basin/download_52374/unzip52374-10/vaazbwjd\n",
      "Extracted file: /gws/nopw/j04/forecol/data/GEDI/level2A/v002/amazon_basin/download_52374/unzip52374-10/vaazbwjd/2432509119/processed_GEDI02_A_2019143082354_O02508_04_T01276_02_003_01_V002.h5 exists: True\n",
      "Moving file to /gws/nopw/j04/forecol/data/GEDI/level2A/v002/amazon_basin/download_52374/unzip52374-10/2432509119/processed_GEDI02_A_2019143082354_O02508_04_T01276_02_003_01_V002.h5\n",
      "Temporary dir: /gws/nopw/j04/forecol/data/GEDI/level2A/v002/amazon_basin/download_52374/unzip52374-10/9nutypqd\n",
      "Extracted file: /gws/nopw/j04/forecol/data/GEDI/level2A/v002/amazon_basin/download_52374/unzip52374-10/9nutypqd/2432509774/processed_GEDI02_A_2019144195713_O02531_01_T00687_02_003_01_V002.h5 exists: True\n",
      "Moving file to /gws/nopw/j04/forecol/data/GEDI/level2A/v002/amazon_basin/download_52374/unzip52374-10/2432509774/processed_GEDI02_A_2019144195713_O02531_01_T00687_02_003_01_V002.h5\n",
      "Temporary dir: /gws/nopw/j04/forecol/data/GEDI/level2A/v002/amazon_basin/download_52374/unzip52374-10/ie56n_p3\n",
      "Extracted file: /gws/nopw/j04/forecol/data/GEDI/level2A/v002/amazon_basin/download_52374/unzip52374-10/ie56n_p3/2432510450/processed_GEDI02_A_2019145081925_O02539_04_T01965_02_003_01_V002.h5 exists: True\n",
      "Moving file to /gws/nopw/j04/forecol/data/GEDI/level2A/v002/amazon_basin/download_52374/unzip52374-10/2432510450/processed_GEDI02_A_2019145081925_O02539_04_T01965_02_003_01_V002.h5\n",
      "Temporary dir: /gws/nopw/j04/forecol/data/GEDI/level2A/v002/amazon_basin/download_52374/unzip52374-10/1wszv0y9\n",
      "Extracted file: /gws/nopw/j04/forecol/data/GEDI/level2A/v002/amazon_basin/download_52374/unzip52374-10/1wszv0y9/2432511067/processed_GEDI02_A_2019145190849_O02546_01_T00243_02_003_01_V002.h5 exists: True\n",
      "Moving file to /gws/nopw/j04/forecol/data/GEDI/level2A/v002/amazon_basin/download_52374/unzip52374-10/2432511067/processed_GEDI02_A_2019145190849_O02546_01_T00243_02_003_01_V002.h5\n",
      "2021-05-31 23:07:00,840 DEBUG: Found granules: [PosixPath('/gws/nopw/j04/forecol/data/GEDI/level2A/v002/amazon_basin/download_52374/unzip52374-10/2432508975/processed_GEDI02_A_2019142200228_O02500_01_T05690_02_003_01_V002.h5'), PosixPath('/gws/nopw/j04/forecol/data/GEDI/level2A/v002/amazon_basin/download_52374/unzip52374-10/2432509119/processed_GEDI02_A_2019143082354_O02508_04_T01276_02_003_01_V002.h5'), PosixPath('/gws/nopw/j04/forecol/data/GEDI/level2A/v002/amazon_basin/download_52374/unzip52374-10/2432509774/processed_GEDI02_A_2019144195713_O02531_01_T00687_02_003_01_V002.h5'), PosixPath('/gws/nopw/j04/forecol/data/GEDI/level2A/v002/amazon_basin/download_52374/unzip52374-10/2432510450/processed_GEDI02_A_2019145081925_O02539_04_T01965_02_003_01_V002.h5'), PosixPath('/gws/nopw/j04/forecol/data/GEDI/level2A/v002/amazon_basin/download_52374/unzip52374-10/2432511067/processed_GEDI02_A_2019145190849_O02546_01_T00243_02_003_01_V002.h5')] [in process_gedi_l2a_zip at /home/users/svm/Code/gedi_biomass_mapping/src/data/gedi_processing_pipeline.py:43]\n"
     ]
    },
    {
     "data": {
      "application/vnd.jupyter.widget-view+json": {
       "model_id": "7b299a5802214800b43ba3349159600e",
       "version_major": 2,
       "version_minor": 0
      },
      "text/plain": [
       "  0%|          | 0/5 [00:00<?, ?it/s]"
      ]
     },
     "metadata": {},
     "output_type": "display_data"
    },
    {
     "name": "stdout",
     "output_type": "stream",
     "text": [
      "2021-05-31 23:07:01,140 DEBUG: Processing granule /gws/nopw/j04/forecol/data/GEDI/level2A/v002/amazon_basin/download_52374/unzip52374-10/2432508975/processed_GEDI02_A_2019142200228_O02500_01_T05690_02_003_01_V002.h5 [in _extract_granule_data at /home/users/svm/Code/gedi_biomass_mapping/src/data/gedi_processing_pipeline.py:24]\n",
      "2021-05-31 23:08:26,553 DEBUG: Saving granule /gws/nopw/j04/forecol/data/GEDI/level2A/v002/amazon_basin/download_52374/unzip52374-10/2432508975/processed_GEDI02_A_2019142200228_O02500_01_T05690_02_003_01_V002.h5 [in process_gedi_l2a_zip at /home/users/svm/Code/gedi_biomass_mapping/src/data/gedi_processing_pipeline.py:53]\n",
      "2021-05-31 23:08:32,694 DEBUG: Processing granule /gws/nopw/j04/forecol/data/GEDI/level2A/v002/amazon_basin/download_52374/unzip52374-10/2432509119/processed_GEDI02_A_2019143082354_O02508_04_T01276_02_003_01_V002.h5 [in _extract_granule_data at /home/users/svm/Code/gedi_biomass_mapping/src/data/gedi_processing_pipeline.py:24]\n",
      "2021-05-31 23:10:03,118 DEBUG: Saving granule /gws/nopw/j04/forecol/data/GEDI/level2A/v002/amazon_basin/download_52374/unzip52374-10/2432509119/processed_GEDI02_A_2019143082354_O02508_04_T01276_02_003_01_V002.h5 [in process_gedi_l2a_zip at /home/users/svm/Code/gedi_biomass_mapping/src/data/gedi_processing_pipeline.py:53]\n",
      "2021-05-31 23:10:10,903 DEBUG: Processing granule /gws/nopw/j04/forecol/data/GEDI/level2A/v002/amazon_basin/download_52374/unzip52374-10/2432509774/processed_GEDI02_A_2019144195713_O02531_01_T00687_02_003_01_V002.h5 [in _extract_granule_data at /home/users/svm/Code/gedi_biomass_mapping/src/data/gedi_processing_pipeline.py:24]\n",
      "2021-05-31 23:11:02,387 DEBUG: Saving granule /gws/nopw/j04/forecol/data/GEDI/level2A/v002/amazon_basin/download_52374/unzip52374-10/2432509774/processed_GEDI02_A_2019144195713_O02531_01_T00687_02_003_01_V002.h5 [in process_gedi_l2a_zip at /home/users/svm/Code/gedi_biomass_mapping/src/data/gedi_processing_pipeline.py:53]\n",
      "2021-05-31 23:11:07,550 DEBUG: Processing granule /gws/nopw/j04/forecol/data/GEDI/level2A/v002/amazon_basin/download_52374/unzip52374-10/2432510450/processed_GEDI02_A_2019145081925_O02539_04_T01965_02_003_01_V002.h5 [in _extract_granule_data at /home/users/svm/Code/gedi_biomass_mapping/src/data/gedi_processing_pipeline.py:24]\n",
      "2021-05-31 23:11:48,957 DEBUG: Saving granule /gws/nopw/j04/forecol/data/GEDI/level2A/v002/amazon_basin/download_52374/unzip52374-10/2432510450/processed_GEDI02_A_2019145081925_O02539_04_T01965_02_003_01_V002.h5 [in process_gedi_l2a_zip at /home/users/svm/Code/gedi_biomass_mapping/src/data/gedi_processing_pipeline.py:53]\n",
      "2021-05-31 23:11:51,893 DEBUG: Processing granule /gws/nopw/j04/forecol/data/GEDI/level2A/v002/amazon_basin/download_52374/unzip52374-10/2432511067/processed_GEDI02_A_2019145190849_O02546_01_T00243_02_003_01_V002.h5 [in _extract_granule_data at /home/users/svm/Code/gedi_biomass_mapping/src/data/gedi_processing_pipeline.py:24]\n",
      "2021-05-31 23:13:50,539 DEBUG: Saving granule /gws/nopw/j04/forecol/data/GEDI/level2A/v002/amazon_basin/download_52374/unzip52374-10/2432511067/processed_GEDI02_A_2019145190849_O02546_01_T00243_02_003_01_V002.h5 [in process_gedi_l2a_zip at /home/users/svm/Code/gedi_biomass_mapping/src/data/gedi_processing_pipeline.py:53]\n",
      "2021-05-31 23:13:57,865 DEBUG: Deleting files [in process_gedi_l2a_zip at /home/users/svm/Code/gedi_biomass_mapping/src/data/gedi_processing_pipeline.py:58]\n",
      "2021-05-31 23:13:58,197 DEBUG: Processing order zip 52374-11 [in process_gedi_l2a_zip at /home/users/svm/Code/gedi_biomass_mapping/src/data/gedi_processing_pipeline.py:34]\n"
     ]
    },
    {
     "data": {
      "application/vnd.jupyter.widget-view+json": {
       "model_id": "",
       "version_major": 2,
       "version_minor": 0
      },
      "text/plain": [
       "  0%|          | 0/5 [00:00<?, ?it/s]"
      ]
     },
     "metadata": {},
     "output_type": "display_data"
    },
    {
     "name": "stdout",
     "output_type": "stream",
     "text": [
      "Temporary dir: /gws/nopw/j04/forecol/data/GEDI/level2A/v002/amazon_basin/download_52374/unzip52374-11/o4awrqob\n",
      "Extracted file: /gws/nopw/j04/forecol/data/GEDI/level2A/v002/amazon_basin/download_52374/unzip52374-11/o4awrqob/2432511624/processed_GEDI02_A_2019146073100_O02554_04_T01521_02_003_01_V002.h5 exists: True\n",
      "Moving file to /gws/nopw/j04/forecol/data/GEDI/level2A/v002/amazon_basin/download_52374/unzip52374-11/2432511624/processed_GEDI02_A_2019146073100_O02554_04_T01521_02_003_01_V002.h5\n",
      "Temporary dir: /gws/nopw/j04/forecol/data/GEDI/level2A/v002/amazon_basin/download_52374/unzip52374-11/vyfa1tk9\n",
      "Extracted file: /gws/nopw/j04/forecol/data/GEDI/level2A/v002/amazon_basin/download_52374/unzip52374-11/vyfa1tk9/2432511914/processed_GEDI02_A_2019146182025_O02561_01_T04068_02_003_01_V002.h5 exists: True\n",
      "Moving file to /gws/nopw/j04/forecol/data/GEDI/level2A/v002/amazon_basin/download_52374/unzip52374-11/2432511914/processed_GEDI02_A_2019146182025_O02561_01_T04068_02_003_01_V002.h5\n",
      "Temporary dir: /gws/nopw/j04/forecol/data/GEDI/level2A/v002/amazon_basin/download_52374/unzip52374-11/5imx_xvi\n",
      "Extracted file: /gws/nopw/j04/forecol/data/GEDI/level2A/v002/amazon_basin/download_52374/unzip52374-11/5imx_xvi/2432514124/processed_GEDI02_A_2019147064236_O02569_04_T05346_02_003_01_V002.h5 exists: True\n",
      "Moving file to /gws/nopw/j04/forecol/data/GEDI/level2A/v002/amazon_basin/download_52374/unzip52374-11/2432514124/processed_GEDI02_A_2019147064236_O02569_04_T05346_02_003_01_V002.h5\n",
      "Temporary dir: /gws/nopw/j04/forecol/data/GEDI/level2A/v002/amazon_basin/download_52374/unzip52374-11/c39dvu6e\n",
      "Extracted file: /gws/nopw/j04/forecol/data/GEDI/level2A/v002/amazon_basin/download_52374/unzip52374-11/c39dvu6e/2432517030/processed_GEDI02_A_2019148181622_O02592_01_T03181_02_003_01_V002.h5 exists: True\n",
      "Moving file to /gws/nopw/j04/forecol/data/GEDI/level2A/v002/amazon_basin/download_52374/unzip52374-11/2432517030/processed_GEDI02_A_2019148181622_O02592_01_T03181_02_003_01_V002.h5\n",
      "Temporary dir: /gws/nopw/j04/forecol/data/GEDI/level2A/v002/amazon_basin/download_52374/unzip52374-11/5kf0818j\n",
      "Extracted file: /gws/nopw/j04/forecol/data/GEDI/level2A/v002/amazon_basin/download_52374/unzip52374-11/5kf0818j/2432519528/processed_GEDI02_A_2019149063833_O02600_04_T01613_02_003_01_V002.h5 exists: True\n",
      "Moving file to /gws/nopw/j04/forecol/data/GEDI/level2A/v002/amazon_basin/download_52374/unzip52374-11/2432519528/processed_GEDI02_A_2019149063833_O02600_04_T01613_02_003_01_V002.h5\n",
      "2021-05-31 23:14:35,326 DEBUG: Found granules: [PosixPath('/gws/nopw/j04/forecol/data/GEDI/level2A/v002/amazon_basin/download_52374/unzip52374-11/2432511624/processed_GEDI02_A_2019146073100_O02554_04_T01521_02_003_01_V002.h5'), PosixPath('/gws/nopw/j04/forecol/data/GEDI/level2A/v002/amazon_basin/download_52374/unzip52374-11/2432511914/processed_GEDI02_A_2019146182025_O02561_01_T04068_02_003_01_V002.h5'), PosixPath('/gws/nopw/j04/forecol/data/GEDI/level2A/v002/amazon_basin/download_52374/unzip52374-11/2432514124/processed_GEDI02_A_2019147064236_O02569_04_T05346_02_003_01_V002.h5'), PosixPath('/gws/nopw/j04/forecol/data/GEDI/level2A/v002/amazon_basin/download_52374/unzip52374-11/2432517030/processed_GEDI02_A_2019148181622_O02592_01_T03181_02_003_01_V002.h5'), PosixPath('/gws/nopw/j04/forecol/data/GEDI/level2A/v002/amazon_basin/download_52374/unzip52374-11/2432519528/processed_GEDI02_A_2019149063833_O02600_04_T01613_02_003_01_V002.h5')] [in process_gedi_l2a_zip at /home/users/svm/Code/gedi_biomass_mapping/src/data/gedi_processing_pipeline.py:43]\n"
     ]
    },
    {
     "data": {
      "application/vnd.jupyter.widget-view+json": {
       "model_id": "5dc6cfbe42994e1ea67ad93f5339948d",
       "version_major": 2,
       "version_minor": 0
      },
      "text/plain": [
       "  0%|          | 0/5 [00:00<?, ?it/s]"
      ]
     },
     "metadata": {},
     "output_type": "display_data"
    },
    {
     "name": "stdout",
     "output_type": "stream",
     "text": [
      "2021-05-31 23:14:35,566 DEBUG: Processing granule /gws/nopw/j04/forecol/data/GEDI/level2A/v002/amazon_basin/download_52374/unzip52374-11/2432511624/processed_GEDI02_A_2019146073100_O02554_04_T01521_02_003_01_V002.h5 [in _extract_granule_data at /home/users/svm/Code/gedi_biomass_mapping/src/data/gedi_processing_pipeline.py:24]\n",
      "2021-05-31 23:16:36,778 DEBUG: Saving granule /gws/nopw/j04/forecol/data/GEDI/level2A/v002/amazon_basin/download_52374/unzip52374-11/2432511624/processed_GEDI02_A_2019146073100_O02554_04_T01521_02_003_01_V002.h5 [in process_gedi_l2a_zip at /home/users/svm/Code/gedi_biomass_mapping/src/data/gedi_processing_pipeline.py:53]\n",
      "2021-05-31 23:16:44,637 DEBUG: Processing granule /gws/nopw/j04/forecol/data/GEDI/level2A/v002/amazon_basin/download_52374/unzip52374-11/2432511914/processed_GEDI02_A_2019146182025_O02561_01_T04068_02_003_01_V002.h5 [in _extract_granule_data at /home/users/svm/Code/gedi_biomass_mapping/src/data/gedi_processing_pipeline.py:24]\n",
      "2021-05-31 23:17:33,541 DEBUG: Saving granule /gws/nopw/j04/forecol/data/GEDI/level2A/v002/amazon_basin/download_52374/unzip52374-11/2432511914/processed_GEDI02_A_2019146182025_O02561_01_T04068_02_003_01_V002.h5 [in process_gedi_l2a_zip at /home/users/svm/Code/gedi_biomass_mapping/src/data/gedi_processing_pipeline.py:53]\n",
      "2021-05-31 23:17:37,971 DEBUG: Processing granule /gws/nopw/j04/forecol/data/GEDI/level2A/v002/amazon_basin/download_52374/unzip52374-11/2432514124/processed_GEDI02_A_2019147064236_O02569_04_T05346_02_003_01_V002.h5 [in _extract_granule_data at /home/users/svm/Code/gedi_biomass_mapping/src/data/gedi_processing_pipeline.py:24]\n",
      "2021-05-31 23:18:36,432 DEBUG: Saving granule /gws/nopw/j04/forecol/data/GEDI/level2A/v002/amazon_basin/download_52374/unzip52374-11/2432514124/processed_GEDI02_A_2019147064236_O02569_04_T05346_02_003_01_V002.h5 [in process_gedi_l2a_zip at /home/users/svm/Code/gedi_biomass_mapping/src/data/gedi_processing_pipeline.py:53]\n",
      "2021-05-31 23:18:41,818 DEBUG: Processing granule /gws/nopw/j04/forecol/data/GEDI/level2A/v002/amazon_basin/download_52374/unzip52374-11/2432517030/processed_GEDI02_A_2019148181622_O02592_01_T03181_02_003_01_V002.h5 [in _extract_granule_data at /home/users/svm/Code/gedi_biomass_mapping/src/data/gedi_processing_pipeline.py:24]\n",
      "2021-05-31 23:20:07,040 DEBUG: Saving granule /gws/nopw/j04/forecol/data/GEDI/level2A/v002/amazon_basin/download_52374/unzip52374-11/2432517030/processed_GEDI02_A_2019148181622_O02592_01_T03181_02_003_01_V002.h5 [in process_gedi_l2a_zip at /home/users/svm/Code/gedi_biomass_mapping/src/data/gedi_processing_pipeline.py:53]\n",
      "2021-05-31 23:20:13,620 DEBUG: Processing granule /gws/nopw/j04/forecol/data/GEDI/level2A/v002/amazon_basin/download_52374/unzip52374-11/2432519528/processed_GEDI02_A_2019149063833_O02600_04_T01613_02_003_01_V002.h5 [in _extract_granule_data at /home/users/svm/Code/gedi_biomass_mapping/src/data/gedi_processing_pipeline.py:24]\n",
      "2021-05-31 23:21:22,159 DEBUG: Saving granule /gws/nopw/j04/forecol/data/GEDI/level2A/v002/amazon_basin/download_52374/unzip52374-11/2432519528/processed_GEDI02_A_2019149063833_O02600_04_T01613_02_003_01_V002.h5 [in process_gedi_l2a_zip at /home/users/svm/Code/gedi_biomass_mapping/src/data/gedi_processing_pipeline.py:53]\n",
      "2021-05-31 23:21:25,656 DEBUG: Deleting files [in process_gedi_l2a_zip at /home/users/svm/Code/gedi_biomass_mapping/src/data/gedi_processing_pipeline.py:58]\n",
      "2021-05-31 23:21:25,826 DEBUG: Processing order zip 52374-12 [in process_gedi_l2a_zip at /home/users/svm/Code/gedi_biomass_mapping/src/data/gedi_processing_pipeline.py:34]\n"
     ]
    },
    {
     "data": {
      "application/vnd.jupyter.widget-view+json": {
       "model_id": "",
       "version_major": 2,
       "version_minor": 0
      },
      "text/plain": [
       "  0%|          | 0/6 [00:00<?, ?it/s]"
      ]
     },
     "metadata": {},
     "output_type": "display_data"
    },
    {
     "name": "stdout",
     "output_type": "stream",
     "text": [
      "Temporary dir: /gws/nopw/j04/forecol/data/GEDI/level2A/v002/amazon_basin/download_52374/unzip52374-12/y4qvwxcw\n",
      "Extracted file: /gws/nopw/j04/forecol/data/GEDI/level2A/v002/amazon_basin/download_52374/unzip52374-12/y4qvwxcw/2432521900/processed_GEDI02_A_2019149172758_O02607_01_T04160_02_003_01_V002.h5 exists: True\n",
      "Moving file to /gws/nopw/j04/forecol/data/GEDI/level2A/v002/amazon_basin/download_52374/unzip52374-12/2432521900/processed_GEDI02_A_2019149172758_O02607_01_T04160_02_003_01_V002.h5\n",
      "Temporary dir: /gws/nopw/j04/forecol/data/GEDI/level2A/v002/amazon_basin/download_52374/unzip52374-12/6zlcraqm\n",
      "Extracted file: /gws/nopw/j04/forecol/data/GEDI/level2A/v002/amazon_basin/download_52374/unzip52374-12/6zlcraqm/2432523768/processed_GEDI02_A_2019150055009_O02615_04_T01169_02_003_01_V002.h5 exists: True\n",
      "Moving file to /gws/nopw/j04/forecol/data/GEDI/level2A/v002/amazon_basin/download_52374/unzip52374-12/2432523768/processed_GEDI02_A_2019150055009_O02615_04_T01169_02_003_01_V002.h5\n",
      "Temporary dir: /gws/nopw/j04/forecol/data/GEDI/level2A/v002/amazon_basin/download_52374/unzip52374-12/ekgq5ine\n",
      "Extracted file: /gws/nopw/j04/forecol/data/GEDI/level2A/v002/amazon_basin/download_52374/unzip52374-12/ekgq5ine/2432524342/processed_GEDI02_A_2019150163933_O02622_01_T02446_02_003_01_V002.h5 exists: True\n",
      "Moving file to /gws/nopw/j04/forecol/data/GEDI/level2A/v002/amazon_basin/download_52374/unzip52374-12/2432524342/processed_GEDI02_A_2019150163933_O02622_01_T02446_02_003_01_V002.h5\n",
      "Temporary dir: /gws/nopw/j04/forecol/data/GEDI/level2A/v002/amazon_basin/download_52374/unzip52374-12/p3wc68xn\n",
      "Extracted file: /gws/nopw/j04/forecol/data/GEDI/level2A/v002/amazon_basin/download_52374/unzip52374-12/p3wc68xn/2432524758/processed_GEDI02_A_2019151050144_O02630_04_T00725_02_003_01_V002.h5 exists: True\n",
      "Moving file to /gws/nopw/j04/forecol/data/GEDI/level2A/v002/amazon_basin/download_52374/unzip52374-12/2432524758/processed_GEDI02_A_2019151050144_O02630_04_T00725_02_003_01_V002.h5\n",
      "Temporary dir: /gws/nopw/j04/forecol/data/GEDI/level2A/v002/amazon_basin/download_52374/unzip52374-12/4_9b5tym\n",
      "Extracted file: /gws/nopw/j04/forecol/data/GEDI/level2A/v002/amazon_basin/download_52374/unzip52374-12/4_9b5tym/2432525237/processed_GEDI02_A_2019151172355_O02638_01_T02003_02_003_01_V002.h5 exists: True\n",
      "Moving file to /gws/nopw/j04/forecol/data/GEDI/level2A/v002/amazon_basin/download_52374/unzip52374-12/2432525237/processed_GEDI02_A_2019151172355_O02638_01_T02003_02_003_01_V002.h5\n",
      "Temporary dir: /gws/nopw/j04/forecol/data/GEDI/level2A/v002/amazon_basin/download_52374/unzip52374-12/a20uwgpb\n",
      "Extracted file: /gws/nopw/j04/forecol/data/GEDI/level2A/v002/amazon_basin/download_52374/unzip52374-12/a20uwgpb/2432528353/processed_GEDI02_A_2019153045741_O02661_04_T01261_02_003_01_V002.h5 exists: True\n",
      "Moving file to /gws/nopw/j04/forecol/data/GEDI/level2A/v002/amazon_basin/download_52374/unzip52374-12/2432528353/processed_GEDI02_A_2019153045741_O02661_04_T01261_02_003_01_V002.h5\n",
      "2021-05-31 23:22:07,138 DEBUG: Found granules: [PosixPath('/gws/nopw/j04/forecol/data/GEDI/level2A/v002/amazon_basin/download_52374/unzip52374-12/2432521900/processed_GEDI02_A_2019149172758_O02607_01_T04160_02_003_01_V002.h5'), PosixPath('/gws/nopw/j04/forecol/data/GEDI/level2A/v002/amazon_basin/download_52374/unzip52374-12/2432523768/processed_GEDI02_A_2019150055009_O02615_04_T01169_02_003_01_V002.h5'), PosixPath('/gws/nopw/j04/forecol/data/GEDI/level2A/v002/amazon_basin/download_52374/unzip52374-12/2432524342/processed_GEDI02_A_2019150163933_O02622_01_T02446_02_003_01_V002.h5'), PosixPath('/gws/nopw/j04/forecol/data/GEDI/level2A/v002/amazon_basin/download_52374/unzip52374-12/2432524758/processed_GEDI02_A_2019151050144_O02630_04_T00725_02_003_01_V002.h5'), PosixPath('/gws/nopw/j04/forecol/data/GEDI/level2A/v002/amazon_basin/download_52374/unzip52374-12/2432525237/processed_GEDI02_A_2019151172355_O02638_01_T02003_02_003_01_V002.h5'), PosixPath('/gws/nopw/j04/forecol/data/GEDI/level2A/v002/amazon_basin/download_52374/unzip52374-12/2432528353/processed_GEDI02_A_2019153045741_O02661_04_T01261_02_003_01_V002.h5')] [in process_gedi_l2a_zip at /home/users/svm/Code/gedi_biomass_mapping/src/data/gedi_processing_pipeline.py:43]\n"
     ]
    },
    {
     "data": {
      "application/vnd.jupyter.widget-view+json": {
       "model_id": "98d40c67b129446383740519508be349",
       "version_major": 2,
       "version_minor": 0
      },
      "text/plain": [
       "  0%|          | 0/6 [00:00<?, ?it/s]"
      ]
     },
     "metadata": {},
     "output_type": "display_data"
    },
    {
     "name": "stdout",
     "output_type": "stream",
     "text": [
      "2021-05-31 23:22:07,330 DEBUG: Processing granule /gws/nopw/j04/forecol/data/GEDI/level2A/v002/amazon_basin/download_52374/unzip52374-12/2432521900/processed_GEDI02_A_2019149172758_O02607_01_T04160_02_003_01_V002.h5 [in _extract_granule_data at /home/users/svm/Code/gedi_biomass_mapping/src/data/gedi_processing_pipeline.py:24]\n",
      "2021-05-31 23:24:01,489 DEBUG: Saving granule /gws/nopw/j04/forecol/data/GEDI/level2A/v002/amazon_basin/download_52374/unzip52374-12/2432521900/processed_GEDI02_A_2019149172758_O02607_01_T04160_02_003_01_V002.h5 [in process_gedi_l2a_zip at /home/users/svm/Code/gedi_biomass_mapping/src/data/gedi_processing_pipeline.py:53]\n"
     ]
    }
   ],
   "source": [
    "for zip_file in tqdm(zip_files):\n",
    "    process_gedi_l2a_zip(zip_file, save_dir)"
   ]
  },
  {
   "cell_type": "code",
   "execution_count": null,
   "id": "5aa56836-2203-4595-9fbc-d4173f6b164a",
   "metadata": {},
   "outputs": [],
   "source": [
    "for zip_file in tqdm(zip_files):\n",
    "    try:\n",
    "        process_gedi_l2a_zip(zip_file, save_dir)\n",
    "    except:\n",
    "        print(zip_file)"
   ]
  },
  {
   "cell_type": "code",
   "execution_count": 34,
   "id": "a8f530ad-1bcc-47f4-9a44-293663dcbb01",
   "metadata": {
    "execution": {
     "iopub.execute_input": "2021-05-31T20:31:14.599645Z",
     "iopub.status.busy": "2021-05-31T20:31:14.599256Z",
     "iopub.status.idle": "2021-05-31T20:31:14.639042Z",
     "shell.execute_reply": "2021-05-31T20:31:14.637954Z",
     "shell.execute_reply.started": "2021-05-31T20:31:14.599612Z"
    },
    "tags": []
   },
   "outputs": [
    {
     "name": "stdout",
     "output_type": "stream",
     "text": [
      "2021-05-31 21:31:14,633 DEBUG: Processing order zip 52374-1 [in <module> at <timed exec>:3]\n",
      "CPU times: user 1.93 ms, sys: 0 ns, total: 1.93 ms\n",
      "Wall time: 1.76 ms\n"
     ]
    }
   ],
   "source": [
    "%%time\n",
    "order_number = zip_path.name.split(\".\")[0]\n",
    "zip_number = zip_path.name.split(\"?\")[1]\n",
    "logger.debug(\"Processing order zip %s-%s\", order_number, zip_number)"
   ]
  },
  {
   "cell_type": "code",
   "execution_count": 35,
   "id": "7310011d-c2b0-47a3-b170-523ae88d0f98",
   "metadata": {
    "execution": {
     "iopub.execute_input": "2021-05-31T20:31:39.014283Z",
     "iopub.status.busy": "2021-05-31T20:31:39.013952Z",
     "iopub.status.idle": "2021-05-31T20:32:18.942469Z",
     "shell.execute_reply": "2021-05-31T20:32:18.941688Z",
     "shell.execute_reply.started": "2021-05-31T20:31:39.014248Z"
    }
   },
   "outputs": [
    {
     "data": {
      "application/vnd.jupyter.widget-view+json": {
       "model_id": "",
       "version_major": 2,
       "version_minor": 0
      },
      "text/plain": [
       "  0%|          | 0/7 [00:00<?, ?it/s]"
      ]
     },
     "metadata": {},
     "output_type": "display_data"
    },
    {
     "name": "stdout",
     "output_type": "stream",
     "text": [
      "Temporary dir: /gws/nopw/j04/forecol/data/GEDI/level2A/v002/amazon_basin/download_52374/unzip52374-1/9gk7o0ec\n",
      "Extracted file: /gws/nopw/j04/forecol/data/GEDI/level2A/v002/amazon_basin/download_52374/unzip52374-1/9gk7o0ec/README exists: True\n",
      "Moving file to /gws/nopw/j04/forecol/data/GEDI/level2A/v002/amazon_basin/download_52374/unzip52374-1/README\n",
      "Temporary dir: /gws/nopw/j04/forecol/data/GEDI/level2A/v002/amazon_basin/download_52374/unzip52374-1/nic7f_zj\n",
      "Extracted file: /gws/nopw/j04/forecol/data/GEDI/level2A/v002/amazon_basin/download_52374/unzip52374-1/nic7f_zj/2432361744/processed_GEDI02_A_2019112075017_O02026_01_T00059_02_003_01_V002.h5 exists: True\n",
      "Moving file to /gws/nopw/j04/forecol/data/GEDI/level2A/v002/amazon_basin/download_52374/unzip52374-1/2432361744/processed_GEDI02_A_2019112075017_O02026_01_T00059_02_003_01_V002.h5\n",
      "Temporary dir: /gws/nopw/j04/forecol/data/GEDI/level2A/v002/amazon_basin/download_52374/unzip52374-1/na99llw6\n",
      "Extracted file: /gws/nopw/j04/forecol/data/GEDI/level2A/v002/amazon_basin/download_52374/unzip52374-1/na99llw6/2432365567/processed_GEDI02_A_2019108093620_O01965_01_T05338_02_003_01_V002.h5 exists: True\n",
      "Moving file to /gws/nopw/j04/forecol/data/GEDI/level2A/v002/amazon_basin/download_52374/unzip52374-1/2432365567/processed_GEDI02_A_2019108093620_O01965_01_T05338_02_003_01_V002.h5\n",
      "Temporary dir: /gws/nopw/j04/forecol/data/GEDI/level2A/v002/amazon_basin/download_52374/unzip52374-1/5u7d6nfr\n",
      "Extracted file: /gws/nopw/j04/forecol/data/GEDI/level2A/v002/amazon_basin/download_52374/unzip52374-1/5u7d6nfr/2432365568/processed_GEDI02_A_2019110215109_O02004_04_T03189_02_003_01_V002.h5 exists: True\n",
      "Moving file to /gws/nopw/j04/forecol/data/GEDI/level2A/v002/amazon_basin/download_52374/unzip52374-1/2432365568/processed_GEDI02_A_2019110215109_O02004_04_T03189_02_003_01_V002.h5\n",
      "Temporary dir: /gws/nopw/j04/forecol/data/GEDI/level2A/v002/amazon_basin/download_52374/unzip52374-1/k9k9m0hy\n",
      "Extracted file: /gws/nopw/j04/forecol/data/GEDI/level2A/v002/amazon_basin/download_52374/unzip52374-1/k9k9m0hy/2432366773/processed_GEDI02_A_2019111210128_O02019_04_T04474_02_003_01_V002.h5 exists: True\n",
      "Moving file to /gws/nopw/j04/forecol/data/GEDI/level2A/v002/amazon_basin/download_52374/unzip52374-1/2432366773/processed_GEDI02_A_2019111210128_O02019_04_T04474_02_003_01_V002.h5\n",
      "Temporary dir: /gws/nopw/j04/forecol/data/GEDI/level2A/v002/amazon_basin/download_52374/unzip52374-1/bmdvkx0x\n",
      "Extracted file: /gws/nopw/j04/forecol/data/GEDI/level2A/v002/amazon_basin/download_52374/unzip52374-1/bmdvkx0x/2432369840/processed_GEDI02_A_2019110092939_O01996_01_T03334_02_003_01_V002.h5 exists: True\n",
      "Moving file to /gws/nopw/j04/forecol/data/GEDI/level2A/v002/amazon_basin/download_52374/unzip52374-1/2432369840/processed_GEDI02_A_2019110092939_O01996_01_T03334_02_003_01_V002.h5\n",
      "Temporary dir: /gws/nopw/j04/forecol/data/GEDI/level2A/v002/amazon_basin/download_52374/unzip52374-1/qpufwxlx\n",
      "Extracted file: /gws/nopw/j04/forecol/data/GEDI/level2A/v002/amazon_basin/download_52374/unzip52374-1/qpufwxlx/2432370230/processed_GEDI02_A_2019111083958_O02011_01_T04619_02_003_01_V002.h5 exists: True\n",
      "Moving file to /gws/nopw/j04/forecol/data/GEDI/level2A/v002/amazon_basin/download_52374/unzip52374-1/2432370230/processed_GEDI02_A_2019111083958_O02011_01_T04619_02_003_01_V002.h5\n",
      "CPU times: user 16 s, sys: 4.26 s, total: 20.3 s\n",
      "Wall time: 39.9 s\n"
     ]
    },
    {
     "data": {
      "text/plain": [
       "True"
      ]
     },
     "execution_count": 35,
     "metadata": {},
     "output_type": "execute_result"
    }
   ],
   "source": [
    "%%time\n",
    "# Step 2: unzipping\n",
    "tmp_unzip_path = zip_path.parent / f\"unzip{order_number}-{zip_number}\"\n",
    "tmp_unzip_path.mkdir(parents=True, exist_ok=True)\n",
    "unzip(zip_path, out_path=tmp_unzip_path, remove_archive_name=False)"
   ]
  },
  {
   "cell_type": "code",
   "execution_count": 37,
   "id": "9c0e8a73-1cb4-44c3-90f7-0aa13291d8c2",
   "metadata": {
    "execution": {
     "iopub.execute_input": "2021-05-31T20:32:36.804080Z",
     "iopub.status.busy": "2021-05-31T20:32:36.803789Z",
     "iopub.status.idle": "2021-05-31T20:32:36.906913Z",
     "shell.execute_reply": "2021-05-31T20:32:36.905572Z",
     "shell.execute_reply.started": "2021-05-31T20:32:36.804046Z"
    },
    "tags": []
   },
   "outputs": [
    {
     "name": "stdout",
     "output_type": "stream",
     "text": [
      "2021-05-31 21:32:36,900 DEBUG: Found granules: [PosixPath('/gws/nopw/j04/forecol/data/GEDI/level2A/v002/amazon_basin/download_52374/unzip52374-1/2432361744/processed_GEDI02_A_2019112075017_O02026_01_T00059_02_003_01_V002.h5'), PosixPath('/gws/nopw/j04/forecol/data/GEDI/level2A/v002/amazon_basin/download_52374/unzip52374-1/2432365567/processed_GEDI02_A_2019108093620_O01965_01_T05338_02_003_01_V002.h5'), PosixPath('/gws/nopw/j04/forecol/data/GEDI/level2A/v002/amazon_basin/download_52374/unzip52374-1/2432365568/processed_GEDI02_A_2019110215109_O02004_04_T03189_02_003_01_V002.h5'), PosixPath('/gws/nopw/j04/forecol/data/GEDI/level2A/v002/amazon_basin/download_52374/unzip52374-1/2432366773/processed_GEDI02_A_2019111210128_O02019_04_T04474_02_003_01_V002.h5'), PosixPath('/gws/nopw/j04/forecol/data/GEDI/level2A/v002/amazon_basin/download_52374/unzip52374-1/2432369840/processed_GEDI02_A_2019110092939_O01996_01_T03334_02_003_01_V002.h5'), PosixPath('/gws/nopw/j04/forecol/data/GEDI/level2A/v002/amazon_basin/download_52374/unzip52374-1/2432370230/processed_GEDI02_A_2019111083958_O02011_01_T04619_02_003_01_V002.h5')] [in <module> at <timed exec>:3]\n",
      "CPU times: user 3.35 ms, sys: 811 µs, total: 4.16 ms\n",
      "Wall time: 19.1 ms\n"
     ]
    }
   ],
   "source": [
    "%%time\n",
    "# Step 3: Find granules\n",
    "granules = list(sorted(tmp_unzip_path.glob(\"*/*.h5\")))\n",
    "logger.debug(\"Found granules: %s\", granules)"
   ]
  },
  {
   "cell_type": "code",
   "execution_count": 39,
   "id": "fa175fa9-dda4-4041-afe6-526d17e5e879",
   "metadata": {
    "execution": {
     "iopub.execute_input": "2021-05-31T20:32:55.394466Z",
     "iopub.status.busy": "2021-05-31T20:32:55.394052Z",
     "iopub.status.idle": "2021-05-31T20:32:55.436467Z",
     "shell.execute_reply": "2021-05-31T20:32:55.433829Z",
     "shell.execute_reply.started": "2021-05-31T20:32:55.394433Z"
    }
   },
   "outputs": [],
   "source": [
    "granule_path = granules[0]"
   ]
  },
  {
   "cell_type": "code",
   "execution_count": 41,
   "id": "87c7e208-e552-4e7d-9ca6-141a930e25ec",
   "metadata": {
    "execution": {
     "iopub.execute_input": "2021-05-31T20:33:15.885908Z",
     "iopub.status.busy": "2021-05-31T20:33:15.885593Z",
     "iopub.status.idle": "2021-05-31T20:33:15.926585Z",
     "shell.execute_reply": "2021-05-31T20:33:15.925756Z",
     "shell.execute_reply.started": "2021-05-31T20:33:15.885872Z"
    },
    "tags": []
   },
   "outputs": [
    {
     "name": "stdout",
     "output_type": "stream",
     "text": [
      "CPU times: user 41 µs, sys: 13 µs, total: 54 µs\n",
      "Wall time: 61.5 µs\n"
     ]
    }
   ],
   "source": [
    "%%time\n",
    "granule_name = granule_path.name.split(\".\")[0]\n",
    "save_name = save_dir / f\"test.gpkg\""
   ]
  },
  {
   "cell_type": "code",
   "execution_count": 42,
   "id": "359ff364-ba73-426d-824e-38b2062d9a7c",
   "metadata": {
    "execution": {
     "iopub.execute_input": "2021-05-31T20:33:58.167426Z",
     "iopub.status.busy": "2021-05-31T20:33:58.166954Z",
     "iopub.status.idle": "2021-05-31T20:34:06.383038Z",
     "shell.execute_reply": "2021-05-31T20:34:06.382212Z",
     "shell.execute_reply.started": "2021-05-31T20:33:58.167344Z"
    }
   },
   "outputs": [
    {
     "name": "stdout",
     "output_type": "stream",
     "text": [
      "2021-05-31 21:33:58,869 DEBUG: Processing granule /gws/nopw/j04/forecol/data/GEDI/level2A/v002/amazon_basin/download_52374/unzip52374-1/2432361744/processed_GEDI02_A_2019112075017_O02026_01_T00059_02_003_01_V002.h5 [in _extract_granule_data at /home/users/svm/Code/gedi_biomass_mapping/src/data/gedi_processing_pipeline.py:24]\n",
      "CPU times: user 4.21 s, sys: 935 ms, total: 5.15 s\n",
      "Wall time: 7.67 s\n"
     ]
    }
   ],
   "source": [
    "%%time\n",
    "granule_data = _extract_granule_data(granule_path)"
   ]
  },
  {
   "cell_type": "code",
   "execution_count": 49,
   "id": "f2c1610a-47cd-479b-b76f-8c6c5efa1315",
   "metadata": {
    "execution": {
     "iopub.execute_input": "2021-05-31T20:37:51.598439Z",
     "iopub.status.busy": "2021-05-31T20:37:51.598193Z",
     "iopub.status.idle": "2021-05-31T20:38:17.391446Z",
     "shell.execute_reply": "2021-05-31T20:38:17.390468Z",
     "shell.execute_reply.started": "2021-05-31T20:37:51.598406Z"
    },
    "tags": []
   },
   "outputs": [
    {
     "name": "stdout",
     "output_type": "stream",
     "text": [
      "2021-05-31 21:37:51,649 DEBUG: Saving granule /gws/nopw/j04/forecol/data/GEDI/level2A/v002/amazon_basin/download_52374/unzip52374-1/2432361744/processed_GEDI02_A_2019112075017_O02026_01_T00059_02_003_01_V002.h5 [in <module> at <timed exec>:3]\n",
      "CPU times: user 20.2 s, sys: 916 ms, total: 21.1 s\n",
      "Wall time: 25.7 s\n"
     ]
    }
   ],
   "source": [
    "%%time\n",
    "granule_name = granule_path.name.split(\".\")[0]\n",
    "save_name = save_dir / f\"test.gpkg\"\n",
    "logger.debug(\"Saving granule %s\", granule_path)\n",
    "save_name.parent.mkdir(exist_ok=True, parents=True)\n",
    "granule_data.to_file(save_name, driver=\"GPKG\")"
   ]
  },
  {
   "cell_type": "code",
   "execution_count": 48,
   "id": "9ecca97c-0439-49c3-84ba-dd28693f5701",
   "metadata": {
    "execution": {
     "iopub.execute_input": "2021-05-31T20:37:26.458099Z",
     "iopub.status.busy": "2021-05-31T20:37:26.457616Z",
     "iopub.status.idle": "2021-05-31T20:37:51.597036Z",
     "shell.execute_reply": "2021-05-31T20:37:51.596098Z",
     "shell.execute_reply.started": "2021-05-31T20:37:26.458062Z"
    },
    "tags": []
   },
   "outputs": [
    {
     "name": "stdout",
     "output_type": "stream",
     "text": [
      "2021-05-31 21:37:26,917 DEBUG: Saving granule /gws/nopw/j04/forecol/data/GEDI/level2A/v002/amazon_basin/download_52374/unzip52374-1/2432361744/processed_GEDI02_A_2019112075017_O02026_01_T00059_02_003_01_V002.h5 [in <module> at <timed exec>:1]\n",
      "CPU times: user 21.9 s, sys: 1.01 s, total: 23 s\n",
      "Wall time: 24.7 s\n"
     ]
    }
   ],
   "source": [
    "%%time\n",
    "logger.debug(\"Saving granule %s\", granule_path)\n",
    "save_name.parent.mkdir(exist_ok=True, parents=True)\n",
    "save_name = save_dir / f\"test.geojson\"\n",
    "granule_data.to_file(save_name, driver=\"GeoJSON\")"
   ]
  },
  {
   "cell_type": "code",
   "execution_count": 50,
   "id": "dd3b09c9-3693-421b-b3c8-8778ff25c374",
   "metadata": {
    "execution": {
     "iopub.execute_input": "2021-05-31T20:38:17.393885Z",
     "iopub.status.busy": "2021-05-31T20:38:17.393619Z",
     "iopub.status.idle": "2021-05-31T20:38:17.898836Z",
     "shell.execute_reply": "2021-05-31T20:38:17.895609Z",
     "shell.execute_reply.started": "2021-05-31T20:38:17.393847Z"
    },
    "tags": []
   },
   "outputs": [
    {
     "name": "stdout",
     "output_type": "stream",
     "text": [
      "2021-05-31 21:38:17,437 DEBUG: Saving granule /gws/nopw/j04/forecol/data/GEDI/level2A/v002/amazon_basin/download_52374/unzip52374-1/2432361744/processed_GEDI02_A_2019112075017_O02026_01_T00059_02_003_01_V002.h5 [in <module> at <timed exec>:1]\n"
     ]
    },
    {
     "name": "stderr",
     "output_type": "stream",
     "text": [
      "<timed exec>:4: UserWarning: this is an initial implementation of Parquet/Feather file support and associated metadata.  This is tracking version 0.1.0 of the metadata specification at https://github.com/geopandas/geo-arrow-spec\n",
      "\n",
      "This metadata specification does not yet make stability promises.  We do not yet recommend using this in a production setting unless you are able to rewrite your Parquet/Feather files.\n",
      "\n",
      "To further ignore this warning, you can do: \n",
      "import warnings; warnings.filterwarnings('ignore', message='.*initial implementation of Parquet.*')\n"
     ]
    },
    {
     "name": "stdout",
     "output_type": "stream",
     "text": [
      "CPU times: user 213 ms, sys: 15.2 ms, total: 228 ms\n",
      "Wall time: 454 ms\n"
     ]
    }
   ],
   "source": [
    "%%time\n",
    "logger.debug(\"Saving granule %s\", granule_path)\n",
    "save_name = save_dir / f\"test.geofeather\"\n",
    "save_name.parent.mkdir(exist_ok=True, parents=True)\n",
    "granule_data.to_feather(save_name)"
   ]
  },
  {
   "cell_type": "code",
   "execution_count": null,
   "id": "90d83f5b-8dc0-40c3-9886-24746d22840b",
   "metadata": {},
   "outputs": [],
   "source": []
  },
  {
   "cell_type": "code",
   "execution_count": null,
   "id": "d2170a75-4642-40bf-af9b-ba6be02fa802",
   "metadata": {},
   "outputs": [],
   "source": []
  }
 ],
 "metadata": {
  "kernelspec": {
   "display_name": "env",
   "language": "python",
   "name": "env"
  },
  "language_info": {
   "codemirror_mode": {
    "name": "ipython",
    "version": 3
   },
   "file_extension": ".py",
   "mimetype": "text/x-python",
   "name": "python",
   "nbconvert_exporter": "python",
   "pygments_lexer": "ipython3",
   "version": "3.9.2"
  }
 },
 "nbformat": 4,
 "nbformat_minor": 5
}
