{
 "cells": [
  {
   "cell_type": "code",
   "execution_count": 1,
   "id": "04739feb-7c82-46f4-bc4f-d12bc60c2e33",
   "metadata": {
    "ExecuteTime": {
     "start_time": "2021-05-20T14:36:05.262Z"
    },
    "execution": {
     "iopub.execute_input": "2021-05-20T20:33:03.490382Z",
     "iopub.status.busy": "2021-05-20T20:33:03.481855Z",
     "iopub.status.idle": "2021-05-20T20:33:05.114527Z",
     "shell.execute_reply": "2021-05-20T20:33:05.109435Z"
    },
    "tags": []
   },
   "outputs": [
    {
     "name": "stderr",
     "output_type": "stream",
     "text": [
      "Loading required package: raster\n",
      "Loading required package: sp\n"
     ]
    }
   ],
   "source": [
    "# The latest released version from CRAN with\n",
    "library(\"lidR\")"
   ]
  },
  {
   "cell_type": "code",
   "execution_count": 2,
   "id": "ea8f39b2",
   "metadata": {
    "execution": {
     "iopub.execute_input": "2021-05-20T20:33:05.137908Z",
     "iopub.status.busy": "2021-05-20T20:33:05.119793Z",
     "iopub.status.idle": "2021-05-20T20:33:05.299255Z",
     "shell.execute_reply": "2021-05-20T20:33:05.294127Z"
    },
    "tags": []
   },
   "outputs": [],
   "source": [
    "PAISAGENSLIDAR <- \"/gws/nopw/j04/forecol/data/Paisagenslidar\""
   ]
  },
  {
   "cell_type": "code",
   "execution_count": 3,
   "id": "e6f9b02f-370b-4b02-bef0-58eabae03400",
   "metadata": {
    "execution": {
     "iopub.execute_input": "2021-05-20T20:33:05.904367Z",
     "iopub.status.busy": "2021-05-20T20:33:05.901637Z",
     "iopub.status.idle": "2021-05-20T20:33:05.913638Z",
     "shell.execute_reply": "2021-05-20T20:33:05.910275Z"
    },
    "tags": []
   },
   "outputs": [],
   "source": [
    "sample_file <- \"/gws/nopw/j04/forecol/data/Paisagenslidar/Mission_2008/TAP_A06_2008_LiDAR/TAP_A06_2008_LiDAR/TAP_A06_2008_laz/TAP_A06_17-01.laz\""
   ]
  },
  {
   "cell_type": "code",
   "execution_count": 9,
   "id": "f06c8734-394d-4b02-bd32-152e5af6987d",
   "metadata": {
    "execution": {
     "iopub.execute_input": "2021-05-20T20:35:31.278337Z",
     "iopub.status.busy": "2021-05-20T20:35:31.276057Z",
     "iopub.status.idle": "2021-05-20T20:35:37.031920Z",
     "shell.execute_reply": "2021-05-20T20:35:37.028443Z"
    },
    "tags": []
   },
   "outputs": [],
   "source": [
    "las <- readLAS(sample_file)"
   ]
  },
  {
   "cell_type": "code",
   "execution_count": 6,
   "id": "753bc102-c55d-4f28-97ec-00e3a44a12c2",
   "metadata": {
    "execution": {
     "iopub.execute_input": "2021-05-20T20:35:05.108235Z",
     "iopub.status.busy": "2021-05-20T20:35:05.105116Z",
     "iopub.status.idle": "2021-05-20T20:35:06.482679Z",
     "shell.execute_reply": "2021-05-20T20:35:06.479193Z"
    }
   },
   "outputs": [
    {
     "name": "stdout",
     "output_type": "stream",
     "text": [
      "class        : LAS (v1.0 format 1)\n",
      "memory       : 705.7 Mb \n",
      "extent       : 727450.2, 728835, 9662113, 9663148 (xmin, xmax, ymin, ymax)\n",
      "coord. ref.  : NA \n",
      "area         : 0.87 kunits²\n",
      "points       : 9.25 million points\n",
      "density      : 10.65 points/units²\n"
     ]
    }
   ],
   "source": [
    "print(las)"
   ]
  },
  {
   "cell_type": "code",
   "execution_count": 10,
   "id": "d4679c4c-171e-401f-8d4b-3c8d454fc5e8",
   "metadata": {
    "execution": {
     "iopub.execute_input": "2021-05-20T20:36:33.174091Z",
     "iopub.status.busy": "2021-05-20T20:36:33.171848Z",
     "iopub.status.idle": "2021-05-20T20:36:33.183650Z",
     "shell.execute_reply": "2021-05-20T20:36:33.185654Z"
    }
   },
   "outputs": [
    {
     "data": {
      "text/plain": [
       "File signature:           LASF \n",
       "File source ID:           0 \n",
       "Global encoding:\n",
       " - GPS Time Type: GPS Week Time \n",
       " - Synthetic Return Numbers: no \n",
       " - Well Know Text: CRS is GeoTIFF \n",
       " - Aggregate Model: false \n",
       "Project ID - GUID:        00000000-0000-0000-0000-000000000000 \n",
       "Version:                  1.0\n",
       "System identifier:         \n",
       "Generating software:      TerraScan \n",
       "File creation d/y:        0/0\n",
       "header size:              227 \n",
       "Offset to point data:     229 \n",
       "Num. var. length record:  0 \n",
       "Point data format:        1 \n",
       "Point data record length: 28 \n",
       "Num. of point records:    9250115 \n",
       "Num. of points by return: 7388299 1712198 145994 3624 0 \n",
       "Scale factor X Y Z:       0.01 0.01 0.01 \n",
       "Offset X Y Z:             0 0 0 \n",
       "min X Y Z:                727450.2 9662113 60.82 \n",
       "max X Y Z:                728835 9663148 160.65 \n",
       "Variable length records:  void"
      ]
     },
     "metadata": {},
     "output_type": "display_data"
    }
   ],
   "source": [
    "las@header"
   ]
  },
  {
   "cell_type": "code",
   "execution_count": 11,
   "id": "0a34c090-a0ae-43b5-8390-e78f327edce9",
   "metadata": {
    "execution": {
     "iopub.execute_input": "2021-05-20T20:37:32.255084Z",
     "iopub.status.busy": "2021-05-20T20:37:32.252671Z",
     "iopub.status.idle": "2021-05-20T20:37:32.283174Z",
     "shell.execute_reply": "2021-05-20T20:37:32.284332Z"
    }
   },
   "outputs": [
    {
     "data": {
      "text/plain": [
       "CRS arguments: NA "
      ]
     },
     "metadata": {},
     "output_type": "display_data"
    }
   ],
   "source": [
    "las@proj4string"
   ]
  },
  {
   "cell_type": "code",
   "execution_count": 12,
   "id": "a3011e87-c667-4af2-b088-f00f427f3270",
   "metadata": {
    "execution": {
     "iopub.execute_input": "2021-05-20T20:38:25.511839Z",
     "iopub.status.busy": "2021-05-20T20:38:25.509742Z",
     "iopub.status.idle": "2021-05-20T20:38:25.593997Z",
     "shell.execute_reply": "2021-05-20T20:38:25.584783Z"
    }
   },
   "outputs": [
    {
     "data": {
      "text/html": [
       "<table>\n",
       "<thead><tr><th></th><th scope=col>min</th><th scope=col>max</th></tr></thead>\n",
       "<tbody>\n",
       "\t<tr><th scope=row>x</th><td> 727450.2</td><td> 728835  </td></tr>\n",
       "\t<tr><th scope=row>y</th><td>9662112.8</td><td>9663148  </td></tr>\n",
       "</tbody>\n",
       "</table>\n"
      ],
      "text/latex": [
       "\\begin{tabular}{r|ll}\n",
       "  & min & max\\\\\n",
       "\\hline\n",
       "\tx &  727450.2 &  728835  \\\\\n",
       "\ty & 9662112.8 & 9663148  \\\\\n",
       "\\end{tabular}\n"
      ],
      "text/markdown": [
       "\n",
       "| <!--/--> | min | max |\n",
       "|---|---|---|\n",
       "| x |  727450.2 |  728835   |\n",
       "| y | 9662112.8 | 9663148   |\n",
       "\n"
      ],
      "text/plain": [
       "  min       max    \n",
       "x  727450.2  728835\n",
       "y 9662112.8 9663148"
      ]
     },
     "metadata": {},
     "output_type": "display_data"
    }
   ],
   "source": [
    "las@bbox"
   ]
  },
  {
   "cell_type": "code",
   "execution_count": 14,
   "id": "394fc826-014a-465a-ae56-f61afcd7368b",
   "metadata": {
    "execution": {
     "iopub.execute_input": "2021-05-20T20:39:00.579288Z",
     "iopub.status.busy": "2021-05-20T20:39:00.576956Z",
     "iopub.status.idle": "2021-05-20T20:39:00.935231Z",
     "shell.execute_reply": "2021-05-20T20:39:00.933066Z"
    },
    "tags": []
   },
   "outputs": [
    {
     "data": {
      "text/plain": [
       "class        : LAS (v1.0 format 1)\n",
       "memory       : 705.7 Mb \n",
       "extent       : 727450.2, 728835, 9662113, 9663148 (xmin, xmax, ymin, ymax)\n",
       "coord. ref.  : NA \n",
       "area         : 0.87 kunits²\n",
       "points       : 9.25 million points\n",
       "density      : 10.65 points/units²"
      ]
     },
     "metadata": {},
     "output_type": "display_data"
    }
   ],
   "source": [
    "las"
   ]
  },
  {
   "cell_type": "code",
   "execution_count": 15,
   "id": "f4bedf4c-4111-46ba-9a6d-33516069f438",
   "metadata": {
    "execution": {
     "iopub.execute_input": "2021-05-20T20:41:56.814647Z",
     "iopub.status.busy": "2021-05-20T20:41:56.812539Z",
     "iopub.status.idle": "2021-05-20T20:41:56.824482Z",
     "shell.execute_reply": "2021-05-20T20:41:56.821510Z"
    }
   },
   "outputs": [
    {
     "ename": "ERROR",
     "evalue": "Error in graphics::locator(2L, type = \"o\"): plot.new has not been called yet\n",
     "output_type": "error",
     "traceback": [
      "Error in graphics::locator(2L, type = \"o\"): plot.new has not been called yet\nTraceback:\n",
      "1. clip_transect(las, width = 4, xz = TRUE)",
      "2. graphics::locator(2L, type = \"o\")"
     ]
    }
   ],
   "source": [
    "clip_transect(las, width = 4, xz = TRUE)"
   ]
  },
  {
   "cell_type": "code",
   "execution_count": 19,
   "id": "e485d82d-1b47-4d1a-81a1-6cd31fe191cc",
   "metadata": {
    "execution": {
     "iopub.execute_input": "2021-05-20T20:47:23.981780Z",
     "iopub.status.busy": "2021-05-20T20:47:23.978231Z",
     "iopub.status.idle": "2021-05-20T20:47:23.988048Z",
     "shell.execute_reply": "2021-05-20T20:47:23.983837Z"
    },
    "tags": []
   },
   "outputs": [],
   "source": [
    "plot_crossection <- function(las,\n",
    "                             p1 = c(min(las@data$X), mean(las@data$Y)),\n",
    "                             p2 = c(max(las@data$X), mean(las@data$Y)),\n",
    "                             width = 4, \n",
    "                             colour_by = NULL)\n",
    "{\n",
    "  #colour_by <- enquo(colour_by)\n",
    "  data_clip <- clip_transect(las, p1, p2, width)\n",
    "  p <- ggplot(data_clip@data, aes(X,Z)) + geom_point(size = 0.5) + coord_equal() + theme_minimal()\n",
    "\n",
    "  if (!is.null(colour_by))\n",
    "    p <- p + aes(color = !!colour_by) + labs(color = \"\")\n",
    "\n",
    "  return(p)\n",
    "}"
   ]
  },
  {
   "cell_type": "code",
   "execution_count": 22,
   "id": "e8fe5c48-1897-4b74-8f01-3c207d1a8963",
   "metadata": {
    "execution": {
     "iopub.execute_input": "2021-05-20T20:50:00.143207Z",
     "iopub.status.busy": "2021-05-20T20:50:00.140714Z",
     "iopub.status.idle": "2021-05-20T20:50:00.216059Z",
     "shell.execute_reply": "2021-05-20T20:50:00.212968Z"
    },
    "tags": []
   },
   "outputs": [
    {
     "ename": "ERROR",
     "evalue": "Error: No ground points found. Impossible to compute a DTM.\n",
     "output_type": "error",
     "traceback": [
      "Error: No ground points found. Impossible to compute a DTM.\nTraceback:\n",
      "1. grid_terrain(las, 1, knnidw())",
      "2. grid_terrain.LAS(las, 1, knnidw())",
      "3. stop(\"No ground points found. Impossible to compute a DTM.\", \n .     call. = FALSE)"
     ]
    }
   ],
   "source": [
    "dtm <- grid_terrain(las, 1, knnidw())\n",
    "plot(dtm, col = gray.colors(50, 0, 1))"
   ]
  },
  {
   "cell_type": "code",
   "execution_count": 27,
   "id": "e4bfcc6a-60d4-4a1a-99c9-607136570669",
   "metadata": {
    "execution": {
     "iopub.execute_input": "2021-05-20T21:10:28.087954Z",
     "iopub.status.busy": "2021-05-20T21:10:28.087592Z",
     "iopub.status.idle": "2021-05-20T21:11:44.218302Z",
     "shell.execute_reply": "2021-05-20T21:11:44.216465Z"
    }
   },
   "outputs": [
    {
     "name": "stdout",
     "output_type": "stream",
     "text": [
      "\n",
      " Checking the data\n",
      "  - Checking coordinates...\u001b[32m ✓\u001b[39m\n",
      "  - Checking coordinates type...\u001b[32m ✓\u001b[39m\n",
      "  - Checking coordinates quantization...\u001b[32m ✓\u001b[39m\n",
      "  - Checking attributes type...\u001b[32m ✓\u001b[39m\n",
      "  - Checking ReturnNumber validity...\u001b[32m ✓\u001b[39m\n",
      "  - Checking NumberOfReturns validity...\u001b[32m ✓\u001b[39m\n",
      "  - Checking ReturnNumber vs. NumberOfReturns...\u001b[32m ✓\u001b[39m\n",
      "  - Checking RGB validity...\u001b[32m ✓\u001b[39m\n",
      "  - Checking absence of NAs...\u001b[32m ✓\u001b[39m\n",
      "  - Checking duplicated points...\n",
      " \u001b[33m  ⚠ 18937 points are duplicated and share XYZ coordinates with other points\u001b[39m\n",
      "  - Checking degenerated ground points...\n",
      " \u001b[33m  ⚠ There were 4 degenerated ground points. Some X Y Z coordinates were repeated.\u001b[39m\n",
      " \u001b[33m  ⚠ There were 14 degenerated ground points. Some X Y coordinates were repeated but with different Z coordinates.\u001b[39m\n",
      "  - Checking attribute population...\u001b[32m ✓\u001b[39m\n",
      "  - Checking gpstime incoherances\u001b[32m ✓\u001b[39m\n",
      "  - Checking flag attributes...\u001b[32m ✓\u001b[39m\n",
      "  - Checking user data attribute...\n",
      " \u001b[33m  ⚠ 9250115 points have a non 0 UserData attribute. This probably has a meaning.\u001b[39m\n",
      " Checking the header\n",
      "  - Checking header completeness...\u001b[32m ✓\u001b[39m\n",
      "  - Checking scale factor validity...\u001b[32m ✓\u001b[39m\n",
      "  - Checking point data format ID validity...\u001b[32m ✓\u001b[39m\n",
      "  - Checking extra bytes attributes validity...\u001b[32m ✓\u001b[39m\n",
      "  - Checking the bounding box validity...\u001b[32m ✓\u001b[39m\n",
      "  - Checking coordinate reference sytem...\u001b[32m ✓\u001b[39m\n",
      " Checking header vs data adequacy\n",
      "  - Checking attributes vs. point format...\u001b[32m ✓\u001b[39m\n",
      "  - Checking header bbox vs. actual content...\u001b[32m ✓\u001b[39m\n",
      "  - Checking header number of points vs. actual content...\u001b[32m ✓\u001b[39m\n",
      "  - Checking header return number vs. actual content...\u001b[32m ✓\u001b[39m\n",
      " Checking preprocessing already done \n",
      "  - Checking ground classification...\u001b[32m yes\u001b[39m\n",
      "  - Checking normalization...\u001b[31m no\u001b[39m\n",
      "  - Checking negative outliers...\u001b[32m ✓\u001b[39m\n",
      "  - Checking flightline classification...\u001b[32m yes\u001b[39m"
     ]
    }
   ],
   "source": [
    "las_check(las)"
   ]
  },
  {
   "cell_type": "code",
   "execution_count": 24,
   "id": "1dc4286f-9d96-4b0e-8aee-40c065a997d7",
   "metadata": {
    "execution": {
     "iopub.execute_input": "2021-05-20T20:52:12.339326Z",
     "iopub.status.busy": "2021-05-20T20:52:12.337125Z",
     "iopub.status.idle": "2021-05-20T20:53:36.836668Z",
     "shell.execute_reply": "2021-05-20T20:53:36.833062Z"
    }
   },
   "outputs": [],
   "source": [
    "mycsf <- csf(sloop_smooth = TRUE, class_threshold = 1, cloth_resolution = 1, time_step = 1)\n",
    "las <- classify_ground(las, mycsf)\n",
    "nlas <- normalize_height(las, knnidw())"
   ]
  },
  {
   "cell_type": "code",
   "execution_count": 26,
   "id": "144e79a9-c7b4-44f8-bf40-2395249c4459",
   "metadata": {
    "execution": {
     "iopub.execute_input": "2021-05-20T21:09:36.090420Z",
     "iopub.status.busy": "2021-05-20T21:09:36.089540Z",
     "iopub.status.idle": "2021-05-20T21:09:41.289256Z",
     "shell.execute_reply": "2021-05-20T21:09:41.288075Z"
    },
    "tags": []
   },
   "outputs": [
    {
     "name": "stderr",
     "output_type": "stream",
     "text": [
      "Warning message:\n",
      "“There were 4 degenerated ground points. Some X Y Z coordinates were repeated. They were removed.”Warning message:\n",
      "“There were 14 degenerated ground points. Some X Y coordinates were repeated but with different Z coordinates. min Z were retained.”"
     ]
    },
    {
     "name": "stdout",
     "output_type": "stream",
     "text": [
      "Inverse distance weighting: [==================================================] 100% (24 threads)\r"
     ]
    },
    {
     "ename": "ERROR",
     "evalue": "Error: 9205837 points were not normalizable. Process aborted.\n",
     "output_type": "error",
     "traceback": [
      "Error: 9205837 points were not normalizable. Process aborted.\nTraceback:\n",
      "1. normalize_height(las, knnidw())",
      "2. normalize_height.LAS(las, knnidw())",
      "3. stop(glue::glue(\"{nnas} points were not normalizable. Process aborted.\"), \n .     call. = FALSE)"
     ]
    }
   ],
   "source": [
    "nlas <- normalize_height(las, knnidw())"
   ]
  },
  {
   "cell_type": "code",
   "execution_count": 20,
   "id": "369d2148-659a-4505-b3f7-e9b9ce106b02",
   "metadata": {
    "execution": {
     "iopub.execute_input": "2021-05-20T20:47:24.890376Z",
     "iopub.status.busy": "2021-05-20T20:47:24.887585Z",
     "iopub.status.idle": "2021-05-20T20:47:27.249258Z",
     "shell.execute_reply": "2021-05-20T20:47:27.247049Z"
    },
    "tags": []
   },
   "outputs": [
    {
     "name": "stderr",
     "output_type": "stream",
     "text": [
      "Warning message in fun(libname, pkgname):\n",
      "“rgeos: versions of GEOS runtime 3.9.1-CAPI-1.14.2\n",
      "and GEOS at installation 3.9.1dev-CAPI-1.14.1differ”"
     ]
    },
    {
     "ename": "ERROR",
     "evalue": "Error in ggplot(data_clip@data, aes(X, Z)): could not find function \"ggplot\"\n",
     "output_type": "error",
     "traceback": [
      "Error in ggplot(data_clip@data, aes(X, Z)): could not find function \"ggplot\"\nTraceback:\n",
      "1. plot_crossection(las)"
     ]
    }
   ],
   "source": [
    "plot_crossection(las)"
   ]
  },
  {
   "cell_type": "code",
   "execution_count": 28,
   "id": "84794ce4-37bc-48ea-90a8-db2fc8bfcdb4",
   "metadata": {
    "execution": {
     "iopub.execute_input": "2021-05-20T22:54:21.527455Z",
     "iopub.status.busy": "2021-05-20T22:54:21.525995Z",
     "iopub.status.idle": "2021-05-20T22:54:21.542398Z",
     "shell.execute_reply": "2021-05-20T22:54:21.541035Z"
    }
   },
   "outputs": [
    {
     "ename": "ERROR",
     "evalue": "Error in eval(expr, envir, enclos): object 'nlas' not found\n",
     "output_type": "error",
     "traceback": [
      "Error in eval(expr, envir, enclos): object 'nlas' not found\nTraceback:\n"
     ]
    }
   ],
   "source": [
    "nlas"
   ]
  },
  {
   "cell_type": "code",
   "execution_count": null,
   "id": "c4337d8f-5bf5-4f87-86b2-7eea0aa47b47",
   "metadata": {},
   "outputs": [],
   "source": []
  }
 ],
 "metadata": {
  "hide_input": false,
  "kernelspec": {
   "display_name": "R",
   "language": "R",
   "name": "ir"
  },
  "language_info": {
   "codemirror_mode": "r",
   "file_extension": ".r",
   "mimetype": "text/x-r-source",
   "name": "R",
   "pygments_lexer": "r",
   "version": "3.6.3"
  },
  "varInspector": {
   "cols": {
    "lenName": 16,
    "lenType": 16,
    "lenVar": 40
   },
   "kernels_config": {
    "python": {
     "delete_cmd_postfix": "",
     "delete_cmd_prefix": "del ",
     "library": "var_list.py",
     "varRefreshCmd": "print(var_dic_list())"
    },
    "r": {
     "delete_cmd_postfix": ") ",
     "delete_cmd_prefix": "rm(",
     "library": "var_list.r",
     "varRefreshCmd": "cat(var_dic_list()) "
    }
   },
   "types_to_exclude": [
    "module",
    "function",
    "builtin_function_or_method",
    "instance",
    "_Feature"
   ],
   "window_display": false
  }
 },
 "nbformat": 4,
 "nbformat_minor": 5
}
