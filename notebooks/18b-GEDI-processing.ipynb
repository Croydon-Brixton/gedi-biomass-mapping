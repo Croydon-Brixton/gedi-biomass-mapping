{
 "cells": [
  {
   "cell_type": "code",
   "execution_count": 23,
   "id": "f050ed94-ce2e-4888-b6a7-22c9b3466c03",
   "metadata": {
    "execution": {
     "iopub.execute_input": "2021-06-02T17:32:12.980699Z",
     "iopub.status.busy": "2021-06-02T17:32:12.980466Z",
     "iopub.status.idle": "2021-06-02T17:32:13.380632Z",
     "shell.execute_reply": "2021-06-02T17:32:13.380205Z",
     "shell.execute_reply.started": "2021-06-02T17:32:12.980679Z"
    },
    "tags": []
   },
   "outputs": [
    {
     "name": "stdout",
     "output_type": "stream",
     "text": [
      "The autoreload extension is already loaded. To reload it, use:\n",
      "  %reload_ext autoreload\n"
     ]
    }
   ],
   "source": [
    "# Convenient jupyter setup\n",
    "%load_ext autoreload\n",
    "%autoreload 2"
   ]
  },
  {
   "cell_type": "code",
   "execution_count": 24,
   "id": "72ba2fe3-63f5-4fdb-ab8b-227b2833b865",
   "metadata": {
    "execution": {
     "iopub.execute_input": "2021-06-02T17:32:13.414645Z",
     "iopub.status.busy": "2021-06-02T17:32:13.414516Z",
     "iopub.status.idle": "2021-06-02T17:32:13.436360Z",
     "shell.execute_reply": "2021-06-02T17:32:13.436060Z",
     "shell.execute_reply.started": "2021-06-02T17:32:13.414628Z"
    },
    "tags": []
   },
   "outputs": [],
   "source": [
    "from src.constants import GEDI_L2A_PATH\n",
    "from src.data.gedi_processing_pipeline import process_gedi_l2a_zip, _extract_granule_data\n",
    "from tqdm.autonotebook import tqdm\n",
    "save_dir = GEDI_L2A_PATH/ \"v002\" / \"amazon_basin\"\n",
    "order_folder = save_dir / \"download_52380\""
   ]
  },
  {
   "cell_type": "markdown",
   "id": "86b022b0-883f-4746-9e9f-7dee0b353b67",
   "metadata": {},
   "source": [
    "### Check for all zip files in directory"
   ]
  },
  {
   "cell_type": "code",
   "execution_count": 22,
   "id": "20cbb136-2532-41eb-9a32-84876159c15d",
   "metadata": {
    "execution": {
     "iopub.execute_input": "2021-06-02T17:29:22.763144Z",
     "iopub.status.busy": "2021-06-02T17:29:22.762866Z",
     "iopub.status.idle": "2021-06-02T17:29:22.791679Z",
     "shell.execute_reply": "2021-06-02T17:29:22.790965Z",
     "shell.execute_reply.started": "2021-06-02T17:29:22.763123Z"
    },
    "tags": []
   },
   "outputs": [
    {
     "name": "stdout",
     "output_type": "stream",
     "text": [
      "104\n"
     ]
    }
   ],
   "source": [
    "zip_files = list(sorted(order_folder.glob(\"*.zip?*\"), \n",
    "                        key=lambda path: int(path.name.split(\"?\")[-1])))[::-1]\n",
    "print(len(zip_files))"
   ]
  },
  {
   "cell_type": "markdown",
   "id": "3c4a3679-bb3b-450f-83d4-d1de1853b466",
   "metadata": {},
   "source": [
    "### Process all zip files in directory"
   ]
  },
  {
   "cell_type": "code",
   "execution_count": null,
   "id": "eaac601d-201b-4564-a23b-f842ea8b00f3",
   "metadata": {
    "tags": []
   },
   "outputs": [],
   "source": [
    "for zip_file in tqdm(zip_files):\n",
    "    process_gedi_l2a_zip(zip_file, save_dir)"
   ]
  }
 ],
 "metadata": {
  "kernelspec": {
   "display_name": "env",
   "language": "python",
   "name": "env"
  },
  "language_info": {
   "codemirror_mode": {
    "name": "ipython",
    "version": 3
   },
   "file_extension": ".py",
   "mimetype": "text/x-python",
   "name": "python",
   "nbconvert_exporter": "python",
   "pygments_lexer": "ipython3",
   "version": "3.9.2"
  }
 },
 "nbformat": 4,
 "nbformat_minor": 5
}
