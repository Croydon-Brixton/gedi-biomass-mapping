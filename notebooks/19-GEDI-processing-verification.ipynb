{
 "cells": [
  {
   "cell_type": "code",
   "execution_count": 1,
   "id": "50d4f782-1020-4c3c-a1d0-e4539f632adf",
   "metadata": {
    "execution": {
     "iopub.execute_input": "2021-06-03T10:42:13.788372Z",
     "iopub.status.idle": "2021-06-03T10:42:13.823457Z",
     "shell.execute_reply": "2021-06-03T10:42:13.822514Z",
     "shell.execute_reply.started": "2021-06-03T10:42:13.788277Z"
    },
    "tags": []
   },
   "outputs": [],
   "source": [
    "# Convenient jupyter setup\n",
    "%load_ext autoreload\n",
    "%autoreload 2"
   ]
  },
  {
   "cell_type": "code",
   "execution_count": 8,
   "id": "0a1061f8-b02d-48cf-8be9-c208f4a57f77",
   "metadata": {
    "execution": {
     "iopub.execute_input": "2021-06-03T10:52:11.762736Z",
     "iopub.status.busy": "2021-06-03T10:52:11.762287Z",
     "iopub.status.idle": "2021-06-03T10:52:12.730183Z",
     "shell.execute_reply": "2021-06-03T10:52:12.729255Z",
     "shell.execute_reply.started": "2021-06-03T10:52:11.762701Z"
    },
    "tags": []
   },
   "outputs": [],
   "source": [
    "from src.constants import GEDI_L2A_PATH\n",
    "from src.utils.os import list_content\n",
    "from src.utils.download import download\n",
    "save_dir = GEDI_L2A_PATH/ \"v002\" / \"amazon_basin\""
   ]
  },
  {
   "cell_type": "code",
   "execution_count": 9,
   "id": "fae0fc83-a471-433a-b294-145e2c3d3947",
   "metadata": {
    "execution": {
     "iopub.execute_input": "2021-06-03T10:52:12.731685Z",
     "iopub.status.busy": "2021-06-03T10:52:12.731361Z",
     "iopub.status.idle": "2021-06-03T10:52:13.022202Z",
     "shell.execute_reply": "2021-06-03T10:52:13.021076Z",
     "shell.execute_reply.started": "2021-06-03T10:52:12.731619Z"
    },
    "tags": []
   },
   "outputs": [],
   "source": [
    "overviews = list(save_dir.glob(\"*/*granule_overview*\"))\n",
    "orders = list(save_dir.glob(\"*order*\"))"
   ]
  },
  {
   "cell_type": "code",
   "execution_count": 10,
   "id": "c9c9175a-8ce9-403e-8b17-1e5f6d588d7b",
   "metadata": {
    "execution": {
     "iopub.execute_input": "2021-06-03T10:52:13.024510Z",
     "iopub.status.busy": "2021-06-03T10:52:13.024240Z",
     "iopub.status.idle": "2021-06-03T10:52:13.892527Z",
     "shell.execute_reply": "2021-06-03T10:52:13.891452Z",
     "shell.execute_reply.started": "2021-06-03T10:52:13.024478Z"
    },
    "tags": []
   },
   "outputs": [
    {
     "name": "stdout",
     "output_type": "stream",
     "text": [
      "Order: order52374\n",
      "\tExpected: 479\n",
      "\tProcessed: 479\n",
      "\tErroneous files: 0\n",
      "Order: order52375\n",
      "\tExpected: 492\n",
      "\tProcessed: 492\n",
      "\tErroneous files: 0\n",
      "Order: order52376\n",
      "\tExpected: 778\n",
      "\tProcessed: 778\n",
      "\tErroneous files: 0\n",
      "Order: order52377\n",
      "\tExpected: 480\n",
      "\tProcessed: 480\n",
      "\tErroneous files: 0\n",
      "Order: order52378\n",
      "\tExpected: 480\n",
      "\tProcessed: 480\n",
      "\tErroneous files: 0\n",
      "Order: order52379\n",
      "\tExpected: 772\n",
      "\tProcessed: 772\n",
      "\tErroneous files: 0\n",
      "Order: order52380\n",
      "\tExpected: 489\n",
      "\tProcessed: 489\n",
      "\tErroneous files: 0\n",
      "Order: order52381\n",
      "\tExpected: 488\n",
      "\tProcessed: 488\n",
      "\tErroneous files: 0\n",
      "Order: order52382\n",
      "\tExpected: 735\n",
      "\tProcessed: 735\n",
      "\tErroneous files: 0\n"
     ]
    }
   ],
   "source": [
    "missing_links = {}\n",
    "\n",
    "for overview, order in zip(overviews, orders):\n",
    "    \n",
    "    with open(overview, \"r\") as overview_file:\n",
    "        granule_links = overview_file.read().split(\"\\n\")\n",
    "        expected_granules = {link.split(\"/\")[-1].split(\".\")[0]: link for link in granule_links}\n",
    "        \n",
    "    processed_granules = list(order.glob(\"*.feather\"))\n",
    "    \n",
    "    processed_names = set([granule.name.split(\".\")[0] for granule in processed_granules])\n",
    "    expected_names = set(expected_granules.keys())\n",
    "    \n",
    "    erroneous = processed_names.difference(expected_names)\n",
    "    missing = expected_names.difference(processed_names)\n",
    "    \n",
    "    print(f\"Order: {order.name}\\n\\tExpected: {len(expected_granules)}\\n\\tProcessed: {len(processed_granules)}\")\n",
    "    print(f\"\\tErroneous files: {len(erroneous)}\")\n",
    "    if len(expected_granules) != len(processed_granules):\n",
    "        print(f\"\\t\\t ⚠️ Missing {len(missing)} granules ⚠️\")\n",
    "        missing_links[order] = [expected_granules[granule_name] for granule_name in missing]\n",
    "        "
   ]
  },
  {
   "cell_type": "code",
   "execution_count": 5,
   "id": "e93f6d99-3adc-45fd-9f4f-f96121e29c37",
   "metadata": {
    "execution": {
     "iopub.execute_input": "2021-06-03T10:42:18.788205Z",
     "iopub.status.busy": "2021-06-03T10:42:18.787921Z",
     "iopub.status.idle": "2021-06-03T10:42:18.823364Z",
     "shell.execute_reply": "2021-06-03T10:42:18.821465Z",
     "shell.execute_reply.started": "2021-06-03T10:42:18.788173Z"
    },
    "tags": []
   },
   "outputs": [],
   "source": [
    "# Save missing granule links to text files in respective folders for downloads\n",
    "\n",
    "#for order_path, granule_links in missing_links.items():  \n",
    "#    order_number = order_path.name.split(\"order\")[-1]\n",
    "#    download_path = order_path.parent / f\"download_{order_number}\"\n",
    "#    with open(download_path / \"missing_granules.txt\", \"w\") as file:\n",
    "#        file.write(\"\\n\".join(granule_links))"
   ]
  },
  {
   "cell_type": "code",
   "execution_count": 7,
   "id": "3d06ea16-aac5-4134-a845-0b61b164ddcd",
   "metadata": {
    "execution": {
     "iopub.execute_input": "2021-06-03T10:43:33.118418Z",
     "iopub.status.busy": "2021-06-03T10:43:33.118032Z",
     "iopub.status.idle": "2021-06-03T10:51:56.383836Z",
     "shell.execute_reply": "2021-06-03T10:51:56.375463Z",
     "shell.execute_reply.started": "2021-06-03T10:43:33.118360Z"
    },
    "tags": []
   },
   "outputs": [
    {
     "data": {
      "application/vnd.jupyter.widget-view+json": {
       "model_id": "3d556bcd13a2491a8ec098b161282d83",
       "version_major": 2,
       "version_minor": 0
      },
      "text/plain": [
       "0it [00:00, ?it/s]"
      ]
     },
     "metadata": {},
     "output_type": "display_data"
    },
    {
     "data": {
      "application/vnd.jupyter.widget-view+json": {
       "model_id": "f25c95958d974ea9ab72e6e26df29337",
       "version_major": 2,
       "version_minor": 0
      },
      "text/plain": [
       "  0%|          | 0/7 [00:00<?, ?it/s]"
      ]
     },
     "metadata": {},
     "output_type": "display_data"
    },
    {
     "name": "stdout",
     "output_type": "stream",
     "text": [
      "2021-06-03 11:43:34,768 WARNING: Data for beam BEAM0000 in granule processed_GEDI02_A_2019133011454_O02348_01_T02294_02_003_01_V002.h5 incomplete. Beam skipped. [in _extract_granule_data at /home/users/svm/Code/gedi_biomass_mapping/src/data/gedi_processing_pipeline.py:70]\n",
      "2021-06-03 11:43:35,386 WARNING: Data for beam BEAM0001 in granule processed_GEDI02_A_2019133011454_O02348_01_T02294_02_003_01_V002.h5 incomplete. Beam skipped. [in _extract_granule_data at /home/users/svm/Code/gedi_biomass_mapping/src/data/gedi_processing_pipeline.py:70]\n",
      "2021-06-03 11:43:35,390 WARNING: Data for beam BEAM0010 in granule processed_GEDI02_A_2019133011454_O02348_01_T02294_02_003_01_V002.h5 incomplete. Beam skipped. [in _extract_granule_data at /home/users/svm/Code/gedi_biomass_mapping/src/data/gedi_processing_pipeline.py:70]\n",
      "2021-06-03 11:43:35,592 WARNING: Data for beam BEAM0011 in granule processed_GEDI02_A_2019133011454_O02348_01_T02294_02_003_01_V002.h5 incomplete. Beam skipped. [in _extract_granule_data at /home/users/svm/Code/gedi_biomass_mapping/src/data/gedi_processing_pipeline.py:70]\n"
     ]
    },
    {
     "name": "stderr",
     "output_type": "stream",
     "text": [
      "<ipython-input-7-ad8c772f37aa>:16: UserWarning: this is an initial implementation of Parquet/Feather file support and associated metadata.  This is tracking version 0.1.0 of the metadata specification at https://github.com/geopandas/geo-arrow-spec\n",
      "\n",
      "This metadata specification does not yet make stability promises.  We do not yet recommend using this in a production setting unless you are able to rewrite your Parquet/Feather files.\n",
      "\n",
      "To further ignore this warning, you can do: \n",
      "import warnings; warnings.filterwarnings('ignore', message='.*initial implementation of Parquet.*')\n",
      "  granule_data.to_feather(save_name)\n"
     ]
    },
    {
     "name": "stdout",
     "output_type": "stream",
     "text": [
      "2021-06-03 11:43:38,516 WARNING: Data for beam BEAM0000 in granule processed_GEDI02_A_2019141083048_O02477_03_T00281_02_003_01_V002.h5 incomplete. Beam skipped. [in _extract_granule_data at /home/users/svm/Code/gedi_biomass_mapping/src/data/gedi_processing_pipeline.py:70]\n",
      "2021-06-03 11:43:38,826 WARNING: Data for beam BEAM0001 in granule processed_GEDI02_A_2019141083048_O02477_03_T00281_02_003_01_V002.h5 incomplete. Beam skipped. [in _extract_granule_data at /home/users/svm/Code/gedi_biomass_mapping/src/data/gedi_processing_pipeline.py:70]\n",
      "2021-06-03 11:43:40,254 WARNING: Data for beam BEAM0101 in granule processed_GEDI02_A_2019141083048_O02477_03_T00281_02_003_01_V002.h5 incomplete. Beam skipped. [in _extract_granule_data at /home/users/svm/Code/gedi_biomass_mapping/src/data/gedi_processing_pipeline.py:70]\n",
      "2021-06-03 11:43:40,886 WARNING: Data for beam BEAM1000 in granule processed_GEDI02_A_2019141083048_O02477_03_T00281_02_003_01_V002.h5 incomplete. Beam skipped. [in _extract_granule_data at /home/users/svm/Code/gedi_biomass_mapping/src/data/gedi_processing_pipeline.py:70]\n",
      "2021-06-03 11:43:40,895 WARNING: Data for beam BEAM1011 in granule processed_GEDI02_A_2019141083048_O02477_03_T00281_02_003_01_V002.h5 incomplete. Beam skipped. [in _extract_granule_data at /home/users/svm/Code/gedi_biomass_mapping/src/data/gedi_processing_pipeline.py:70]\n",
      "2021-06-03 11:43:44,258 WARNING: Data for beam BEAM0010 in granule processed_GEDI02_A_2019184043951_O03142_02_T00626_02_003_01_V002.h5 incomplete. Beam skipped. [in _extract_granule_data at /home/users/svm/Code/gedi_biomass_mapping/src/data/gedi_processing_pipeline.py:70]\n",
      "2021-06-03 11:43:50,155 WARNING: Data for beam BEAM0010 in granule processed_GEDI02_A_2019191020746_O03249_02_T03059_02_003_01_V002.h5 incomplete. Beam skipped. [in _extract_granule_data at /home/users/svm/Code/gedi_biomass_mapping/src/data/gedi_processing_pipeline.py:70]\n",
      "2021-06-03 11:43:50,230 WARNING: Data for beam BEAM0011 in granule processed_GEDI02_A_2019191020746_O03249_02_T03059_02_003_01_V002.h5 incomplete. Beam skipped. [in _extract_granule_data at /home/users/svm/Code/gedi_biomass_mapping/src/data/gedi_processing_pipeline.py:70]\n",
      "2021-06-03 11:43:57,432 WARNING: Data for beam BEAM0101 in granule processed_GEDI02_A_2019202210705_O03432_02_T03273_02_003_02_V002.h5 incomplete. Beam skipped. [in _extract_granule_data at /home/users/svm/Code/gedi_biomass_mapping/src/data/gedi_processing_pipeline.py:70]\n",
      "2021-06-03 11:43:57,457 WARNING: Data for beam BEAM0110 in granule processed_GEDI02_A_2019202210705_O03432_02_T03273_02_003_02_V002.h5 incomplete. Beam skipped. [in _extract_granule_data at /home/users/svm/Code/gedi_biomass_mapping/src/data/gedi_processing_pipeline.py:70]\n",
      "2021-06-03 11:43:57,463 WARNING: Data for beam BEAM1000 in granule processed_GEDI02_A_2019202210705_O03432_02_T03273_02_003_02_V002.h5 incomplete. Beam skipped. [in _extract_granule_data at /home/users/svm/Code/gedi_biomass_mapping/src/data/gedi_processing_pipeline.py:70]\n",
      "2021-06-03 11:43:57,499 WARNING: Data for beam BEAM1011 in granule processed_GEDI02_A_2019202210705_O03432_02_T03273_02_003_02_V002.h5 incomplete. Beam skipped. [in _extract_granule_data at /home/users/svm/Code/gedi_biomass_mapping/src/data/gedi_processing_pipeline.py:70]\n",
      "2021-06-03 11:43:58,926 WARNING: Data for beam BEAM0000 in granule processed_GEDI02_A_2020037142722_O06530_01_T02294_02_003_01_V002.h5 incomplete. Beam skipped. [in _extract_granule_data at /home/users/svm/Code/gedi_biomass_mapping/src/data/gedi_processing_pipeline.py:70]\n",
      "2021-06-03 11:43:59,484 WARNING: Data for beam BEAM0001 in granule processed_GEDI02_A_2020037142722_O06530_01_T02294_02_003_01_V002.h5 incomplete. Beam skipped. [in _extract_granule_data at /home/users/svm/Code/gedi_biomass_mapping/src/data/gedi_processing_pipeline.py:70]\n",
      "2021-06-03 11:43:59,500 WARNING: Data for beam BEAM0010 in granule processed_GEDI02_A_2020037142722_O06530_01_T02294_02_003_01_V002.h5 incomplete. Beam skipped. [in _extract_granule_data at /home/users/svm/Code/gedi_biomass_mapping/src/data/gedi_processing_pipeline.py:70]\n",
      "2021-06-03 11:43:59,685 WARNING: Data for beam BEAM0011 in granule processed_GEDI02_A_2020037142722_O06530_01_T02294_02_003_01_V002.h5 incomplete. Beam skipped. [in _extract_granule_data at /home/users/svm/Code/gedi_biomass_mapping/src/data/gedi_processing_pipeline.py:70]\n",
      "2021-06-03 11:44:04,325 WARNING: Data for beam BEAM0010 in granule processed_GEDI02_A_2020097142031_O07460_02_T01391_02_003_01_V002.h5 incomplete. Beam skipped. [in _extract_granule_data at /home/users/svm/Code/gedi_biomass_mapping/src/data/gedi_processing_pipeline.py:70]\n",
      "2021-06-03 11:44:04,347 WARNING: Data for beam BEAM0011 in granule processed_GEDI02_A_2020097142031_O07460_02_T01391_02_003_01_V002.h5 incomplete. Beam skipped. [in _extract_granule_data at /home/users/svm/Code/gedi_biomass_mapping/src/data/gedi_processing_pipeline.py:70]\n"
     ]
    },
    {
     "data": {
      "application/vnd.jupyter.widget-view+json": {
       "model_id": "64aa7ccdc0284488bedb3efbc2011efb",
       "version_major": 2,
       "version_minor": 0
      },
      "text/plain": [
       "  0%|          | 0/13 [00:00<?, ?it/s]"
      ]
     },
     "metadata": {},
     "output_type": "display_data"
    },
    {
     "name": "stdout",
     "output_type": "stream",
     "text": [
      "2021-06-03 11:44:10,140 WARNING: Data for beam BEAM0010 in granule processed_GEDI02_A_2019109210809_O01988_04_T02056_02_003_01_V002.h5 incomplete. Beam skipped. [in _extract_granule_data at /home/users/svm/Code/gedi_biomass_mapping/src/data/gedi_processing_pipeline.py:70]\n",
      "2021-06-03 11:44:10,143 WARNING: Data for beam BEAM0011 in granule processed_GEDI02_A_2019109210809_O01988_04_T02056_02_003_01_V002.h5 incomplete. Beam skipped. [in _extract_granule_data at /home/users/svm/Code/gedi_biomass_mapping/src/data/gedi_processing_pipeline.py:70]\n",
      "2021-06-03 11:44:10,146 WARNING: Data for beam BEAM0101 in granule processed_GEDI02_A_2019109210809_O01988_04_T02056_02_003_01_V002.h5 incomplete. Beam skipped. [in _extract_granule_data at /home/users/svm/Code/gedi_biomass_mapping/src/data/gedi_processing_pipeline.py:70]\n",
      "2021-06-03 11:44:10,149 WARNING: Data for beam BEAM0110 in granule processed_GEDI02_A_2019109210809_O01988_04_T02056_02_003_01_V002.h5 incomplete. Beam skipped. [in _extract_granule_data at /home/users/svm/Code/gedi_biomass_mapping/src/data/gedi_processing_pipeline.py:70]\n",
      "2021-06-03 11:44:10,151 WARNING: Data for beam BEAM1000 in granule processed_GEDI02_A_2019109210809_O01988_04_T02056_02_003_01_V002.h5 incomplete. Beam skipped. [in _extract_granule_data at /home/users/svm/Code/gedi_biomass_mapping/src/data/gedi_processing_pipeline.py:70]\n",
      "2021-06-03 11:44:10,154 WARNING: Data for beam BEAM1011 in granule processed_GEDI02_A_2019109210809_O01988_04_T02056_02_003_01_V002.h5 incomplete. Beam skipped. [in _extract_granule_data at /home/users/svm/Code/gedi_biomass_mapping/src/data/gedi_processing_pipeline.py:70]\n",
      "2021-06-03 11:44:12,846 WARNING: Data for beam BEAM0010 in granule processed_GEDI02_A_2019141083048_O02477_04_T00281_02_003_01_V002.h5 incomplete. Beam skipped. [in _extract_granule_data at /home/users/svm/Code/gedi_biomass_mapping/src/data/gedi_processing_pipeline.py:70]\n",
      "2021-06-03 11:44:12,850 WARNING: Data for beam BEAM0011 in granule processed_GEDI02_A_2019141083048_O02477_04_T00281_02_003_01_V002.h5 incomplete. Beam skipped. [in _extract_granule_data at /home/users/svm/Code/gedi_biomass_mapping/src/data/gedi_processing_pipeline.py:70]\n",
      "2021-06-03 11:44:13,381 WARNING: Data for beam BEAM0110 in granule processed_GEDI02_A_2019141083048_O02477_04_T00281_02_003_01_V002.h5 incomplete. Beam skipped. [in _extract_granule_data at /home/users/svm/Code/gedi_biomass_mapping/src/data/gedi_processing_pipeline.py:70]\n",
      "2021-06-03 11:44:18,823 WARNING: Data for beam BEAM1000 in granule processed_GEDI02_A_2019188025942_O03203_01_T01697_02_003_01_V002.h5 incomplete. Beam skipped. [in _extract_granule_data at /home/users/svm/Code/gedi_biomass_mapping/src/data/gedi_processing_pipeline.py:70]\n",
      "2021-06-03 11:44:18,835 WARNING: Data for beam BEAM1011 in granule processed_GEDI02_A_2019188025942_O03203_01_T01697_02_003_01_V002.h5 incomplete. Beam skipped. [in _extract_granule_data at /home/users/svm/Code/gedi_biomass_mapping/src/data/gedi_processing_pipeline.py:70]\n",
      "2021-06-03 11:44:20,716 WARNING: Data for beam BEAM0010 in granule processed_GEDI02_A_2019199215905_O03386_01_T01911_02_003_02_V002.h5 incomplete. Beam skipped. [in _extract_granule_data at /home/users/svm/Code/gedi_biomass_mapping/src/data/gedi_processing_pipeline.py:70]\n",
      "2021-06-03 11:44:20,720 WARNING: Data for beam BEAM0011 in granule processed_GEDI02_A_2019199215905_O03386_01_T01911_02_003_02_V002.h5 incomplete. Beam skipped. [in _extract_granule_data at /home/users/svm/Code/gedi_biomass_mapping/src/data/gedi_processing_pipeline.py:70]\n",
      "2021-06-03 11:44:24,287 WARNING: Data for beam BEAM0000 in granule processed_GEDI02_A_2019202210705_O03432_01_T03273_02_003_02_V002.h5 incomplete. Beam skipped. [in _extract_granule_data at /home/users/svm/Code/gedi_biomass_mapping/src/data/gedi_processing_pipeline.py:70]\n",
      "2021-06-03 11:44:24,621 WARNING: Data for beam BEAM0001 in granule processed_GEDI02_A_2019202210705_O03432_01_T03273_02_003_02_V002.h5 incomplete. Beam skipped. [in _extract_granule_data at /home/users/svm/Code/gedi_biomass_mapping/src/data/gedi_processing_pipeline.py:70]\n",
      "2021-06-03 11:44:24,625 WARNING: Data for beam BEAM0010 in granule processed_GEDI02_A_2019202210705_O03432_01_T03273_02_003_02_V002.h5 incomplete. Beam skipped. [in _extract_granule_data at /home/users/svm/Code/gedi_biomass_mapping/src/data/gedi_processing_pipeline.py:70]\n",
      "2021-06-03 11:44:24,813 WARNING: Data for beam BEAM0011 in granule processed_GEDI02_A_2019202210705_O03432_01_T03273_02_003_02_V002.h5 incomplete. Beam skipped. [in _extract_granule_data at /home/users/svm/Code/gedi_biomass_mapping/src/data/gedi_processing_pipeline.py:70]\n",
      "2021-06-03 11:44:32,645 WARNING: Data for beam BEAM1011 in granule processed_GEDI02_A_2019257110927_O04279_04_T04122_02_003_01_V002.h5 incomplete. Beam skipped. [in _extract_granule_data at /home/users/svm/Code/gedi_biomass_mapping/src/data/gedi_processing_pipeline.py:70]\n",
      "2021-06-03 11:44:38,296 WARNING: Data for beam BEAM1000 in granule processed_GEDI02_A_2019319222420_O05248_01_T02217_02_003_01_V002.h5 incomplete. Beam skipped. [in _extract_granule_data at /home/users/svm/Code/gedi_biomass_mapping/src/data/gedi_processing_pipeline.py:70]\n",
      "2021-06-03 11:44:38,332 WARNING: Data for beam BEAM1011 in granule processed_GEDI02_A_2019319222420_O05248_01_T02217_02_003_01_V002.h5 incomplete. Beam skipped. [in _extract_granule_data at /home/users/svm/Code/gedi_biomass_mapping/src/data/gedi_processing_pipeline.py:70]\n",
      "2021-06-03 11:44:44,084 WARNING: Data for beam BEAM1011 in granule processed_GEDI02_A_2020023190756_O06316_01_T05063_02_003_01_V002.h5 incomplete. Beam skipped. [in _extract_granule_data at /home/users/svm/Code/gedi_biomass_mapping/src/data/gedi_processing_pipeline.py:70]\n",
      "2021-06-03 11:44:46,133 WARNING: Data for beam BEAM0000 in granule processed_GEDI02_A_2020033160052_O06469_01_T03564_02_003_01_V002.h5 incomplete. Beam skipped. [in _extract_granule_data at /home/users/svm/Code/gedi_biomass_mapping/src/data/gedi_processing_pipeline.py:70]\n",
      "2021-06-03 11:44:46,952 WARNING: Data for beam BEAM0001 in granule processed_GEDI02_A_2020033160052_O06469_01_T03564_02_003_01_V002.h5 incomplete. Beam skipped. [in _extract_granule_data at /home/users/svm/Code/gedi_biomass_mapping/src/data/gedi_processing_pipeline.py:70]\n",
      "2021-06-03 11:45:03,851 WARNING: Data for beam BEAM0010 in granule processed_GEDI02_A_2020091032901_O07360_03_T04917_02_003_01_V002.h5 incomplete. Beam skipped. [in _extract_granule_data at /home/users/svm/Code/gedi_biomass_mapping/src/data/gedi_processing_pipeline.py:70]\n",
      "2021-06-03 11:45:03,864 WARNING: Data for beam BEAM0011 in granule processed_GEDI02_A_2020091032901_O07360_03_T04917_02_003_01_V002.h5 incomplete. Beam skipped. [in _extract_granule_data at /home/users/svm/Code/gedi_biomass_mapping/src/data/gedi_processing_pipeline.py:70]\n",
      "2021-06-03 11:45:26,347 WARNING: Data for beam BEAM1011 in granule processed_GEDI02_A_2020094150611_O07414_01_T02217_02_003_01_V002.h5 incomplete. Beam skipped. [in _extract_granule_data at /home/users/svm/Code/gedi_biomass_mapping/src/data/gedi_processing_pipeline.py:70]\n",
      "2021-06-03 11:45:27,385 WARNING: Data for beam BEAM0000 in granule processed_GEDI02_A_2020097142031_O07460_01_T01391_02_003_01_V002.h5 incomplete. Beam skipped. [in _extract_granule_data at /home/users/svm/Code/gedi_biomass_mapping/src/data/gedi_processing_pipeline.py:70]\n",
      "2021-06-03 11:45:27,766 WARNING: Data for beam BEAM0001 in granule processed_GEDI02_A_2020097142031_O07460_01_T01391_02_003_01_V002.h5 incomplete. Beam skipped. [in _extract_granule_data at /home/users/svm/Code/gedi_biomass_mapping/src/data/gedi_processing_pipeline.py:70]\n",
      "2021-06-03 11:45:28,238 WARNING: Data for beam BEAM0101 in granule processed_GEDI02_A_2020097142031_O07460_01_T01391_02_003_01_V002.h5 incomplete. Beam skipped. [in _extract_granule_data at /home/users/svm/Code/gedi_biomass_mapping/src/data/gedi_processing_pipeline.py:70]\n",
      "2021-06-03 11:45:28,241 WARNING: Data for beam BEAM0110 in granule processed_GEDI02_A_2020097142031_O07460_01_T01391_02_003_01_V002.h5 incomplete. Beam skipped. [in _extract_granule_data at /home/users/svm/Code/gedi_biomass_mapping/src/data/gedi_processing_pipeline.py:70]\n",
      "2021-06-03 11:45:28,243 WARNING: Data for beam BEAM1000 in granule processed_GEDI02_A_2020097142031_O07460_01_T01391_02_003_01_V002.h5 incomplete. Beam skipped. [in _extract_granule_data at /home/users/svm/Code/gedi_biomass_mapping/src/data/gedi_processing_pipeline.py:70]\n",
      "2021-06-03 11:45:28,246 WARNING: Data for beam BEAM1011 in granule processed_GEDI02_A_2020097142031_O07460_01_T01391_02_003_01_V002.h5 incomplete. Beam skipped. [in _extract_granule_data at /home/users/svm/Code/gedi_biomass_mapping/src/data/gedi_processing_pipeline.py:70]\n",
      "2021-06-03 11:45:29,958 WARNING: Data for beam BEAM0000 in granule processed_GEDI02_A_2020101002520_O07513_04_T04382_02_003_01_V002.h5 incomplete. Beam skipped. [in _extract_granule_data at /home/users/svm/Code/gedi_biomass_mapping/src/data/gedi_processing_pipeline.py:70]\n",
      "2021-06-03 11:45:30,386 WARNING: Data for beam BEAM0001 in granule processed_GEDI02_A_2020101002520_O07513_04_T04382_02_003_01_V002.h5 incomplete. Beam skipped. [in _extract_granule_data at /home/users/svm/Code/gedi_biomass_mapping/src/data/gedi_processing_pipeline.py:70]\n"
     ]
    },
    {
     "data": {
      "application/vnd.jupyter.widget-view+json": {
       "model_id": "85c1edbf1e164f7cbcfa9bffac13a7eb",
       "version_major": 2,
       "version_minor": 0
      },
      "text/plain": [
       "0it [00:00, ?it/s]"
      ]
     },
     "metadata": {},
     "output_type": "display_data"
    },
    {
     "data": {
      "application/vnd.jupyter.widget-view+json": {
       "model_id": "93d975fbdf5145d982bbecc1c306b3cf",
       "version_major": 2,
       "version_minor": 0
      },
      "text/plain": [
       "  0%|          | 0/8 [00:00<?, ?it/s]"
      ]
     },
     "metadata": {},
     "output_type": "display_data"
    },
    {
     "name": "stdout",
     "output_type": "stream",
     "text": [
      "2021-06-03 11:45:35,858 WARNING: Data for beam BEAM0000 in granule processed_GEDI02_A_2019124145322_O02217_03_T04152_02_003_01_V002.h5 incomplete. Beam skipped. [in _extract_granule_data at /home/users/svm/Code/gedi_biomass_mapping/src/data/gedi_processing_pipeline.py:70]\n",
      "2021-06-03 11:45:36,154 WARNING: Data for beam BEAM0001 in granule processed_GEDI02_A_2019124145322_O02217_03_T04152_02_003_01_V002.h5 incomplete. Beam skipped. [in _extract_granule_data at /home/users/svm/Code/gedi_biomass_mapping/src/data/gedi_processing_pipeline.py:70]\n",
      "2021-06-03 11:45:37,663 WARNING: Data for beam BEAM0101 in granule processed_GEDI02_A_2019124145322_O02217_03_T04152_02_003_01_V002.h5 incomplete. Beam skipped. [in _extract_granule_data at /home/users/svm/Code/gedi_biomass_mapping/src/data/gedi_processing_pipeline.py:70]\n",
      "2021-06-03 11:45:38,220 WARNING: Data for beam BEAM1000 in granule processed_GEDI02_A_2019124145322_O02217_03_T04152_02_003_01_V002.h5 incomplete. Beam skipped. [in _extract_granule_data at /home/users/svm/Code/gedi_biomass_mapping/src/data/gedi_processing_pipeline.py:70]\n",
      "2021-06-03 11:45:38,228 WARNING: Data for beam BEAM1011 in granule processed_GEDI02_A_2019124145322_O02217_03_T04152_02_003_01_V002.h5 incomplete. Beam skipped. [in _extract_granule_data at /home/users/svm/Code/gedi_biomass_mapping/src/data/gedi_processing_pipeline.py:70]\n",
      "2021-06-03 11:45:39,193 WARNING: Data for beam BEAM0000 in granule processed_GEDI02_A_2019138092729_O02431_03_T01000_02_003_01_V002.h5 incomplete. Beam skipped. [in _extract_granule_data at /home/users/svm/Code/gedi_biomass_mapping/src/data/gedi_processing_pipeline.py:70]\n",
      "2021-06-03 11:45:39,868 WARNING: Data for beam BEAM0001 in granule processed_GEDI02_A_2019138092729_O02431_03_T01000_02_003_01_V002.h5 incomplete. Beam skipped. [in _extract_granule_data at /home/users/svm/Code/gedi_biomass_mapping/src/data/gedi_processing_pipeline.py:70]\n",
      "2021-06-03 11:45:41,009 WARNING: Data for beam BEAM0101 in granule processed_GEDI02_A_2019138092729_O02431_03_T01000_02_003_01_V002.h5 incomplete. Beam skipped. [in _extract_granule_data at /home/users/svm/Code/gedi_biomass_mapping/src/data/gedi_processing_pipeline.py:70]\n",
      "2021-06-03 11:45:41,049 WARNING: Data for beam BEAM0110 in granule processed_GEDI02_A_2019138092729_O02431_03_T01000_02_003_01_V002.h5 incomplete. Beam skipped. [in _extract_granule_data at /home/users/svm/Code/gedi_biomass_mapping/src/data/gedi_processing_pipeline.py:70]\n",
      "2021-06-03 11:45:41,054 WARNING: Data for beam BEAM1000 in granule processed_GEDI02_A_2019138092729_O02431_03_T01000_02_003_01_V002.h5 incomplete. Beam skipped. [in _extract_granule_data at /home/users/svm/Code/gedi_biomass_mapping/src/data/gedi_processing_pipeline.py:70]\n",
      "2021-06-03 11:45:41,060 WARNING: Data for beam BEAM1011 in granule processed_GEDI02_A_2019138092729_O02431_03_T01000_02_003_01_V002.h5 incomplete. Beam skipped. [in _extract_granule_data at /home/users/svm/Code/gedi_biomass_mapping/src/data/gedi_processing_pipeline.py:70]\n",
      "2021-06-03 11:45:45,805 WARNING: Data for beam BEAM0110 in granule processed_GEDI02_A_2019188012655_O03202_01_T04542_02_003_01_V002.h5 incomplete. Beam skipped. [in _extract_granule_data at /home/users/svm/Code/gedi_biomass_mapping/src/data/gedi_processing_pipeline.py:70]\n",
      "2021-06-03 11:45:45,809 WARNING: Data for beam BEAM1000 in granule processed_GEDI02_A_2019188012655_O03202_01_T04542_02_003_01_V002.h5 incomplete. Beam skipped. [in _extract_granule_data at /home/users/svm/Code/gedi_biomass_mapping/src/data/gedi_processing_pipeline.py:70]\n",
      "2021-06-03 11:45:45,835 WARNING: Data for beam BEAM1011 in granule processed_GEDI02_A_2019188012655_O03202_01_T04542_02_003_01_V002.h5 incomplete. Beam skipped. [in _extract_granule_data at /home/users/svm/Code/gedi_biomass_mapping/src/data/gedi_processing_pipeline.py:70]\n",
      "2021-06-03 11:45:46,871 WARNING: Data for beam BEAM0000 in granule processed_GEDI02_A_2019319222420_O05248_01_T02217_02_003_01_V002.h5 incomplete. Beam skipped. [in _extract_granule_data at /home/users/svm/Code/gedi_biomass_mapping/src/data/gedi_processing_pipeline.py:70]\n",
      "2021-06-03 11:45:47,298 WARNING: Data for beam BEAM0001 in granule processed_GEDI02_A_2019319222420_O05248_01_T02217_02_003_01_V002.h5 incomplete. Beam skipped. [in _extract_granule_data at /home/users/svm/Code/gedi_biomass_mapping/src/data/gedi_processing_pipeline.py:70]\n",
      "2021-06-03 11:45:47,303 WARNING: Data for beam BEAM0010 in granule processed_GEDI02_A_2019319222420_O05248_01_T02217_02_003_01_V002.h5 incomplete. Beam skipped. [in _extract_granule_data at /home/users/svm/Code/gedi_biomass_mapping/src/data/gedi_processing_pipeline.py:70]\n",
      "2021-06-03 11:45:47,459 WARNING: Data for beam BEAM0011 in granule processed_GEDI02_A_2019319222420_O05248_01_T02217_02_003_01_V002.h5 incomplete. Beam skipped. [in _extract_granule_data at /home/users/svm/Code/gedi_biomass_mapping/src/data/gedi_processing_pipeline.py:70]\n",
      "2021-06-03 11:45:47,463 WARNING: Data for beam BEAM0101 in granule processed_GEDI02_A_2019319222420_O05248_01_T02217_02_003_01_V002.h5 incomplete. Beam skipped. [in _extract_granule_data at /home/users/svm/Code/gedi_biomass_mapping/src/data/gedi_processing_pipeline.py:70]\n",
      "2021-06-03 11:45:47,468 WARNING: Data for beam BEAM0110 in granule processed_GEDI02_A_2019319222420_O05248_01_T02217_02_003_01_V002.h5 incomplete. Beam skipped. [in _extract_granule_data at /home/users/svm/Code/gedi_biomass_mapping/src/data/gedi_processing_pipeline.py:70]\n",
      "2021-06-03 11:45:48,637 WARNING: Data for beam BEAM0000 in granule processed_GEDI02_A_2020023190756_O06316_01_T05063_02_003_01_V002.h5 incomplete. Beam skipped. [in _extract_granule_data at /home/users/svm/Code/gedi_biomass_mapping/src/data/gedi_processing_pipeline.py:70]\n",
      "2021-06-03 11:45:48,700 WARNING: Data for beam BEAM0001 in granule processed_GEDI02_A_2020023190756_O06316_01_T05063_02_003_01_V002.h5 incomplete. Beam skipped. [in _extract_granule_data at /home/users/svm/Code/gedi_biomass_mapping/src/data/gedi_processing_pipeline.py:70]\n",
      "2021-06-03 11:45:48,705 WARNING: Data for beam BEAM0010 in granule processed_GEDI02_A_2020023190756_O06316_01_T05063_02_003_01_V002.h5 incomplete. Beam skipped. [in _extract_granule_data at /home/users/svm/Code/gedi_biomass_mapping/src/data/gedi_processing_pipeline.py:70]\n",
      "2021-06-03 11:45:48,897 WARNING: Data for beam BEAM0011 in granule processed_GEDI02_A_2020023190756_O06316_01_T05063_02_003_01_V002.h5 incomplete. Beam skipped. [in _extract_granule_data at /home/users/svm/Code/gedi_biomass_mapping/src/data/gedi_processing_pipeline.py:70]\n",
      "2021-06-03 11:45:48,901 WARNING: Data for beam BEAM0101 in granule processed_GEDI02_A_2020023190756_O06316_01_T05063_02_003_01_V002.h5 incomplete. Beam skipped. [in _extract_granule_data at /home/users/svm/Code/gedi_biomass_mapping/src/data/gedi_processing_pipeline.py:70]\n",
      "2021-06-03 11:45:48,904 WARNING: Data for beam BEAM0110 in granule processed_GEDI02_A_2020023190756_O06316_01_T05063_02_003_01_V002.h5 incomplete. Beam skipped. [in _extract_granule_data at /home/users/svm/Code/gedi_biomass_mapping/src/data/gedi_processing_pipeline.py:70]\n",
      "2021-06-03 11:45:48,908 WARNING: Data for beam BEAM1000 in granule processed_GEDI02_A_2020023190756_O06316_01_T05063_02_003_01_V002.h5 incomplete. Beam skipped. [in _extract_granule_data at /home/users/svm/Code/gedi_biomass_mapping/src/data/gedi_processing_pipeline.py:70]\n",
      "2021-06-03 11:45:54,486 WARNING: Data for beam BEAM0110 in granule processed_GEDI02_A_2020054055332_O06788_01_T04542_02_003_01_V002.h5 incomplete. Beam skipped. [in _extract_granule_data at /home/users/svm/Code/gedi_biomass_mapping/src/data/gedi_processing_pipeline.py:70]\n",
      "2021-06-03 11:45:54,491 WARNING: Data for beam BEAM1000 in granule processed_GEDI02_A_2020054055332_O06788_01_T04542_02_003_01_V002.h5 incomplete. Beam skipped. [in _extract_granule_data at /home/users/svm/Code/gedi_biomass_mapping/src/data/gedi_processing_pipeline.py:70]\n",
      "2021-06-03 11:45:54,510 WARNING: Data for beam BEAM1011 in granule processed_GEDI02_A_2020054055332_O06788_01_T04542_02_003_01_V002.h5 incomplete. Beam skipped. [in _extract_granule_data at /home/users/svm/Code/gedi_biomass_mapping/src/data/gedi_processing_pipeline.py:70]\n",
      "2021-06-03 11:45:55,538 WARNING: Data for beam BEAM0000 in granule processed_GEDI02_A_2020075220410_O07124_02_T03502_02_003_01_V002.h5 incomplete. Beam skipped. [in _extract_granule_data at /home/users/svm/Code/gedi_biomass_mapping/src/data/gedi_processing_pipeline.py:70]\n",
      "2021-06-03 11:45:55,822 WARNING: Data for beam BEAM0001 in granule processed_GEDI02_A_2020075220410_O07124_02_T03502_02_003_01_V002.h5 incomplete. Beam skipped. [in _extract_granule_data at /home/users/svm/Code/gedi_biomass_mapping/src/data/gedi_processing_pipeline.py:70]\n",
      "2021-06-03 11:45:55,828 WARNING: Data for beam BEAM0010 in granule processed_GEDI02_A_2020075220410_O07124_02_T03502_02_003_01_V002.h5 incomplete. Beam skipped. [in _extract_granule_data at /home/users/svm/Code/gedi_biomass_mapping/src/data/gedi_processing_pipeline.py:70]\n",
      "2021-06-03 11:45:56,174 WARNING: Data for beam BEAM0011 in granule processed_GEDI02_A_2020075220410_O07124_02_T03502_02_003_01_V002.h5 incomplete. Beam skipped. [in _extract_granule_data at /home/users/svm/Code/gedi_biomass_mapping/src/data/gedi_processing_pipeline.py:70]\n",
      "2021-06-03 11:45:58,955 WARNING: Data for beam BEAM0000 in granule processed_GEDI02_A_2020094150611_O07414_01_T02217_02_003_01_V002.h5 incomplete. Beam skipped. [in _extract_granule_data at /home/users/svm/Code/gedi_biomass_mapping/src/data/gedi_processing_pipeline.py:70]\n",
      "2021-06-03 11:45:59,429 WARNING: Data for beam BEAM0001 in granule processed_GEDI02_A_2020094150611_O07414_01_T02217_02_003_01_V002.h5 incomplete. Beam skipped. [in _extract_granule_data at /home/users/svm/Code/gedi_biomass_mapping/src/data/gedi_processing_pipeline.py:70]\n",
      "2021-06-03 11:45:59,432 WARNING: Data for beam BEAM0010 in granule processed_GEDI02_A_2020094150611_O07414_01_T02217_02_003_01_V002.h5 incomplete. Beam skipped. [in _extract_granule_data at /home/users/svm/Code/gedi_biomass_mapping/src/data/gedi_processing_pipeline.py:70]\n",
      "2021-06-03 11:45:59,435 WARNING: Data for beam BEAM0011 in granule processed_GEDI02_A_2020094150611_O07414_01_T02217_02_003_01_V002.h5 incomplete. Beam skipped. [in _extract_granule_data at /home/users/svm/Code/gedi_biomass_mapping/src/data/gedi_processing_pipeline.py:70]\n",
      "2021-06-03 11:45:59,437 WARNING: Data for beam BEAM0101 in granule processed_GEDI02_A_2020094150611_O07414_01_T02217_02_003_01_V002.h5 incomplete. Beam skipped. [in _extract_granule_data at /home/users/svm/Code/gedi_biomass_mapping/src/data/gedi_processing_pipeline.py:70]\n",
      "2021-06-03 11:45:59,439 WARNING: Data for beam BEAM0110 in granule processed_GEDI02_A_2020094150611_O07414_01_T02217_02_003_01_V002.h5 incomplete. Beam skipped. [in _extract_granule_data at /home/users/svm/Code/gedi_biomass_mapping/src/data/gedi_processing_pipeline.py:70]\n",
      "2021-06-03 11:45:59,442 WARNING: Data for beam BEAM1000 in granule processed_GEDI02_A_2020094150611_O07414_01_T02217_02_003_01_V002.h5 incomplete. Beam skipped. [in _extract_granule_data at /home/users/svm/Code/gedi_biomass_mapping/src/data/gedi_processing_pipeline.py:70]\n"
     ]
    },
    {
     "data": {
      "application/vnd.jupyter.widget-view+json": {
       "model_id": "39ab2325ff224d1f8b424ed364efc6bf",
       "version_major": 2,
       "version_minor": 0
      },
      "text/plain": [
       "  0%|          | 0/10 [00:00<?, ?it/s]"
      ]
     },
     "metadata": {},
     "output_type": "display_data"
    },
    {
     "name": "stdout",
     "output_type": "stream",
     "text": [
      "2021-06-03 11:46:01,544 WARNING: Data for beam BEAM0010 in granule processed_GEDI02_A_2019124145322_O02217_04_T04152_02_003_01_V002.h5 incomplete. Beam skipped. [in _extract_granule_data at /home/users/svm/Code/gedi_biomass_mapping/src/data/gedi_processing_pipeline.py:70]\n",
      "2021-06-03 11:46:01,546 WARNING: Data for beam BEAM0011 in granule processed_GEDI02_A_2019124145322_O02217_04_T04152_02_003_01_V002.h5 incomplete. Beam skipped. [in _extract_granule_data at /home/users/svm/Code/gedi_biomass_mapping/src/data/gedi_processing_pipeline.py:70]\n",
      "2021-06-03 11:46:01,823 WARNING: Data for beam BEAM0110 in granule processed_GEDI02_A_2019124145322_O02217_04_T04152_02_003_01_V002.h5 incomplete. Beam skipped. [in _extract_granule_data at /home/users/svm/Code/gedi_biomass_mapping/src/data/gedi_processing_pipeline.py:70]\n",
      "2021-06-03 11:46:05,333 WARNING: Data for beam BEAM0010 in granule processed_GEDI02_A_2019138092729_O02431_04_T01000_02_003_01_V002.h5 incomplete. Beam skipped. [in _extract_granule_data at /home/users/svm/Code/gedi_biomass_mapping/src/data/gedi_processing_pipeline.py:70]\n",
      "2021-06-03 11:46:05,336 WARNING: Data for beam BEAM0011 in granule processed_GEDI02_A_2019138092729_O02431_04_T01000_02_003_01_V002.h5 incomplete. Beam skipped. [in _extract_granule_data at /home/users/svm/Code/gedi_biomass_mapping/src/data/gedi_processing_pipeline.py:70]\n",
      "2021-06-03 11:46:12,688 WARNING: Data for beam BEAM1000 in granule processed_GEDI02_A_2019189021128_O03218_01_T02676_02_003_01_V002.h5 incomplete. Beam skipped. [in _extract_granule_data at /home/users/svm/Code/gedi_biomass_mapping/src/data/gedi_processing_pipeline.py:70]\n",
      "2021-06-03 11:46:12,703 WARNING: Data for beam BEAM1011 in granule processed_GEDI02_A_2019189021128_O03218_01_T02676_02_003_01_V002.h5 incomplete. Beam skipped. [in _extract_granule_data at /home/users/svm/Code/gedi_biomass_mapping/src/data/gedi_processing_pipeline.py:70]\n",
      "2021-06-03 11:46:17,524 WARNING: Data for beam BEAM1000 in granule processed_GEDI02_A_2019190012314_O03233_01_T02232_02_003_01_V002.h5 incomplete. Beam skipped. [in _extract_granule_data at /home/users/svm/Code/gedi_biomass_mapping/src/data/gedi_processing_pipeline.py:70]\n",
      "2021-06-03 11:46:17,583 WARNING: Data for beam BEAM1011 in granule processed_GEDI02_A_2019190012314_O03233_01_T02232_02_003_01_V002.h5 incomplete. Beam skipped. [in _extract_granule_data at /home/users/svm/Code/gedi_biomass_mapping/src/data/gedi_processing_pipeline.py:70]\n",
      "2021-06-03 11:46:19,910 WARNING: Data for beam BEAM0010 in granule processed_GEDI02_A_2019200211050_O03401_01_T01467_02_003_02_V002.h5 incomplete. Beam skipped. [in _extract_granule_data at /home/users/svm/Code/gedi_biomass_mapping/src/data/gedi_processing_pipeline.py:70]\n",
      "2021-06-03 11:46:19,914 WARNING: Data for beam BEAM0011 in granule processed_GEDI02_A_2019200211050_O03401_01_T01467_02_003_02_V002.h5 incomplete. Beam skipped. [in _extract_granule_data at /home/users/svm/Code/gedi_biomass_mapping/src/data/gedi_processing_pipeline.py:70]\n",
      "2021-06-03 11:46:23,519 WARNING: Data for beam BEAM0000 in granule processed_GEDI02_A_2019247033857_O04119_02_T02661_02_003_02_V002.h5 incomplete. Beam skipped. [in _extract_granule_data at /home/users/svm/Code/gedi_biomass_mapping/src/data/gedi_processing_pipeline.py:70]\n",
      "2021-06-03 11:46:32,718 WARNING: Data for beam BEAM1000 in granule processed_GEDI02_A_2020048090026_O06697_01_T01773_02_003_01_V002.h5 incomplete. Beam skipped. [in _extract_granule_data at /home/users/svm/Code/gedi_biomass_mapping/src/data/gedi_processing_pipeline.py:70]\n",
      "2021-06-03 11:46:32,724 WARNING: Data for beam BEAM1011 in granule processed_GEDI02_A_2020048090026_O06697_01_T01773_02_003_01_V002.h5 incomplete. Beam skipped. [in _extract_granule_data at /home/users/svm/Code/gedi_biomass_mapping/src/data/gedi_processing_pipeline.py:70]\n",
      "2021-06-03 11:46:37,807 WARNING: Data for beam BEAM1000 in granule processed_GEDI02_A_2020064024540_O06941_01_T04772_02_003_01_V002.h5 incomplete. Beam skipped. [in _extract_granule_data at /home/users/svm/Code/gedi_biomass_mapping/src/data/gedi_processing_pipeline.py:70]\n",
      "2021-06-03 11:46:37,823 WARNING: Data for beam BEAM1011 in granule processed_GEDI02_A_2020064024540_O06941_01_T04772_02_003_01_V002.h5 incomplete. Beam skipped. [in _extract_granule_data at /home/users/svm/Code/gedi_biomass_mapping/src/data/gedi_processing_pipeline.py:70]\n",
      "2021-06-03 11:46:41,573 WARNING: Data for beam BEAM0101 in granule processed_GEDI02_A_2020075220410_O07124_01_T03502_02_003_01_V002.h5 incomplete. Beam skipped. [in _extract_granule_data at /home/users/svm/Code/gedi_biomass_mapping/src/data/gedi_processing_pipeline.py:70]\n",
      "2021-06-03 11:46:41,599 WARNING: Data for beam BEAM0110 in granule processed_GEDI02_A_2020075220410_O07124_01_T03502_02_003_01_V002.h5 incomplete. Beam skipped. [in _extract_granule_data at /home/users/svm/Code/gedi_biomass_mapping/src/data/gedi_processing_pipeline.py:70]\n",
      "2021-06-03 11:46:41,605 WARNING: Data for beam BEAM1000 in granule processed_GEDI02_A_2020075220410_O07124_01_T03502_02_003_01_V002.h5 incomplete. Beam skipped. [in _extract_granule_data at /home/users/svm/Code/gedi_biomass_mapping/src/data/gedi_processing_pipeline.py:70]\n",
      "2021-06-03 11:46:41,610 WARNING: Data for beam BEAM1011 in granule processed_GEDI02_A_2020075220410_O07124_01_T03502_02_003_01_V002.h5 incomplete. Beam skipped. [in _extract_granule_data at /home/users/svm/Code/gedi_biomass_mapping/src/data/gedi_processing_pipeline.py:70]\n",
      "2021-06-03 11:46:42,845 WARNING: Data for beam BEAM0000 in granule processed_GEDI02_A_2020101124841_O07521_02_T02661_02_003_01_V002.h5 incomplete. Beam skipped. [in _extract_granule_data at /home/users/svm/Code/gedi_biomass_mapping/src/data/gedi_processing_pipeline.py:70]\n"
     ]
    },
    {
     "data": {
      "application/vnd.jupyter.widget-view+json": {
       "model_id": "e7915221ae764abcbd7563df184ecb8f",
       "version_major": 2,
       "version_minor": 0
      },
      "text/plain": [
       "  0%|          | 0/1 [00:00<?, ?it/s]"
      ]
     },
     "metadata": {},
     "output_type": "display_data"
    },
    {
     "name": "stdout",
     "output_type": "stream",
     "text": [
      "2021-06-03 11:46:49,078 WARNING: Data for beam BEAM0000 in granule processed_GEDI02_A_2019254102708_O04232_04_T02912_02_003_01_V002.h5 incomplete. Beam skipped. [in _extract_granule_data at /home/users/svm/Code/gedi_biomass_mapping/src/data/gedi_processing_pipeline.py:70]\n",
      "2021-06-03 11:46:49,292 WARNING: Data for beam BEAM0001 in granule processed_GEDI02_A_2019254102708_O04232_04_T02912_02_003_01_V002.h5 incomplete. Beam skipped. [in _extract_granule_data at /home/users/svm/Code/gedi_biomass_mapping/src/data/gedi_processing_pipeline.py:70]\n",
      "2021-06-03 11:46:49,295 WARNING: Data for beam BEAM0010 in granule processed_GEDI02_A_2019254102708_O04232_04_T02912_02_003_01_V002.h5 incomplete. Beam skipped. [in _extract_granule_data at /home/users/svm/Code/gedi_biomass_mapping/src/data/gedi_processing_pipeline.py:70]\n",
      "2021-06-03 11:46:49,831 WARNING: Data for beam BEAM0011 in granule processed_GEDI02_A_2019254102708_O04232_04_T02912_02_003_01_V002.h5 incomplete. Beam skipped. [in _extract_granule_data at /home/users/svm/Code/gedi_biomass_mapping/src/data/gedi_processing_pipeline.py:70]\n",
      "2021-06-03 11:46:49,853 WARNING: Data for beam BEAM0101 in granule processed_GEDI02_A_2019254102708_O04232_04_T02912_02_003_01_V002.h5 incomplete. Beam skipped. [in _extract_granule_data at /home/users/svm/Code/gedi_biomass_mapping/src/data/gedi_processing_pipeline.py:70]\n"
     ]
    },
    {
     "data": {
      "application/vnd.jupyter.widget-view+json": {
       "model_id": "466d485387fd4449aca19f958b6fd92a",
       "version_major": 2,
       "version_minor": 0
      },
      "text/plain": [
       "  0%|          | 0/9 [00:00<?, ?it/s]"
      ]
     },
     "metadata": {},
     "output_type": "display_data"
    },
    {
     "name": "stdout",
     "output_type": "stream",
     "text": [
      "2021-06-03 11:46:52,391 WARNING: Data for beam BEAM0000 in granule processed_GEDI02_A_2019129121719_O02293_03_T03004_02_003_01_V002.h5 incomplete. Beam skipped. [in _extract_granule_data at /home/users/svm/Code/gedi_biomass_mapping/src/data/gedi_processing_pipeline.py:70]\n",
      "2021-06-03 11:46:52,815 WARNING: Data for beam BEAM0001 in granule processed_GEDI02_A_2019129121719_O02293_03_T03004_02_003_01_V002.h5 incomplete. Beam skipped. [in _extract_granule_data at /home/users/svm/Code/gedi_biomass_mapping/src/data/gedi_processing_pipeline.py:70]\n",
      "2021-06-03 11:46:52,818 WARNING: Data for beam BEAM0010 in granule processed_GEDI02_A_2019129121719_O02293_03_T03004_02_003_01_V002.h5 incomplete. Beam skipped. [in _extract_granule_data at /home/users/svm/Code/gedi_biomass_mapping/src/data/gedi_processing_pipeline.py:70]\n",
      "2021-06-03 11:46:53,317 WARNING: Data for beam BEAM0101 in granule processed_GEDI02_A_2019129121719_O02293_03_T03004_02_003_01_V002.h5 incomplete. Beam skipped. [in _extract_granule_data at /home/users/svm/Code/gedi_biomass_mapping/src/data/gedi_processing_pipeline.py:70]\n",
      "2021-06-03 11:46:53,321 WARNING: Data for beam BEAM0110 in granule processed_GEDI02_A_2019129121719_O02293_03_T03004_02_003_01_V002.h5 incomplete. Beam skipped. [in _extract_granule_data at /home/users/svm/Code/gedi_biomass_mapping/src/data/gedi_processing_pipeline.py:70]\n",
      "2021-06-03 11:46:53,324 WARNING: Data for beam BEAM1000 in granule processed_GEDI02_A_2019129121719_O02293_03_T03004_02_003_01_V002.h5 incomplete. Beam skipped. [in _extract_granule_data at /home/users/svm/Code/gedi_biomass_mapping/src/data/gedi_processing_pipeline.py:70]\n",
      "2021-06-03 11:46:53,327 WARNING: Data for beam BEAM1011 in granule processed_GEDI02_A_2019129121719_O02293_03_T03004_02_003_01_V002.h5 incomplete. Beam skipped. [in _extract_granule_data at /home/users/svm/Code/gedi_biomass_mapping/src/data/gedi_processing_pipeline.py:70]\n",
      "2021-06-03 11:46:54,383 WARNING: Data for beam BEAM0000 in granule processed_GEDI02_A_2019184030704_O03141_02_T00625_02_003_01_V002.h5 incomplete. Beam skipped. [in _extract_granule_data at /home/users/svm/Code/gedi_biomass_mapping/src/data/gedi_processing_pipeline.py:70]\n",
      "2021-06-03 11:46:54,608 WARNING: Data for beam BEAM0001 in granule processed_GEDI02_A_2019184030704_O03141_02_T00625_02_003_01_V002.h5 incomplete. Beam skipped. [in _extract_granule_data at /home/users/svm/Code/gedi_biomass_mapping/src/data/gedi_processing_pipeline.py:70]\n",
      "2021-06-03 11:46:54,611 WARNING: Data for beam BEAM0010 in granule processed_GEDI02_A_2019184030704_O03141_02_T00625_02_003_01_V002.h5 incomplete. Beam skipped. [in _extract_granule_data at /home/users/svm/Code/gedi_biomass_mapping/src/data/gedi_processing_pipeline.py:70]\n",
      "2021-06-03 11:46:54,756 WARNING: Data for beam BEAM0011 in granule processed_GEDI02_A_2019184030704_O03141_02_T00625_02_003_01_V002.h5 incomplete. Beam skipped. [in _extract_granule_data at /home/users/svm/Code/gedi_biomass_mapping/src/data/gedi_processing_pipeline.py:70]\n",
      "2021-06-03 11:46:54,760 WARNING: Data for beam BEAM0101 in granule processed_GEDI02_A_2019184030704_O03141_02_T00625_02_003_01_V002.h5 incomplete. Beam skipped. [in _extract_granule_data at /home/users/svm/Code/gedi_biomass_mapping/src/data/gedi_processing_pipeline.py:70]\n",
      "2021-06-03 11:46:54,763 WARNING: Data for beam BEAM0110 in granule processed_GEDI02_A_2019184030704_O03141_02_T00625_02_003_01_V002.h5 incomplete. Beam skipped. [in _extract_granule_data at /home/users/svm/Code/gedi_biomass_mapping/src/data/gedi_processing_pipeline.py:70]\n",
      "2021-06-03 11:46:56,658 WARNING: Data for beam BEAM0000 in granule processed_GEDI02_A_2019185021850_O03156_02_T00181_02_003_01_V002.h5 incomplete. Beam skipped. [in _extract_granule_data at /home/users/svm/Code/gedi_biomass_mapping/src/data/gedi_processing_pipeline.py:70]\n",
      "2021-06-03 11:46:56,894 WARNING: Data for beam BEAM0001 in granule processed_GEDI02_A_2019185021850_O03156_02_T00181_02_003_01_V002.h5 incomplete. Beam skipped. [in _extract_granule_data at /home/users/svm/Code/gedi_biomass_mapping/src/data/gedi_processing_pipeline.py:70]\n",
      "2021-06-03 11:46:56,901 WARNING: Data for beam BEAM0010 in granule processed_GEDI02_A_2019185021850_O03156_02_T00181_02_003_01_V002.h5 incomplete. Beam skipped. [in _extract_granule_data at /home/users/svm/Code/gedi_biomass_mapping/src/data/gedi_processing_pipeline.py:70]\n",
      "2021-06-03 11:46:57,216 WARNING: Data for beam BEAM0011 in granule processed_GEDI02_A_2019185021850_O03156_02_T00181_02_003_01_V002.h5 incomplete. Beam skipped. [in _extract_granule_data at /home/users/svm/Code/gedi_biomass_mapping/src/data/gedi_processing_pipeline.py:70]\n",
      "2021-06-03 11:46:57,226 WARNING: Data for beam BEAM0101 in granule processed_GEDI02_A_2019185021850_O03156_02_T00181_02_003_01_V002.h5 incomplete. Beam skipped. [in _extract_granule_data at /home/users/svm/Code/gedi_biomass_mapping/src/data/gedi_processing_pipeline.py:70]\n",
      "2021-06-03 11:46:57,999 WARNING: Data for beam BEAM1011 in granule processed_GEDI02_A_2019185021850_O03156_02_T00181_02_003_01_V002.h5 incomplete. Beam skipped. [in _extract_granule_data at /home/users/svm/Code/gedi_biomass_mapping/src/data/gedi_processing_pipeline.py:70]\n",
      "2021-06-03 11:46:59,059 WARNING: Data for beam BEAM0000 in granule processed_GEDI02_A_2019188012655_O03202_02_T04542_02_003_01_V002.h5 incomplete. Beam skipped. [in _extract_granule_data at /home/users/svm/Code/gedi_biomass_mapping/src/data/gedi_processing_pipeline.py:70]\n",
      "2021-06-03 11:46:59,352 WARNING: Data for beam BEAM0001 in granule processed_GEDI02_A_2019188012655_O03202_02_T04542_02_003_01_V002.h5 incomplete. Beam skipped. [in _extract_granule_data at /home/users/svm/Code/gedi_biomass_mapping/src/data/gedi_processing_pipeline.py:70]\n",
      "2021-06-03 11:46:59,355 WARNING: Data for beam BEAM0010 in granule processed_GEDI02_A_2019188012655_O03202_02_T04542_02_003_01_V002.h5 incomplete. Beam skipped. [in _extract_granule_data at /home/users/svm/Code/gedi_biomass_mapping/src/data/gedi_processing_pipeline.py:70]\n",
      "2021-06-03 11:46:59,586 WARNING: Data for beam BEAM0011 in granule processed_GEDI02_A_2019188012655_O03202_02_T04542_02_003_01_V002.h5 incomplete. Beam skipped. [in _extract_granule_data at /home/users/svm/Code/gedi_biomass_mapping/src/data/gedi_processing_pipeline.py:70]\n",
      "2021-06-03 11:47:02,843 WARNING: Data for beam BEAM0000 in granule processed_GEDI02_A_2019191234645_O03263_02_T02767_02_003_01_V002.h5 incomplete. Beam skipped. [in _extract_granule_data at /home/users/svm/Code/gedi_biomass_mapping/src/data/gedi_processing_pipeline.py:70]\n",
      "2021-06-03 11:47:03,145 WARNING: Data for beam BEAM0001 in granule processed_GEDI02_A_2019191234645_O03263_02_T02767_02_003_01_V002.h5 incomplete. Beam skipped. [in _extract_granule_data at /home/users/svm/Code/gedi_biomass_mapping/src/data/gedi_processing_pipeline.py:70]\n",
      "2021-06-03 11:47:03,150 WARNING: Data for beam BEAM0010 in granule processed_GEDI02_A_2019191234645_O03263_02_T02767_02_003_01_V002.h5 incomplete. Beam skipped. [in _extract_granule_data at /home/users/svm/Code/gedi_biomass_mapping/src/data/gedi_processing_pipeline.py:70]\n",
      "2021-06-03 11:47:03,337 WARNING: Data for beam BEAM0011 in granule processed_GEDI02_A_2019191234645_O03263_02_T02767_02_003_01_V002.h5 incomplete. Beam skipped. [in _extract_granule_data at /home/users/svm/Code/gedi_biomass_mapping/src/data/gedi_processing_pipeline.py:70]\n",
      "2021-06-03 11:47:03,347 WARNING: Data for beam BEAM0101 in granule processed_GEDI02_A_2019191234645_O03263_02_T02767_02_003_01_V002.h5 incomplete. Beam skipped. [in _extract_granule_data at /home/users/svm/Code/gedi_biomass_mapping/src/data/gedi_processing_pipeline.py:70]\n",
      "2021-06-03 11:47:03,354 WARNING: Data for beam BEAM0110 in granule processed_GEDI02_A_2019191234645_O03263_02_T02767_02_003_01_V002.h5 incomplete. Beam skipped. [in _extract_granule_data at /home/users/svm/Code/gedi_biomass_mapping/src/data/gedi_processing_pipeline.py:70]\n",
      "2021-06-03 11:47:09,593 WARNING: Data for beam BEAM1000 in granule processed_GEDI02_A_2019249003037_O04148_01_T04465_02_003_01_V002.h5 incomplete. Beam skipped. [in _extract_granule_data at /home/users/svm/Code/gedi_biomass_mapping/src/data/gedi_processing_pipeline.py:70]\n",
      "2021-06-03 11:47:09,598 WARNING: Data for beam BEAM1011 in granule processed_GEDI02_A_2019249003037_O04148_01_T04465_02_003_01_V002.h5 incomplete. Beam skipped. [in _extract_granule_data at /home/users/svm/Code/gedi_biomass_mapping/src/data/gedi_processing_pipeline.py:70]\n",
      "2021-06-03 11:47:11,007 WARNING: Data for beam BEAM0000 in granule processed_GEDI02_A_2019304140937_O05010_04_T03891_02_003_01_V002.h5 incomplete. Beam skipped. [in _extract_granule_data at /home/users/svm/Code/gedi_biomass_mapping/src/data/gedi_processing_pipeline.py:70]\n",
      "2021-06-03 11:47:11,343 WARNING: Data for beam BEAM0001 in granule processed_GEDI02_A_2019304140937_O05010_04_T03891_02_003_01_V002.h5 incomplete. Beam skipped. [in _extract_granule_data at /home/users/svm/Code/gedi_biomass_mapping/src/data/gedi_processing_pipeline.py:70]\n",
      "2021-06-03 11:47:11,347 WARNING: Data for beam BEAM0010 in granule processed_GEDI02_A_2019304140937_O05010_04_T03891_02_003_01_V002.h5 incomplete. Beam skipped. [in _extract_granule_data at /home/users/svm/Code/gedi_biomass_mapping/src/data/gedi_processing_pipeline.py:70]\n",
      "2021-06-03 11:47:11,551 WARNING: Data for beam BEAM0011 in granule processed_GEDI02_A_2019304140937_O05010_04_T03891_02_003_01_V002.h5 incomplete. Beam skipped. [in _extract_granule_data at /home/users/svm/Code/gedi_biomass_mapping/src/data/gedi_processing_pipeline.py:70]\n",
      "2021-06-03 11:47:18,823 WARNING: Data for beam BEAM1000 in granule processed_GEDI02_A_2020040103441_O06574_01_T04465_02_003_01_V002.h5 incomplete. Beam skipped. [in _extract_granule_data at /home/users/svm/Code/gedi_biomass_mapping/src/data/gedi_processing_pipeline.py:70]\n",
      "2021-06-03 11:47:18,828 WARNING: Data for beam BEAM1011 in granule processed_GEDI02_A_2020040103441_O06574_01_T04465_02_003_01_V002.h5 incomplete. Beam skipped. [in _extract_granule_data at /home/users/svm/Code/gedi_biomass_mapping/src/data/gedi_processing_pipeline.py:70]\n",
      "2021-06-03 11:47:20,577 WARNING: Data for beam BEAM0000 in granule processed_GEDI02_A_2020042103421_O06605_02_T00273_02_003_01_V002.h5 incomplete. Beam skipped. [in _extract_granule_data at /home/users/svm/Code/gedi_biomass_mapping/src/data/gedi_processing_pipeline.py:70]\n",
      "2021-06-03 11:47:20,844 WARNING: Data for beam BEAM0001 in granule processed_GEDI02_A_2020042103421_O06605_02_T00273_02_003_01_V002.h5 incomplete. Beam skipped. [in _extract_granule_data at /home/users/svm/Code/gedi_biomass_mapping/src/data/gedi_processing_pipeline.py:70]\n",
      "2021-06-03 11:47:20,848 WARNING: Data for beam BEAM0010 in granule processed_GEDI02_A_2020042103421_O06605_02_T00273_02_003_01_V002.h5 incomplete. Beam skipped. [in _extract_granule_data at /home/users/svm/Code/gedi_biomass_mapping/src/data/gedi_processing_pipeline.py:70]\n",
      "2021-06-03 11:47:21,110 WARNING: Data for beam BEAM0011 in granule processed_GEDI02_A_2020042103421_O06605_02_T00273_02_003_01_V002.h5 incomplete. Beam skipped. [in _extract_granule_data at /home/users/svm/Code/gedi_biomass_mapping/src/data/gedi_processing_pipeline.py:70]\n",
      "2021-06-03 11:47:21,113 WARNING: Data for beam BEAM0101 in granule processed_GEDI02_A_2020042103421_O06605_02_T00273_02_003_01_V002.h5 incomplete. Beam skipped. [in _extract_granule_data at /home/users/svm/Code/gedi_biomass_mapping/src/data/gedi_processing_pipeline.py:70]\n",
      "2021-06-03 11:47:21,116 WARNING: Data for beam BEAM0110 in granule processed_GEDI02_A_2020042103421_O06605_02_T00273_02_003_01_V002.h5 incomplete. Beam skipped. [in _extract_granule_data at /home/users/svm/Code/gedi_biomass_mapping/src/data/gedi_processing_pipeline.py:70]\n"
     ]
    },
    {
     "data": {
      "application/vnd.jupyter.widget-view+json": {
       "model_id": "c3a842f4f1964d3686270abd7042d8ed",
       "version_major": 2,
       "version_minor": 0
      },
      "text/plain": [
       "  0%|          | 0/45 [00:00<?, ?it/s]"
      ]
     },
     "metadata": {},
     "output_type": "display_data"
    },
    {
     "name": "stdout",
     "output_type": "stream",
     "text": [
      "2021-06-03 11:47:24,137 WARNING: Data for beam BEAM0001 in granule processed_GEDI02_A_2019110075658_O01995_01_T02063_02_003_01_V002.h5 incomplete. Beam skipped. [in _extract_granule_data at /home/users/svm/Code/gedi_biomass_mapping/src/data/gedi_processing_pipeline.py:70]\n",
      "2021-06-03 11:47:25,187 WARNING: Data for beam BEAM0011 in granule processed_GEDI02_A_2019110075658_O01995_01_T02063_02_003_01_V002.h5 incomplete. Beam skipped. [in _extract_granule_data at /home/users/svm/Code/gedi_biomass_mapping/src/data/gedi_processing_pipeline.py:70]\n",
      "2021-06-03 11:47:25,229 WARNING: Data for beam BEAM0101 in granule processed_GEDI02_A_2019110075658_O01995_01_T02063_02_003_01_V002.h5 incomplete. Beam skipped. [in _extract_granule_data at /home/users/svm/Code/gedi_biomass_mapping/src/data/gedi_processing_pipeline.py:70]\n",
      "2021-06-03 11:47:27,072 WARNING: Data for beam BEAM1011 in granule processed_GEDI02_A_2019110075658_O01995_01_T02063_02_003_01_V002.h5 incomplete. Beam skipped. [in _extract_granule_data at /home/users/svm/Code/gedi_biomass_mapping/src/data/gedi_processing_pipeline.py:70]\n",
      "2021-06-03 11:47:28,256 WARNING: Data for beam BEAM0000 in granule processed_GEDI02_A_2019113174925_O02048_04_T02621_02_003_01_V002.h5 incomplete. Beam skipped. [in _extract_granule_data at /home/users/svm/Code/gedi_biomass_mapping/src/data/gedi_processing_pipeline.py:70]\n",
      "2021-06-03 11:47:28,661 WARNING: Data for beam BEAM0001 in granule processed_GEDI02_A_2019113174925_O02048_04_T02621_02_003_01_V002.h5 incomplete. Beam skipped. [in _extract_granule_data at /home/users/svm/Code/gedi_biomass_mapping/src/data/gedi_processing_pipeline.py:70]\n",
      "2021-06-03 11:47:28,665 WARNING: Data for beam BEAM0010 in granule processed_GEDI02_A_2019113174925_O02048_04_T02621_02_003_01_V002.h5 incomplete. Beam skipped. [in _extract_granule_data at /home/users/svm/Code/gedi_biomass_mapping/src/data/gedi_processing_pipeline.py:70]\n",
      "2021-06-03 11:47:28,672 WARNING: Data for beam BEAM0011 in granule processed_GEDI02_A_2019113174925_O02048_04_T02621_02_003_01_V002.h5 incomplete. Beam skipped. [in _extract_granule_data at /home/users/svm/Code/gedi_biomass_mapping/src/data/gedi_processing_pipeline.py:70]\n",
      "2021-06-03 11:47:28,675 WARNING: Data for beam BEAM0101 in granule processed_GEDI02_A_2019113174925_O02048_04_T02621_02_003_01_V002.h5 incomplete. Beam skipped. [in _extract_granule_data at /home/users/svm/Code/gedi_biomass_mapping/src/data/gedi_processing_pipeline.py:70]\n",
      "2021-06-03 11:47:28,678 WARNING: Data for beam BEAM0110 in granule processed_GEDI02_A_2019113174925_O02048_04_T02621_02_003_01_V002.h5 incomplete. Beam skipped. [in _extract_granule_data at /home/users/svm/Code/gedi_biomass_mapping/src/data/gedi_processing_pipeline.py:70]\n",
      "2021-06-03 11:47:31,346 WARNING: Data for beam BEAM0001 in granule processed_GEDI02_A_2019117051430_O02102_01_T04603_02_003_01_V002.h5 incomplete. Beam skipped. [in _extract_granule_data at /home/users/svm/Code/gedi_biomass_mapping/src/data/gedi_processing_pipeline.py:70]\n",
      "2021-06-03 11:47:32,227 WARNING: Data for beam BEAM0011 in granule processed_GEDI02_A_2019117051430_O02102_01_T04603_02_003_01_V002.h5 incomplete. Beam skipped. [in _extract_granule_data at /home/users/svm/Code/gedi_biomass_mapping/src/data/gedi_processing_pipeline.py:70]\n",
      "2021-06-03 11:47:32,240 WARNING: Data for beam BEAM0101 in granule processed_GEDI02_A_2019117051430_O02102_01_T04603_02_003_01_V002.h5 incomplete. Beam skipped. [in _extract_granule_data at /home/users/svm/Code/gedi_biomass_mapping/src/data/gedi_processing_pipeline.py:70]\n",
      "2021-06-03 11:47:34,730 WARNING: Data for beam BEAM1011 in granule processed_GEDI02_A_2019117051430_O02102_01_T04603_02_003_01_V002.h5 incomplete. Beam skipped. [in _extract_granule_data at /home/users/svm/Code/gedi_biomass_mapping/src/data/gedi_processing_pipeline.py:70]\n",
      "2021-06-03 11:47:37,489 WARNING: Data for beam BEAM0001 in granule processed_GEDI02_A_2019124023153_O02209_01_T02874_02_003_01_V002.h5 incomplete. Beam skipped. [in _extract_granule_data at /home/users/svm/Code/gedi_biomass_mapping/src/data/gedi_processing_pipeline.py:70]\n",
      "2021-06-03 11:47:38,883 WARNING: Data for beam BEAM0011 in granule processed_GEDI02_A_2019124023153_O02209_01_T02874_02_003_01_V002.h5 incomplete. Beam skipped. [in _extract_granule_data at /home/users/svm/Code/gedi_biomass_mapping/src/data/gedi_processing_pipeline.py:70]\n",
      "2021-06-03 11:47:47,407 WARNING: Data for beam BEAM0011 in granule processed_GEDI02_A_2019129121719_O02293_04_T03004_02_003_01_V002.h5 incomplete. Beam skipped. [in _extract_granule_data at /home/users/svm/Code/gedi_biomass_mapping/src/data/gedi_processing_pipeline.py:70]\n",
      "2021-06-03 11:47:50,759 WARNING: Data for beam BEAM0001 in granule processed_GEDI02_A_2019130234903_O02316_02_T05567_02_003_01_V002.h5 incomplete. Beam skipped. [in _extract_granule_data at /home/users/svm/Code/gedi_biomass_mapping/src/data/gedi_processing_pipeline.py:70]\n",
      "2021-06-03 11:47:51,855 WARNING: Data for beam BEAM0011 in granule processed_GEDI02_A_2019130234903_O02316_02_T05567_02_003_01_V002.h5 incomplete. Beam skipped. [in _extract_granule_data at /home/users/svm/Code/gedi_biomass_mapping/src/data/gedi_processing_pipeline.py:70]\n",
      "2021-06-03 11:47:51,876 WARNING: Data for beam BEAM0101 in granule processed_GEDI02_A_2019130234903_O02316_02_T05567_02_003_01_V002.h5 incomplete. Beam skipped. [in _extract_granule_data at /home/users/svm/Code/gedi_biomass_mapping/src/data/gedi_processing_pipeline.py:70]\n",
      "2021-06-03 11:47:55,182 WARNING: Data for beam BEAM1011 in granule processed_GEDI02_A_2019130234903_O02316_02_T05567_02_003_01_V002.h5 incomplete. Beam skipped. [in _extract_granule_data at /home/users/svm/Code/gedi_biomass_mapping/src/data/gedi_processing_pipeline.py:70]\n",
      "2021-06-03 11:47:59,021 WARNING: Data for beam BEAM0001 in granule processed_GEDI02_A_2019137210602_O02423_02_T05414_02_003_01_V002.h5 incomplete. Beam skipped. [in _extract_granule_data at /home/users/svm/Code/gedi_biomass_mapping/src/data/gedi_processing_pipeline.py:70]\n",
      "2021-06-03 11:48:00,557 WARNING: Data for beam BEAM0011 in granule processed_GEDI02_A_2019137210602_O02423_02_T05414_02_003_01_V002.h5 incomplete. Beam skipped. [in _extract_granule_data at /home/users/svm/Code/gedi_biomass_mapping/src/data/gedi_processing_pipeline.py:70]\n",
      "2021-06-03 11:48:00,576 WARNING: Data for beam BEAM0101 in granule processed_GEDI02_A_2019137210602_O02423_02_T05414_02_003_01_V002.h5 incomplete. Beam skipped. [in _extract_granule_data at /home/users/svm/Code/gedi_biomass_mapping/src/data/gedi_processing_pipeline.py:70]\n",
      "2021-06-03 11:48:07,835 WARNING: Data for beam BEAM0001 in granule processed_GEDI02_A_2019144182427_O02530_02_T03532_02_003_01_V002.h5 incomplete. Beam skipped. [in _extract_granule_data at /home/users/svm/Code/gedi_biomass_mapping/src/data/gedi_processing_pipeline.py:70]\n",
      "2021-06-03 11:48:08,920 WARNING: Data for beam BEAM0011 in granule processed_GEDI02_A_2019144182427_O02530_02_T03532_02_003_01_V002.h5 incomplete. Beam skipped. [in _extract_granule_data at /home/users/svm/Code/gedi_biomass_mapping/src/data/gedi_processing_pipeline.py:70]\n",
      "2021-06-03 11:48:09,002 WARNING: Data for beam BEAM0101 in granule processed_GEDI02_A_2019144182427_O02530_02_T03532_02_003_01_V002.h5 incomplete. Beam skipped. [in _extract_granule_data at /home/users/svm/Code/gedi_biomass_mapping/src/data/gedi_processing_pipeline.py:70]\n",
      "2021-06-03 11:48:15,475 WARNING: Data for beam BEAM0001 in granule processed_GEDI02_A_2019148164336_O02591_01_T01910_02_003_01_V002.h5 incomplete. Beam skipped. [in _extract_granule_data at /home/users/svm/Code/gedi_biomass_mapping/src/data/gedi_processing_pipeline.py:70]\n",
      "2021-06-03 11:48:16,583 WARNING: Data for beam BEAM0011 in granule processed_GEDI02_A_2019148164336_O02591_01_T01910_02_003_01_V002.h5 incomplete. Beam skipped. [in _extract_granule_data at /home/users/svm/Code/gedi_biomass_mapping/src/data/gedi_processing_pipeline.py:70]\n",
      "2021-06-03 11:48:16,592 WARNING: Data for beam BEAM0101 in granule processed_GEDI02_A_2019148164336_O02591_01_T01910_02_003_01_V002.h5 incomplete. Beam skipped. [in _extract_granule_data at /home/users/svm/Code/gedi_biomass_mapping/src/data/gedi_processing_pipeline.py:70]\n",
      "2021-06-03 11:48:19,427 WARNING: Data for beam BEAM1011 in granule processed_GEDI02_A_2019148164336_O02591_01_T01910_02_003_01_V002.h5 incomplete. Beam skipped. [in _extract_granule_data at /home/users/svm/Code/gedi_biomass_mapping/src/data/gedi_processing_pipeline.py:70]\n",
      "2021-06-03 11:48:21,756 WARNING: Data for beam BEAM0001 in granule processed_GEDI02_A_2019159122919_O02759_02_T04144_02_003_01_V002.h5 incomplete. Beam skipped. [in _extract_granule_data at /home/users/svm/Code/gedi_biomass_mapping/src/data/gedi_processing_pipeline.py:70]\n",
      "2021-06-03 11:48:23,000 WARNING: Data for beam BEAM0011 in granule processed_GEDI02_A_2019159122919_O02759_02_T04144_02_003_01_V002.h5 incomplete. Beam skipped. [in _extract_granule_data at /home/users/svm/Code/gedi_biomass_mapping/src/data/gedi_processing_pipeline.py:70]\n",
      "2021-06-03 11:48:23,051 WARNING: Data for beam BEAM0101 in granule processed_GEDI02_A_2019159122919_O02759_02_T04144_02_003_01_V002.h5 incomplete. Beam skipped. [in _extract_granule_data at /home/users/svm/Code/gedi_biomass_mapping/src/data/gedi_processing_pipeline.py:70]\n",
      "2021-06-03 11:48:25,970 WARNING: Data for beam BEAM1011 in granule processed_GEDI02_A_2019159122919_O02759_02_T04144_02_003_01_V002.h5 incomplete. Beam skipped. [in _extract_granule_data at /home/users/svm/Code/gedi_biomass_mapping/src/data/gedi_processing_pipeline.py:70]\n",
      "2021-06-03 11:48:32,964 WARNING: Data for beam BEAM1000 in granule processed_GEDI02_A_2019184030704_O03141_01_T00625_02_003_01_V002.h5 incomplete. Beam skipped. [in _extract_granule_data at /home/users/svm/Code/gedi_biomass_mapping/src/data/gedi_processing_pipeline.py:70]\n",
      "2021-06-03 11:48:32,983 WARNING: Data for beam BEAM1011 in granule processed_GEDI02_A_2019184030704_O03141_01_T00625_02_003_01_V002.h5 incomplete. Beam skipped. [in _extract_granule_data at /home/users/svm/Code/gedi_biomass_mapping/src/data/gedi_processing_pipeline.py:70]\n",
      "2021-06-03 11:48:35,170 WARNING: Data for beam BEAM0001 in granule processed_GEDI02_A_2019185021850_O03156_01_T00181_02_003_01_V002.h5 incomplete. Beam skipped. [in _extract_granule_data at /home/users/svm/Code/gedi_biomass_mapping/src/data/gedi_processing_pipeline.py:70]\n",
      "2021-06-03 11:48:35,719 WARNING: Data for beam BEAM0011 in granule processed_GEDI02_A_2019185021850_O03156_01_T00181_02_003_01_V002.h5 incomplete. Beam skipped. [in _extract_granule_data at /home/users/svm/Code/gedi_biomass_mapping/src/data/gedi_processing_pipeline.py:70]\n",
      "2021-06-03 11:48:35,722 WARNING: Data for beam BEAM0101 in granule processed_GEDI02_A_2019185021850_O03156_01_T00181_02_003_01_V002.h5 incomplete. Beam skipped. [in _extract_granule_data at /home/users/svm/Code/gedi_biomass_mapping/src/data/gedi_processing_pipeline.py:70]\n",
      "2021-06-03 11:48:35,727 WARNING: Data for beam BEAM0110 in granule processed_GEDI02_A_2019185021850_O03156_01_T00181_02_003_01_V002.h5 incomplete. Beam skipped. [in _extract_granule_data at /home/users/svm/Code/gedi_biomass_mapping/src/data/gedi_processing_pipeline.py:70]\n",
      "2021-06-03 11:48:35,733 WARNING: Data for beam BEAM1000 in granule processed_GEDI02_A_2019185021850_O03156_01_T00181_02_003_01_V002.h5 incomplete. Beam skipped. [in _extract_granule_data at /home/users/svm/Code/gedi_biomass_mapping/src/data/gedi_processing_pipeline.py:70]\n",
      "2021-06-03 11:48:35,736 WARNING: Data for beam BEAM1011 in granule processed_GEDI02_A_2019185021850_O03156_01_T00181_02_003_01_V002.h5 incomplete. Beam skipped. [in _extract_granule_data at /home/users/svm/Code/gedi_biomass_mapping/src/data/gedi_processing_pipeline.py:70]\n",
      "2021-06-03 11:48:37,718 WARNING: Data for beam BEAM0001 in granule processed_GEDI02_A_2019185021850_O03156_02_T00181_02_003_01_V002.h5 incomplete. Beam skipped. [in _extract_granule_data at /home/users/svm/Code/gedi_biomass_mapping/src/data/gedi_processing_pipeline.py:70]\n",
      "2021-06-03 11:48:38,559 WARNING: Data for beam BEAM0011 in granule processed_GEDI02_A_2019185021850_O03156_02_T00181_02_003_01_V002.h5 incomplete. Beam skipped. [in _extract_granule_data at /home/users/svm/Code/gedi_biomass_mapping/src/data/gedi_processing_pipeline.py:70]\n",
      "2021-06-03 11:48:38,596 WARNING: Data for beam BEAM0101 in granule processed_GEDI02_A_2019185021850_O03156_02_T00181_02_003_01_V002.h5 incomplete. Beam skipped. [in _extract_granule_data at /home/users/svm/Code/gedi_biomass_mapping/src/data/gedi_processing_pipeline.py:70]\n",
      "2021-06-03 11:48:40,990 WARNING: Data for beam BEAM1011 in granule processed_GEDI02_A_2019185021850_O03156_02_T00181_02_003_01_V002.h5 incomplete. Beam skipped. [in _extract_granule_data at /home/users/svm/Code/gedi_biomass_mapping/src/data/gedi_processing_pipeline.py:70]\n",
      "2021-06-03 11:48:45,615 WARNING: Data for beam BEAM0101 in granule processed_GEDI02_A_2019188012655_O03202_01_T04542_02_003_01_V002.h5 incomplete. Beam skipped. [in _extract_granule_data at /home/users/svm/Code/gedi_biomass_mapping/src/data/gedi_processing_pipeline.py:70]\n",
      "2021-06-03 11:48:45,622 WARNING: Data for beam BEAM0110 in granule processed_GEDI02_A_2019188012655_O03202_01_T04542_02_003_01_V002.h5 incomplete. Beam skipped. [in _extract_granule_data at /home/users/svm/Code/gedi_biomass_mapping/src/data/gedi_processing_pipeline.py:70]\n",
      "2021-06-03 11:48:45,626 WARNING: Data for beam BEAM1000 in granule processed_GEDI02_A_2019188012655_O03202_01_T04542_02_003_01_V002.h5 incomplete. Beam skipped. [in _extract_granule_data at /home/users/svm/Code/gedi_biomass_mapping/src/data/gedi_processing_pipeline.py:70]\n",
      "2021-06-03 11:48:45,649 WARNING: Data for beam BEAM1011 in granule processed_GEDI02_A_2019188012655_O03202_01_T04542_02_003_01_V002.h5 incomplete. Beam skipped. [in _extract_granule_data at /home/users/svm/Code/gedi_biomass_mapping/src/data/gedi_processing_pipeline.py:70]\n",
      "2021-06-03 11:48:51,270 WARNING: Data for beam BEAM1000 in granule processed_GEDI02_A_2019191234645_O03263_01_T02767_02_003_01_V002.h5 incomplete. Beam skipped. [in _extract_granule_data at /home/users/svm/Code/gedi_biomass_mapping/src/data/gedi_processing_pipeline.py:70]\n",
      "2021-06-03 11:48:51,286 WARNING: Data for beam BEAM1011 in granule processed_GEDI02_A_2019191234645_O03263_01_T02767_02_003_01_V002.h5 incomplete. Beam skipped. [in _extract_granule_data at /home/users/svm/Code/gedi_biomass_mapping/src/data/gedi_processing_pipeline.py:70]\n",
      "2021-06-03 11:48:52,581 WARNING: Data for beam BEAM0000 in granule processed_GEDI02_A_2019199202619_O03385_01_T04756_02_003_02_V002.h5 incomplete. Beam skipped. [in _extract_granule_data at /home/users/svm/Code/gedi_biomass_mapping/src/data/gedi_processing_pipeline.py:70]\n",
      "2021-06-03 11:48:52,787 WARNING: Data for beam BEAM0001 in granule processed_GEDI02_A_2019199202619_O03385_01_T04756_02_003_02_V002.h5 incomplete. Beam skipped. [in _extract_granule_data at /home/users/svm/Code/gedi_biomass_mapping/src/data/gedi_processing_pipeline.py:70]\n",
      "2021-06-03 11:48:52,791 WARNING: Data for beam BEAM0010 in granule processed_GEDI02_A_2019199202619_O03385_01_T04756_02_003_02_V002.h5 incomplete. Beam skipped. [in _extract_granule_data at /home/users/svm/Code/gedi_biomass_mapping/src/data/gedi_processing_pipeline.py:70]\n",
      "2021-06-03 11:48:52,985 WARNING: Data for beam BEAM0011 in granule processed_GEDI02_A_2019199202619_O03385_01_T04756_02_003_02_V002.h5 incomplete. Beam skipped. [in _extract_granule_data at /home/users/svm/Code/gedi_biomass_mapping/src/data/gedi_processing_pipeline.py:70]\n",
      "2021-06-03 11:48:52,989 WARNING: Data for beam BEAM0101 in granule processed_GEDI02_A_2019199202619_O03385_01_T04756_02_003_02_V002.h5 incomplete. Beam skipped. [in _extract_granule_data at /home/users/svm/Code/gedi_biomass_mapping/src/data/gedi_processing_pipeline.py:70]\n",
      "2021-06-03 11:48:54,034 WARNING: Data for beam BEAM1011 in granule processed_GEDI02_A_2019199202619_O03385_01_T04756_02_003_02_V002.h5 incomplete. Beam skipped. [in _extract_granule_data at /home/users/svm/Code/gedi_biomass_mapping/src/data/gedi_processing_pipeline.py:70]\n",
      "2021-06-03 11:48:57,287 WARNING: Data for beam BEAM0001 in granule processed_GEDI02_A_2019225102018_O03782_01_T00028_02_003_01_V002.h5 incomplete. Beam skipped. [in _extract_granule_data at /home/users/svm/Code/gedi_biomass_mapping/src/data/gedi_processing_pipeline.py:70]\n",
      "2021-06-03 11:49:05,727 WARNING: Data for beam BEAM0001 in granule processed_GEDI02_A_2019225102018_O03782_02_T00028_02_003_01_V002.h5 incomplete. Beam skipped. [in _extract_granule_data at /home/users/svm/Code/gedi_biomass_mapping/src/data/gedi_processing_pipeline.py:70]\n",
      "2021-06-03 11:49:06,539 WARNING: Data for beam BEAM0011 in granule processed_GEDI02_A_2019225102018_O03782_02_T00028_02_003_01_V002.h5 incomplete. Beam skipped. [in _extract_granule_data at /home/users/svm/Code/gedi_biomass_mapping/src/data/gedi_processing_pipeline.py:70]\n",
      "2021-06-03 11:49:06,568 WARNING: Data for beam BEAM0101 in granule processed_GEDI02_A_2019225102018_O03782_02_T00028_02_003_01_V002.h5 incomplete. Beam skipped. [in _extract_granule_data at /home/users/svm/Code/gedi_biomass_mapping/src/data/gedi_processing_pipeline.py:70]\n",
      "2021-06-03 11:49:08,725 WARNING: Data for beam BEAM1011 in granule processed_GEDI02_A_2019225102018_O03782_02_T00028_02_003_01_V002.h5 incomplete. Beam skipped. [in _extract_granule_data at /home/users/svm/Code/gedi_biomass_mapping/src/data/gedi_processing_pipeline.py:70]\n",
      "2021-06-03 11:49:10,947 WARNING: Data for beam BEAM0001 in granule processed_GEDI02_A_2019230092613_O03859_02_T00350_02_003_01_V002.h5 incomplete. Beam skipped. [in _extract_granule_data at /home/users/svm/Code/gedi_biomass_mapping/src/data/gedi_processing_pipeline.py:70]\n",
      "2021-06-03 11:49:11,772 WARNING: Data for beam BEAM0011 in granule processed_GEDI02_A_2019230092613_O03859_02_T00350_02_003_01_V002.h5 incomplete. Beam skipped. [in _extract_granule_data at /home/users/svm/Code/gedi_biomass_mapping/src/data/gedi_processing_pipeline.py:70]\n",
      "2021-06-03 11:49:11,780 WARNING: Data for beam BEAM0101 in granule processed_GEDI02_A_2019230092613_O03859_02_T00350_02_003_01_V002.h5 incomplete. Beam skipped. [in _extract_granule_data at /home/users/svm/Code/gedi_biomass_mapping/src/data/gedi_processing_pipeline.py:70]\n",
      "2021-06-03 11:49:13,874 WARNING: Data for beam BEAM1011 in granule processed_GEDI02_A_2019230092613_O03859_02_T00350_02_003_01_V002.h5 incomplete. Beam skipped. [in _extract_granule_data at /home/users/svm/Code/gedi_biomass_mapping/src/data/gedi_processing_pipeline.py:70]\n",
      "2021-06-03 11:49:15,771 WARNING: Data for beam BEAM0000 in granule processed_GEDI02_A_2019244025635_O04072_02_T01451_02_003_02_V002.h5 incomplete. Beam skipped. [in _extract_granule_data at /home/users/svm/Code/gedi_biomass_mapping/src/data/gedi_processing_pipeline.py:70]\n",
      "2021-06-03 11:49:15,954 WARNING: Data for beam BEAM0001 in granule processed_GEDI02_A_2019244025635_O04072_02_T01451_02_003_02_V002.h5 incomplete. Beam skipped. [in _extract_granule_data at /home/users/svm/Code/gedi_biomass_mapping/src/data/gedi_processing_pipeline.py:70]\n",
      "2021-06-03 11:49:15,957 WARNING: Data for beam BEAM0010 in granule processed_GEDI02_A_2019244025635_O04072_02_T01451_02_003_02_V002.h5 incomplete. Beam skipped. [in _extract_granule_data at /home/users/svm/Code/gedi_biomass_mapping/src/data/gedi_processing_pipeline.py:70]\n",
      "2021-06-03 11:49:16,176 WARNING: Data for beam BEAM0011 in granule processed_GEDI02_A_2019244025635_O04072_02_T01451_02_003_02_V002.h5 incomplete. Beam skipped. [in _extract_granule_data at /home/users/svm/Code/gedi_biomass_mapping/src/data/gedi_processing_pipeline.py:70]\n",
      "2021-06-03 11:49:16,182 WARNING: Data for beam BEAM0101 in granule processed_GEDI02_A_2019244025635_O04072_02_T01451_02_003_02_V002.h5 incomplete. Beam skipped. [in _extract_granule_data at /home/users/svm/Code/gedi_biomass_mapping/src/data/gedi_processing_pipeline.py:70]\n",
      "2021-06-03 11:49:17,183 WARNING: Data for beam BEAM1011 in granule processed_GEDI02_A_2019244025635_O04072_02_T01451_02_003_02_V002.h5 incomplete. Beam skipped. [in _extract_granule_data at /home/users/svm/Code/gedi_biomass_mapping/src/data/gedi_processing_pipeline.py:70]\n",
      "2021-06-03 11:49:20,753 WARNING: Data for beam BEAM0001 in granule processed_GEDI02_A_2019289090159_O04774_02_T02721_02_003_01_V002.h5 incomplete. Beam skipped. [in _extract_granule_data at /home/users/svm/Code/gedi_biomass_mapping/src/data/gedi_processing_pipeline.py:70]\n",
      "2021-06-03 11:49:22,364 WARNING: Data for beam BEAM0011 in granule processed_GEDI02_A_2019289090159_O04774_02_T02721_02_003_01_V002.h5 incomplete. Beam skipped. [in _extract_granule_data at /home/users/svm/Code/gedi_biomass_mapping/src/data/gedi_processing_pipeline.py:70]\n",
      "2021-06-03 11:49:31,442 WARNING: Data for beam BEAM0001 in granule processed_GEDI02_A_2019293072436_O04835_01_T03180_02_003_01_V002.h5 incomplete. Beam skipped. [in _extract_granule_data at /home/users/svm/Code/gedi_biomass_mapping/src/data/gedi_processing_pipeline.py:70]\n",
      "2021-06-03 11:49:32,908 WARNING: Data for beam BEAM0011 in granule processed_GEDI02_A_2019293072436_O04835_01_T03180_02_003_01_V002.h5 incomplete. Beam skipped. [in _extract_granule_data at /home/users/svm/Code/gedi_biomass_mapping/src/data/gedi_processing_pipeline.py:70]\n",
      "2021-06-03 11:49:32,967 WARNING: Data for beam BEAM0101 in granule processed_GEDI02_A_2019293072436_O04835_01_T03180_02_003_01_V002.h5 incomplete. Beam skipped. [in _extract_granule_data at /home/users/svm/Code/gedi_biomass_mapping/src/data/gedi_processing_pipeline.py:70]\n",
      "2021-06-03 11:49:41,208 WARNING: Data for beam BEAM0001 in granule processed_GEDI02_A_2019298063226_O04912_02_T01926_02_003_01_V002.h5 incomplete. Beam skipped. [in _extract_granule_data at /home/users/svm/Code/gedi_biomass_mapping/src/data/gedi_processing_pipeline.py:70]\n",
      "2021-06-03 11:49:51,238 WARNING: Data for beam BEAM0000 in granule processed_GEDI02_A_2019304031950_O05003_01_T01344_02_003_01_V002.h5 incomplete. Beam skipped. [in _extract_granule_data at /home/users/svm/Code/gedi_biomass_mapping/src/data/gedi_processing_pipeline.py:70]\n",
      "2021-06-03 11:49:51,438 WARNING: Data for beam BEAM0001 in granule processed_GEDI02_A_2019304031950_O05003_01_T01344_02_003_01_V002.h5 incomplete. Beam skipped. [in _extract_granule_data at /home/users/svm/Code/gedi_biomass_mapping/src/data/gedi_processing_pipeline.py:70]\n",
      "2021-06-03 11:49:51,444 WARNING: Data for beam BEAM0010 in granule processed_GEDI02_A_2019304031950_O05003_01_T01344_02_003_01_V002.h5 incomplete. Beam skipped. [in _extract_granule_data at /home/users/svm/Code/gedi_biomass_mapping/src/data/gedi_processing_pipeline.py:70]\n",
      "2021-06-03 11:49:51,956 WARNING: Data for beam BEAM0011 in granule processed_GEDI02_A_2019304031950_O05003_01_T01344_02_003_01_V002.h5 incomplete. Beam skipped. [in _extract_granule_data at /home/users/svm/Code/gedi_biomass_mapping/src/data/gedi_processing_pipeline.py:70]\n",
      "2021-06-03 11:49:51,959 WARNING: Data for beam BEAM0101 in granule processed_GEDI02_A_2019304031950_O05003_01_T01344_02_003_01_V002.h5 incomplete. Beam skipped. [in _extract_granule_data at /home/users/svm/Code/gedi_biomass_mapping/src/data/gedi_processing_pipeline.py:70]\n",
      "2021-06-03 11:49:52,682 WARNING: Data for beam BEAM1011 in granule processed_GEDI02_A_2019304031950_O05003_01_T01344_02_003_01_V002.h5 incomplete. Beam skipped. [in _extract_granule_data at /home/users/svm/Code/gedi_biomass_mapping/src/data/gedi_processing_pipeline.py:70]\n",
      "2021-06-03 11:49:55,303 WARNING: Data for beam BEAM0001 in granule processed_GEDI02_A_2019312000445_O05125_02_T01145_02_003_01_V002.h5 incomplete. Beam skipped. [in _extract_granule_data at /home/users/svm/Code/gedi_biomass_mapping/src/data/gedi_processing_pipeline.py:70]\n",
      "2021-06-03 11:49:56,473 WARNING: Data for beam BEAM0011 in granule processed_GEDI02_A_2019312000445_O05125_02_T01145_02_003_01_V002.h5 incomplete. Beam skipped. [in _extract_granule_data at /home/users/svm/Code/gedi_biomass_mapping/src/data/gedi_processing_pipeline.py:70]\n",
      "2021-06-03 11:49:56,523 WARNING: Data for beam BEAM0101 in granule processed_GEDI02_A_2019312000445_O05125_02_T01145_02_003_01_V002.h5 incomplete. Beam skipped. [in _extract_granule_data at /home/users/svm/Code/gedi_biomass_mapping/src/data/gedi_processing_pipeline.py:70]\n",
      "2021-06-03 11:49:59,173 WARNING: Data for beam BEAM1011 in granule processed_GEDI02_A_2019312000445_O05125_02_T01145_02_003_01_V002.h5 incomplete. Beam skipped. [in _extract_granule_data at /home/users/svm/Code/gedi_biomass_mapping/src/data/gedi_processing_pipeline.py:70]\n",
      "2021-06-03 11:50:02,066 WARNING: Data for beam BEAM0001 in granule processed_GEDI02_A_2019315222807_O05186_02_T03027_02_003_01_V002.h5 incomplete. Beam skipped. [in _extract_granule_data at /home/users/svm/Code/gedi_biomass_mapping/src/data/gedi_processing_pipeline.py:70]\n",
      "2021-06-03 11:50:03,389 WARNING: Data for beam BEAM0011 in granule processed_GEDI02_A_2019315222807_O05186_02_T03027_02_003_01_V002.h5 incomplete. Beam skipped. [in _extract_granule_data at /home/users/svm/Code/gedi_biomass_mapping/src/data/gedi_processing_pipeline.py:70]\n",
      "2021-06-03 11:50:03,406 WARNING: Data for beam BEAM0101 in granule processed_GEDI02_A_2019315222807_O05186_02_T03027_02_003_01_V002.h5 incomplete. Beam skipped. [in _extract_granule_data at /home/users/svm/Code/gedi_biomass_mapping/src/data/gedi_processing_pipeline.py:70]\n",
      "2021-06-03 11:50:09,339 WARNING: Data for beam BEAM0001 in granule processed_GEDI02_A_2019330164842_O05415_01_T04190_02_003_01_V002.h5 incomplete. Beam skipped. [in _extract_granule_data at /home/users/svm/Code/gedi_biomass_mapping/src/data/gedi_processing_pipeline.py:70]\n",
      "2021-06-03 11:50:10,305 WARNING: Data for beam BEAM0011 in granule processed_GEDI02_A_2019330164842_O05415_01_T04190_02_003_01_V002.h5 incomplete. Beam skipped. [in _extract_granule_data at /home/users/svm/Code/gedi_biomass_mapping/src/data/gedi_processing_pipeline.py:70]\n",
      "2021-06-03 11:50:10,321 WARNING: Data for beam BEAM0101 in granule processed_GEDI02_A_2019330164842_O05415_01_T04190_02_003_01_V002.h5 incomplete. Beam skipped. [in _extract_granule_data at /home/users/svm/Code/gedi_biomass_mapping/src/data/gedi_processing_pipeline.py:70]\n",
      "2021-06-03 11:50:12,947 WARNING: Data for beam BEAM1011 in granule processed_GEDI02_A_2019330164842_O05415_01_T04190_02_003_01_V002.h5 incomplete. Beam skipped. [in _extract_granule_data at /home/users/svm/Code/gedi_biomass_mapping/src/data/gedi_processing_pipeline.py:70]\n",
      "2021-06-03 11:50:15,347 WARNING: Data for beam BEAM0001 in granule processed_GEDI02_A_2019334151152_O05476_02_T04649_02_003_01_V002.h5 incomplete. Beam skipped. [in _extract_granule_data at /home/users/svm/Code/gedi_biomass_mapping/src/data/gedi_processing_pipeline.py:70]\n",
      "2021-06-03 11:50:16,770 WARNING: Data for beam BEAM0011 in granule processed_GEDI02_A_2019334151152_O05476_02_T04649_02_003_01_V002.h5 incomplete. Beam skipped. [in _extract_granule_data at /home/users/svm/Code/gedi_biomass_mapping/src/data/gedi_processing_pipeline.py:70]\n",
      "2021-06-03 11:50:24,565 WARNING: Data for beam BEAM0001 in granule processed_GEDI02_A_2019338133454_O05537_02_T05261_02_003_01_V002.h5 incomplete. Beam skipped. [in _extract_granule_data at /home/users/svm/Code/gedi_biomass_mapping/src/data/gedi_processing_pipeline.py:70]\n",
      "2021-06-03 11:50:26,056 WARNING: Data for beam BEAM0011 in granule processed_GEDI02_A_2019338133454_O05537_02_T05261_02_003_01_V002.h5 incomplete. Beam skipped. [in _extract_granule_data at /home/users/svm/Code/gedi_biomass_mapping/src/data/gedi_processing_pipeline.py:70]\n",
      "2021-06-03 11:50:26,086 WARNING: Data for beam BEAM0101 in granule processed_GEDI02_A_2019338133454_O05537_02_T05261_02_003_01_V002.h5 incomplete. Beam skipped. [in _extract_granule_data at /home/users/svm/Code/gedi_biomass_mapping/src/data/gedi_processing_pipeline.py:70]\n",
      "2021-06-03 11:50:29,233 WARNING: Data for beam BEAM1011 in granule processed_GEDI02_A_2019338133454_O05537_02_T05261_02_003_01_V002.h5 incomplete. Beam skipped. [in _extract_granule_data at /home/users/svm/Code/gedi_biomass_mapping/src/data/gedi_processing_pipeline.py:70]\n",
      "2021-06-03 11:50:32,001 WARNING: Data for beam BEAM0001 in granule processed_GEDI02_A_2019351092907_O05736_02_T00503_02_003_01_V002.h5 incomplete. Beam skipped. [in _extract_granule_data at /home/users/svm/Code/gedi_biomass_mapping/src/data/gedi_processing_pipeline.py:70]\n",
      "2021-06-03 11:50:33,068 WARNING: Data for beam BEAM0011 in granule processed_GEDI02_A_2019351092907_O05736_02_T00503_02_003_01_V002.h5 incomplete. Beam skipped. [in _extract_granule_data at /home/users/svm/Code/gedi_biomass_mapping/src/data/gedi_processing_pipeline.py:70]\n",
      "2021-06-03 11:50:33,079 WARNING: Data for beam BEAM0101 in granule processed_GEDI02_A_2019351092907_O05736_02_T00503_02_003_01_V002.h5 incomplete. Beam skipped. [in _extract_granule_data at /home/users/svm/Code/gedi_biomass_mapping/src/data/gedi_processing_pipeline.py:70]\n",
      "2021-06-03 11:50:38,896 WARNING: Data for beam BEAM0001 in granule processed_GEDI02_A_2020011222012_O06132_02_T04297_02_003_01_V002.h5 incomplete. Beam skipped. [in _extract_granule_data at /home/users/svm/Code/gedi_biomass_mapping/src/data/gedi_processing_pipeline.py:70]\n",
      "2021-06-03 11:50:39,731 WARNING: Data for beam BEAM0011 in granule processed_GEDI02_A_2020011222012_O06132_02_T04297_02_003_01_V002.h5 incomplete. Beam skipped. [in _extract_granule_data at /home/users/svm/Code/gedi_biomass_mapping/src/data/gedi_processing_pipeline.py:70]\n",
      "2021-06-03 11:50:39,753 WARNING: Data for beam BEAM0101 in granule processed_GEDI02_A_2020011222012_O06132_02_T04297_02_003_01_V002.h5 incomplete. Beam skipped. [in _extract_granule_data at /home/users/svm/Code/gedi_biomass_mapping/src/data/gedi_processing_pipeline.py:70]\n",
      "2021-06-03 11:50:42,588 WARNING: Data for beam BEAM1011 in granule processed_GEDI02_A_2020011222012_O06132_02_T04297_02_003_01_V002.h5 incomplete. Beam skipped. [in _extract_granule_data at /home/users/svm/Code/gedi_biomass_mapping/src/data/gedi_processing_pipeline.py:70]\n",
      "2021-06-03 11:50:44,746 WARNING: Data for beam BEAM0001 in granule processed_GEDI02_A_2020015204510_O06193_01_T00334_02_003_01_V002.h5 incomplete. Beam skipped. [in _extract_granule_data at /home/users/svm/Code/gedi_biomass_mapping/src/data/gedi_processing_pipeline.py:70]\n",
      "2021-06-03 11:50:45,642 WARNING: Data for beam BEAM0011 in granule processed_GEDI02_A_2020015204510_O06193_01_T00334_02_003_01_V002.h5 incomplete. Beam skipped. [in _extract_granule_data at /home/users/svm/Code/gedi_biomass_mapping/src/data/gedi_processing_pipeline.py:70]\n",
      "2021-06-03 11:50:45,668 WARNING: Data for beam BEAM0101 in granule processed_GEDI02_A_2020015204510_O06193_01_T00334_02_003_01_V002.h5 incomplete. Beam skipped. [in _extract_granule_data at /home/users/svm/Code/gedi_biomass_mapping/src/data/gedi_processing_pipeline.py:70]\n",
      "2021-06-03 11:50:50,548 WARNING: Data for beam BEAM0001 in granule processed_GEDI02_A_2020015204510_O06193_02_T00334_02_003_01_V002.h5 incomplete. Beam skipped. [in _extract_granule_data at /home/users/svm/Code/gedi_biomass_mapping/src/data/gedi_processing_pipeline.py:70]\n",
      "2021-06-03 11:50:51,345 WARNING: Data for beam BEAM0011 in granule processed_GEDI02_A_2020015204510_O06193_02_T00334_02_003_01_V002.h5 incomplete. Beam skipped. [in _extract_granule_data at /home/users/svm/Code/gedi_biomass_mapping/src/data/gedi_processing_pipeline.py:70]\n",
      "2021-06-03 11:50:51,352 WARNING: Data for beam BEAM0101 in granule processed_GEDI02_A_2020015204510_O06193_02_T00334_02_003_01_V002.h5 incomplete. Beam skipped. [in _extract_granule_data at /home/users/svm/Code/gedi_biomass_mapping/src/data/gedi_processing_pipeline.py:70]\n",
      "2021-06-03 11:50:53,397 WARNING: Data for beam BEAM1011 in granule processed_GEDI02_A_2020015204510_O06193_02_T00334_02_003_01_V002.h5 incomplete. Beam skipped. [in _extract_granule_data at /home/users/svm/Code/gedi_biomass_mapping/src/data/gedi_processing_pipeline.py:70]\n",
      "2021-06-03 11:50:55,507 WARNING: Data for beam BEAM0001 in granule processed_GEDI02_A_2020019191005_O06254_01_T00487_02_003_01_V002.h5 incomplete. Beam skipped. [in _extract_granule_data at /home/users/svm/Code/gedi_biomass_mapping/src/data/gedi_processing_pipeline.py:70]\n",
      "2021-06-03 11:50:56,524 WARNING: Data for beam BEAM0011 in granule processed_GEDI02_A_2020019191005_O06254_01_T00487_02_003_01_V002.h5 incomplete. Beam skipped. [in _extract_granule_data at /home/users/svm/Code/gedi_biomass_mapping/src/data/gedi_processing_pipeline.py:70]\n",
      "2021-06-03 11:50:56,541 WARNING: Data for beam BEAM0101 in granule processed_GEDI02_A_2020019191005_O06254_01_T00487_02_003_01_V002.h5 incomplete. Beam skipped. [in _extract_granule_data at /home/users/svm/Code/gedi_biomass_mapping/src/data/gedi_processing_pipeline.py:70]\n",
      "2021-06-03 11:50:58,961 WARNING: Data for beam BEAM1011 in granule processed_GEDI02_A_2020019191005_O06254_01_T00487_02_003_01_V002.h5 incomplete. Beam skipped. [in _extract_granule_data at /home/users/svm/Code/gedi_biomass_mapping/src/data/gedi_processing_pipeline.py:70]\n",
      "2021-06-03 11:51:01,276 WARNING: Data for beam BEAM0000 in granule processed_GEDI02_A_2020019191005_O06254_02_T00487_02_003_01_V002.h5 incomplete. Beam skipped. [in _extract_granule_data at /home/users/svm/Code/gedi_biomass_mapping/src/data/gedi_processing_pipeline.py:70]\n",
      "2021-06-03 11:51:01,837 WARNING: Data for beam BEAM0001 in granule processed_GEDI02_A_2020019191005_O06254_02_T00487_02_003_01_V002.h5 incomplete. Beam skipped. [in _extract_granule_data at /home/users/svm/Code/gedi_biomass_mapping/src/data/gedi_processing_pipeline.py:70]\n",
      "2021-06-03 11:51:01,842 WARNING: Data for beam BEAM0010 in granule processed_GEDI02_A_2020019191005_O06254_02_T00487_02_003_01_V002.h5 incomplete. Beam skipped. [in _extract_granule_data at /home/users/svm/Code/gedi_biomass_mapping/src/data/gedi_processing_pipeline.py:70]\n",
      "2021-06-03 11:51:02,026 WARNING: Data for beam BEAM0011 in granule processed_GEDI02_A_2020019191005_O06254_02_T00487_02_003_01_V002.h5 incomplete. Beam skipped. [in _extract_granule_data at /home/users/svm/Code/gedi_biomass_mapping/src/data/gedi_processing_pipeline.py:70]\n",
      "2021-06-03 11:51:02,030 WARNING: Data for beam BEAM0101 in granule processed_GEDI02_A_2020019191005_O06254_02_T00487_02_003_01_V002.h5 incomplete. Beam skipped. [in _extract_granule_data at /home/users/svm/Code/gedi_biomass_mapping/src/data/gedi_processing_pipeline.py:70]\n",
      "2021-06-03 11:51:03,157 WARNING: Data for beam BEAM1011 in granule processed_GEDI02_A_2020019191005_O06254_02_T00487_02_003_01_V002.h5 incomplete. Beam skipped. [in _extract_granule_data at /home/users/svm/Code/gedi_biomass_mapping/src/data/gedi_processing_pipeline.py:70]\n",
      "2021-06-03 11:51:09,256 WARNING: Data for beam BEAM1000 in granule processed_GEDI02_A_2020042103421_O06605_01_T00273_02_003_01_V002.h5 incomplete. Beam skipped. [in _extract_granule_data at /home/users/svm/Code/gedi_biomass_mapping/src/data/gedi_processing_pipeline.py:70]\n",
      "2021-06-03 11:51:09,261 WARNING: Data for beam BEAM1011 in granule processed_GEDI02_A_2020042103421_O06605_01_T00273_02_003_01_V002.h5 incomplete. Beam skipped. [in _extract_granule_data at /home/users/svm/Code/gedi_biomass_mapping/src/data/gedi_processing_pipeline.py:70]\n",
      "2021-06-03 11:51:10,556 WARNING: Data for beam BEAM0000 in granule processed_GEDI02_A_2020052072649_O06758_02_T00197_02_003_01_V002.h5 incomplete. Beam skipped. [in _extract_granule_data at /home/users/svm/Code/gedi_biomass_mapping/src/data/gedi_processing_pipeline.py:70]\n",
      "2021-06-03 11:51:10,778 WARNING: Data for beam BEAM0001 in granule processed_GEDI02_A_2020052072649_O06758_02_T00197_02_003_01_V002.h5 incomplete. Beam skipped. [in _extract_granule_data at /home/users/svm/Code/gedi_biomass_mapping/src/data/gedi_processing_pipeline.py:70]\n",
      "2021-06-03 11:51:10,782 WARNING: Data for beam BEAM0010 in granule processed_GEDI02_A_2020052072649_O06758_02_T00197_02_003_01_V002.h5 incomplete. Beam skipped. [in _extract_granule_data at /home/users/svm/Code/gedi_biomass_mapping/src/data/gedi_processing_pipeline.py:70]\n",
      "2021-06-03 11:51:10,935 WARNING: Data for beam BEAM0011 in granule processed_GEDI02_A_2020052072649_O06758_02_T00197_02_003_01_V002.h5 incomplete. Beam skipped. [in _extract_granule_data at /home/users/svm/Code/gedi_biomass_mapping/src/data/gedi_processing_pipeline.py:70]\n",
      "2021-06-03 11:51:10,939 WARNING: Data for beam BEAM0101 in granule processed_GEDI02_A_2020052072649_O06758_02_T00197_02_003_01_V002.h5 incomplete. Beam skipped. [in _extract_granule_data at /home/users/svm/Code/gedi_biomass_mapping/src/data/gedi_processing_pipeline.py:70]\n",
      "2021-06-03 11:51:11,562 WARNING: Data for beam BEAM1011 in granule processed_GEDI02_A_2020052072649_O06758_02_T00197_02_003_01_V002.h5 incomplete. Beam skipped. [in _extract_granule_data at /home/users/svm/Code/gedi_biomass_mapping/src/data/gedi_processing_pipeline.py:70]\n",
      "2021-06-03 11:51:12,734 WARNING: Data for beam BEAM0000 in granule processed_GEDI02_A_2020056055308_O06819_02_T03196_02_003_01_V002.h5 incomplete. Beam skipped. [in _extract_granule_data at /home/users/svm/Code/gedi_biomass_mapping/src/data/gedi_processing_pipeline.py:70]\n",
      "2021-06-03 11:51:12,939 WARNING: Data for beam BEAM0001 in granule processed_GEDI02_A_2020056055308_O06819_02_T03196_02_003_01_V002.h5 incomplete. Beam skipped. [in _extract_granule_data at /home/users/svm/Code/gedi_biomass_mapping/src/data/gedi_processing_pipeline.py:70]\n",
      "2021-06-03 11:51:12,943 WARNING: Data for beam BEAM0010 in granule processed_GEDI02_A_2020056055308_O06819_02_T03196_02_003_01_V002.h5 incomplete. Beam skipped. [in _extract_granule_data at /home/users/svm/Code/gedi_biomass_mapping/src/data/gedi_processing_pipeline.py:70]\n",
      "2021-06-03 11:51:13,227 WARNING: Data for beam BEAM0011 in granule processed_GEDI02_A_2020056055308_O06819_02_T03196_02_003_01_V002.h5 incomplete. Beam skipped. [in _extract_granule_data at /home/users/svm/Code/gedi_biomass_mapping/src/data/gedi_processing_pipeline.py:70]\n",
      "2021-06-03 11:51:13,230 WARNING: Data for beam BEAM0101 in granule processed_GEDI02_A_2020056055308_O06819_02_T03196_02_003_01_V002.h5 incomplete. Beam skipped. [in _extract_granule_data at /home/users/svm/Code/gedi_biomass_mapping/src/data/gedi_processing_pipeline.py:70]\n",
      "2021-06-03 11:51:13,908 WARNING: Data for beam BEAM1011 in granule processed_GEDI02_A_2020056055308_O06819_02_T03196_02_003_01_V002.h5 incomplete. Beam skipped. [in _extract_granule_data at /home/users/svm/Code/gedi_biomass_mapping/src/data/gedi_processing_pipeline.py:70]\n",
      "2021-06-03 11:51:16,894 WARNING: Data for beam BEAM0001 in granule processed_GEDI02_A_2020064024540_O06941_02_T04772_02_003_01_V002.h5 incomplete. Beam skipped. [in _extract_granule_data at /home/users/svm/Code/gedi_biomass_mapping/src/data/gedi_processing_pipeline.py:70]\n",
      "2021-06-03 11:51:17,997 WARNING: Data for beam BEAM0011 in granule processed_GEDI02_A_2020064024540_O06941_02_T04772_02_003_01_V002.h5 incomplete. Beam skipped. [in _extract_granule_data at /home/users/svm/Code/gedi_biomass_mapping/src/data/gedi_processing_pipeline.py:70]\n",
      "2021-06-03 11:51:18,027 WARNING: Data for beam BEAM0101 in granule processed_GEDI02_A_2020064024540_O06941_02_T04772_02_003_01_V002.h5 incomplete. Beam skipped. [in _extract_granule_data at /home/users/svm/Code/gedi_biomass_mapping/src/data/gedi_processing_pipeline.py:70]\n",
      "2021-06-03 11:51:20,857 WARNING: Data for beam BEAM1011 in granule processed_GEDI02_A_2020064024540_O06941_02_T04772_02_003_01_V002.h5 incomplete. Beam skipped. [in _extract_granule_data at /home/users/svm/Code/gedi_biomass_mapping/src/data/gedi_processing_pipeline.py:70]\n",
      "2021-06-03 11:51:22,958 WARNING: Data for beam BEAM0001 in granule processed_GEDI02_A_2020068011153_O07002_02_T03196_02_003_01_V002.h5 incomplete. Beam skipped. [in _extract_granule_data at /home/users/svm/Code/gedi_biomass_mapping/src/data/gedi_processing_pipeline.py:70]\n",
      "2021-06-03 11:51:23,646 WARNING: Data for beam BEAM0011 in granule processed_GEDI02_A_2020068011153_O07002_02_T03196_02_003_01_V002.h5 incomplete. Beam skipped. [in _extract_granule_data at /home/users/svm/Code/gedi_biomass_mapping/src/data/gedi_processing_pipeline.py:70]\n",
      "2021-06-03 11:51:23,664 WARNING: Data for beam BEAM0101 in granule processed_GEDI02_A_2020068011153_O07002_02_T03196_02_003_01_V002.h5 incomplete. Beam skipped. [in _extract_granule_data at /home/users/svm/Code/gedi_biomass_mapping/src/data/gedi_processing_pipeline.py:70]\n",
      "2021-06-03 11:51:26,126 WARNING: Data for beam BEAM1011 in granule processed_GEDI02_A_2020068011153_O07002_02_T03196_02_003_01_V002.h5 incomplete. Beam skipped. [in _extract_granule_data at /home/users/svm/Code/gedi_biomass_mapping/src/data/gedi_processing_pipeline.py:70]\n",
      "2021-06-03 11:51:28,763 WARNING: Data for beam BEAM0001 in granule processed_GEDI02_A_2020071233803_O07063_02_T04772_02_003_01_V002.h5 incomplete. Beam skipped. [in _extract_granule_data at /home/users/svm/Code/gedi_biomass_mapping/src/data/gedi_processing_pipeline.py:70]\n",
      "2021-06-03 11:51:37,517 WARNING: Data for beam BEAM0000 in granule processed_GEDI02_A_2020087172459_O07307_02_T00350_02_003_01_V002.h5 incomplete. Beam skipped. [in _extract_granule_data at /home/users/svm/Code/gedi_biomass_mapping/src/data/gedi_processing_pipeline.py:70]\n",
      "2021-06-03 11:51:37,803 WARNING: Data for beam BEAM0001 in granule processed_GEDI02_A_2020087172459_O07307_02_T00350_02_003_01_V002.h5 incomplete. Beam skipped. [in _extract_granule_data at /home/users/svm/Code/gedi_biomass_mapping/src/data/gedi_processing_pipeline.py:70]\n",
      "2021-06-03 11:51:37,808 WARNING: Data for beam BEAM0010 in granule processed_GEDI02_A_2020087172459_O07307_02_T00350_02_003_01_V002.h5 incomplete. Beam skipped. [in _extract_granule_data at /home/users/svm/Code/gedi_biomass_mapping/src/data/gedi_processing_pipeline.py:70]\n",
      "2021-06-03 11:51:37,810 WARNING: Data for beam BEAM0011 in granule processed_GEDI02_A_2020087172459_O07307_02_T00350_02_003_01_V002.h5 incomplete. Beam skipped. [in _extract_granule_data at /home/users/svm/Code/gedi_biomass_mapping/src/data/gedi_processing_pipeline.py:70]\n",
      "2021-06-03 11:51:37,814 WARNING: Data for beam BEAM0101 in granule processed_GEDI02_A_2020087172459_O07307_02_T00350_02_003_01_V002.h5 incomplete. Beam skipped. [in _extract_granule_data at /home/users/svm/Code/gedi_biomass_mapping/src/data/gedi_processing_pipeline.py:70]\n",
      "2021-06-03 11:51:37,817 WARNING: Data for beam BEAM0110 in granule processed_GEDI02_A_2020087172459_O07307_02_T00350_02_003_01_V002.h5 incomplete. Beam skipped. [in _extract_granule_data at /home/users/svm/Code/gedi_biomass_mapping/src/data/gedi_processing_pipeline.py:70]\n",
      "2021-06-03 11:51:38,049 WARNING: Data for beam BEAM1011 in granule processed_GEDI02_A_2020087172459_O07307_02_T00350_02_003_01_V002.h5 incomplete. Beam skipped. [in _extract_granule_data at /home/users/svm/Code/gedi_biomass_mapping/src/data/gedi_processing_pipeline.py:70]\n",
      "2021-06-03 11:51:45,023 WARNING: Data for beam BEAM1000 in granule processed_GEDI02_A_2020097124736_O07459_01_T04236_02_003_01_V002.h5 incomplete. Beam skipped. [in _extract_granule_data at /home/users/svm/Code/gedi_biomass_mapping/src/data/gedi_processing_pipeline.py:70]\n",
      "2021-06-03 11:51:45,032 WARNING: Data for beam BEAM1011 in granule processed_GEDI02_A_2020097124736_O07459_01_T04236_02_003_01_V002.h5 incomplete. Beam skipped. [in _extract_granule_data at /home/users/svm/Code/gedi_biomass_mapping/src/data/gedi_processing_pipeline.py:70]\n",
      "2021-06-03 11:51:47,325 WARNING: Data for beam BEAM0001 in granule processed_GEDI02_A_2020106085745_O07596_01_T01757_02_003_01_V002.h5 incomplete. Beam skipped. [in _extract_granule_data at /home/users/svm/Code/gedi_biomass_mapping/src/data/gedi_processing_pipeline.py:70]\n",
      "2021-06-03 11:51:48,283 WARNING: Data for beam BEAM0011 in granule processed_GEDI02_A_2020106085745_O07596_01_T01757_02_003_01_V002.h5 incomplete. Beam skipped. [in _extract_granule_data at /home/users/svm/Code/gedi_biomass_mapping/src/data/gedi_processing_pipeline.py:70]\n",
      "2021-06-03 11:51:48,298 WARNING: Data for beam BEAM0101 in granule processed_GEDI02_A_2020106085745_O07596_01_T01757_02_003_01_V002.h5 incomplete. Beam skipped. [in _extract_granule_data at /home/users/svm/Code/gedi_biomass_mapping/src/data/gedi_processing_pipeline.py:70]\n",
      "2021-06-03 11:51:50,099 WARNING: Data for beam BEAM1011 in granule processed_GEDI02_A_2020106085745_O07596_01_T01757_02_003_01_V002.h5 incomplete. Beam skipped. [in _extract_granule_data at /home/users/svm/Code/gedi_biomass_mapping/src/data/gedi_processing_pipeline.py:70]\n",
      "2021-06-03 11:51:52,458 WARNING: Data for beam BEAM0001 in granule processed_GEDI02_A_2020106085745_O07596_02_T01757_02_003_01_V002.h5 incomplete. Beam skipped. [in _extract_granule_data at /home/users/svm/Code/gedi_biomass_mapping/src/data/gedi_processing_pipeline.py:70]\n",
      "2021-06-03 11:51:53,438 WARNING: Data for beam BEAM0011 in granule processed_GEDI02_A_2020106085745_O07596_02_T01757_02_003_01_V002.h5 incomplete. Beam skipped. [in _extract_granule_data at /home/users/svm/Code/gedi_biomass_mapping/src/data/gedi_processing_pipeline.py:70]\n",
      "2021-06-03 11:51:53,446 WARNING: Data for beam BEAM0101 in granule processed_GEDI02_A_2020106085745_O07596_02_T01757_02_003_01_V002.h5 incomplete. Beam skipped. [in _extract_granule_data at /home/users/svm/Code/gedi_biomass_mapping/src/data/gedi_processing_pipeline.py:70]\n",
      "2021-06-03 11:51:55,899 WARNING: Data for beam BEAM1011 in granule processed_GEDI02_A_2020106085745_O07596_02_T01757_02_003_01_V002.h5 incomplete. Beam skipped. [in _extract_granule_data at /home/users/svm/Code/gedi_biomass_mapping/src/data/gedi_processing_pipeline.py:70]\n"
     ]
    }
   ],
   "source": [
    "from src.data.gedi_processing_pipeline import _extract_granule_data\n",
    "from tqdm.autonotebook import tqdm\n",
    "\n",
    "for order_path in orders:  \n",
    "    order_number = order_path.name.split(\"order\")[-1]\n",
    "    download_path = order_path.parent / f\"download_{order_number}\"\n",
    "    granule_paths = list(download_path.glob(\"*.h5\"))\n",
    "    for granule_path in tqdm(granule_paths):\n",
    "        granule_name = granule_path.name.split(\".\")[0]\n",
    "        save_name = order_path / f\"{granule_name}.feather\"\n",
    "        # Extract\n",
    "        granule_data = _extract_granule_data(granule_path)\n",
    "        # Save\n",
    "        save_name = order_path / f\"{granule_name}.feather\"\n",
    "        save_name.parent.mkdir(exist_ok=True, parents=True)\n",
    "        granule_data.to_feather(save_name)"
   ]
  }
 ],
 "metadata": {
  "kernelspec": {
   "display_name": "env",
   "language": "python",
   "name": "env"
  },
  "language_info": {
   "codemirror_mode": {
    "name": "ipython",
    "version": 3
   },
   "file_extension": ".py",
   "mimetype": "text/x-python",
   "name": "python",
   "nbconvert_exporter": "python",
   "pygments_lexer": "ipython3",
   "version": "3.9.2"
  }
 },
 "nbformat": 4,
 "nbformat_minor": 5
}
