{
 "cells": [
  {
   "cell_type": "code",
   "execution_count": 9,
   "id": "cb0da5cc-ed87-4f6a-9763-5d57f15d94e8",
   "metadata": {
    "execution": {
     "iopub.execute_input": "2021-05-20T21:24:17.870921Z",
     "iopub.status.busy": "2021-05-20T21:24:17.870502Z",
     "iopub.status.idle": "2021-05-20T21:24:18.260236Z",
     "shell.execute_reply": "2021-05-20T21:24:18.259862Z",
     "shell.execute_reply.started": "2021-05-20T21:24:17.870897Z"
    },
    "tags": []
   },
   "outputs": [
    {
     "name": "stdout",
     "output_type": "stream",
     "text": [
      "The rpy2.ipython extension is already loaded. To reload it, use:\n",
      "  %reload_ext rpy2.ipython\n"
     ]
    }
   ],
   "source": [
    "# Convenient jupyter setup\n",
    "%load_ext autoreload\n",
    "%autoreload 2\n",
    "%load_ext rpy2.ipython"
   ]
  },
  {
   "cell_type": "code",
   "execution_count": 10,
   "id": "d932d368-6c1c-4d5e-9ec5-d48142687557",
   "metadata": {
    "execution": {
     "iopub.execute_input": "2021-05-20T21:24:32.287748Z",
     "iopub.status.busy": "2021-05-20T21:24:32.287430Z",
     "iopub.status.idle": "2021-05-20T21:24:32.314895Z",
     "shell.execute_reply": "2021-05-20T21:24:32.314461Z",
     "shell.execute_reply.started": "2021-05-20T21:24:32.287726Z"
    }
   },
   "outputs": [],
   "source": [
    "from src.constants import PAISAGENSLIDAR_PATH"
   ]
  },
  {
   "cell_type": "code",
   "execution_count": 27,
   "id": "362c5c27-cb43-4812-bdd8-f3f8f48adb32",
   "metadata": {
    "execution": {
     "iopub.execute_input": "2021-05-20T21:29:57.004380Z",
     "iopub.status.busy": "2021-05-20T21:29:57.004139Z",
     "iopub.status.idle": "2021-05-20T21:29:57.363672Z",
     "shell.execute_reply": "2021-05-20T21:29:57.362859Z",
     "shell.execute_reply.started": "2021-05-20T21:29:57.004361Z"
    },
    "tags": []
   },
   "outputs": [
    {
     "name": "stdout",
     "output_type": "stream",
     "text": [
      "Found 18 las files.\n",
      "Found 1 laz files.\n"
     ]
    }
   ],
   "source": [
    "# Find files\n",
    "las_files = list(PAISAGENSLIDAR_PATH.glob(\"**/*.las\"))\n",
    "laz_files = list(PAISAGENSLIDAR_PATH.glob(\"**/*.laz\"))\n",
    "print(f\"Found {len(las_files)} las files.\\nFound {len(laz_files)} laz files.\")"
   ]
  },
  {
   "cell_type": "code",
   "execution_count": 26,
   "id": "ea66ed17-f3ab-4834-a898-938af145fb94",
   "metadata": {
    "execution": {
     "iopub.execute_input": "2021-05-20T21:29:54.131791Z",
     "iopub.status.busy": "2021-05-20T21:29:54.131559Z",
     "iopub.status.idle": "2021-05-20T21:29:54.459949Z",
     "shell.execute_reply": "2021-05-20T21:29:54.459253Z",
     "shell.execute_reply.started": "2021-05-20T21:29:54.131773Z"
    },
    "tags": []
   },
   "outputs": [
    {
     "name": "stdout",
     "output_type": "stream",
     "text": [
      "LAS sample: /gws/nopw/j04/forecol/data/Paisagenslidar/Mission_2015/CON_A01_2015_LiDAR/CON_A01_2015_LAS/CONL4935C83975.las\n",
      "LAZ sample: /gws/nopw/j04/forecol/data/Paisagenslidar/Mission_2008/TAP_A06_2008_LiDAR/TAP_A06_2008_LiDAR/TAP_A06_2008_laz/TAP_A06_17-01.laz\n"
     ]
    }
   ],
   "source": [
    "las_sample = str(las_files[-1])\n",
    "laz_sample = str(laz_files[0])\n",
    "print(f\"LAS sample: {las_sample}\")\n",
    "print(f\"LAZ sample: {laz_sample}\")"
   ]
  },
  {
   "cell_type": "code",
   "execution_count": 32,
   "id": "aca42914-8ca6-444d-8b9d-541517e0cbef",
   "metadata": {
    "execution": {
     "iopub.execute_input": "2021-05-20T21:31:44.319837Z",
     "iopub.status.busy": "2021-05-20T21:31:44.319614Z",
     "iopub.status.idle": "2021-05-20T21:31:45.136273Z",
     "shell.execute_reply": "2021-05-20T21:31:45.135935Z",
     "shell.execute_reply.started": "2021-05-20T21:31:44.319818Z"
    },
    "tags": []
   },
   "outputs": [
    {
     "name": "stdout",
     "output_type": "stream",
     "text": [
      "class        : LAS (v1.0 format 1)\n",
      "memory       : 17.7 Mb \n",
      "extent       : 493500, 493582.5, 8397500, 8397595 (xmin, xmax, ymin, ymax)\n",
      "coord. ref.  : NA \n",
      "area         : 3950.188 units²\n",
      "points       : 232.2 thousand points\n",
      "density      : 58.78 points/units²\n",
      "\n",
      " Checking the data\n",
      "  - Checking coordinates...\u001b[32m ✓\u001b[39m\n",
      "  - Checking coordinates type...\u001b[32m ✓\u001b[39m\n",
      "  - Checking coordinates quantization...\u001b[32m ✓\u001b[39m\n",
      "  - Checking attributes type...\u001b[32m ✓\u001b[39m\n",
      "  - Checking ReturnNumber validity...\u001b[32m ✓\u001b[39m\n",
      "  - Checking NumberOfReturns validity...\u001b[32m ✓\u001b[39m\n",
      "  - Checking ReturnNumber vs. NumberOfReturns...\u001b[32m ✓\u001b[39m\n",
      "  - Checking RGB validity...\u001b[32m ✓\u001b[39m\n",
      "  - Checking absence of NAs...\u001b[32m ✓\u001b[39m\n",
      "  - Checking duplicated points...\n",
      " \u001b[33m  ⚠ 349 points are duplicated and share XYZ coordinates with other points\u001b[39m\n",
      "  - Checking degenerated ground points...\n",
      " \u001b[33m  ⚠ There were 3 degenerated ground points. Some X Y Z coordinates were repeated.\u001b[39m\n",
      "  - Checking attribute population...\n",
      " \u001b[33m  ⚠ 'ScanDirectionFlag' attribute is not populated.\u001b[39m\n",
      " \u001b[33m  ⚠ 'EdgeOfFlightline' attribute is not populated.\u001b[39m\n",
      "  - Checking gpstime incoherances\n",
      " \u001b[31m   ✗ 2961 pulses (points with the same gpstime) have points with identical ReturnNumber\u001b[39m\n",
      "  - Checking flag attributes...\u001b[32m ✓\u001b[39m\n",
      "  - Checking user data attribute...\u001b[32m ✓\u001b[39m\n",
      " Checking the header\n",
      "  - Checking header completeness...\u001b[32m ✓\u001b[39m\n",
      "  - Checking scale factor validity...\u001b[32m ✓\u001b[39m\n",
      "  - Checking point data format ID validity...\u001b[32m ✓\u001b[39m\n",
      "  - Checking extra bytes attributes validity...\u001b[32m ✓\u001b[39m\n",
      "  - Checking the bounding box validity...\u001b[32m ✓\u001b[39m\n",
      "  - Checking coordinate reference sytem...\u001b[32m ✓\u001b[39m\n",
      " Checking header vs data adequacy\n",
      "  - Checking attributes vs. point format...\u001b[32m ✓\u001b[39m\n",
      "  - Checking header bbox vs. actual content...\u001b[32m ✓\u001b[39m\n",
      "  - Checking header number of points vs. actual content...\u001b[32m ✓\u001b[39m\n",
      "  - Checking header return number vs. actual content...\u001b[32m ✓\u001b[39m\n",
      " Checking preprocessing already done \n",
      "  - Checking ground classification...\u001b[32m yes\u001b[39m\n",
      "  - Checking normalization...\u001b[31m no\u001b[39m\n",
      "  - Checking negative outliers...\u001b[32m ✓\u001b[39m\n",
      "  - Checking flightline classification...\u001b[32m yes\u001b[39mFile signature:           LASF \n",
      "File source ID:           0 \n",
      "Global encoding:\n",
      " - GPS Time Type: GPS Week Time \n",
      " - Synthetic Return Numbers: no \n",
      " - Well Know Text: CRS is GeoTIFF \n",
      " - Aggregate Model: false \n",
      "Project ID - GUID:        00000000-0000-0000-0000-000000000000 \n",
      "Version:                  1.0\n",
      "System identifier:         \n",
      "Generating software:      TerraScan \n",
      "File creation d/y:        15/2016\n",
      "header size:              227 \n",
      "Offset to point data:     229 \n",
      "Num. var. length record:  0 \n",
      "Point data format:        1 \n",
      "Point data record length: 28 \n",
      "Num. of point records:    232191 \n",
      "Num. of points by return: 128993 103198 0 0 0 \n",
      "Scale factor X Y Z:       0.01 0.01 0.01 \n",
      "Offset X Y Z:             0 0 0 \n",
      "min X Y Z:                493500 8397500 109 \n",
      "max X Y Z:                493582.5 8397595 139.83 \n",
      "Variable length records:  void\n",
      "CRS arguments: NA \n",
      "CPU times: user 5.73 s, sys: 1.5 s, total: 7.23 s\n",
      "Wall time: 800 ms\n"
     ]
    }
   ],
   "source": [
    "%%time\n",
    "%%R -i las_sample\n",
    "library(lidR)\n",
    "\n",
    "las <- readLAS(las_sample)\n",
    "print(las)\n",
    "las_check(las)\n",
    "print(las@header)\n",
    "print(las@proj4string)"
   ]
  },
  {
   "cell_type": "code",
   "execution_count": 33,
   "id": "71f29700-c43a-453f-828a-9a01ce34958a",
   "metadata": {
    "execution": {
     "iopub.execute_input": "2021-05-20T21:32:47.213325Z",
     "iopub.status.busy": "2021-05-20T21:32:47.213087Z",
     "iopub.status.idle": "2021-05-20T21:32:54.319310Z",
     "shell.execute_reply": "2021-05-20T21:32:54.318822Z",
     "shell.execute_reply.started": "2021-05-20T21:32:47.213304Z"
    },
    "tags": []
   },
   "outputs": [
    {
     "name": "stderr",
     "output_type": "stream",
     "text": [
      "R[write to console]: Original dataset already contains 7641 ground points. These points were reclassified as 'unclassified' before performing a new ground classification.\n",
      "\n"
     ]
    },
    {
     "name": "stdout",
     "output_type": "stream",
     "text": [
      "Inverse distance weighting: [=-------------------------------------------------] 2% (24 threads)[=-------------------------------------------------] 3% (24 threads)[==------------------------------------------------] 4% (24 threads)[==------------------------------------------------] 5% (24 threads)[===-----------------------------------------------] 6% (24 threads)[===-----------------------------------------------] 7% (24 threads)[====----------------------------------------------] 8% (24 threads)[====----------------------------------------------] 9% (24 threads)[=====---------------------------------------------] 10% (24 threads)[=====---------------------------------------------] 11% (24 threads)[======--------------------------------------------] 12% (24 threads)[======--------------------------------------------] 13% (24 threads)[=======-------------------------------------------] 14% (24 threads)[=======-------------------------------------------] 15% (24 threads)[========------------------------------------------] 16% (24 threads)[========------------------------------------------] 17% (24 threads)[=========-----------------------------------------] 18% (24 threads)[=========-----------------------------------------] 19% (24 threads)[==========----------------------------------------] 20% (24 threads)[==========----------------------------------------] 21% (24 threads)[===========---------------------------------------] 22% (24 threads)[===========---------------------------------------] 23% (24 threads)[============--------------------------------------] 24% (24 threads)[============--------------------------------------] 25% (24 threads)[=============-------------------------------------] 26% (24 threads)[=============-------------------------------------] 27% (24 threads)[==============------------------------------------] 28% (24 threads)[==============------------------------------------] 29% (24 threads)[===============-----------------------------------] 30% (24 threads)[===============-----------------------------------] 31% (24 threads)[================----------------------------------] 32% (24 threads)[================----------------------------------] 33% (24 threads)[=================---------------------------------] 34% (24 threads)[=================---------------------------------] 35% (24 threads)[==================--------------------------------] 36% (24 threads)[==================--------------------------------] 37% (24 threads)[===================-------------------------------] 38% (24 threads)[===================-------------------------------] 39% (24 threads)[====================------------------------------] 40% (24 threads)[====================------------------------------] 41% (24 threads)[=====================-----------------------------] 42% (24 threads)[=====================-----------------------------] 43% (24 threads)[======================----------------------------] 44% (24 threads)[======================----------------------------] 45% (24 threads)[=======================---------------------------] 46% (24 threads)[=======================---------------------------] 47% (24 threads)[========================--------------------------] 48% (24 threads)[========================--------------------------] 49% (24 threads)[=========================-------------------------] 50% (24 threads)[=========================-------------------------] 51% (24 threads)[==========================------------------------] 52% (24 threads)[==========================------------------------] 53% (24 threads)[===========================-----------------------] 54% (24 threads)[===========================-----------------------] 55% (24 threads)[============================----------------------] 56% (24 threads)[============================----------------------] 57% (24 threads)[=============================---------------------] 58% (24 threads)[=============================---------------------] 59% (24 threads)[==============================--------------------] 60% (24 threads)[==============================--------------------] 61% (24 threads)[===============================-------------------] 62% (24 threads)[===============================-------------------] 63% (24 threads)[================================------------------] 64% (24 threads)[================================------------------] 65% (24 threads)[=================================-----------------] 66% (24 threads)[=================================-----------------] 67% (24 threads)[==================================----------------] 68% (24 threads)[==================================----------------] 69% (24 threads)[===================================---------------] 70% (24 threads)[===================================---------------] 71% (24 threads)[====================================--------------] 72% (24 threads)[====================================--------------] 73% (24 threads)[=====================================-------------] 74% (24 threads)[=====================================-------------] 75% (24 threads)[======================================------------] 76% (24 threads)[======================================------------] 77% (24 threads)[=======================================-----------] 78% (24 threads)[=======================================-----------] 79% (24 threads)[========================================----------] 80% (24 threads)[========================================----------] 81% (24 threads)[=========================================---------] 82% (24 threads)[=========================================---------] 83% (24 threads)[==========================================--------] 84% (24 threads)[==========================================--------] 85% (24 threads)[===========================================-------] 86% (24 threads)[===========================================-------] 87% (24 threads)[============================================------] 88% (24 threads)[============================================------] 89% (24 threads)[=============================================-----] 90% (24 threads)[=============================================-----] 91% (24 threads)[==============================================----] 92% (24 threads)[==============================================----] 93% (24 threads)[===============================================---] 94% (24 threads)[===============================================---] 95% (24 threads)[================================================--] 96% (24 threads)[================================================--] 97% (24 threads)[=================================================-] 98% (24 threads)[=================================================-] 99% (24 threads)[==================================================] 100% (24 threads)\r"
     ]
    }
   ],
   "source": [
    "%%R\n",
    "mycsf <- csf(sloop_smooth = TRUE, class_threshold = 1, cloth_resolution = 1, time_step = 1)\n",
    "las <- classify_ground(las, mycsf)\n",
    "nlas <- normalize_height(las, knnidw())"
   ]
  },
  {
   "cell_type": "code",
   "execution_count": 35,
   "id": "1c58cbe5-1c34-4166-8c79-7a4bfbed5c31",
   "metadata": {
    "execution": {
     "iopub.execute_input": "2021-05-20T21:33:17.113313Z",
     "iopub.status.busy": "2021-05-20T21:33:17.113059Z",
     "iopub.status.idle": "2021-05-20T21:33:17.184932Z",
     "shell.execute_reply": "2021-05-20T21:33:17.184557Z",
     "shell.execute_reply.started": "2021-05-20T21:33:17.113292Z"
    },
    "tags": []
   },
   "outputs": [
    {
     "name": "stdout",
     "output_type": "stream",
     "text": [
      "class        : LAS (v1.0 format 1)\n",
      "memory       : 20.4 Mb \n",
      "extent       : 493500, 493582.5, 8397500, 8397595 (xmin, xmax, ymin, ymax)\n",
      "coord. ref.  : NA \n",
      "area         : 3950.188 units²\n",
      "points       : 232.2 thousand points\n",
      "density      : 58.78 points/units²\n"
     ]
    }
   ],
   "source": [
    "%%R\n",
    "print(nlas)"
   ]
  },
  {
   "cell_type": "code",
   "execution_count": 38,
   "id": "be7ae7bb-e725-4043-8e69-3c8b944b87fb",
   "metadata": {
    "execution": {
     "iopub.execute_input": "2021-05-20T21:34:02.866618Z",
     "iopub.status.busy": "2021-05-20T21:34:02.866194Z",
     "iopub.status.idle": "2021-05-20T21:34:03.873914Z",
     "shell.execute_reply": "2021-05-20T21:34:03.873474Z",
     "shell.execute_reply.started": "2021-05-20T21:34:02.866596Z"
    },
    "tags": []
   },
   "outputs": [
    {
     "name": "stderr",
     "output_type": "stream",
     "text": [
      "R[write to console]: Original dataset already contains 38852 ground points. These points were reclassified as 'unclassified' before performing a new ground classification.\n",
      "\n"
     ]
    }
   ],
   "source": [
    "%%R\n",
    "las <- classify_ground(las, csf())"
   ]
  },
  {
   "cell_type": "code",
   "execution_count": 39,
   "id": "1c3b0bd8-a187-402d-8983-a6f437f0e39a",
   "metadata": {
    "execution": {
     "iopub.execute_input": "2021-05-20T21:34:51.757449Z",
     "iopub.status.busy": "2021-05-20T21:34:51.757046Z",
     "iopub.status.idle": "2021-05-20T21:34:51.777048Z",
     "shell.execute_reply": "2021-05-20T21:34:51.776478Z",
     "shell.execute_reply.started": "2021-05-20T21:34:51.757428Z"
    }
   },
   "outputs": [],
   "source": [
    "%%R -o bbox\n",
    "bbox <- las@bbox"
   ]
  },
  {
   "cell_type": "code",
   "execution_count": 40,
   "id": "6bf6308b-9680-453a-a513-96f919b08d1b",
   "metadata": {
    "execution": {
     "iopub.execute_input": "2021-05-20T21:34:53.911363Z",
     "iopub.status.busy": "2021-05-20T21:34:53.910928Z",
     "iopub.status.idle": "2021-05-20T21:34:53.926897Z",
     "shell.execute_reply": "2021-05-20T21:34:53.926531Z",
     "shell.execute_reply.started": "2021-05-20T21:34:53.911341Z"
    }
   },
   "outputs": [
    {
     "data": {
      "text/plain": [
       "array([[ 493500.01,  493582.5 ],\n",
       "       [8397500.  , 8397595.4 ]])"
      ]
     },
     "execution_count": 40,
     "metadata": {},
     "output_type": "execute_result"
    }
   ],
   "source": [
    "bbox"
   ]
  },
  {
   "cell_type": "code",
   "execution_count": 41,
   "id": "4884d491-3146-412f-beac-82a914f44261",
   "metadata": {
    "execution": {
     "iopub.execute_input": "2021-05-20T21:35:21.019109Z",
     "iopub.status.busy": "2021-05-20T21:35:21.018707Z",
     "iopub.status.idle": "2021-05-20T21:35:22.110104Z",
     "shell.execute_reply": "2021-05-20T21:35:22.109569Z",
     "shell.execute_reply.started": "2021-05-20T21:35:21.019090Z"
    }
   },
   "outputs": [
    {
     "name": "stdout",
     "output_type": "stream",
     "text": [
      "\n",
      " Checking the data\n",
      "  - Checking coordinates...\u001b[32m ✓\u001b[39m\n",
      "  - Checking coordinates type...\u001b[32m ✓\u001b[39m\n",
      "  - Checking coordinates quantization...\u001b[32m ✓\u001b[39m\n",
      "  - Checking attributes type...\u001b[32m ✓\u001b[39m\n",
      "  - Checking ReturnNumber validity...\u001b[32m ✓\u001b[39m\n",
      "  - Checking NumberOfReturns validity...\u001b[32m ✓\u001b[39m\n",
      "  - Checking ReturnNumber vs. NumberOfReturns...\u001b[32m ✓\u001b[39m\n",
      "  - Checking RGB validity...\u001b[32m ✓\u001b[39m\n",
      "  - Checking absence of NAs...\u001b[32m ✓\u001b[39m\n",
      "  - Checking duplicated points...\n",
      " \u001b[33m  ⚠ 349 points are duplicated and share XYZ coordinates with other points\u001b[39m\n",
      "  - Checking degenerated ground points...\n",
      " \u001b[33m  ⚠ There were 82 degenerated ground points. Some X Y Z coordinates were repeated.\u001b[39m\n",
      " \u001b[33m  ⚠ There were 210 degenerated ground points. Some X Y coordinates were repeated but with different Z coordinates.\u001b[39m\n",
      "  - Checking attribute population...\n",
      " \u001b[33m  ⚠ 'ScanDirectionFlag' attribute is not populated.\u001b[39m\n",
      " \u001b[33m  ⚠ 'EdgeOfFlightline' attribute is not populated.\u001b[39m\n",
      "  - Checking gpstime incoherances\n",
      " \u001b[31m   ✗ 2961 pulses (points with the same gpstime) have points with identical ReturnNumber\u001b[39m\n",
      "  - Checking flag attributes...\u001b[32m ✓\u001b[39m\n",
      "  - Checking user data attribute...\u001b[32m ✓\u001b[39m\n",
      " Checking the header\n",
      "  - Checking header completeness...\u001b[32m ✓\u001b[39m\n",
      "  - Checking scale factor validity...\u001b[32m ✓\u001b[39m\n",
      "  - Checking point data format ID validity...\u001b[32m ✓\u001b[39m\n",
      "  - Checking extra bytes attributes validity...\u001b[32m ✓\u001b[39m\n",
      "  - Checking the bounding box validity...\u001b[32m ✓\u001b[39m\n",
      "  - Checking coordinate reference sytem...\u001b[32m ✓\u001b[39m\n",
      " Checking header vs data adequacy\n",
      "  - Checking attributes vs. point format...\u001b[32m ✓\u001b[39m\n",
      "  - Checking header bbox vs. actual content...\u001b[32m ✓\u001b[39m\n",
      "  - Checking header number of points vs. actual content...\u001b[32m ✓\u001b[39m\n",
      "  - Checking header return number vs. actual content...\u001b[32m ✓\u001b[39m\n",
      " Checking preprocessing already done \n",
      "  - Checking ground classification...\u001b[32m yes\u001b[39m\n",
      "  - Checking normalization...\u001b[32m yes\u001b[39m\n",
      "  - Checking negative outliers...\n",
      " \u001b[33m  ⚠ 42 points below 0\u001b[39m\n",
      "  - Checking flightline classification...\u001b[32m yes\u001b[39m"
     ]
    }
   ],
   "source": [
    "%%R\n",
    "las_check(nlas)"
   ]
  },
  {
   "cell_type": "code",
   "execution_count": null,
   "id": "913e467c-22f7-452a-abbf-1d04e740d7f5",
   "metadata": {},
   "outputs": [],
   "source": []
  }
 ],
 "metadata": {
  "kernelspec": {
   "display_name": "env",
   "language": "python",
   "name": "env"
  },
  "language_info": {
   "codemirror_mode": {
    "name": "ipython",
    "version": 3
   },
   "file_extension": ".py",
   "mimetype": "text/x-python",
   "name": "python",
   "nbconvert_exporter": "python",
   "pygments_lexer": "ipython3",
   "version": "3.9.2"
  }
 },
 "nbformat": 4,
 "nbformat_minor": 5
}
